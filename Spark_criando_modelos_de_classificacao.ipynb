{
  "cells": [
    {
      "cell_type": "markdown",
      "metadata": {
        "id": "view-in-github",
        "colab_type": "text"
      },
      "source": [
        "<a href=\"https://colab.research.google.com/github/Camillabgarcia/Apache_Spark_com_Python/blob/main/Spark_criando_modelos_de_classificacao.ipynb\" target=\"_parent\"><img src=\"https://colab.research.google.com/assets/colab-badge.svg\" alt=\"Open In Colab\"/></a>"
      ]
    },
    {
      "cell_type": "markdown",
      "source": [
        "# **Aula 1 - Preparando os Dados**"
      ],
      "metadata": {
        "id": "BwhP2rhUGI_k"
      }
    },
    {
      "cell_type": "markdown",
      "source": [
        "## **1.1 Apresentação**"
      ],
      "metadata": {
        "id": "2GbwQeCXGaaV"
      }
    },
    {
      "cell_type": "markdown",
      "source": [
        "## **1.2 Preparando o Ambiente**\n",
        "\n",
        "### PySpark\n",
        "\n",
        "PySpark é uma interface para Apache Spark em Python. Ele não apenas permite que você escreva aplicativos Spark usando APIs Python, mas também fornece o *shell* PySpark para analisar interativamente seus dados em um ambiente distribuído. O PySpark oferece suporte à maioria dos recursos do Spark, como Spark SQL, DataFrame, Streaming, MLlib (Machine Learning) e Spark Core.\n",
        "\n",
        "<center><img src=\"https://caelum-online-public.s3.amazonaws.com/2273-introducao-spark/01/img-001.png\"/></center>\n",
        "\n",
        "#### **Spark SQL e DataFrame**\n",
        "\n",
        "Spark SQL é um módulo Spark para processamento de dados estruturados. Ele fornece uma abstração de programação chamada DataFrame e também pode atuar como mecanismo de consulta SQL distribuído.\n",
        "\n",
        "#### **Spark Streaming**\n",
        "\n",
        "Executando em cima do Spark, o recurso de *streaming* no Apache Spark possibilita o uso de poderosas aplicações interativas e analíticas em *streaming* e dados históricos, enquanto herda a facilidade de uso do Spark e as características de tolerância a falhas.\n",
        "\n",
        "#### **Spark MLlib**\n",
        "\n",
        "Construído sobre o Spark, MLlib é uma biblioteca de aprendizado de máquina escalonável que fornece um conjunto uniforme de APIs de alto nível que ajudam os usuários a criar e ajustar *pipelines* de aprendizado de máquina práticos.\n",
        "\n",
        "#### **Spark Core**\n",
        "\n",
        "Spark Core é o mecanismo de execução geral subjacente para a plataforma Spark sobre o qual todas as outras funcionalidades são construídas. Ele fornece um RDD (*Resilient Distributed Dataset*) e recursos de computação na memória.\n",
        "\n",
        "<font size=2>**Fonte:** [PySpark](https://spark.apache.org/docs/latest/api/python/index.html)</font>"
      ],
      "metadata": {
        "id": "BAWE5PSLMmSX"
      }
    },
    {
      "cell_type": "code",
      "source": [
        "!pip install pyspark"
      ],
      "metadata": {
        "colab": {
          "base_uri": "https://localhost:8080/"
        },
        "id": "4Gs-5LKuvWmE",
        "outputId": "6328ffb1-f04d-4978-f251-1f5a4a2e4d89"
      },
      "execution_count": 1,
      "outputs": [
        {
          "output_type": "stream",
          "name": "stdout",
          "text": [
            "Collecting pyspark\n",
            "  Downloading pyspark-3.5.1.tar.gz (317.0 MB)\n",
            "\u001b[2K     \u001b[90m━━━━━━━━━━━━━━━━━━━━━━━━━━━━━━━━━━━━━━━━\u001b[0m \u001b[32m317.0/317.0 MB\u001b[0m \u001b[31m3.8 MB/s\u001b[0m eta \u001b[36m0:00:00\u001b[0m\n",
            "\u001b[?25h  Preparing metadata (setup.py) ... \u001b[?25l\u001b[?25hdone\n",
            "Requirement already satisfied: py4j==0.10.9.7 in /usr/local/lib/python3.10/dist-packages (from pyspark) (0.10.9.7)\n",
            "Building wheels for collected packages: pyspark\n",
            "  Building wheel for pyspark (setup.py) ... \u001b[?25l\u001b[?25hdone\n",
            "  Created wheel for pyspark: filename=pyspark-3.5.1-py2.py3-none-any.whl size=317488490 sha256=0822f387c12753626737e2b4829b65134d236c93622da1301d2698b204f73892\n",
            "  Stored in directory: /root/.cache/pip/wheels/80/1d/60/2c256ed38dddce2fdd93be545214a63e02fbd8d74fb0b7f3a6\n",
            "Successfully built pyspark\n",
            "Installing collected packages: pyspark\n",
            "Successfully installed pyspark-3.5.1\n"
          ]
        }
      ]
    },
    {
      "cell_type": "markdown",
      "source": [
        "### SparkSession\n",
        "\n",
        "O ponto de entrada para programar o Spark com a API Dataset e DataFrame.\n",
        "\n",
        "Uma SparkSession pode ser utilizada para criar DataFrames, registrar DataFrames como tabelas, executar consultas SQL em tabelas, armazenar em cache e ler arquivos parquet. Para criar uma SparkSession, use o seguinte padrão de construtor:\n",
        "\n",
        "<font size=2>**Fonte:** [SparkSession](https://spark.apache.org/docs/latest/api/python/reference/api/pyspark.sql.SparkSession.html)</font>"
      ],
      "metadata": {
        "id": "43dP4NVZOEI2"
      }
    },
    {
      "cell_type": "code",
      "source": [
        "from pyspark.sql import SparkSession"
      ],
      "metadata": {
        "id": "1_WixBVIvvB-"
      },
      "execution_count": 2,
      "outputs": []
    },
    {
      "cell_type": "code",
      "source": [
        "spark = SparkSession.builder.master('local[*]').appName(\"Classificação com Spark\").getOrCreate()\n",
        "spark"
      ],
      "metadata": {
        "colab": {
          "base_uri": "https://localhost:8080/",
          "height": 219
        },
        "id": "H02jOAtLOpQY",
        "outputId": "37645bc6-c33b-4f4c-ccc2-55c6f295bd0d"
      },
      "execution_count": 3,
      "outputs": [
        {
          "output_type": "execute_result",
          "data": {
            "text/plain": [
              "<pyspark.sql.session.SparkSession at 0x79a8c80467a0>"
            ],
            "text/html": [
              "\n",
              "            <div>\n",
              "                <p><b>SparkSession - in-memory</b></p>\n",
              "                \n",
              "        <div>\n",
              "            <p><b>SparkContext</b></p>\n",
              "\n",
              "            <p><a href=\"http://461ee2241e70:4040\">Spark UI</a></p>\n",
              "\n",
              "            <dl>\n",
              "              <dt>Version</dt>\n",
              "                <dd><code>v3.5.1</code></dd>\n",
              "              <dt>Master</dt>\n",
              "                <dd><code>local[*]</code></dd>\n",
              "              <dt>AppName</dt>\n",
              "                <dd><code>Classificação com Spark</code></dd>\n",
              "            </dl>\n",
              "        </div>\n",
              "        \n",
              "            </div>\n",
              "        "
            ]
          },
          "metadata": {},
          "execution_count": 3
        }
      ]
    },
    {
      "cell_type": "code",
      "source": [
        "from google.colab import drive\n",
        "drive.mount('/content/drive')"
      ],
      "metadata": {
        "colab": {
          "base_uri": "https://localhost:8080/"
        },
        "id": "qEpeRyLWWgr1",
        "outputId": "7cb0d567-2b19-48db-c3fe-88a715a52f02"
      },
      "execution_count": 4,
      "outputs": [
        {
          "output_type": "stream",
          "name": "stdout",
          "text": [
            "Mounted at /content/drive\n"
          ]
        }
      ]
    },
    {
      "cell_type": "markdown",
      "source": [
        "## **1.3 Carregamento dos Dados**"
      ],
      "metadata": {
        "id": "BOQSXCsB-XJ4"
      }
    },
    {
      "cell_type": "markdown",
      "source": [
        "Leitura dos dados:"
      ],
      "metadata": {
        "id": "GSN0MD3DXbAC"
      }
    },
    {
      "cell_type": "code",
      "source": [
        "dados = spark.read.csv('/content/drive/MyDrive/Spark_classificacao/dados_clientes.csv', sep=',', header=True, inferSchema=True)"
      ],
      "metadata": {
        "id": "iIjhbXvgPMSy"
      },
      "execution_count": 5,
      "outputs": []
    },
    {
      "cell_type": "markdown",
      "source": [
        "Visualização dos dados:"
      ],
      "metadata": {
        "id": "Md_H3W5HXcyC"
      }
    },
    {
      "cell_type": "code",
      "source": [
        "dados"
      ],
      "metadata": {
        "id": "bItkwybT-BOG",
        "colab": {
          "base_uri": "https://localhost:8080/"
        },
        "outputId": "00a438fa-0305-4822-c321-3de8dd6a17b0"
      },
      "execution_count": 6,
      "outputs": [
        {
          "output_type": "execute_result",
          "data": {
            "text/plain": [
              "DataFrame[id: int, Churn: string, Mais65anos: int, Conjuge: string, Dependentes: string, MesesDeContrato: int, TelefoneFixo: string, MaisDeUmaLinhaTelefonica: string, Internet: string, SegurancaOnline: string, BackupOnline: string, SeguroDispositivo: string, SuporteTecnico: string, TVaCabo: string, StreamingFilmes: string, TipoContrato: string, ContaCorreio: string, MetodoPagamento: string, MesesCobrados: double]"
            ]
          },
          "metadata": {},
          "execution_count": 6
        }
      ]
    },
    {
      "cell_type": "markdown",
      "source": [
        "Analisando os dados de maneira completa:"
      ],
      "metadata": {
        "id": "5KFrzn5AYOzj"
      }
    },
    {
      "cell_type": "code",
      "source": [
        "dados.show(10)"
      ],
      "metadata": {
        "id": "WMx7nLWW-BIV",
        "colab": {
          "base_uri": "https://localhost:8080/"
        },
        "outputId": "834c24f8-f88a-444a-dd05-a8707282aa2f"
      },
      "execution_count": 7,
      "outputs": [
        {
          "output_type": "stream",
          "name": "stdout",
          "text": [
            "+---+-----+----------+-------+-----------+---------------+------------+------------------------+-----------+---------------+------------+-----------------+--------------+-------+---------------+------------+------------+----------------+-------------+\n",
            "| id|Churn|Mais65anos|Conjuge|Dependentes|MesesDeContrato|TelefoneFixo|MaisDeUmaLinhaTelefonica|   Internet|SegurancaOnline|BackupOnline|SeguroDispositivo|SuporteTecnico|TVaCabo|StreamingFilmes|TipoContrato|ContaCorreio| MetodoPagamento|MesesCobrados|\n",
            "+---+-----+----------+-------+-----------+---------------+------------+------------------------+-----------+---------------+------------+-----------------+--------------+-------+---------------+------------+------------+----------------+-------------+\n",
            "|  0|  Nao|         0|    Sim|        Nao|              1|         Nao|    SemServicoTelefonico|        DSL|            Nao|         Sim|              Nao|           Nao|    Nao|            Nao| Mensalmente|         Sim|BoletoEletronico|        29.85|\n",
            "|  1|  Nao|         0|    Nao|        Nao|             34|         Sim|                     Nao|        DSL|            Sim|         Nao|              Sim|           Nao|    Nao|            Nao|       UmAno|         Nao|          Boleto|        56.95|\n",
            "|  2|  Sim|         0|    Nao|        Nao|              2|         Sim|                     Nao|        DSL|            Sim|         Sim|              Nao|           Nao|    Nao|            Nao| Mensalmente|         Sim|          Boleto|        53.85|\n",
            "|  3|  Nao|         0|    Nao|        Nao|             45|         Nao|    SemServicoTelefonico|        DSL|            Sim|         Nao|              Sim|           Sim|    Nao|            Nao|       UmAno|         Nao|   DebitoEmConta|         42.3|\n",
            "|  4|  Sim|         0|    Nao|        Nao|              2|         Sim|                     Nao|FibraOptica|            Nao|         Nao|              Nao|           Nao|    Nao|            Nao| Mensalmente|         Sim|BoletoEletronico|         70.7|\n",
            "|  5|  Sim|         0|    Nao|        Nao|              8|         Sim|                     Sim|FibraOptica|            Nao|         Nao|              Sim|           Nao|    Sim|            Sim| Mensalmente|         Sim|BoletoEletronico|        99.65|\n",
            "|  6|  Nao|         0|    Nao|        Sim|             22|         Sim|                     Sim|FibraOptica|            Nao|         Sim|              Nao|           Nao|    Sim|            Nao| Mensalmente|         Sim|   CartaoCredito|         89.1|\n",
            "|  7|  Nao|         0|    Nao|        Nao|             10|         Nao|    SemServicoTelefonico|        DSL|            Sim|         Nao|              Nao|           Nao|    Nao|            Nao| Mensalmente|         Nao|          Boleto|        29.75|\n",
            "|  8|  Sim|         0|    Sim|        Nao|             28|         Sim|                     Sim|FibraOptica|            Nao|         Nao|              Sim|           Sim|    Sim|            Sim| Mensalmente|         Sim|BoletoEletronico|        104.8|\n",
            "|  9|  Nao|         0|    Nao|        Sim|             62|         Sim|                     Nao|        DSL|            Sim|         Sim|              Nao|           Nao|    Nao|            Nao|       UmAno|         Nao|   DebitoEmConta|        56.15|\n",
            "+---+-----+----------+-------+-----------+---------------+------------+------------------------+-----------+---------------+------------+-----------------+--------------+-------+---------------+------------+------------+----------------+-------------+\n",
            "only showing top 10 rows\n",
            "\n"
          ]
        }
      ]
    },
    {
      "cell_type": "markdown",
      "source": [
        "Quantidade de registros:"
      ],
      "metadata": {
        "id": "Lm5DR_3TY_1w"
      }
    },
    {
      "cell_type": "code",
      "source": [
        "dados.count()"
      ],
      "metadata": {
        "id": "DyXF17Oo-BCw",
        "colab": {
          "base_uri": "https://localhost:8080/"
        },
        "outputId": "5768a2dc-9093-409e-dbb5-686178efbcb7"
      },
      "execution_count": 8,
      "outputs": [
        {
          "output_type": "execute_result",
          "data": {
            "text/plain": [
              "10348"
            ]
          },
          "metadata": {},
          "execution_count": 8
        }
      ]
    },
    {
      "cell_type": "markdown",
      "source": [
        "Verificando a quantidade de assinaturas ativas e de cancelamentos:"
      ],
      "metadata": {
        "id": "kh2SHm64ZTNy"
      }
    },
    {
      "cell_type": "code",
      "source": [
        "dados.groupBy('Churn').count().show()"
      ],
      "metadata": {
        "id": "wOXJOUgGpi9z",
        "colab": {
          "base_uri": "https://localhost:8080/"
        },
        "outputId": "e2e88564-9dea-4118-853a-05705f514812"
      },
      "execution_count": 9,
      "outputs": [
        {
          "output_type": "stream",
          "name": "stdout",
          "text": [
            "+-----+-----+\n",
            "|Churn|count|\n",
            "+-----+-----+\n",
            "|  Sim| 5174|\n",
            "|  Nao| 5174|\n",
            "+-----+-----+\n",
            "\n"
          ]
        }
      ]
    },
    {
      "cell_type": "markdown",
      "source": [
        "Verificando a tipagem dos dados:"
      ],
      "metadata": {
        "id": "TlmGmvR6Z09U"
      }
    },
    {
      "cell_type": "code",
      "source": [
        "dados.printSchema()"
      ],
      "metadata": {
        "id": "K18E1wBo9A8P",
        "colab": {
          "base_uri": "https://localhost:8080/"
        },
        "outputId": "504063ef-58f7-49d2-d97e-dbf424e11edf"
      },
      "execution_count": 10,
      "outputs": [
        {
          "output_type": "stream",
          "name": "stdout",
          "text": [
            "root\n",
            " |-- id: integer (nullable = true)\n",
            " |-- Churn: string (nullable = true)\n",
            " |-- Mais65anos: integer (nullable = true)\n",
            " |-- Conjuge: string (nullable = true)\n",
            " |-- Dependentes: string (nullable = true)\n",
            " |-- MesesDeContrato: integer (nullable = true)\n",
            " |-- TelefoneFixo: string (nullable = true)\n",
            " |-- MaisDeUmaLinhaTelefonica: string (nullable = true)\n",
            " |-- Internet: string (nullable = true)\n",
            " |-- SegurancaOnline: string (nullable = true)\n",
            " |-- BackupOnline: string (nullable = true)\n",
            " |-- SeguroDispositivo: string (nullable = true)\n",
            " |-- SuporteTecnico: string (nullable = true)\n",
            " |-- TVaCabo: string (nullable = true)\n",
            " |-- StreamingFilmes: string (nullable = true)\n",
            " |-- TipoContrato: string (nullable = true)\n",
            " |-- ContaCorreio: string (nullable = true)\n",
            " |-- MetodoPagamento: string (nullable = true)\n",
            " |-- MesesCobrados: double (nullable = true)\n",
            "\n"
          ]
        }
      ]
    },
    {
      "cell_type": "markdown",
      "source": [
        "A maioria das nossas colunas tem os valores representados por string, o que é um problema para os modelos de Machine Learning, que não sabem lidar com dados em texto, sendo necessário transformar todos esses dados em números."
      ],
      "metadata": {
        "id": "EGTo2VU4aML1"
      }
    },
    {
      "cell_type": "markdown",
      "source": [
        "## **1.4 Transformando os Dados**\n",
        "\n",
        "<font size=2>**Fonte:** [Functions](https://spark.apache.org/docs/latest/api/python/reference/pyspark.sql.html#functions)</font>"
      ],
      "metadata": {
        "id": "blFAMaSBVV2u"
      }
    },
    {
      "cell_type": "markdown",
      "source": [
        "Listando o nome das colunas que são mais simples de transformar, representados por valores binários de \"Sim\" e \"Não\". Podemos trocá-los para valores binários de \"1\" e \"0\":"
      ],
      "metadata": {
        "id": "L15CeqFPa9ZH"
      }
    },
    {
      "cell_type": "code",
      "source": [
        "colunasBinarias = [\n",
        "    'Churn',\n",
        "    'Conjuge',\n",
        "    'Dependentes',\n",
        "    'TelefoneFixo',\n",
        "    'MaisDeUmaLinhaTelefonica',\n",
        "    'SegurancaOnline',\n",
        "    'BackupOnline',\n",
        "    'SeguroDispositivo',\n",
        "    'SuporteTecnico',\n",
        "    'TVaCabo',\n",
        "    'StreamingFilmes',\n",
        "    'ContaCorreio'\n",
        "]"
      ],
      "metadata": {
        "id": "mTav14ezr0Uf"
      },
      "execution_count": 11,
      "outputs": []
    },
    {
      "cell_type": "markdown",
      "source": [
        "Importando a ferramenta functions:"
      ],
      "metadata": {
        "id": "PbxyV66ibbdO"
      }
    },
    {
      "cell_type": "code",
      "source": [
        "from pyspark.sql import functions as f"
      ],
      "metadata": {
        "id": "DokzQv2rsnbC"
      },
      "execution_count": 12,
      "outputs": []
    },
    {
      "cell_type": "markdown",
      "source": [
        " Colunas não binárias em primeiro lugar, seguidas das colunas binárias transformadas:"
      ],
      "metadata": {
        "id": "ypbURltYdc70"
      }
    },
    {
      "cell_type": "code",
      "source": [
        "todasColunas = [f.when(f.col(c)=='Sim', 1).otherwise(0).alias(c) for c in colunasBinarias]\n",
        "for coluna in reversed(dados.columns):\n",
        "  if coluna not in colunasBinarias:\n",
        "    todasColunas.insert(0, coluna)\n",
        "todasColunas"
      ],
      "metadata": {
        "id": "sqW_vtly9rw0",
        "colab": {
          "base_uri": "https://localhost:8080/"
        },
        "outputId": "df1da2a9-ec33-4d96-d01b-1d7872f1cb05"
      },
      "execution_count": 13,
      "outputs": [
        {
          "output_type": "execute_result",
          "data": {
            "text/plain": [
              "['id',\n",
              " 'Mais65anos',\n",
              " 'MesesDeContrato',\n",
              " 'Internet',\n",
              " 'TipoContrato',\n",
              " 'MetodoPagamento',\n",
              " 'MesesCobrados',\n",
              " Column<'CASE WHEN (Churn = Sim) THEN 1 ELSE 0 END AS Churn'>,\n",
              " Column<'CASE WHEN (Conjuge = Sim) THEN 1 ELSE 0 END AS Conjuge'>,\n",
              " Column<'CASE WHEN (Dependentes = Sim) THEN 1 ELSE 0 END AS Dependentes'>,\n",
              " Column<'CASE WHEN (TelefoneFixo = Sim) THEN 1 ELSE 0 END AS TelefoneFixo'>,\n",
              " Column<'CASE WHEN (MaisDeUmaLinhaTelefonica = Sim) THEN 1 ELSE 0 END AS MaisDeUmaLinhaTelefonica'>,\n",
              " Column<'CASE WHEN (SegurancaOnline = Sim) THEN 1 ELSE 0 END AS SegurancaOnline'>,\n",
              " Column<'CASE WHEN (BackupOnline = Sim) THEN 1 ELSE 0 END AS BackupOnline'>,\n",
              " Column<'CASE WHEN (SeguroDispositivo = Sim) THEN 1 ELSE 0 END AS SeguroDispositivo'>,\n",
              " Column<'CASE WHEN (SuporteTecnico = Sim) THEN 1 ELSE 0 END AS SuporteTecnico'>,\n",
              " Column<'CASE WHEN (TVaCabo = Sim) THEN 1 ELSE 0 END AS TVaCabo'>,\n",
              " Column<'CASE WHEN (StreamingFilmes = Sim) THEN 1 ELSE 0 END AS StreamingFilmes'>,\n",
              " Column<'CASE WHEN (ContaCorreio = Sim) THEN 1 ELSE 0 END AS ContaCorreio'>]"
            ]
          },
          "metadata": {},
          "execution_count": 13
        }
      ]
    },
    {
      "cell_type": "markdown",
      "source": [
        "Agora temos a regra para realizar essas transformações. Para concretizá-las, utilizaremos o comando select em dados, recebendo todasColunas:"
      ],
      "metadata": {
        "id": "4uZfx7VAeM6v"
      }
    },
    {
      "cell_type": "code",
      "source": [
        "dados.select(todasColunas).show()"
      ],
      "metadata": {
        "id": "lhAyVrcFmKYT",
        "colab": {
          "base_uri": "https://localhost:8080/"
        },
        "outputId": "b0b64939-03dd-4572-c992-b150bf10809e"
      },
      "execution_count": 14,
      "outputs": [
        {
          "output_type": "stream",
          "name": "stdout",
          "text": [
            "+---+----------+---------------+-----------+------------+----------------+-------------+-----+-------+-----------+------------+------------------------+---------------+------------+-----------------+--------------+-------+---------------+------------+\n",
            "| id|Mais65anos|MesesDeContrato|   Internet|TipoContrato| MetodoPagamento|MesesCobrados|Churn|Conjuge|Dependentes|TelefoneFixo|MaisDeUmaLinhaTelefonica|SegurancaOnline|BackupOnline|SeguroDispositivo|SuporteTecnico|TVaCabo|StreamingFilmes|ContaCorreio|\n",
            "+---+----------+---------------+-----------+------------+----------------+-------------+-----+-------+-----------+------------+------------------------+---------------+------------+-----------------+--------------+-------+---------------+------------+\n",
            "|  0|         0|              1|        DSL| Mensalmente|BoletoEletronico|        29.85|    0|      1|          0|           0|                       0|              0|           1|                0|             0|      0|              0|           1|\n",
            "|  1|         0|             34|        DSL|       UmAno|          Boleto|        56.95|    0|      0|          0|           1|                       0|              1|           0|                1|             0|      0|              0|           0|\n",
            "|  2|         0|              2|        DSL| Mensalmente|          Boleto|        53.85|    1|      0|          0|           1|                       0|              1|           1|                0|             0|      0|              0|           1|\n",
            "|  3|         0|             45|        DSL|       UmAno|   DebitoEmConta|         42.3|    0|      0|          0|           0|                       0|              1|           0|                1|             1|      0|              0|           0|\n",
            "|  4|         0|              2|FibraOptica| Mensalmente|BoletoEletronico|         70.7|    1|      0|          0|           1|                       0|              0|           0|                0|             0|      0|              0|           1|\n",
            "|  5|         0|              8|FibraOptica| Mensalmente|BoletoEletronico|        99.65|    1|      0|          0|           1|                       1|              0|           0|                1|             0|      1|              1|           1|\n",
            "|  6|         0|             22|FibraOptica| Mensalmente|   CartaoCredito|         89.1|    0|      0|          1|           1|                       1|              0|           1|                0|             0|      1|              0|           1|\n",
            "|  7|         0|             10|        DSL| Mensalmente|          Boleto|        29.75|    0|      0|          0|           0|                       0|              1|           0|                0|             0|      0|              0|           0|\n",
            "|  8|         0|             28|FibraOptica| Mensalmente|BoletoEletronico|        104.8|    1|      1|          0|           1|                       1|              0|           0|                1|             1|      1|              1|           1|\n",
            "|  9|         0|             62|        DSL|       UmAno|   DebitoEmConta|        56.15|    0|      0|          1|           1|                       0|              1|           1|                0|             0|      0|              0|           0|\n",
            "| 10|         0|             13|        DSL| Mensalmente|          Boleto|        49.95|    0|      1|          1|           1|                       0|              1|           0|                0|             0|      0|              0|           1|\n",
            "| 11|         0|             16|        Nao|    DoisAnos|   CartaoCredito|        18.95|    0|      0|          0|           1|                       0|              0|           0|                0|             0|      0|              0|           0|\n",
            "| 12|         0|             58|FibraOptica|       UmAno|   CartaoCredito|       100.35|    0|      1|          0|           1|                       1|              0|           0|                1|             0|      1|              1|           0|\n",
            "| 13|         0|             49|FibraOptica| Mensalmente|   DebitoEmConta|        103.7|    1|      0|          0|           1|                       1|              0|           1|                1|             0|      1|              1|           1|\n",
            "| 14|         0|             25|FibraOptica| Mensalmente|BoletoEletronico|        105.5|    0|      0|          0|           1|                       0|              1|           0|                1|             1|      1|              1|           1|\n",
            "| 15|         0|             69|FibraOptica|    DoisAnos|   CartaoCredito|       113.25|    0|      1|          1|           1|                       1|              1|           1|                1|             1|      1|              1|           0|\n",
            "| 16|         0|             52|        Nao|       UmAno|          Boleto|        20.65|    0|      0|          0|           1|                       0|              0|           0|                0|             0|      0|              0|           0|\n",
            "| 17|         0|             71|FibraOptica|    DoisAnos|   DebitoEmConta|        106.7|    0|      0|          1|           1|                       1|              1|           0|                1|             0|      1|              1|           0|\n",
            "| 18|         0|             10|        DSL| Mensalmente|   CartaoCredito|         55.2|    1|      1|          1|           1|                       0|              0|           0|                1|             1|      0|              0|           0|\n",
            "| 19|         0|             21|FibraOptica| Mensalmente|BoletoEletronico|        90.05|    0|      0|          0|           1|                       0|              0|           1|                1|             0|      0|              1|           1|\n",
            "+---+----------+---------------+-----------+------------+----------------+-------------+-----+-------+-----------+------------+------------------------+---------------+------------+-----------------+--------------+-------+---------------+------------+\n",
            "only showing top 20 rows\n",
            "\n"
          ]
        }
      ]
    },
    {
      "cell_type": "markdown",
      "source": [
        "Salvando a transformação em uma nova variável:"
      ],
      "metadata": {
        "id": "9WNv-uEVerPP"
      }
    },
    {
      "cell_type": "code",
      "source": [
        "dataset = dados.select(todasColunas)"
      ],
      "metadata": {
        "id": "Mhp-2cRy70mI"
      },
      "execution_count": 15,
      "outputs": []
    },
    {
      "cell_type": "markdown",
      "source": [
        "Analisando novamente as tipagens:"
      ],
      "metadata": {
        "id": "3sbDuqgNe-7X"
      }
    },
    {
      "cell_type": "code",
      "source": [
        "dataset.printSchema()"
      ],
      "metadata": {
        "id": "TEpK0IXUs2BF",
        "colab": {
          "base_uri": "https://localhost:8080/"
        },
        "outputId": "1514d9e0-b6b1-4c7b-a3ed-e3ad144de70d"
      },
      "execution_count": 16,
      "outputs": [
        {
          "output_type": "stream",
          "name": "stdout",
          "text": [
            "root\n",
            " |-- id: integer (nullable = true)\n",
            " |-- Mais65anos: integer (nullable = true)\n",
            " |-- MesesDeContrato: integer (nullable = true)\n",
            " |-- Internet: string (nullable = true)\n",
            " |-- TipoContrato: string (nullable = true)\n",
            " |-- MetodoPagamento: string (nullable = true)\n",
            " |-- MesesCobrados: double (nullable = true)\n",
            " |-- Churn: integer (nullable = false)\n",
            " |-- Conjuge: integer (nullable = false)\n",
            " |-- Dependentes: integer (nullable = false)\n",
            " |-- TelefoneFixo: integer (nullable = false)\n",
            " |-- MaisDeUmaLinhaTelefonica: integer (nullable = false)\n",
            " |-- SegurancaOnline: integer (nullable = false)\n",
            " |-- BackupOnline: integer (nullable = false)\n",
            " |-- SeguroDispositivo: integer (nullable = false)\n",
            " |-- SuporteTecnico: integer (nullable = false)\n",
            " |-- TVaCabo: integer (nullable = false)\n",
            " |-- StreamingFilmes: integer (nullable = false)\n",
            " |-- ContaCorreio: integer (nullable = false)\n",
            "\n"
          ]
        }
      ]
    },
    {
      "cell_type": "markdown",
      "source": [
        "Podemos observar que algumas colunas continuam com o tipo string - Internet, TipoContrato e MetodoPagamento. Precisamos tratá-las de forma diferente, pois seus valores não são binários."
      ],
      "metadata": {
        "id": "SUXF8ZnjfMeu"
      }
    },
    {
      "cell_type": "markdown",
      "source": [
        "## **1.5 Criando *Dummies***"
      ],
      "metadata": {
        "id": "FLn2a7ym7MLp"
      }
    },
    {
      "cell_type": "markdown",
      "source": [
        "Analisando as colunas a serem tratadas:\n",
        "\n",
        "Essas colunas não têm apenas dois valores, é um tipo categórico com várias opções de valores."
      ],
      "metadata": {
        "id": "hl5ixkVigxlq"
      }
    },
    {
      "cell_type": "code",
      "source": [
        "dataset.select(['Internet', 'TipoContrato', 'MetodoPagamento']).show()"
      ],
      "metadata": {
        "id": "DFJx294nMCit",
        "colab": {
          "base_uri": "https://localhost:8080/"
        },
        "outputId": "6a11a637-32f9-49eb-c6f4-4027fd0be1c0"
      },
      "execution_count": 17,
      "outputs": [
        {
          "output_type": "stream",
          "name": "stdout",
          "text": [
            "+-----------+------------+----------------+\n",
            "|   Internet|TipoContrato| MetodoPagamento|\n",
            "+-----------+------------+----------------+\n",
            "|        DSL| Mensalmente|BoletoEletronico|\n",
            "|        DSL|       UmAno|          Boleto|\n",
            "|        DSL| Mensalmente|          Boleto|\n",
            "|        DSL|       UmAno|   DebitoEmConta|\n",
            "|FibraOptica| Mensalmente|BoletoEletronico|\n",
            "|FibraOptica| Mensalmente|BoletoEletronico|\n",
            "|FibraOptica| Mensalmente|   CartaoCredito|\n",
            "|        DSL| Mensalmente|          Boleto|\n",
            "|FibraOptica| Mensalmente|BoletoEletronico|\n",
            "|        DSL|       UmAno|   DebitoEmConta|\n",
            "|        DSL| Mensalmente|          Boleto|\n",
            "|        Nao|    DoisAnos|   CartaoCredito|\n",
            "|FibraOptica|       UmAno|   CartaoCredito|\n",
            "|FibraOptica| Mensalmente|   DebitoEmConta|\n",
            "|FibraOptica| Mensalmente|BoletoEletronico|\n",
            "|FibraOptica|    DoisAnos|   CartaoCredito|\n",
            "|        Nao|       UmAno|          Boleto|\n",
            "|FibraOptica|    DoisAnos|   DebitoEmConta|\n",
            "|        DSL| Mensalmente|   CartaoCredito|\n",
            "|FibraOptica| Mensalmente|BoletoEletronico|\n",
            "+-----------+------------+----------------+\n",
            "only showing top 20 rows\n",
            "\n"
          ]
        }
      ]
    },
    {
      "cell_type": "markdown",
      "source": [
        "Para fazer a transformação desses dados, vamos construir uma coluna que representa uma das opções de valores para aquela categoria:"
      ],
      "metadata": {
        "id": "uxjYwE9UiDNN"
      }
    },
    {
      "cell_type": "code",
      "source": [
        "dataset.groupBy('id').pivot('MetodoPagamento').agg(f.lit(1)).na.fill(0).show()"
      ],
      "metadata": {
        "id": "jHb0pPZXPrYa",
        "colab": {
          "base_uri": "https://localhost:8080/"
        },
        "outputId": "068cf032-db4c-4ce4-9624-d641f84b17f2"
      },
      "execution_count": 18,
      "outputs": [
        {
          "output_type": "stream",
          "name": "stdout",
          "text": [
            "+-----+------+----------------+-------------+-------------+\n",
            "|   id|Boleto|BoletoEletronico|CartaoCredito|DebitoEmConta|\n",
            "+-----+------+----------------+-------------+-------------+\n",
            "| 3997|     0|               0|            1|            0|\n",
            "| 7554|     0|               1|            0|            0|\n",
            "| 6336|     0|               1|            0|            0|\n",
            "| 6357|     0|               1|            0|            0|\n",
            "| 9427|     0|               0|            1|            0|\n",
            "| 2659|     0|               0|            1|            0|\n",
            "|  471|     0|               1|            0|            0|\n",
            "| 4935|     0|               0|            1|            0|\n",
            "| 4818|     0|               0|            1|            0|\n",
            "| 1342|     1|               0|            0|            0|\n",
            "| 1959|     0|               1|            0|            0|\n",
            "| 9376|     0|               0|            1|            0|\n",
            "| 2366|     0|               1|            0|            0|\n",
            "| 1580|     0|               0|            0|            1|\n",
            "| 9900|     0|               1|            0|            0|\n",
            "| 9852|     1|               0|            0|            0|\n",
            "| 3918|     0|               1|            0|            0|\n",
            "| 7880|     0|               1|            0|            0|\n",
            "| 1238|     0|               1|            0|            0|\n",
            "|10206|     0|               1|            0|            0|\n",
            "+-----+------+----------------+-------------+-------------+\n",
            "only showing top 20 rows\n",
            "\n"
          ]
        }
      ]
    },
    {
      "cell_type": "markdown",
      "source": [
        "Realizando a transformação para as 3 colunas:"
      ],
      "metadata": {
        "id": "BmzptDHoi1Yx"
      }
    },
    {
      "cell_type": "code",
      "source": [
        "Internet = dataset.groupBy('id').pivot('Internet').agg(f.lit(1)).na.fill(0)\n",
        "TipoContrato = dataset.groupBy('id').pivot('TipoContrato').agg(f.lit(1)).na.fill(0)\n",
        "MetodoPagamento = dataset.groupBy('id').pivot('MetodoPagamento').agg(f.lit(1)).na.fill(0)"
      ],
      "metadata": {
        "id": "B1FK7TOmRSYF"
      },
      "execution_count": 19,
      "outputs": []
    },
    {
      "cell_type": "markdown",
      "source": [
        "Unindo as informações com o dataset e removendo as colunas que não são mais necessárias:"
      ],
      "metadata": {
        "id": "nrOlt6bPjHtg"
      }
    },
    {
      "cell_type": "code",
      "source": [
        "dataset\\\n",
        "    .join(Internet, 'id', how='inner')\\\n",
        "    .join(TipoContrato, 'id', how='inner')\\\n",
        "    .join(MetodoPagamento, 'id', how='inner')\\\n",
        "    .select(\n",
        "        '*',\n",
        "        f.col('DSL').alias('Internet_DSL'),\n",
        "        f.col('FibraOptica').alias('Internet_FibraOptica'),\n",
        "        f.col('Nao').alias('Internet_Nao'),\n",
        "        f.col('Mensalmente').alias('TipoContrato_Mensalmente'),\n",
        "        f.col('UmAno').alias('TipoContrato_UmAno'),\n",
        "        f.col('DoisAnos').alias('TipoContrato_DoisAnos'),\n",
        "        f.col('DebitoEmConta').alias('MetodoPagamento_DebitoEmConta'),\n",
        "        f.col('CartaoCredito').alias('MetodoPagamento_CartaoCredito'),\n",
        "        f.col('BoletoEletronico').alias('MetodoPagamento_BoletoEletronico'),\n",
        "        f.col('Boleto').alias('MetodoPagamento_Boleto')\n",
        "    ).drop(\n",
        "        'Internet', 'TipoContrato', 'MetodoPagamento', 'DSL',\n",
        "        'FibraOptica', 'Nao', 'Mensalmente', 'UmAno', 'DoisAnos',\n",
        "        'DebitoEmConta', 'CartaoCredito', 'BoletoEletronico', 'Boleto'\n",
        "    ).show()"
      ],
      "metadata": {
        "id": "HVfjs5MBw5-a",
        "colab": {
          "base_uri": "https://localhost:8080/"
        },
        "outputId": "2b0f8591-33a0-4395-a08b-fa06b85affce"
      },
      "execution_count": 20,
      "outputs": [
        {
          "output_type": "stream",
          "name": "stdout",
          "text": [
            "+----+----------+---------------+-----------------+-----+-------+-----------+------------+------------------------+---------------+------------+-----------------+--------------+-------+---------------+------------+------------+--------------------+------------+------------------------+------------------+---------------------+-----------------------------+-----------------------------+--------------------------------+----------------------+\n",
            "|  id|Mais65anos|MesesDeContrato|    MesesCobrados|Churn|Conjuge|Dependentes|TelefoneFixo|MaisDeUmaLinhaTelefonica|SegurancaOnline|BackupOnline|SeguroDispositivo|SuporteTecnico|TVaCabo|StreamingFilmes|ContaCorreio|Internet_DSL|Internet_FibraOptica|Internet_Nao|TipoContrato_Mensalmente|TipoContrato_UmAno|TipoContrato_DoisAnos|MetodoPagamento_DebitoEmConta|MetodoPagamento_CartaoCredito|MetodoPagamento_BoletoEletronico|MetodoPagamento_Boleto|\n",
            "+----+----------+---------------+-----------------+-----+-------+-----------+------------+------------------------+---------------+------------+-----------------+--------------+-------+---------------+------------+------------+--------------------+------------+------------------------+------------------+---------------------+-----------------------------+-----------------------------+--------------------------------+----------------------+\n",
            "|7982|         0|              1|45.30540797610398|    1|      0|          0|           0|                       0|              0|           0|                0|             0|      1|              1|           1|           1|                   0|           0|                       1|                 0|                    0|                            0|                            0|                               1|                     0|\n",
            "|9465|         0|             60|103.6142230120257|    1|      1|          0|           1|                       1|              0|           1|                1|             0|      1|              1|           1|           0|                   1|           0|                       1|                 0|                    0|                            0|                            0|                               1|                     0|\n",
            "|2122|         0|             12|            75.85|    0|      0|          0|           1|                       1|              0|           0|                0|             1|      1|              1|           1|           1|                   0|           0|                       0|                 1|                    0|                            0|                            0|                               0|                     1|\n",
            "|3997|         0|             69|            61.45|    0|      1|          0|           1|                       0|              0|           1|                0|             0|      0|              1|           1|           1|                   0|           0|                       0|                 0|                    1|                            0|                            1|                               0|                     0|\n",
            "|6654|         0|              7|             86.5|    1|      1|          0|           1|                       1|              0|           0|                0|             0|      1|              0|           1|           0|                   1|           0|                       1|                 0|                    0|                            0|                            0|                               1|                     0|\n",
            "|7880|         0|             14|85.03742670311915|    1|      0|          0|           1|                       1|              0|           0|                0|             0|      0|              1|           1|           0|                   1|           0|                       1|                 0|                    0|                            0|                            0|                               1|                     0|\n",
            "|4519|         0|             57|            109.4|    0|      1|          0|           1|                       1|              0|           1|                1|             1|      1|              1|           1|           0|                   1|           0|                       0|                 1|                    0|                            1|                            0|                               0|                     0|\n",
            "|6466|         0|             18|            74.15|    0|      0|          0|           1|                       1|              0|           0|                0|             0|      0|              0|           0|           0|                   1|           0|                       1|                 0|                    0|                            0|                            0|                               0|                     1|\n",
            "| 496|         0|             28|             60.9|    0|      1|          0|           1|                       0|              1|           1|                0|             1|      0|              0|           0|           1|                   0|           0|                       1|                 0|                    0|                            0|                            0|                               0|                     1|\n",
            "|7833|         0|             46| 80.8824189403559|    1|      1|          0|           1|                       0|              0|           0|                0|             0|      0|              1|           1|           0|                   1|           0|                       1|                 0|                    0|                            0|                            0|                               1|                     0|\n",
            "|1591|         0|             17|             21.1|    0|      0|          0|           1|                       0|              0|           0|                0|             0|      0|              0|           0|           0|                   0|           1|                       1|                 0|                    0|                            0|                            1|                               0|                     0|\n",
            "|2866|         0|             12|             84.6|    0|      0|          0|           1|                       0|              0|           1|                0|             0|      0|              1|           1|           0|                   1|           0|                       1|                 0|                    0|                            0|                            0|                               1|                     0|\n",
            "|8592|         0|              5|82.71735660557214|    1|      1|          0|           1|                       1|              0|           0|                0|             0|      1|              0|           1|           0|                   1|           0|                       1|                 0|                    0|                            0|                            0|                               1|                     0|\n",
            "|1829|         0|              8|            74.85|    0|      0|          0|           1|                       1|              0|           0|                0|             0|      0|              0|           1|           0|                   1|           0|                       1|                 0|                    0|                            0|                            0|                               1|                     0|\n",
            "| 463|         0|              7|             99.8|    1|      0|          0|           1|                       1|              0|           1|                0|             0|      1|              1|           1|           0|                   1|           0|                       1|                 0|                    0|                            0|                            0|                               1|                     0|\n",
            "|4900|         1|             37|             85.7|    1|      1|          0|           1|                       1|              0|           0|                0|             0|      1|              0|           1|           0|                   1|           0|                       1|                 0|                    0|                            0|                            0|                               1|                     0|\n",
            "|4818|         1|             64|             80.3|    0|      1|          0|           1|                       0|              1|           0|                1|             0|      0|              0|           0|           0|                   1|           0|                       0|                 1|                    0|                            0|                            1|                               0|                     0|\n",
            "|7554|         0|              1|50.74303124820026|    1|      0|          0|           1|                       0|              0|           1|                0|             0|      0|              0|           0|           1|                   0|           0|                       1|                 0|                    0|                            0|                            0|                               1|                     0|\n",
            "|1342|         0|              8|             20.0|    0|      0|          0|           1|                       0|              0|           0|                0|             0|      0|              0|           0|           0|                   0|           1|                       0|                 0|                    1|                            0|                            0|                               0|                     1|\n",
            "|5300|         0|              1|            80.05|    1|      1|          1|           1|                       0|              0|           0|                0|             0|      1|              0|           1|           0|                   1|           0|                       1|                 0|                    0|                            0|                            0|                               0|                     1|\n",
            "+----+----------+---------------+-----------------+-----+-------+-----------+------------+------------------------+---------------+------------+-----------------+--------------+-------+---------------+------------+------------+--------------------+------------+------------------------+------------------+---------------------+-----------------------------+-----------------------------+--------------------------------+----------------------+\n",
            "only showing top 20 rows\n",
            "\n"
          ]
        }
      ]
    },
    {
      "cell_type": "markdown",
      "source": [
        "Salvando as modificações no Dataset:"
      ],
      "metadata": {
        "id": "pbPpK5tSklKw"
      }
    },
    {
      "cell_type": "code",
      "source": [
        "dataset = dataset\\\n",
        "    .join(Internet, 'id', how='inner')\\\n",
        "    .join(TipoContrato, 'id', how='inner')\\\n",
        "    .join(MetodoPagamento, 'id', how='inner')\\\n",
        "    .select(\n",
        "        '*',\n",
        "        f.col('DSL').alias('Internet_DSL'),\n",
        "        f.col('FibraOptica').alias('Internet_FibraOptica'),\n",
        "        f.col('Nao').alias('Internet_Nao'),\n",
        "        f.col('Mensalmente').alias('TipoContrato_Mensalmente'),\n",
        "        f.col('UmAno').alias('TipoContrato_UmAno'),\n",
        "        f.col('DoisAnos').alias('TipoContrato_DoisAnos'),\n",
        "        f.col('DebitoEmConta').alias('MetodoPagamento_DebitoEmConta'),\n",
        "        f.col('CartaoCredito').alias('MetodoPagamento_CartaoCredito'),\n",
        "        f.col('BoletoEletronico').alias('MetodoPagamento_BoletoEletronico'),\n",
        "        f.col('Boleto').alias('MetodoPagamento_Boleto')\n",
        "    ).drop(\n",
        "        'Internet', 'TipoContrato', 'MetodoPagamento', 'DSL',\n",
        "        'FibraOptica', 'Nao', 'Mensalmente', 'UmAno', 'DoisAnos',\n",
        "        'DebitoEmConta', 'CartaoCredito', 'BoletoEletronico', 'Boleto'\n",
        "    )"
      ],
      "metadata": {
        "id": "D58P834Tzd99"
      },
      "execution_count": 21,
      "outputs": []
    },
    {
      "cell_type": "markdown",
      "source": [
        "Visualizando os dados tratados:"
      ],
      "metadata": {
        "id": "entqz4mKkwGk"
      }
    },
    {
      "cell_type": "code",
      "source": [
        "dataset.show()"
      ],
      "metadata": {
        "id": "Z5cSmXRCvmEC",
        "colab": {
          "base_uri": "https://localhost:8080/"
        },
        "outputId": "94874784-f2aa-491b-9714-36787fa66dee"
      },
      "execution_count": 22,
      "outputs": [
        {
          "output_type": "stream",
          "name": "stdout",
          "text": [
            "+----+----------+---------------+-----------------+-----+-------+-----------+------------+------------------------+---------------+------------+-----------------+--------------+-------+---------------+------------+------------+--------------------+------------+------------------------+------------------+---------------------+-----------------------------+-----------------------------+--------------------------------+----------------------+\n",
            "|  id|Mais65anos|MesesDeContrato|    MesesCobrados|Churn|Conjuge|Dependentes|TelefoneFixo|MaisDeUmaLinhaTelefonica|SegurancaOnline|BackupOnline|SeguroDispositivo|SuporteTecnico|TVaCabo|StreamingFilmes|ContaCorreio|Internet_DSL|Internet_FibraOptica|Internet_Nao|TipoContrato_Mensalmente|TipoContrato_UmAno|TipoContrato_DoisAnos|MetodoPagamento_DebitoEmConta|MetodoPagamento_CartaoCredito|MetodoPagamento_BoletoEletronico|MetodoPagamento_Boleto|\n",
            "+----+----------+---------------+-----------------+-----+-------+-----------+------------+------------------------+---------------+------------+-----------------+--------------+-------+---------------+------------+------------+--------------------+------------+------------------------+------------------+---------------------+-----------------------------+-----------------------------+--------------------------------+----------------------+\n",
            "|7982|         0|              1|45.30540797610398|    1|      0|          0|           0|                       0|              0|           0|                0|             0|      1|              1|           1|           1|                   0|           0|                       1|                 0|                    0|                            0|                            0|                               1|                     0|\n",
            "|9465|         0|             60|103.6142230120257|    1|      1|          0|           1|                       1|              0|           1|                1|             0|      1|              1|           1|           0|                   1|           0|                       1|                 0|                    0|                            0|                            0|                               1|                     0|\n",
            "|2122|         0|             12|            75.85|    0|      0|          0|           1|                       1|              0|           0|                0|             1|      1|              1|           1|           1|                   0|           0|                       0|                 1|                    0|                            0|                            0|                               0|                     1|\n",
            "|3997|         0|             69|            61.45|    0|      1|          0|           1|                       0|              0|           1|                0|             0|      0|              1|           1|           1|                   0|           0|                       0|                 0|                    1|                            0|                            1|                               0|                     0|\n",
            "|6654|         0|              7|             86.5|    1|      1|          0|           1|                       1|              0|           0|                0|             0|      1|              0|           1|           0|                   1|           0|                       1|                 0|                    0|                            0|                            0|                               1|                     0|\n",
            "|7880|         0|             14|85.03742670311915|    1|      0|          0|           1|                       1|              0|           0|                0|             0|      0|              1|           1|           0|                   1|           0|                       1|                 0|                    0|                            0|                            0|                               1|                     0|\n",
            "|4519|         0|             57|            109.4|    0|      1|          0|           1|                       1|              0|           1|                1|             1|      1|              1|           1|           0|                   1|           0|                       0|                 1|                    0|                            1|                            0|                               0|                     0|\n",
            "|6466|         0|             18|            74.15|    0|      0|          0|           1|                       1|              0|           0|                0|             0|      0|              0|           0|           0|                   1|           0|                       1|                 0|                    0|                            0|                            0|                               0|                     1|\n",
            "| 496|         0|             28|             60.9|    0|      1|          0|           1|                       0|              1|           1|                0|             1|      0|              0|           0|           1|                   0|           0|                       1|                 0|                    0|                            0|                            0|                               0|                     1|\n",
            "|7833|         0|             46| 80.8824189403559|    1|      1|          0|           1|                       0|              0|           0|                0|             0|      0|              1|           1|           0|                   1|           0|                       1|                 0|                    0|                            0|                            0|                               1|                     0|\n",
            "|1591|         0|             17|             21.1|    0|      0|          0|           1|                       0|              0|           0|                0|             0|      0|              0|           0|           0|                   0|           1|                       1|                 0|                    0|                            0|                            1|                               0|                     0|\n",
            "|2866|         0|             12|             84.6|    0|      0|          0|           1|                       0|              0|           1|                0|             0|      0|              1|           1|           0|                   1|           0|                       1|                 0|                    0|                            0|                            0|                               1|                     0|\n",
            "|8592|         0|              5|82.71735660557214|    1|      1|          0|           1|                       1|              0|           0|                0|             0|      1|              0|           1|           0|                   1|           0|                       1|                 0|                    0|                            0|                            0|                               1|                     0|\n",
            "|1829|         0|              8|            74.85|    0|      0|          0|           1|                       1|              0|           0|                0|             0|      0|              0|           1|           0|                   1|           0|                       1|                 0|                    0|                            0|                            0|                               1|                     0|\n",
            "| 463|         0|              7|             99.8|    1|      0|          0|           1|                       1|              0|           1|                0|             0|      1|              1|           1|           0|                   1|           0|                       1|                 0|                    0|                            0|                            0|                               1|                     0|\n",
            "|4900|         1|             37|             85.7|    1|      1|          0|           1|                       1|              0|           0|                0|             0|      1|              0|           1|           0|                   1|           0|                       1|                 0|                    0|                            0|                            0|                               1|                     0|\n",
            "|4818|         1|             64|             80.3|    0|      1|          0|           1|                       0|              1|           0|                1|             0|      0|              0|           0|           0|                   1|           0|                       0|                 1|                    0|                            0|                            1|                               0|                     0|\n",
            "|7554|         0|              1|50.74303124820026|    1|      0|          0|           1|                       0|              0|           1|                0|             0|      0|              0|           0|           1|                   0|           0|                       1|                 0|                    0|                            0|                            0|                               1|                     0|\n",
            "|1342|         0|              8|             20.0|    0|      0|          0|           1|                       0|              0|           0|                0|             0|      0|              0|           0|           0|                   0|           1|                       0|                 0|                    1|                            0|                            0|                               0|                     1|\n",
            "|5300|         0|              1|            80.05|    1|      1|          1|           1|                       0|              0|           0|                0|             0|      1|              0|           1|           0|                   1|           0|                       1|                 0|                    0|                            0|                            0|                               0|                     1|\n",
            "+----+----------+---------------+-----------------+-----+-------+-----------+------------+------------------------+---------------+------------+-----------------+--------------+-------+---------------+------------+------------+--------------------+------------+------------------------+------------------+---------------------+-----------------------------+-----------------------------+--------------------------------+----------------------+\n",
            "only showing top 20 rows\n",
            "\n"
          ]
        }
      ]
    },
    {
      "cell_type": "markdown",
      "source": [
        "Conferindo as tipagens dos dados alterados e das novas colunas criadas:"
      ],
      "metadata": {
        "id": "3cnBL2yHKZnG"
      }
    },
    {
      "cell_type": "code",
      "source": [
        "dataset.printSchema()"
      ],
      "metadata": {
        "id": "zFSSoSTYKY10",
        "colab": {
          "base_uri": "https://localhost:8080/"
        },
        "outputId": "e26ee83b-3b94-4adb-d5dc-aa589601c86c"
      },
      "execution_count": 23,
      "outputs": [
        {
          "output_type": "stream",
          "name": "stdout",
          "text": [
            "root\n",
            " |-- id: integer (nullable = true)\n",
            " |-- Mais65anos: integer (nullable = true)\n",
            " |-- MesesDeContrato: integer (nullable = true)\n",
            " |-- MesesCobrados: double (nullable = true)\n",
            " |-- Churn: integer (nullable = false)\n",
            " |-- Conjuge: integer (nullable = false)\n",
            " |-- Dependentes: integer (nullable = false)\n",
            " |-- TelefoneFixo: integer (nullable = false)\n",
            " |-- MaisDeUmaLinhaTelefonica: integer (nullable = false)\n",
            " |-- SegurancaOnline: integer (nullable = false)\n",
            " |-- BackupOnline: integer (nullable = false)\n",
            " |-- SeguroDispositivo: integer (nullable = false)\n",
            " |-- SuporteTecnico: integer (nullable = false)\n",
            " |-- TVaCabo: integer (nullable = false)\n",
            " |-- StreamingFilmes: integer (nullable = false)\n",
            " |-- ContaCorreio: integer (nullable = false)\n",
            " |-- Internet_DSL: integer (nullable = true)\n",
            " |-- Internet_FibraOptica: integer (nullable = true)\n",
            " |-- Internet_Nao: integer (nullable = true)\n",
            " |-- TipoContrato_Mensalmente: integer (nullable = true)\n",
            " |-- TipoContrato_UmAno: integer (nullable = true)\n",
            " |-- TipoContrato_DoisAnos: integer (nullable = true)\n",
            " |-- MetodoPagamento_DebitoEmConta: integer (nullable = true)\n",
            " |-- MetodoPagamento_CartaoCredito: integer (nullable = true)\n",
            " |-- MetodoPagamento_BoletoEletronico: integer (nullable = true)\n",
            " |-- MetodoPagamento_Boleto: integer (nullable = true)\n",
            "\n"
          ]
        }
      ]
    },
    {
      "cell_type": "markdown",
      "source": [
        "** 2.1 Criando o primeiro modelo utilizando MLlib**\n",
        "\n",
        "Regressão Logística\n",
        "\n",
        "Ela parece com a regressão linear, pois o algoritmo vai criar uma reta que se \"ajusta\" aos nossos dados e consiga representar os dados de treino.\n",
        "\n",
        "A diferença é que, depois que criamos essa reta e ajustamos aos valores de treino, aplicamos a Sigmoide que vai transformar os nossos valores em valores entre um intervalo de 0 e 1. A partir dessa transformação, vamos conseguir separar os nossos dados em duas classes, que no nosso caso, é se a pessoa cancelou o serviço ou não.\n",
        "\n",
        "Um ponto importante é que o funcionamento da sigmoide vai dar uma probabilidade de ser de determinada classe ou outra; temos um valor no meio que vai separá-las muito bem, normalmente utilizando o valor 0.5. Então, quando atinge um valor 0.5, consideramos que é da classe positiva, ou seja, da primeira classe. E abaixo desse valor, consideramos que é da classe negativa, ou seja, a de quem cancelou o serviço, por exemplo.\n",
        "\n",
        "** 2.2 Preparação dos dados**\n",
        "\n",
        "Embora já tenhamos tratado os nossos dados para serem utilizados por algoritmo de machine learning, precisamos fazer mais uma modificação na nossa base de dados para que funcione com os modelos de machine learning do Spark.\n",
        "\n",
        "Analisando nossa base atual e refletir sobre isso:"
      ],
      "metadata": {
        "id": "4lIvWrRfHFuk"
      }
    },
    {
      "cell_type": "code",
      "source": [
        "dataset.show()"
      ],
      "metadata": {
        "id": "dTnCEhhZKYzC",
        "colab": {
          "base_uri": "https://localhost:8080/"
        },
        "outputId": "7d225e2d-ccd9-464b-9c0b-c248c3924c37"
      },
      "execution_count": 24,
      "outputs": [
        {
          "output_type": "stream",
          "name": "stdout",
          "text": [
            "+----+----------+---------------+-----------------+-----+-------+-----------+------------+------------------------+---------------+------------+-----------------+--------------+-------+---------------+------------+------------+--------------------+------------+------------------------+------------------+---------------------+-----------------------------+-----------------------------+--------------------------------+----------------------+\n",
            "|  id|Mais65anos|MesesDeContrato|    MesesCobrados|Churn|Conjuge|Dependentes|TelefoneFixo|MaisDeUmaLinhaTelefonica|SegurancaOnline|BackupOnline|SeguroDispositivo|SuporteTecnico|TVaCabo|StreamingFilmes|ContaCorreio|Internet_DSL|Internet_FibraOptica|Internet_Nao|TipoContrato_Mensalmente|TipoContrato_UmAno|TipoContrato_DoisAnos|MetodoPagamento_DebitoEmConta|MetodoPagamento_CartaoCredito|MetodoPagamento_BoletoEletronico|MetodoPagamento_Boleto|\n",
            "+----+----------+---------------+-----------------+-----+-------+-----------+------------+------------------------+---------------+------------+-----------------+--------------+-------+---------------+------------+------------+--------------------+------------+------------------------+------------------+---------------------+-----------------------------+-----------------------------+--------------------------------+----------------------+\n",
            "|7982|         0|              1|45.30540797610398|    1|      0|          0|           0|                       0|              0|           0|                0|             0|      1|              1|           1|           1|                   0|           0|                       1|                 0|                    0|                            0|                            0|                               1|                     0|\n",
            "|9465|         0|             60|103.6142230120257|    1|      1|          0|           1|                       1|              0|           1|                1|             0|      1|              1|           1|           0|                   1|           0|                       1|                 0|                    0|                            0|                            0|                               1|                     0|\n",
            "|2122|         0|             12|            75.85|    0|      0|          0|           1|                       1|              0|           0|                0|             1|      1|              1|           1|           1|                   0|           0|                       0|                 1|                    0|                            0|                            0|                               0|                     1|\n",
            "|3997|         0|             69|            61.45|    0|      1|          0|           1|                       0|              0|           1|                0|             0|      0|              1|           1|           1|                   0|           0|                       0|                 0|                    1|                            0|                            1|                               0|                     0|\n",
            "|6654|         0|              7|             86.5|    1|      1|          0|           1|                       1|              0|           0|                0|             0|      1|              0|           1|           0|                   1|           0|                       1|                 0|                    0|                            0|                            0|                               1|                     0|\n",
            "|7880|         0|             14|85.03742670311915|    1|      0|          0|           1|                       1|              0|           0|                0|             0|      0|              1|           1|           0|                   1|           0|                       1|                 0|                    0|                            0|                            0|                               1|                     0|\n",
            "|4519|         0|             57|            109.4|    0|      1|          0|           1|                       1|              0|           1|                1|             1|      1|              1|           1|           0|                   1|           0|                       0|                 1|                    0|                            1|                            0|                               0|                     0|\n",
            "|6466|         0|             18|            74.15|    0|      0|          0|           1|                       1|              0|           0|                0|             0|      0|              0|           0|           0|                   1|           0|                       1|                 0|                    0|                            0|                            0|                               0|                     1|\n",
            "| 496|         0|             28|             60.9|    0|      1|          0|           1|                       0|              1|           1|                0|             1|      0|              0|           0|           1|                   0|           0|                       1|                 0|                    0|                            0|                            0|                               0|                     1|\n",
            "|7833|         0|             46| 80.8824189403559|    1|      1|          0|           1|                       0|              0|           0|                0|             0|      0|              1|           1|           0|                   1|           0|                       1|                 0|                    0|                            0|                            0|                               1|                     0|\n",
            "|1591|         0|             17|             21.1|    0|      0|          0|           1|                       0|              0|           0|                0|             0|      0|              0|           0|           0|                   0|           1|                       1|                 0|                    0|                            0|                            1|                               0|                     0|\n",
            "|2866|         0|             12|             84.6|    0|      0|          0|           1|                       0|              0|           1|                0|             0|      0|              1|           1|           0|                   1|           0|                       1|                 0|                    0|                            0|                            0|                               1|                     0|\n",
            "|8592|         0|              5|82.71735660557214|    1|      1|          0|           1|                       1|              0|           0|                0|             0|      1|              0|           1|           0|                   1|           0|                       1|                 0|                    0|                            0|                            0|                               1|                     0|\n",
            "|1829|         0|              8|            74.85|    0|      0|          0|           1|                       1|              0|           0|                0|             0|      0|              0|           1|           0|                   1|           0|                       1|                 0|                    0|                            0|                            0|                               1|                     0|\n",
            "| 463|         0|              7|             99.8|    1|      0|          0|           1|                       1|              0|           1|                0|             0|      1|              1|           1|           0|                   1|           0|                       1|                 0|                    0|                            0|                            0|                               1|                     0|\n",
            "|4900|         1|             37|             85.7|    1|      1|          0|           1|                       1|              0|           0|                0|             0|      1|              0|           1|           0|                   1|           0|                       1|                 0|                    0|                            0|                            0|                               1|                     0|\n",
            "|4818|         1|             64|             80.3|    0|      1|          0|           1|                       0|              1|           0|                1|             0|      0|              0|           0|           0|                   1|           0|                       0|                 1|                    0|                            0|                            1|                               0|                     0|\n",
            "|7554|         0|              1|50.74303124820026|    1|      0|          0|           1|                       0|              0|           1|                0|             0|      0|              0|           0|           1|                   0|           0|                       1|                 0|                    0|                            0|                            0|                               1|                     0|\n",
            "|1342|         0|              8|             20.0|    0|      0|          0|           1|                       0|              0|           0|                0|             0|      0|              0|           0|           0|                   0|           1|                       0|                 0|                    1|                            0|                            0|                               0|                     1|\n",
            "|5300|         0|              1|            80.05|    1|      1|          1|           1|                       0|              0|           0|                0|             0|      1|              0|           1|           0|                   1|           0|                       1|                 0|                    0|                            0|                            0|                               0|                     1|\n",
            "+----+----------+---------------+-----------------+-----+-------+-----------+------------+------------------------+---------------+------------+-----------------+--------------+-------+---------------+------------+------------+--------------------+------------+------------------------+------------------+---------------------+-----------------------------+-----------------------------+--------------------------------+----------------------+\n",
            "only showing top 20 rows\n",
            "\n"
          ]
        }
      ]
    },
    {
      "cell_type": "markdown",
      "source": [
        "E embora tenhamos dados numéricos, o Spark precisa de um tipo de dado mais primitivo para trabalhar, então precisamos fazer uma conversão desse nosso DataFrame para diversos vetores que vão representar os nossos dados."
      ],
      "metadata": {
        "id": "13e8ahvSNCvo"
      }
    },
    {
      "cell_type": "markdown",
      "source": [
        "Importando a ferramenta para o processo de vetorização dos dados:"
      ],
      "metadata": {
        "id": "ys6CbvlsNLGw"
      }
    },
    {
      "cell_type": "code",
      "source": [
        "from pyspark.ml.feature import VectorAssembler"
      ],
      "metadata": {
        "id": "ihE4PcZ9KYwQ"
      },
      "execution_count": 25,
      "outputs": []
    },
    {
      "cell_type": "markdown",
      "source": [
        "Antes de usarmos o VectorAssembler, precisaremos mudar o nome da nossa coluna target do “Churn” pelo nome padrão esperado pelo módulo 'label':"
      ],
      "metadata": {
        "id": "tj1qKTbGNjWz"
      }
    },
    {
      "cell_type": "code",
      "source": [
        "dataset = dataset.withColumnRenamed('Churn', 'label')"
      ],
      "metadata": {
        "id": "PiA1i__YKYto"
      },
      "execution_count": 26,
      "outputs": []
    },
    {
      "cell_type": "markdown",
      "source": [
        "Criando um lista com o nome de todas as colunas que forem features e removendo as que não forem de interesse:"
      ],
      "metadata": {
        "id": "jj_N-qzfOlLL"
      }
    },
    {
      "cell_type": "code",
      "source": [
        "X = dataset.columns\n",
        "X.remove('label')\n",
        "X.remove('id')\n",
        "X"
      ],
      "metadata": {
        "id": "efKlYwS1KYqz",
        "colab": {
          "base_uri": "https://localhost:8080/"
        },
        "outputId": "84919bfd-2a55-4860-c7f5-304362f9075c"
      },
      "execution_count": 27,
      "outputs": [
        {
          "output_type": "execute_result",
          "data": {
            "text/plain": [
              "['Mais65anos',\n",
              " 'MesesDeContrato',\n",
              " 'MesesCobrados',\n",
              " 'Conjuge',\n",
              " 'Dependentes',\n",
              " 'TelefoneFixo',\n",
              " 'MaisDeUmaLinhaTelefonica',\n",
              " 'SegurancaOnline',\n",
              " 'BackupOnline',\n",
              " 'SeguroDispositivo',\n",
              " 'SuporteTecnico',\n",
              " 'TVaCabo',\n",
              " 'StreamingFilmes',\n",
              " 'ContaCorreio',\n",
              " 'Internet_DSL',\n",
              " 'Internet_FibraOptica',\n",
              " 'Internet_Nao',\n",
              " 'TipoContrato_Mensalmente',\n",
              " 'TipoContrato_UmAno',\n",
              " 'TipoContrato_DoisAnos',\n",
              " 'MetodoPagamento_DebitoEmConta',\n",
              " 'MetodoPagamento_CartaoCredito',\n",
              " 'MetodoPagamento_BoletoEletronico',\n",
              " 'MetodoPagamento_Boleto']"
            ]
          },
          "metadata": {},
          "execution_count": 27
        }
      ]
    },
    {
      "cell_type": "markdown",
      "source": [
        "Configurando o VectorAssembler:"
      ],
      "metadata": {
        "id": "oRXrdWBvQOrD"
      }
    },
    {
      "cell_type": "code",
      "source": [
        "assembler = VectorAssembler(inputCols=X, outputCol='features')"
      ],
      "metadata": {
        "id": "PeY-woLJKYoF"
      },
      "execution_count": 28,
      "outputs": []
    },
    {
      "cell_type": "markdown",
      "source": [
        "Transformação dos dados:"
      ],
      "metadata": {
        "id": "AUiS240pQ8uW"
      }
    },
    {
      "cell_type": "code",
      "source": [
        "dataset_prep = assembler.transform(dataset).select('features', 'label')"
      ],
      "metadata": {
        "id": "0EZJx1yqKYlL"
      },
      "execution_count": 29,
      "outputs": []
    },
    {
      "cell_type": "markdown",
      "source": [
        "Visualizando o resultado:"
      ],
      "metadata": {
        "id": "Hu3VxC2ARSIi"
      }
    },
    {
      "cell_type": "code",
      "source": [
        "dataset_prep.show(10, truncate=False)"
      ],
      "metadata": {
        "id": "LfI2JIBGKYiY",
        "colab": {
          "base_uri": "https://localhost:8080/"
        },
        "outputId": "54f1f315-1f88-4211-9048-589c243b114f"
      },
      "execution_count": 30,
      "outputs": [
        {
          "output_type": "stream",
          "name": "stdout",
          "text": [
            "+-----------------------------------------------------------------------------------------------------------+-----+\n",
            "|features                                                                                                   |label|\n",
            "+-----------------------------------------------------------------------------------------------------------+-----+\n",
            "|(24,[1,2,11,12,13,14,17,22],[1.0,45.30540797610398,1.0,1.0,1.0,1.0,1.0,1.0])                               |1    |\n",
            "|(24,[1,2,3,5,6,8,9,11,12,13,15,17,22],[60.0,103.6142230120257,1.0,1.0,1.0,1.0,1.0,1.0,1.0,1.0,1.0,1.0,1.0])|1    |\n",
            "|(24,[1,2,5,6,10,11,12,13,14,18,23],[12.0,75.85,1.0,1.0,1.0,1.0,1.0,1.0,1.0,1.0,1.0])                       |0    |\n",
            "|(24,[1,2,3,5,8,12,13,14,19,21],[69.0,61.45,1.0,1.0,1.0,1.0,1.0,1.0,1.0,1.0])                               |0    |\n",
            "|(24,[1,2,3,5,6,11,13,15,17,22],[7.0,86.5,1.0,1.0,1.0,1.0,1.0,1.0,1.0,1.0])                                 |1    |\n",
            "|(24,[1,2,5,6,12,13,15,17,22],[14.0,85.03742670311915,1.0,1.0,1.0,1.0,1.0,1.0,1.0])                         |1    |\n",
            "|(24,[1,2,3,5,6,8,9,10,11,12,13,15,18,20],[57.0,109.4,1.0,1.0,1.0,1.0,1.0,1.0,1.0,1.0,1.0,1.0,1.0,1.0])     |0    |\n",
            "|(24,[1,2,5,6,15,17,23],[18.0,74.15,1.0,1.0,1.0,1.0,1.0])                                                   |0    |\n",
            "|(24,[1,2,3,5,7,8,10,14,17,23],[28.0,60.9,1.0,1.0,1.0,1.0,1.0,1.0,1.0,1.0])                                 |0    |\n",
            "|(24,[1,2,3,5,12,13,15,17,22],[46.0,80.8824189403559,1.0,1.0,1.0,1.0,1.0,1.0,1.0])                          |1    |\n",
            "+-----------------------------------------------------------------------------------------------------------+-----+\n",
            "only showing top 10 rows\n",
            "\n"
          ]
        }
      ]
    },
    {
      "cell_type": "markdown",
      "source": [
        "2.3 Ajuste e Previsão\n",
        "\n",
        "Separando os dados entre treino e teste:"
      ],
      "metadata": {
        "id": "m-HwQyC0SzRc"
      }
    },
    {
      "cell_type": "code",
      "source": [
        "SEED = 101"
      ],
      "metadata": {
        "id": "VLn0PWQUW2lX"
      },
      "execution_count": 31,
      "outputs": []
    },
    {
      "cell_type": "code",
      "source": [
        "treino, teste = dataset_prep.randomSplit([0.7, 0.3], seed=SEED)"
      ],
      "metadata": {
        "id": "6EYUfyK2KYfk"
      },
      "execution_count": 32,
      "outputs": []
    },
    {
      "cell_type": "markdown",
      "source": [
        "Analisando as variáveis de treino:"
      ],
      "metadata": {
        "id": "Qugv5MLVXn6J"
      }
    },
    {
      "cell_type": "code",
      "source": [
        "treino.show()"
      ],
      "metadata": {
        "id": "zgp-iQXAKYc2",
        "colab": {
          "base_uri": "https://localhost:8080/"
        },
        "outputId": "d8b77374-35a6-4856-bc6b-bb69fa4a13be"
      },
      "execution_count": 33,
      "outputs": [
        {
          "output_type": "stream",
          "name": "stdout",
          "text": [
            "+--------------------+-----+\n",
            "|            features|label|\n",
            "+--------------------+-----+\n",
            "|(24,[0,1,2,3,4,5,...|    0|\n",
            "|(24,[0,1,2,3,4,5,...|    0|\n",
            "|(24,[0,1,2,3,4,5,...|    0|\n",
            "|(24,[0,1,2,3,4,5,...|    0|\n",
            "|(24,[0,1,2,3,4,5,...|    0|\n",
            "|(24,[0,1,2,3,4,5,...|    1|\n",
            "|(24,[0,1,2,3,4,5,...|    0|\n",
            "|(24,[0,1,2,3,4,5,...|    1|\n",
            "|(24,[0,1,2,3,4,5,...|    0|\n",
            "|(24,[0,1,2,3,4,5,...|    0|\n",
            "|(24,[0,1,2,3,4,5,...|    0|\n",
            "|(24,[0,1,2,3,4,5,...|    0|\n",
            "|(24,[0,1,2,3,4,5,...|    0|\n",
            "|(24,[0,1,2,3,4,5,...|    0|\n",
            "|(24,[0,1,2,3,4,5,...|    0|\n",
            "|(24,[0,1,2,3,4,5,...|    1|\n",
            "|(24,[0,1,2,3,4,5,...|    0|\n",
            "|(24,[0,1,2,3,4,5,...|    0|\n",
            "|(24,[0,1,2,3,4,5,...|    0|\n",
            "|(24,[0,1,2,3,4,5,...|    0|\n",
            "+--------------------+-----+\n",
            "only showing top 20 rows\n",
            "\n"
          ]
        }
      ]
    },
    {
      "cell_type": "markdown",
      "source": [
        "Quantidade de dados para treino:"
      ],
      "metadata": {
        "id": "-K2Sbt3xXxOO"
      }
    },
    {
      "cell_type": "code",
      "source": [
        "treino.count()"
      ],
      "metadata": {
        "id": "TQLUaoKRKYZ9",
        "colab": {
          "base_uri": "https://localhost:8080/"
        },
        "outputId": "fabcce15-f8ff-458f-90e7-5c986ea74cb3"
      },
      "execution_count": 34,
      "outputs": [
        {
          "output_type": "execute_result",
          "data": {
            "text/plain": [
              "7206"
            ]
          },
          "metadata": {},
          "execution_count": 34
        }
      ]
    },
    {
      "cell_type": "markdown",
      "source": [
        "Quantidade de dados para teste:"
      ],
      "metadata": {
        "id": "6FGPFU9VX9F4"
      }
    },
    {
      "cell_type": "code",
      "source": [
        "teste.count()"
      ],
      "metadata": {
        "id": "MBaHsKAAKYXT",
        "colab": {
          "base_uri": "https://localhost:8080/"
        },
        "outputId": "63912c4d-7903-4016-adc9-f054cb719914"
      },
      "execution_count": 35,
      "outputs": [
        {
          "output_type": "execute_result",
          "data": {
            "text/plain": [
              "3142"
            ]
          },
          "metadata": {},
          "execution_count": 35
        }
      ]
    },
    {
      "cell_type": "markdown",
      "source": [
        "Importanto o algoritmo de regressão logística:"
      ],
      "metadata": {
        "id": "UGQpcAGEY2K8"
      }
    },
    {
      "cell_type": "code",
      "source": [
        "from pyspark.ml.classification import LogisticRegression"
      ],
      "metadata": {
        "id": "O3kATMfUKYUU"
      },
      "execution_count": 36,
      "outputs": []
    },
    {
      "cell_type": "code",
      "source": [
        "lr = LogisticRegression()"
      ],
      "metadata": {
        "id": "H_HX8tBtZGuy"
      },
      "execution_count": 37,
      "outputs": []
    },
    {
      "cell_type": "markdown",
      "source": [
        "Criando o modelo:\n"
      ],
      "metadata": {
        "id": "3_XuEOSyZOgR"
      }
    },
    {
      "cell_type": "code",
      "source": [
        "modelo_lr = lr.fit(treino)"
      ],
      "metadata": {
        "id": "4mo6-nWXZKct"
      },
      "execution_count": 38,
      "outputs": []
    },
    {
      "cell_type": "markdown",
      "source": [
        "Classificação dos dados de teste:"
      ],
      "metadata": {
        "id": "Bl14EyjtaVsR"
      }
    },
    {
      "cell_type": "code",
      "source": [
        "previsoes_lr_teste = modelo_lr.transform(teste)"
      ],
      "metadata": {
        "id": "CyaIsew_afXR"
      },
      "execution_count": 39,
      "outputs": []
    },
    {
      "cell_type": "markdown",
      "source": [
        "Visuzalizando o DataFrame:"
      ],
      "metadata": {
        "id": "oFVSFjBrampI"
      }
    },
    {
      "cell_type": "code",
      "source": [
        "previsoes_lr_teste.show(5)"
      ],
      "metadata": {
        "colab": {
          "base_uri": "https://localhost:8080/"
        },
        "id": "rH-nWfLuapRA",
        "outputId": "df56a81a-238c-48f1-8512-29329da8d5e5"
      },
      "execution_count": 40,
      "outputs": [
        {
          "output_type": "stream",
          "name": "stdout",
          "text": [
            "+--------------------+-----+--------------------+--------------------+----------+\n",
            "|            features|label|       rawPrediction|         probability|prediction|\n",
            "+--------------------+-----+--------------------+--------------------+----------+\n",
            "|(24,[0,1,2,3,4,5,...|    0|[3.02174179751551...|[0.95354674000282...|       0.0|\n",
            "|(24,[0,1,2,3,4,5,...|    0|[-0.0922192966076...|[0.47696150091605...|       1.0|\n",
            "|(24,[0,1,2,3,4,5,...|    1|[0.18744121711361...|[0.54672358463156...|       0.0|\n",
            "|(24,[0,1,2,3,4,5,...|    1|[0.91716501260103...|[0.71446410549163...|       0.0|\n",
            "|(24,[0,1,2,3,4,5,...|    0|[-0.1495904711610...|[0.46267196467801...|       1.0|\n",
            "+--------------------+-----+--------------------+--------------------+----------+\n",
            "only showing top 5 rows\n",
            "\n"
          ]
        }
      ]
    },
    {
      "cell_type": "markdown",
      "source": [
        "**2.4 Métricas**\n",
        "\n",
        "Resumo das informações mais importantes sobre o nosso modelo:"
      ],
      "metadata": {
        "id": "vaHO4Ua5c4oZ"
      }
    },
    {
      "cell_type": "code",
      "source": [
        "resumo_lr_treino = modelo_lr.summary"
      ],
      "metadata": {
        "id": "m4Aq7-h-arqt"
      },
      "execution_count": 41,
      "outputs": []
    },
    {
      "cell_type": "markdown",
      "source": [
        "Assertividade do modelo:"
      ],
      "metadata": {
        "id": "filxseuleJel"
      }
    },
    {
      "cell_type": "code",
      "source": [
        "resumo_lr_treino.accuracy"
      ],
      "metadata": {
        "colab": {
          "base_uri": "https://localhost:8080/"
        },
        "id": "ExQ487PVdhL4",
        "outputId": "a276ae0b-69ae-46f0-8e80-a3789d0b62a0"
      },
      "execution_count": 42,
      "outputs": [
        {
          "output_type": "execute_result",
          "data": {
            "text/plain": [
              "0.7849014709963918"
            ]
          },
          "metadata": {},
          "execution_count": 42
        }
      ]
    },
    {
      "cell_type": "markdown",
      "source": [
        "Acessando as informações com diversas métricas em relação aos dados de treino como atributos:"
      ],
      "metadata": {
        "id": "KN2T4xJFdg3k"
      }
    },
    {
      "cell_type": "code",
      "source": [
        "print(\"Acurácia: %f\" % resumo_lr_treino.accuracy)\n",
        "print(\"Precisão: %f\" % resumo_lr_treino.precisionByLabel[1])\n",
        "print(\"Recall: %f\" % resumo_lr_treino.recallByLabel[1])\n",
        "print(\"F1: %f\" % resumo_lr_treino.fMeasureByLabel()[1])"
      ],
      "metadata": {
        "colab": {
          "base_uri": "https://localhost:8080/"
        },
        "id": "p03jVpKkd4ql",
        "outputId": "96183361-890d-4fb7-da88-16bab8f6fdec"
      },
      "execution_count": 43,
      "outputs": [
        {
          "output_type": "stream",
          "name": "stdout",
          "text": [
            "Acurácia: 0.784901\n",
            "Precisão: 0.770686\n",
            "Recall: 0.812517\n",
            "F1: 0.791049\n"
          ]
        }
      ]
    },
    {
      "cell_type": "markdown",
      "source": [
        "Contando quantas vezes o modelo acertou a previsão de que o cliente cancelou o serviço (churn):"
      ],
      "metadata": {
        "id": "Tt0lnmffeVTi"
      }
    },
    {
      "cell_type": "code",
      "source": [
        "previsoes_lr_teste.select('label', 'prediction').where((f.col('label') == 1) & (f.col('prediction') == 1)).count()"
      ],
      "metadata": {
        "colab": {
          "base_uri": "https://localhost:8080/"
        },
        "id": "clw9pSF3eVoc",
        "outputId": "a83be6b1-d474-4c0e-e93c-ca3003795f89"
      },
      "execution_count": 44,
      "outputs": [
        {
          "output_type": "execute_result",
          "data": {
            "text/plain": [
              "1256"
            ]
          },
          "metadata": {},
          "execution_count": 44
        }
      ]
    },
    {
      "cell_type": "markdown",
      "source": [
        "Repetindo o processo para todas as outras possibilidades:"
      ],
      "metadata": {
        "id": "iYaHPwPthKyQ"
      }
    },
    {
      "cell_type": "code",
      "source": [
        "tp = previsoes_lr_teste.select('label', 'prediction').where((f.col('label') == 1) & (f.col('prediction') == 1)).count()\n",
        "tn = previsoes_lr_teste.select('label', 'prediction').where((f.col('label') == 0) & (f.col('prediction') == 0)).count()\n",
        "fp = previsoes_lr_teste.select('label', 'prediction').where((f.col('label') == 0) & (f.col('prediction') == 1)).count()\n",
        "fn = previsoes_lr_teste.select('label', 'prediction').where((f.col('label') == 1) & (f.col('prediction') == 0)).count()\n",
        "print(tp, tn,fp, fn)"
      ],
      "metadata": {
        "colab": {
          "base_uri": "https://localhost:8080/"
        },
        "id": "penO_YpVfnnh",
        "outputId": "6b79f892-7c8a-4873-93b8-f2eca2366540"
      },
      "execution_count": 45,
      "outputs": [
        {
          "output_type": "stream",
          "name": "stdout",
          "text": [
            "1256 1179 400 307\n"
          ]
        }
      ]
    },
    {
      "cell_type": "markdown",
      "source": [
        "Calculando a matriz de confusão para saber como o nosso modelo de classificação está se saindo:"
      ],
      "metadata": {
        "id": "4aW38HotgV_E"
      }
    },
    {
      "cell_type": "code",
      "source": [
        "def calcula_mostra_matriz_confusao(df_transform_modelo, normalize=False, percentage=True):\n",
        "  tp = df_transform_modelo.select('label', 'prediction').where((f.col('label') == 1) & (f.col('prediction') == 1)).count()\n",
        "  tn = df_transform_modelo.select('label', 'prediction').where((f.col('label') == 0) & (f.col('prediction') == 0)).count()\n",
        "  fp = df_transform_modelo.select('label', 'prediction').where((f.col('label') == 0) & (f.col('prediction') == 1)).count()\n",
        "  fn = df_transform_modelo.select('label', 'prediction').where((f.col('label') == 1) & (f.col('prediction') == 0)).count()\n",
        "\n",
        "  valorP = 1\n",
        "  valorN = 1\n",
        "\n",
        "  if normalize:\n",
        "    valorP = tp + fn\n",
        "    valorN = fp + tn\n",
        "\n",
        "  if percentage and normalize:\n",
        "    valorP = valorP / 100\n",
        "    valorN = valorN / 100\n",
        "\n",
        "  print(' '*20, 'Previsto')\n",
        "  print(' '*15, 'Churn', ' '*5 ,'Não-Churn')\n",
        "  print(' '*4, 'Churn', ' '*6, int(tp/valorP), ' '*7, int(fn/valorP))\n",
        "  print('Real')\n",
        "  print(' '*4, 'Não-Churn', ' '*2, int(fp/valorN), ' '*7, int(tn/valorN))"
      ],
      "metadata": {
        "id": "Z1OosSb8hXXY"
      },
      "execution_count": 46,
      "outputs": []
    },
    {
      "cell_type": "markdown",
      "source": [
        "Utilizando a função criada:"
      ],
      "metadata": {
        "id": "wl436VL9ib7-"
      }
    },
    {
      "cell_type": "code",
      "source": [
        "calcula_mostra_matriz_confusao(previsoes_lr_teste, normalize=False)"
      ],
      "metadata": {
        "colab": {
          "base_uri": "https://localhost:8080/"
        },
        "id": "bpRIlT5xicPh",
        "outputId": "7f1b2a8a-06f6-47fd-bdf6-5be57bd172a9"
      },
      "execution_count": 47,
      "outputs": [
        {
          "output_type": "stream",
          "name": "stdout",
          "text": [
            "                     Previsto\n",
            "                Churn       Não-Churn\n",
            "     Churn        1256         307\n",
            "Real\n",
            "     Não-Churn    400         1179\n"
          ]
        }
      ]
    },
    {
      "cell_type": "markdown",
      "source": [
        "**3.0 Árvore de decisão**\n",
        "\n",
        "A Árvore de Decisão é como um mapa que te guia pelas características dos clientes para descobrir se eles vão cancelar o serviço ou não. Cada pergunta no mapa te leva para um novo caminho, até que você chegue à resposta final. O algoritmo escolhe as perguntas mais importantes para te levar à resposta mais rápido possível, como se estivesse procurando o caminho mais curto para encontrar o resultado.\n",
        "\n",
        "**3.1 Ajuste e Previsão**\n",
        "\n",
        "Importando a Árvore de Decisão:"
      ],
      "metadata": {
        "id": "cjanBClu1qAO"
      }
    },
    {
      "cell_type": "code",
      "source": [
        "from pyspark.ml.classification import DecisionTreeClassifier"
      ],
      "metadata": {
        "id": "QAqxULbiio0e"
      },
      "execution_count": 48,
      "outputs": []
    },
    {
      "cell_type": "markdown",
      "source": [
        "Criando uma instância do algoritmo:"
      ],
      "metadata": {
        "id": "vX1U16Om6cJR"
      }
    },
    {
      "cell_type": "code",
      "source": [
        "dtc = DecisionTreeClassifier(seed=SEED)"
      ],
      "metadata": {
        "id": "pJLZ41wh53km"
      },
      "execution_count": 49,
      "outputs": []
    },
    {
      "cell_type": "markdown",
      "source": [
        "Criando o modelo:"
      ],
      "metadata": {
        "id": "PbeshrJS7U6z"
      }
    },
    {
      "cell_type": "code",
      "source": [
        "modelo_dtc = dtc.fit(treino)"
      ],
      "metadata": {
        "id": "pajvJvd053bQ"
      },
      "execution_count": 50,
      "outputs": []
    },
    {
      "cell_type": "markdown",
      "source": [
        "Classificação dos dados de treino:"
      ],
      "metadata": {
        "id": "MYh9zsM07rSD"
      }
    },
    {
      "cell_type": "code",
      "source": [
        "previsoes_dtc_treino = modelo_dtc.transform(treino)"
      ],
      "metadata": {
        "id": "Aih2vkpA7sHZ"
      },
      "execution_count": 51,
      "outputs": []
    },
    {
      "cell_type": "markdown",
      "source": [
        "Visuzalizando o DataFrame:\n",
        "\n",
        "O algotirimo teve alguns erros com dados de treino."
      ],
      "metadata": {
        "id": "2IsKkuxN9MAO"
      }
    },
    {
      "cell_type": "code",
      "source": [
        "previsoes_dtc_treino.show(10)"
      ],
      "metadata": {
        "colab": {
          "base_uri": "https://localhost:8080/"
        },
        "id": "sR_KXVuy9LXx",
        "outputId": "c28fb3cb-f102-40bc-fd61-600e0f969e8a"
      },
      "execution_count": 52,
      "outputs": [
        {
          "output_type": "stream",
          "name": "stdout",
          "text": [
            "+--------------------+-----+--------------+--------------------+----------+\n",
            "|            features|label| rawPrediction|         probability|prediction|\n",
            "+--------------------+-----+--------------+--------------------+----------+\n",
            "|(24,[0,1,2,3,4,5,...|    0|[2056.0,334.0]|[0.86025104602510...|       0.0|\n",
            "|(24,[0,1,2,3,4,5,...|    0|[2056.0,334.0]|[0.86025104602510...|       0.0|\n",
            "|(24,[0,1,2,3,4,5,...|    0|    [22.0,3.0]|         [0.88,0.12]|       0.0|\n",
            "|(24,[0,1,2,3,4,5,...|    0|    [22.0,3.0]|         [0.88,0.12]|       0.0|\n",
            "|(24,[0,1,2,3,4,5,...|    0|    [22.0,3.0]|         [0.88,0.12]|       0.0|\n",
            "|(24,[0,1,2,3,4,5,...|    1|[331.0,1951.0]|[0.14504820333041...|       1.0|\n",
            "|(24,[0,1,2,3,4,5,...|    0| [239.0,205.0]|[0.53828828828828...|       0.0|\n",
            "|(24,[0,1,2,3,4,5,...|    1|[331.0,1951.0]|[0.14504820333041...|       1.0|\n",
            "|(24,[0,1,2,3,4,5,...|    0|[331.0,1951.0]|[0.14504820333041...|       1.0|\n",
            "|(24,[0,1,2,3,4,5,...|    0|[331.0,1951.0]|[0.14504820333041...|       1.0|\n",
            "+--------------------+-----+--------------+--------------------+----------+\n",
            "only showing top 10 rows\n",
            "\n"
          ]
        }
      ]
    },
    {
      "cell_type": "markdown",
      "source": [
        "2.3 Métricas\n",
        "\n",
        "Ferramenta para calcular essas métricas para os nossos dados de teste, importando Multiclass classification evaluator:"
      ],
      "metadata": {
        "id": "hdK3sQa3-j-2"
      }
    },
    {
      "cell_type": "code",
      "source": [
        "from pyspark.ml.evaluation import MulticlassClassificationEvaluator"
      ],
      "metadata": {
        "id": "YDOgK3iU9Vzl"
      },
      "execution_count": 53,
      "outputs": []
    },
    {
      "cell_type": "markdown",
      "source": [
        "Criando uma instância do algoritmo:"
      ],
      "metadata": {
        "id": "Qg0KXGkPAfm6"
      }
    },
    {
      "cell_type": "code",
      "source": [
        "evaluator = MulticlassClassificationEvaluator()"
      ],
      "metadata": {
        "id": "SkihOlzzAf66"
      },
      "execution_count": 54,
      "outputs": []
    },
    {
      "cell_type": "markdown",
      "source": [
        " Utilizando um avaliador para medir a acurácia (precisão) do modelo de classificação em um conjunto de dados de treino:"
      ],
      "metadata": {
        "id": "tEQtr1H7Au0Z"
      }
    },
    {
      "cell_type": "code",
      "source": [
        "evaluator.evaluate(previsoes_dtc_treino, {evaluator.metricName: 'accuracy'})"
      ],
      "metadata": {
        "colab": {
          "base_uri": "https://localhost:8080/"
        },
        "id": "V1qWYM-MDt8x",
        "outputId": "d28dbf5d-6d11-4f30-d5bc-9e373c96f519"
      },
      "execution_count": 55,
      "outputs": [
        {
          "output_type": "execute_result",
          "data": {
            "text/plain": [
              "0.7917013599777962"
            ]
          },
          "metadata": {},
          "execution_count": 55
        }
      ]
    },
    {
      "cell_type": "markdown",
      "source": [
        "Acessando as informações com diversas métricas em relação aos dados de treino como atributos:"
      ],
      "metadata": {
        "id": "sBO2V3aTGStv"
      }
    },
    {
      "cell_type": "code",
      "source": [
        "print(\"Acurácia: %f\" % evaluator.evaluate(previsoes_dtc_treino, {evaluator.metricName: \"accuracy\"}))\n",
        "print(\"Precisão: %f\" % evaluator.evaluate(previsoes_dtc_treino, {evaluator.metricName: \"precisionByLabel\", evaluator.metricLabel: 1}))\n",
        "print(\"Recall: %f\" % evaluator.evaluate(previsoes_dtc_treino, {evaluator.metricName: \"recallByLabel\", evaluator.metricLabel: 1}))\n",
        "print(\"F1: %f\" % evaluator.evaluate(previsoes_dtc_treino, {evaluator.metricName: \"fMeasureByLabel\", evaluator.metricLabel: 1}))"
      ],
      "metadata": {
        "colab": {
          "base_uri": "https://localhost:8080/"
        },
        "id": "D5lBe0YTEQei",
        "outputId": "e5903dd5-44e7-4fbe-8944-9b32e12adc8e"
      },
      "execution_count": 56,
      "outputs": [
        {
          "output_type": "stream",
          "name": "stdout",
          "text": [
            "Acurácia: 0.791701\n",
            "Precisão: 0.805090\n",
            "Recall: 0.770978\n",
            "F1: 0.787664\n"
          ]
        }
      ]
    },
    {
      "cell_type": "markdown",
      "source": [
        "Além de entender se o modelo se adaptou bem aos dados de treino, precisamos saber se conseguiu generalizar a solução. Isto é, se o modelo funciona bem para dados que nunca viu.\n",
        "\n",
        "Conseguiremos essa resposta com os dados de teste:"
      ],
      "metadata": {
        "id": "l5I6v8nDGxVM"
      }
    },
    {
      "cell_type": "code",
      "source": [
        "previsoes_dtc_teste = modelo_dtc.transform(teste)"
      ],
      "metadata": {
        "id": "B16fErg0G3tm"
      },
      "execution_count": 57,
      "outputs": []
    },
    {
      "cell_type": "markdown",
      "source": [
        "Visualizando o DataFrame:"
      ],
      "metadata": {
        "id": "0sHbz3H8G3KB"
      }
    },
    {
      "cell_type": "code",
      "source": [
        "previsoes_dtc_teste.show(10)"
      ],
      "metadata": {
        "colab": {
          "base_uri": "https://localhost:8080/"
        },
        "id": "5duu6FP-HH-2",
        "outputId": "07b61fe3-bbb0-4d22-81c1-0af91c1ee364"
      },
      "execution_count": 58,
      "outputs": [
        {
          "output_type": "stream",
          "name": "stdout",
          "text": [
            "+--------------------+-----+--------------+--------------------+----------+\n",
            "|            features|label| rawPrediction|         probability|prediction|\n",
            "+--------------------+-----+--------------+--------------------+----------+\n",
            "|(24,[0,1,2,3,4,5,...|    0|[2056.0,334.0]|[0.86025104602510...|       0.0|\n",
            "|(24,[0,1,2,3,4,5,...|    0|  [62.0,128.0]|[0.32631578947368...|       1.0|\n",
            "|(24,[0,1,2,3,4,5,...|    1| [239.0,205.0]|[0.53828828828828...|       0.0|\n",
            "|(24,[0,1,2,3,4,5,...|    1| [239.0,205.0]|[0.53828828828828...|       0.0|\n",
            "|(24,[0,1,2,3,4,5,...|    0| [239.0,205.0]|[0.53828828828828...|       0.0|\n",
            "|(24,[0,1,2,3,4,5,...|    0|  [51.0,141.0]| [0.265625,0.734375]|       1.0|\n",
            "|(24,[0,1,2,3,4,5,...|    0|[331.0,1951.0]|[0.14504820333041...|       1.0|\n",
            "|(24,[0,1,2,3,4,5,...|    0| [239.0,205.0]|[0.53828828828828...|       0.0|\n",
            "|(24,[0,1,2,3,4,5,...|    0|  [63.0,118.0]|[0.34806629834254...|       1.0|\n",
            "|(24,[0,1,2,3,4,5,...|    0|[2056.0,334.0]|[0.86025104602510...|       0.0|\n",
            "+--------------------+-----+--------------+--------------------+----------+\n",
            "only showing top 10 rows\n",
            "\n"
          ]
        }
      ]
    },
    {
      "cell_type": "markdown",
      "source": [
        "Utilizando um avaliador para medir a acurácia (precisão) do modelo de classificação em um conjunto de dados de teste:"
      ],
      "metadata": {
        "id": "AxHWLr5uHVpJ"
      }
    },
    {
      "cell_type": "code",
      "source": [
        "evaluator.evaluate(previsoes_dtc_teste, {evaluator.metricName: 'accuracy'})"
      ],
      "metadata": {
        "colab": {
          "base_uri": "https://localhost:8080/"
        },
        "id": "SLnXTExhHZLB",
        "outputId": "362f96d2-77a1-497b-c0d2-555272b5fbcf"
      },
      "execution_count": 59,
      "outputs": [
        {
          "output_type": "execute_result",
          "data": {
            "text/plain": [
              "0.7714831317632082"
            ]
          },
          "metadata": {},
          "execution_count": 59
        }
      ]
    },
    {
      "cell_type": "markdown",
      "source": [
        "Todas as métricas exploradas de uma maneira para facilitar a compreensão:"
      ],
      "metadata": {
        "id": "rW9Hu_T1H1Zc"
      }
    },
    {
      "cell_type": "code",
      "source": [
        "print('Decision Tree Classifier')\n",
        "print(\"=\"*40)\n",
        "print(\"Dados de Treino\")\n",
        "print(\"=\"*40)\n",
        "print(\"Matriz de Confusão\")\n",
        "print(\"-\"*40)\n",
        "calcula_mostra_matriz_confusao(previsoes_dtc_treino, normalize=False)\n",
        "print(\"-\"*40)\n",
        "print(\"Métricas\")\n",
        "print(\"-\"*40)\n",
        "print(\"Acurácia: %f\" % evaluator.evaluate(previsoes_dtc_treino, {evaluator.metricName: \"accuracy\"}))\n",
        "print(\"Precisão: %f\" % evaluator.evaluate(previsoes_dtc_treino, {evaluator.metricName: \"precisionByLabel\", evaluator.metricLabel: 1}))\n",
        "print(\"Recall: %f\" % evaluator.evaluate(previsoes_dtc_treino, {evaluator.metricName: \"recallByLabel\", evaluator.metricLabel: 1}))\n",
        "print(\"F1: %f\" % evaluator.evaluate(previsoes_dtc_treino, {evaluator.metricName: \"fMeasureByLabel\", evaluator.metricLabel: 1}))\n",
        "print(\"\")\n",
        "print(\"=\"*40)\n",
        "print(\"Dados de Teste\")\n",
        "print(\"=\"*40)\n",
        "print(\"Matriz de Confusão\")\n",
        "print(\"-\"*40)\n",
        "calcula_mostra_matriz_confusao(previsoes_dtc_teste, normalize=False)\n",
        "print(\"-\"*40)\n",
        "print(\"Métricas\")\n",
        "print(\"-\"*40)\n",
        "print(\"Acurácia: %f\" % evaluator.evaluate(previsoes_dtc_teste, {evaluator.metricName: \"accuracy\"}))\n",
        "print(\"Precisão: %f\" % evaluator.evaluate(previsoes_dtc_teste, {evaluator.metricName: \"precisionByLabel\", evaluator.metricLabel: 1}))\n",
        "print(\"Recall: %f\" % evaluator.evaluate(previsoes_dtc_teste, {evaluator.metricName: \"recallByLabel\", evaluator.metricLabel: 1}))\n",
        "print(\"F1: %f\" % evaluator.evaluate(previsoes_dtc_teste, {evaluator.metricName: \"fMeasureByLabel\", evaluator.metricLabel: 1}))"
      ],
      "metadata": {
        "colab": {
          "base_uri": "https://localhost:8080/"
        },
        "id": "UL08sOm2H0qN",
        "outputId": "9298c98d-9cba-41de-dd40-2fc81179298c"
      },
      "execution_count": 60,
      "outputs": [
        {
          "output_type": "stream",
          "name": "stdout",
          "text": [
            "Decision Tree Classifier\n",
            "========================================\n",
            "Dados de Treino\n",
            "========================================\n",
            "Matriz de Confusão\n",
            "----------------------------------------\n",
            "                     Previsto\n",
            "                Churn       Não-Churn\n",
            "     Churn        2784         827\n",
            "Real\n",
            "     Não-Churn    674         2921\n",
            "----------------------------------------\n",
            "Métricas\n",
            "----------------------------------------\n",
            "Acurácia: 0.791701\n",
            "Precisão: 0.805090\n",
            "Recall: 0.770978\n",
            "F1: 0.787664\n",
            "\n",
            "========================================\n",
            "Dados de Teste\n",
            "========================================\n",
            "Matriz de Confusão\n",
            "----------------------------------------\n",
            "                     Previsto\n",
            "                Churn       Não-Churn\n",
            "     Churn        1181         382\n",
            "Real\n",
            "     Não-Churn    336         1243\n",
            "----------------------------------------\n",
            "Métricas\n",
            "----------------------------------------\n",
            "Acurácia: 0.771483\n",
            "Precisão: 0.778510\n",
            "Recall: 0.755598\n",
            "F1: 0.766883\n"
          ]
        }
      ]
    },
    {
      "cell_type": "markdown",
      "source": [
        "Métricas para os dados de treino.\n",
        "\n",
        "A primeira é a matriz de confusão.\n",
        "\n",
        "Na matriz de confusão, analisamos os erros na diagonal. O modelo previu que 827 pessoas não entrariam em churn (não cancelariam nosso serviço), mas cancelaram o serviço nos dados reais.\n",
        "\n",
        "E um erro parecido acontece na previsão de que 674 pessoas cancelariam o serviço, mas o dado real é que não cancelaram o serviço.\n",
        "\n",
        "O número de erros do modelo é bem expressivo para a quantidade de dados que temos.\n",
        "\n",
        "Agora, vamos seguir para o restante das métricas.\n",
        "\n",
        "Temos as métricas já exploradas (acurácia, precisão, recall e F1-Score) para os dados de treino. Todas por volta de 0.8, mostrando a aderência que o nosso modelo teve.\n",
        "\n",
        "\n",
        "---\n",
        "\n",
        "\n",
        "Matriz de confusão, mas agora com os dados de teste.\n",
        "\n",
        "Podemos observar que o nosso modelo errou 382 pessoas para a métrica de não-churn. Ou seja, previu que 382 pessoas não iam cancelar o serviço, e, na verdade, cancelaram o serviço.\n",
        "\n",
        "Essa métrica prevê um negativo, mas é um falso negativo. O que é bem preocupante, porque o time de marketing vai fornecer promoções para os clientes de acordo com a proposta de projeto.\n",
        "\n",
        "E com esse modelo, vamos perder muitos clientes, já que estamos falando que a pessoa não vai cancelar o serviço e, consequentemente, não vai entrar na priorização das promoções. Enquanto, na verdade, esse cliente vai cancelar o serviço.\n",
        "\n",
        "Devemos diminuir ao máximo o erro dessa métrica, para poder priorizar os clientes que provavelmente vão cancelar.\n",
        "\n",
        "Com relação às últimas quatro métricas dos dados de teste, todas estão abaixo dos dados de treino.\n",
        "\n",
        "Temos valores mais próximos de 0.7: acurácia em 0.77, precisão em 0.77, recall em 0.7 e F1-Score em 0.76. São resultados interessantes."
      ],
      "metadata": {
        "id": "USAJ55AWI57O"
      }
    },
    {
      "cell_type": "markdown",
      "source": [
        "**4.0 Comparação entre modelos**\n",
        "\n",
        "Em busca de um modelo que resolva esse problema com mais assertividade, exploramos o Random Forest Classifier, considerado uma evolução da árvore de decisão, pois utiliza várias delas para fazer a classificação de um novo cliente.\n",
        "\n",
        "**4.1 Ajuste e Previsão**\n",
        "\n",
        "Importando o modelo:"
      ],
      "metadata": {
        "id": "fj8sBTf0Lt1h"
      }
    },
    {
      "cell_type": "code",
      "source": [
        "from pyspark.ml.classification import RandomForestClassifier"
      ],
      "metadata": {
        "id": "dp2jsRKULuH0"
      },
      "execution_count": 61,
      "outputs": []
    },
    {
      "cell_type": "markdown",
      "source": [
        "Criando uma instância do algoritmo:"
      ],
      "metadata": {
        "id": "CPs8m4hrPWoQ"
      }
    },
    {
      "cell_type": "code",
      "source": [
        "rfc = RandomForestClassifier(seed=SEED)"
      ],
      "metadata": {
        "id": "rYz2X5adPSB3"
      },
      "execution_count": 62,
      "outputs": []
    },
    {
      "cell_type": "markdown",
      "source": [
        "Criando nosso modelo ajustado com os dados de treino:"
      ],
      "metadata": {
        "id": "3HfoM_iIPkE2"
      }
    },
    {
      "cell_type": "code",
      "source": [
        "modelo_rfc = rfc.fit(treino)"
      ],
      "metadata": {
        "id": "7WwTKfQ-PkVZ"
      },
      "execution_count": 63,
      "outputs": []
    },
    {
      "cell_type": "markdown",
      "source": [
        "Previsão para oa dados de treino:"
      ],
      "metadata": {
        "id": "2qSwX34APshl"
      }
    },
    {
      "cell_type": "code",
      "source": [
        "previsoes_rfc_treino = modelo_rfc.transform(treino)"
      ],
      "metadata": {
        "id": "cE6i9_cGPs96"
      },
      "execution_count": 64,
      "outputs": []
    },
    {
      "cell_type": "markdown",
      "source": [
        "Visualizando os dados de treino:\n",
        "\n",
        "Analisando o DataFrame, notamos que dos cinco primeiro exemplos ele classificou que duas pessoas não cancelariam o serviço e que três cancelariam. Como nenhuma cancelou, o acerto foi de duas previsões.\n",
        "\n",
        "Embora tenhamos identificado erros, é importante lembrar que não é dessa forma que fazemos a análise de qualidade do modelo, isso é feito utilizando as métricas."
      ],
      "metadata": {
        "id": "EvOfW4IBQcue"
      }
    },
    {
      "cell_type": "code",
      "source": [
        "previsoes_rfc_treino.show(5)"
      ],
      "metadata": {
        "colab": {
          "base_uri": "https://localhost:8080/"
        },
        "id": "pqBuEp2gQbyH",
        "outputId": "3877b330-b5f9-47fd-80bb-531c5cefb7c7"
      },
      "execution_count": 65,
      "outputs": [
        {
          "output_type": "stream",
          "name": "stdout",
          "text": [
            "+--------------------+-----+--------------------+--------------------+----------+\n",
            "|            features|label|       rawPrediction|         probability|prediction|\n",
            "+--------------------+-----+--------------------+--------------------+----------+\n",
            "|(24,[0,1,2,3,4,5,...|    0|[15.0052773466704...|[0.75026386733352...|       0.0|\n",
            "|(24,[0,1,2,3,4,5,...|    0|[16.9295040273249...|[0.84647520136624...|       0.0|\n",
            "|(24,[0,1,2,3,4,5,...|    0|[9.13052909106814...|[0.45652645455340...|       1.0|\n",
            "|(24,[0,1,2,3,4,5,...|    0|[9.13052909106814...|[0.45652645455340...|       1.0|\n",
            "|(24,[0,1,2,3,4,5,...|    0|[8.59288938528764...|[0.42964446926438...|       1.0|\n",
            "+--------------------+-----+--------------------+--------------------+----------+\n",
            "only showing top 5 rows\n",
            "\n"
          ]
        }
      ]
    },
    {
      "cell_type": "markdown",
      "source": [
        "**4.2 Calculando as métricas**\n",
        "\n",
        "Previsões para os dados de teste:"
      ],
      "metadata": {
        "id": "M-oA7a9iROoB"
      }
    },
    {
      "cell_type": "code",
      "source": [
        "previsoes_rfc_teste = modelo_rfc.transform(teste)"
      ],
      "metadata": {
        "id": "zoH6nHD8QlQ_"
      },
      "execution_count": 66,
      "outputs": []
    },
    {
      "cell_type": "markdown",
      "source": [
        "Visualizando os dados de teste:"
      ],
      "metadata": {
        "id": "OC6Kke5mRggW"
      }
    },
    {
      "cell_type": "code",
      "source": [
        "previsoes_rfc_teste.show(5)"
      ],
      "metadata": {
        "colab": {
          "base_uri": "https://localhost:8080/"
        },
        "id": "FKZa40-hRfn-",
        "outputId": "0fb3d6ad-6011-484b-bb3f-3f04e79c847f"
      },
      "execution_count": 67,
      "outputs": [
        {
          "output_type": "stream",
          "name": "stdout",
          "text": [
            "+--------------------+-----+--------------------+--------------------+----------+\n",
            "|            features|label|       rawPrediction|         probability|prediction|\n",
            "+--------------------+-----+--------------------+--------------------+----------+\n",
            "|(24,[0,1,2,3,4,5,...|    0|[16.7433871675615...|[0.83716935837807...|       0.0|\n",
            "|(24,[0,1,2,3,4,5,...|    0|[7.27313214599648...|[0.36365660729982...|       1.0|\n",
            "|(24,[0,1,2,3,4,5,...|    1|[7.46885072161585...|[0.37344253608079...|       1.0|\n",
            "|(24,[0,1,2,3,4,5,...|    1|[9.33276328267787...|[0.46663816413389...|       1.0|\n",
            "|(24,[0,1,2,3,4,5,...|    0|[7.79829004739264...|[0.38991450236963...|       1.0|\n",
            "+--------------------+-----+--------------------+--------------------+----------+\n",
            "only showing top 5 rows\n",
            "\n"
          ]
        }
      ]
    },
    {
      "cell_type": "markdown",
      "source": [
        "Relatório com todas as métricas:"
      ],
      "metadata": {
        "id": "zi1s0gYaRsV5"
      }
    },
    {
      "cell_type": "code",
      "source": [
        "print('Random Forest Classifier')\n",
        "print(\"=\"*40)\n",
        "print(\"Dados de Treino\")\n",
        "print(\"=\"*40)\n",
        "print(\"Matriz de Confusão\")\n",
        "print(\"-\"*40)\n",
        "calcula_mostra_matriz_confusao(previsoes_rfc_treino, normalize=False)\n",
        "print(\"-\"*40)\n",
        "print(\"Métricas\")\n",
        "print(\"-\"*40)\n",
        "print(\"Acurácia: %f\" % evaluator.evaluate(previsoes_rfc_treino, {evaluator.metricName: \"accuracy\"}))\n",
        "print(\"Precisão: %f\" % evaluator.evaluate(previsoes_rfc_treino, {evaluator.metricName: \"precisionByLabel\", evaluator.metricLabel: 1}))\n",
        "print(\"Recall: %f\" % evaluator.evaluate(previsoes_rfc_treino, {evaluator.metricName: \"recallByLabel\", evaluator.metricLabel: 1}))\n",
        "print(\"F1: %f\" % evaluator.evaluate(previsoes_rfc_treino, {evaluator.metricName: \"fMeasureByLabel\", evaluator.metricLabel: 1}))\n",
        "print(\"\")\n",
        "print(\"=\"*40)\n",
        "print(\"Dados de Teste\")\n",
        "print(\"=\"*40)\n",
        "print(\"Matriz de Confusão\")\n",
        "print(\"-\"*40)\n",
        "calcula_mostra_matriz_confusao(previsoes_rfc_teste, normalize=False)\n",
        "print(\"-\"*40)\n",
        "print(\"Métricas\")\n",
        "print(\"-\"*40)\n",
        "print(\"Acurácia: %f\" % evaluator.evaluate(previsoes_rfc_teste, {evaluator.metricName: \"accuracy\"}))\n",
        "print(\"Precisão: %f\" % evaluator.evaluate(previsoes_rfc_teste, {evaluator.metricName: \"precisionByLabel\", evaluator.metricLabel: 1}))\n",
        "print(\"Recall: %f\" % evaluator.evaluate(previsoes_rfc_teste, {evaluator.metricName: \"recallByLabel\", evaluator.metricLabel: 1}))\n",
        "print(\"F1: %f\" % evaluator.evaluate(previsoes_rfc_teste, {evaluator.metricName: \"fMeasureByLabel\", evaluator.metricLabel: 1}))"
      ],
      "metadata": {
        "colab": {
          "base_uri": "https://localhost:8080/"
        },
        "id": "9XAy9qm6Rovj",
        "outputId": "6713cf3d-efa2-4112-ae34-8ea1ec3206cc"
      },
      "execution_count": 68,
      "outputs": [
        {
          "output_type": "stream",
          "name": "stdout",
          "text": [
            "Random Forest Classifier\n",
            "========================================\n",
            "Dados de Treino\n",
            "========================================\n",
            "Matriz de Confusão\n",
            "----------------------------------------\n",
            "                     Previsto\n",
            "                Churn       Não-Churn\n",
            "     Churn        2950         661\n",
            "Real\n",
            "     Não-Churn    884         2711\n",
            "----------------------------------------\n",
            "Métricas\n",
            "----------------------------------------\n",
            "Acurácia: 0.785595\n",
            "Precisão: 0.769431\n",
            "Recall: 0.816948\n",
            "F1: 0.792478\n",
            "\n",
            "========================================\n",
            "Dados de Teste\n",
            "========================================\n",
            "Matriz de Confusão\n",
            "----------------------------------------\n",
            "                     Previsto\n",
            "                Churn       Não-Churn\n",
            "     Churn        1257         306\n",
            "Real\n",
            "     Não-Churn    416         1163\n",
            "----------------------------------------\n",
            "Métricas\n",
            "----------------------------------------\n",
            "Acurácia: 0.770210\n",
            "Precisão: 0.751345\n",
            "Recall: 0.804223\n",
            "F1: 0.776885\n"
          ]
        }
      ]
    },
    {
      "cell_type": "markdown",
      "source": [
        "-Falsos negativos\n",
        "\n",
        "O que chama atenção nas métricas desses modelos é que a Decision Tree Classifier estava errando bastante nos falsos negativos dos dados de treino, sendo 827 erros. Já a Random Forest Classifier teve 661 erros, isso indica que ela teve um ajuste melhor aos dados de treino e performou melhor nessa métrica.\n",
        "\n",
        "-Precisão\n",
        "\n",
        "A precisão, em relação aos dados de treino, da árvore de decisão foi superior a Random Forest Classifier.\n",
        "\n",
        "-Dados de Teste\n",
        "\n",
        "Nenhum dos nossos modelos conheciam anteriormente os dados de teste. Dessa forma, a árvore de decisão pontuou que 382 clientes não entrariam em churn, mas entraram, portanto, esse foi seu número de erros. Enquanto isso, a floresta errou um pouco menos, 306.\n",
        "\n",
        "Porém, a árvore de decisão classificou que 336 clientes cancelariam o serviço, mas não cancelaram. Já a floresta 416 clientes, portanto nessa métrica, apresentou mais erros.\n",
        "\n",
        "Feito essa análise podemos concluir que nossos algoritmos estão performando muito bem. Agora, precisamos fazer a etapa de otimização dos hiperparâmetros que vão trazer um melhor juste para os nossos modelos em relação aos nossos dados, além de resolver melhor nosso problema.\n",
        "\n",
        "A estratégia que seguiremos será levar esses dois modelos para a próxima etapa do pipeline de machine learning, que é a otimização de hiperparâmetros, e que o PySpark tem ferramental para nos auxiliar nessa nova etapa."
      ],
      "metadata": {
        "id": "qpupw9d-TMTQ"
      }
    },
    {
      "cell_type": "markdown",
      "source": [
        "**5.0 Técnicas de Otimização**\n",
        "\n",
        "5.1 Árvore de Decisão com Cross Validation, fazendo as importações necessárias:"
      ],
      "metadata": {
        "id": "igp6ua9jTXeh"
      }
    },
    {
      "cell_type": "code",
      "source": [
        "from pyspark.ml.tuning import CrossValidator, ParamGridBuilder"
      ],
      "metadata": {
        "id": "HGEf31_mRyjE"
      },
      "execution_count": 69,
      "outputs": []
    },
    {
      "cell_type": "markdown",
      "source": [
        "Criando a instância para o algoritmo:"
      ],
      "metadata": {
        "id": "2yo-LXItd6QN"
      }
    },
    {
      "cell_type": "code",
      "source": [
        "dtc = DecisionTreeClassifier(seed=SEED)"
      ],
      "metadata": {
        "id": "OvQj4itvd96d"
      },
      "execution_count": 70,
      "outputs": []
    },
    {
      "cell_type": "markdown",
      "source": [
        "Criando o grid (etapa de seleção dos hiperparâmetros e valores que serão explorados):"
      ],
      "metadata": {
        "id": "uEordWjqeOd-"
      }
    },
    {
      "cell_type": "code",
      "source": [
        "grid = ParamGridBuilder()\\\n",
        "        .addGrid(dtc.maxDepth, [2, 5, 10])\\\n",
        "        .addGrid(dtc.maxBins, [10, 32, 45])\\\n",
        "        .build()"
      ],
      "metadata": {
        "id": "kiSUjKBleCgX"
      },
      "execution_count": 71,
      "outputs": []
    },
    {
      "cell_type": "markdown",
      "source": [
        "Criando o avalidor:"
      ],
      "metadata": {
        "id": "QoEnMbcjfDMo"
      }
    },
    {
      "cell_type": "code",
      "source": [
        "evaluator = MulticlassClassificationEvaluator()"
      ],
      "metadata": {
        "id": "aQyttsdzfDsp"
      },
      "execution_count": 72,
      "outputs": []
    },
    {
      "cell_type": "markdown",
      "source": [
        "Utilizando o CrossValidator, passando essas informações para que ele faça a validação cruzada e busque pelo hiperparâmetro ideal:"
      ],
      "metadata": {
        "id": "81sFnZC1fQkB"
      }
    },
    {
      "cell_type": "code",
      "source": [
        "dtc_cv = CrossValidator(\n",
        "    estimator=dtc,\n",
        "    estimatorParamMaps=grid,\n",
        "    evaluator=evaluator,\n",
        "    numFolds=3,\n",
        "    seed=SEED\n",
        ")"
      ],
      "metadata": {
        "id": "O2GWsHYTfPxy"
      },
      "execution_count": 73,
      "outputs": []
    },
    {
      "cell_type": "markdown",
      "source": [
        "Ajustando o modelo:"
      ],
      "metadata": {
        "id": "3hR9L1D_g26m"
      }
    },
    {
      "cell_type": "code",
      "source": [
        "modelo_dtc_cv = dtc_cv.fit(treino)"
      ],
      "metadata": {
        "id": "Tkxn1D-dg5JW"
      },
      "execution_count": 74,
      "outputs": []
    },
    {
      "cell_type": "markdown",
      "source": [
        "Previsão para os dados de teste:"
      ],
      "metadata": {
        "id": "URsAfo6WhF5M"
      }
    },
    {
      "cell_type": "code",
      "source": [
        "previsoes_dtc_cv_teste = modelo_dtc_cv.transform(teste)"
      ],
      "metadata": {
        "id": "7LgHXrFSg9Um"
      },
      "execution_count": 75,
      "outputs": []
    },
    {
      "cell_type": "markdown",
      "source": [
        "Relatório com todas as métricas:"
      ],
      "metadata": {
        "id": "FJg7GTd6hY0D"
      }
    },
    {
      "cell_type": "code",
      "source": [
        "print('Decision Tree Classifier - Tuning')\n",
        "print(\"=\"*40)\n",
        "print(\"Dados de Teste\")\n",
        "print(\"=\"*40)\n",
        "print(\"Matriz de Confusão\")\n",
        "print(\"-\"*40)\n",
        "calcula_mostra_matriz_confusao(previsoes_dtc_cv_teste, normalize=False)\n",
        "print(\"-\"*40)\n",
        "print(\"Métricas\")\n",
        "print(\"-\"*40)\n",
        "print(\"Acurácia: %f\" % evaluator.evaluate(previsoes_dtc_cv_teste, {evaluator.metricName: \"accuracy\"}))\n",
        "print(\"Precisão: %f\" % evaluator.evaluate(previsoes_dtc_cv_teste, {evaluator.metricName: \"precisionByLabel\", evaluator.metricLabel: 1}))\n",
        "print(\"Recall: %f\" % evaluator.evaluate(previsoes_dtc_cv_teste, {evaluator.metricName: \"recallByLabel\", evaluator.metricLabel: 1}))\n",
        "print(\"F1: %f\" % evaluator.evaluate(previsoes_dtc_cv_teste, {evaluator.metricName: \"fMeasureByLabel\", evaluator.metricLabel: 1}))"
      ],
      "metadata": {
        "colab": {
          "base_uri": "https://localhost:8080/"
        },
        "id": "-t1WYSPehZjV",
        "outputId": "61a53f7e-fc34-472a-da71-72ee9c9f6719"
      },
      "execution_count": 76,
      "outputs": [
        {
          "output_type": "stream",
          "name": "stdout",
          "text": [
            "Decision Tree Classifier - Tuning\n",
            "========================================\n",
            "Dados de Teste\n",
            "========================================\n",
            "Matriz de Confusão\n",
            "----------------------------------------\n",
            "                     Previsto\n",
            "                Churn       Não-Churn\n",
            "     Churn        1319         244\n",
            "Real\n",
            "     Não-Churn    430         1149\n",
            "----------------------------------------\n",
            "Métricas\n",
            "----------------------------------------\n",
            "Acurácia: 0.785487\n",
            "Precisão: 0.754145\n",
            "Recall: 0.843890\n",
            "F1: 0.796498\n"
          ]
        }
      ]
    },
    {
      "cell_type": "markdown",
      "source": [
        "Para a métrica analisada anteriormente, referente a falsos negativos, passamos de 382 para 236, ou seja, conseguimos reduzir uma métrica extremamente importante para nós e que consideramos muito para evitar perder as nossas pessoas clientes, que é o objetivo desse projeto.\n",
        "\n",
        "No entanto, também podemos observar outras métricas, como acurácia, precisão, recall e F1 Score. Tivemos melhorias em quase todas as métricas, com exceção da precisão: com os parâmetros padrão, tínhamos 0.77 e passamos para 0.75.\n",
        "\n",
        "Esse é um ponto essencial, pois nos permite ver a importância da pessoa cientista de dados. Ela vai além de apenas rodar o modelo, nos ajudando a entender a nossa necessidade da área de negócios, isto é, a proposta do nosso projeto, e como as métricas contam quanto o modelo irá ajudar a atingir o objetivo."
      ],
      "metadata": {
        "id": "kJzJhHy6iNzA"
      }
    },
    {
      "cell_type": "markdown",
      "source": [
        "5.2 Random Forest com CV\n",
        "\n",
        "Criando a instância para o algoritmo:"
      ],
      "metadata": {
        "id": "tBM-c4U1e7EJ"
      }
    },
    {
      "cell_type": "code",
      "source": [
        "rfc = RandomForestClassifier(seed=SEED)"
      ],
      "metadata": {
        "id": "s450P_whemeY"
      },
      "execution_count": 77,
      "outputs": []
    },
    {
      "cell_type": "markdown",
      "source": [
        "Definição do grid:"
      ],
      "metadata": {
        "id": "1ay9EodqfWJR"
      }
    },
    {
      "cell_type": "code",
      "source": [
        "grid = ParamGridBuilder()\\\n",
        "        .addGrid(rfc.maxDepth, [2, 5, 10])\\\n",
        "        .addGrid(rfc.maxBins, [10, 32, 45])\\\n",
        "        .addGrid(rfc.numTrees, [10, 20, 50])\\\n",
        "        .build()"
      ],
      "metadata": {
        "id": "ZGPLFQl5fZ8_"
      },
      "execution_count": 78,
      "outputs": []
    },
    {
      "cell_type": "markdown",
      "source": [
        "Criando o avalidor:"
      ],
      "metadata": {
        "id": "CKvKJk8QfcaA"
      }
    },
    {
      "cell_type": "code",
      "source": [
        "evaluator = MulticlassClassificationEvaluator()"
      ],
      "metadata": {
        "id": "0EirAYaDfdFw"
      },
      "execution_count": 79,
      "outputs": []
    },
    {
      "cell_type": "markdown",
      "source": [
        "Utilizando o CrossValidator, passando essas informações para que ele faça a validação cruzada e busque pelo hiperparâmetro ideal:"
      ],
      "metadata": {
        "id": "zk1H2X45f45d"
      }
    },
    {
      "cell_type": "code",
      "source": [
        "rfc_cv = CrossValidator(\n",
        "    estimator=rfc,\n",
        "    estimatorParamMaps=grid,\n",
        "    evaluator=evaluator,\n",
        "    numFolds=3,\n",
        "    seed=SEED\n",
        ")"
      ],
      "metadata": {
        "id": "2e9nct0Lf5kY"
      },
      "execution_count": 80,
      "outputs": []
    },
    {
      "cell_type": "markdown",
      "source": [
        "Ajuste do modelo com os dados de treino:"
      ],
      "metadata": {
        "id": "hh3IPalrf-9k"
      }
    },
    {
      "cell_type": "code",
      "source": [
        "modelo_rfc_cv = rfc_cv.fit(treino)"
      ],
      "metadata": {
        "id": "7tFNczzQgDUO"
      },
      "execution_count": 81,
      "outputs": []
    },
    {
      "cell_type": "markdown",
      "source": [
        "Previsões para os dados de teste:"
      ],
      "metadata": {
        "id": "0SBFDhv0gLyT"
      }
    },
    {
      "cell_type": "code",
      "source": [
        "previsoes_rfc_cv_teste = modelo_rfc_cv.transform(teste)"
      ],
      "metadata": {
        "id": "WLLUsjYpgMOg"
      },
      "execution_count": 82,
      "outputs": []
    },
    {
      "cell_type": "markdown",
      "source": [
        "Exibindo a matriz de confusão e algumas métricas:"
      ],
      "metadata": {
        "id": "Kdb3Wg2ugb5z"
      }
    },
    {
      "cell_type": "code",
      "source": [
        "print('Random Forest Classifier - Tuning')\n",
        "print(\"=\"*40)\n",
        "print(\"Dados de Teste\")\n",
        "print(\"=\"*40)\n",
        "print(\"Matriz de Confusão\")\n",
        "print(\"-\"*40)\n",
        "calcula_mostra_matriz_confusao(previsoes_rfc_cv_teste, normalize=False)\n",
        "print(\"-\"*40)\n",
        "print(\"Métricas\")\n",
        "print(\"-\"*40)\n",
        "print(\"Acurácia: %f\" % evaluator.evaluate(previsoes_rfc_cv_teste, {evaluator.metricName: \"accuracy\"}))\n",
        "print(\"Precisão: %f\" % evaluator.evaluate(previsoes_rfc_cv_teste, {evaluator.metricName: \"precisionByLabel\", evaluator.metricLabel: 1}))\n",
        "print(\"Recall: %f\" % evaluator.evaluate(previsoes_rfc_cv_teste, {evaluator.metricName: \"recallByLabel\", evaluator.metricLabel: 1}))\n",
        "print(\"F1: %f\" % evaluator.evaluate(previsoes_rfc_cv_teste, {evaluator.metricName: \"fMeasureByLabel\", evaluator.metricLabel: 1}))"
      ],
      "metadata": {
        "colab": {
          "base_uri": "https://localhost:8080/"
        },
        "id": "v5hBPVjJgciM",
        "outputId": "209ab05b-ad4e-4859-d3c2-7aaaac2d68bd"
      },
      "execution_count": 83,
      "outputs": [
        {
          "output_type": "stream",
          "name": "stdout",
          "text": [
            "Random Forest Classifier - Tuning\n",
            "========================================\n",
            "Dados de Teste\n",
            "========================================\n",
            "Matriz de Confusão\n",
            "----------------------------------------\n",
            "                     Previsto\n",
            "                Churn       Não-Churn\n",
            "     Churn        1333         230\n",
            "Real\n",
            "     Não-Churn    337         1242\n",
            "----------------------------------------\n",
            "Métricas\n",
            "----------------------------------------\n",
            "Acurácia: 0.819542\n",
            "Precisão: 0.798204\n",
            "Recall: 0.852847\n",
            "F1: 0.824621\n"
          ]
        }
      ]
    },
    {
      "cell_type": "markdown",
      "source": [
        "Treinando o modelo final"
      ],
      "metadata": {
        "id": "zjnOD-q-xxK9"
      }
    },
    {
      "cell_type": "code",
      "source": [
        "melhor_modelo_rfc_cv = modelo_rfc_cv.bestModel"
      ],
      "metadata": {
        "id": "0Tzfz9FSxwdQ"
      },
      "execution_count": 84,
      "outputs": []
    },
    {
      "cell_type": "markdown",
      "source": [
        "Descobrindo os hiperparâmetros do melhor modelo:"
      ],
      "metadata": {
        "id": "XnrcGFkSyZgy"
      }
    },
    {
      "cell_type": "code",
      "source": [
        "print(melhor_modelo_rfc_cv.getMaxDepth())\n",
        "print(melhor_modelo_rfc_cv.getMaxBins())\n",
        "print(melhor_modelo_rfc_cv.getNumTrees)"
      ],
      "metadata": {
        "colab": {
          "base_uri": "https://localhost:8080/"
        },
        "id": "_NnbPInFyZ7r",
        "outputId": "ff053b26-8ced-4995-b4e7-8002d40d51bb"
      },
      "execution_count": 85,
      "outputs": [
        {
          "output_type": "stream",
          "name": "stdout",
          "text": [
            "10\n",
            "45\n",
            "50\n"
          ]
        }
      ]
    },
    {
      "cell_type": "markdown",
      "source": [
        "Criando o novo modelo:"
      ],
      "metadata": {
        "id": "ucOKY1XkzpJ8"
      }
    },
    {
      "cell_type": "code",
      "source": [
        "rfc_tunning = RandomForestClassifier(maxDepth=10, maxBins=45, numTrees=50, seed=SEED)"
      ],
      "metadata": {
        "id": "O6vZg7-xzqBQ"
      },
      "execution_count": 86,
      "outputs": []
    },
    {
      "cell_type": "markdown",
      "source": [
        "Treinando o modelo final:"
      ],
      "metadata": {
        "id": "29F5CzxVz5d4"
      }
    },
    {
      "cell_type": "code",
      "source": [
        "modelo_rfc_tunning = rfc_tunning.fit(dataset_prep)"
      ],
      "metadata": {
        "id": "GsYWUVOZz5Dm"
      },
      "execution_count": 87,
      "outputs": []
    },
    {
      "cell_type": "markdown",
      "source": [
        "Criando um novo cliente, onde queremos descobrir se essa pessoa específica vai cancelar o serviço ou não:"
      ],
      "metadata": {
        "id": "XK7IRaTL0rFt"
      }
    },
    {
      "cell_type": "code",
      "source": [
        "novo_cliente = [{\n",
        "    'Mais65anos': 0,\n",
        "    'MesesDeContrato': 1,\n",
        "    'MesesCobrados': 45.30540797610398,\n",
        "    'Conjuge': 0,\n",
        "    'Dependentes': 0,\n",
        "    'TelefoneFixo': 0,\n",
        "    'MaisDeUmaLinhaTelefonica': 0,\n",
        "    'SegurancaOnline': 0,\n",
        "    'BackupOnline': 0,\n",
        "    'SeguroDispositivo': 0,\n",
        "    'SuporteTecnico': 0,\n",
        "    'TVaCabo': 1,\n",
        "    'StreamingFilmes': 1,\n",
        "    'ContaCorreio': 1,\n",
        "    'Internet_DSL': 1,\n",
        "    'Internet_FibraOptica': 0,\n",
        "    'Internet_Nao': 0,\n",
        "    'TipoContrato_Mensalmente': 1,\n",
        "    'TipoContrato_UmAno': 0,\n",
        "    'TipoContrato_DoisAnos': 0,\n",
        "    'MetodoPagamento_DebitoEmConta': 0,\n",
        "    'MetodoPagamento_CartaoCredito': 0,\n",
        "    'MetodoPagamento_BoletoEletronico': 1,\n",
        "    'MetodoPagamento_Boleto': 0\n",
        "}]"
      ],
      "metadata": {
        "id": "kJ29bF1P0rh4"
      },
      "execution_count": 88,
      "outputs": []
    },
    {
      "cell_type": "markdown",
      "source": [
        "Transformando os dados de uma maneira que nosso modelo consiga entender através da criação de um DataFrame:"
      ],
      "metadata": {
        "id": "lZroTkxa1bxU"
      }
    },
    {
      "cell_type": "code",
      "source": [
        "novo_cliente = spark.createDataFrame(novo_cliente)\n",
        "novo_cliente.show()"
      ],
      "metadata": {
        "colab": {
          "base_uri": "https://localhost:8080/"
        },
        "id": "o5FAiM3y1jr0",
        "outputId": "7f6a5290-7b12-4607-e38a-4da3e2fca5c6"
      },
      "execution_count": 89,
      "outputs": [
        {
          "output_type": "stream",
          "name": "stdout",
          "text": [
            "+------------+-------+------------+-----------+------------+--------------------+------------+----------+------------------------+-----------------+---------------+----------------------+--------------------------------+-----------------------------+-----------------------------+---------------+-----------------+---------------+--------------+-------+------------+---------------------+------------------------+------------------+\n",
            "|BackupOnline|Conjuge|ContaCorreio|Dependentes|Internet_DSL|Internet_FibraOptica|Internet_Nao|Mais65anos|MaisDeUmaLinhaTelefonica|    MesesCobrados|MesesDeContrato|MetodoPagamento_Boleto|MetodoPagamento_BoletoEletronico|MetodoPagamento_CartaoCredito|MetodoPagamento_DebitoEmConta|SegurancaOnline|SeguroDispositivo|StreamingFilmes|SuporteTecnico|TVaCabo|TelefoneFixo|TipoContrato_DoisAnos|TipoContrato_Mensalmente|TipoContrato_UmAno|\n",
            "+------------+-------+------------+-----------+------------+--------------------+------------+----------+------------------------+-----------------+---------------+----------------------+--------------------------------+-----------------------------+-----------------------------+---------------+-----------------+---------------+--------------+-------+------------+---------------------+------------------------+------------------+\n",
            "|           0|      0|           1|          0|           1|                   0|           0|         0|                       0|45.30540797610398|              1|                     0|                               1|                            0|                            0|              0|                0|              1|             0|      1|           0|                    0|                       1|                 0|\n",
            "+------------+-------+------------+-----------+------------+--------------------+------------+----------+------------------------+-----------------+---------------+----------------------+--------------------------------+-----------------------------+-----------------------------+---------------+-----------------+---------------+--------------+-------+------------+---------------------+------------------------+------------------+\n",
            "\n"
          ]
        }
      ]
    },
    {
      "cell_type": "markdown",
      "source": [
        "Criar o VectorAssembler:"
      ],
      "metadata": {
        "id": "h0-CCR7K1pZb"
      }
    },
    {
      "cell_type": "code",
      "source": [
        "assembler = VectorAssembler(inputCols = X, outputCol = 'features')"
      ],
      "metadata": {
        "id": "sOF1OyaN1qJT"
      },
      "execution_count": 90,
      "outputs": []
    },
    {
      "cell_type": "markdown",
      "source": [
        "Transformando os dados:"
      ],
      "metadata": {
        "id": "MnRUQMro2udm"
      }
    },
    {
      "cell_type": "code",
      "source": [
        "novo_cliente_prep = assembler.transform(novo_cliente).select('features')"
      ],
      "metadata": {
        "id": "8J5nJolY2u1H"
      },
      "execution_count": 91,
      "outputs": []
    },
    {
      "cell_type": "markdown",
      "source": [
        "Visualizando os dados vetorizados:"
      ],
      "metadata": {
        "id": "32qzFlqt20CP"
      }
    },
    {
      "cell_type": "code",
      "source": [
        "novo_cliente_prep.show(truncate=False)"
      ],
      "metadata": {
        "colab": {
          "base_uri": "https://localhost:8080/"
        },
        "id": "jQIiXAK12x6Z",
        "outputId": "703ffdf0-79fb-4f2c-cf64-9fba17a74ad5"
      },
      "execution_count": 92,
      "outputs": [
        {
          "output_type": "stream",
          "name": "stdout",
          "text": [
            "+----------------------------------------------------------------------------+\n",
            "|features                                                                    |\n",
            "+----------------------------------------------------------------------------+\n",
            "|(24,[1,2,11,12,13,14,17,22],[1.0,45.30540797610398,1.0,1.0,1.0,1.0,1.0,1.0])|\n",
            "+----------------------------------------------------------------------------+\n",
            "\n"
          ]
        }
      ]
    },
    {
      "cell_type": "markdown",
      "source": [
        "Fazendo a previsão:"
      ],
      "metadata": {
        "id": "xQ6eLG2H29GJ"
      }
    },
    {
      "cell_type": "code",
      "source": [
        "modelo_rfc_tunning.transform(novo_cliente_prep).show()"
      ],
      "metadata": {
        "colab": {
          "base_uri": "https://localhost:8080/"
        },
        "id": "gJNHBAR425Qw",
        "outputId": "0b5bb997-d119-492c-aec2-b67901690c3d"
      },
      "execution_count": 93,
      "outputs": [
        {
          "output_type": "stream",
          "name": "stdout",
          "text": [
            "+--------------------+--------------------+--------------------+----------+\n",
            "|            features|       rawPrediction|         probability|prediction|\n",
            "+--------------------+--------------------+--------------------+----------+\n",
            "|(24,[1,2,11,12,13...|[5.16473071594386...|[0.10329461431887...|       1.0|\n",
            "+--------------------+--------------------+--------------------+----------+\n",
            "\n"
          ]
        }
      ]
    },
    {
      "cell_type": "markdown",
      "source": [
        "A coluna \"prediction\" contém a informação que estávamos buscando. O valor 1.0 significa que nosso modelo prevê que esse cliente vai cancelar o serviço. Ou seja, esse seria um cliente que falaríamos para o time de marketing priorizar e oferecer promoções para tentar retê-lo.\n",
        "\n",
        "Também sabemos que nosso modelo está funcionando, pois faz previsões para clientes que ainda não conhecia com base no histórico que se ajustou.\n",
        "\n",
        "Desde o início, buscamos encontrar esse modelo ideal para ajudar o time de marketing."
      ],
      "metadata": {
        "id": "8LsgeRWO3L5k"
      }
    }
  ],
  "metadata": {
    "colab": {
      "provenance": [],
      "include_colab_link": true
    },
    "kernelspec": {
      "display_name": "Python 3",
      "language": "python",
      "name": "python3"
    },
    "language_info": {
      "codemirror_mode": {
        "name": "ipython",
        "version": 3
      },
      "file_extension": ".py",
      "mimetype": "text/x-python",
      "name": "python",
      "nbconvert_exporter": "python",
      "pygments_lexer": "ipython3",
      "version": "3.8.8"
    }
  },
  "nbformat": 4,
  "nbformat_minor": 0
}