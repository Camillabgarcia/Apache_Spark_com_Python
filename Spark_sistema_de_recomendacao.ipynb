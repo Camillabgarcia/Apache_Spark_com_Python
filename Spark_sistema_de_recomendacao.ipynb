{
  "nbformat": 4,
  "nbformat_minor": 0,
  "metadata": {
    "colab": {
      "provenance": [],
      "mount_file_id": "1kRHaez4VqCJeyWfZ3a55shkqNrzEinjk",
      "authorship_tag": "ABX9TyPN7e3lgD3wdaK0Sxy3h6tF",
      "include_colab_link": true
    },
    "kernelspec": {
      "name": "python3",
      "display_name": "Python 3"
    },
    "language_info": {
      "name": "python"
    }
  },
  "cells": [
    {
      "cell_type": "markdown",
      "metadata": {
        "id": "view-in-github",
        "colab_type": "text"
      },
      "source": [
        "<a href=\"https://colab.research.google.com/github/Camillabgarcia/Apache_Spark_com_Python/blob/main/Spark_sistema_de_recomendacao.ipynb\" target=\"_parent\"><img src=\"https://colab.research.google.com/assets/colab-badge.svg\" alt=\"Open In Colab\"/></a>"
      ]
    },
    {
      "cell_type": "markdown",
      "source": [
        "01. Problema e Ferramenta\n",
        "\n",
        "1.1 Configurando o PySpark"
      ],
      "metadata": {
        "id": "M0WkxxaLw_fp"
      }
    },
    {
      "cell_type": "code",
      "execution_count": 1,
      "metadata": {
        "colab": {
          "base_uri": "https://localhost:8080/"
        },
        "id": "7-g7y7ZtsuIN",
        "outputId": "90c3a763-4092-4d04-c791-d3ebfa90ee5c"
      },
      "outputs": [
        {
          "output_type": "stream",
          "name": "stdout",
          "text": [
            "Collecting pyspark==3.3.0\n",
            "  Downloading pyspark-3.3.0.tar.gz (281.3 MB)\n",
            "\u001b[2K     \u001b[90m━━━━━━━━━━━━━━━━━━━━━━━━━━━━━━━━━━━━━━━━\u001b[0m \u001b[32m281.3/281.3 MB\u001b[0m \u001b[31m3.8 MB/s\u001b[0m eta \u001b[36m0:00:00\u001b[0m\n",
            "\u001b[?25h  Preparing metadata (setup.py) ... \u001b[?25l\u001b[?25hdone\n",
            "Collecting py4j==0.10.9.5 (from pyspark==3.3.0)\n",
            "  Downloading py4j-0.10.9.5-py2.py3-none-any.whl.metadata (1.5 kB)\n",
            "Downloading py4j-0.10.9.5-py2.py3-none-any.whl (199 kB)\n",
            "\u001b[2K   \u001b[90m━━━━━━━━━━━━━━━━━━━━━━━━━━━━━━━━━━━━━━━━\u001b[0m \u001b[32m199.7/199.7 kB\u001b[0m \u001b[31m16.1 MB/s\u001b[0m eta \u001b[36m0:00:00\u001b[0m\n",
            "\u001b[?25hBuilding wheels for collected packages: pyspark\n",
            "  Building wheel for pyspark (setup.py) ... \u001b[?25l\u001b[?25hdone\n",
            "  Created wheel for pyspark: filename=pyspark-3.3.0-py2.py3-none-any.whl size=281764003 sha256=4e3289d4af5d5b6ef1b15bd656a0f8b1dbd5aa65e2ab11c0cbe4e82308d09c94\n",
            "  Stored in directory: /root/.cache/pip/wheels/81/9c/6c/d5200fcf351ffa39cbe09911e99703283624cd037df58070d9\n",
            "Successfully built pyspark\n",
            "Installing collected packages: py4j, pyspark\n",
            "  Attempting uninstall: py4j\n",
            "    Found existing installation: py4j 0.10.9.7\n",
            "    Uninstalling py4j-0.10.9.7:\n",
            "      Successfully uninstalled py4j-0.10.9.7\n",
            "Successfully installed py4j-0.10.9.5 pyspark-3.3.0\n"
          ]
        }
      ],
      "source": [
        "!pip install pyspark==3.3.0"
      ]
    },
    {
      "cell_type": "markdown",
      "source": [
        "Importando a Classe SparkSession que é por onde vamos interagir com o Spark:"
      ],
      "metadata": {
        "id": "aNEnwFmoxgmJ"
      }
    },
    {
      "cell_type": "code",
      "source": [
        "from pyspark.sql import SparkSession"
      ],
      "metadata": {
        "id": "nAb_B4wMxfdM"
      },
      "execution_count": 2,
      "outputs": []
    },
    {
      "cell_type": "markdown",
      "source": [
        "Criando a sessão Spark, aqui podemos verificar a versão que estamos utilizando e o nome da nossa App Spark:"
      ],
      "metadata": {
        "id": "IUELcg27x3yj"
      }
    },
    {
      "cell_type": "code",
      "source": [
        "sessao_spark = SparkSession.builder\\\n",
        "                           .appName(\"Recomendador PySpark\")\\\n",
        "                           .getOrCreate()\n",
        "sessao_spark"
      ],
      "metadata": {
        "colab": {
          "base_uri": "https://localhost:8080/",
          "height": 219
        },
        "id": "RZ47uPkQx4E6",
        "outputId": "27ca0691-df2a-40fb-8526-9d3609a2cc4d"
      },
      "execution_count": 3,
      "outputs": [
        {
          "output_type": "execute_result",
          "data": {
            "text/plain": [
              "<pyspark.sql.session.SparkSession at 0x7c4002e04a60>"
            ],
            "text/html": [
              "\n",
              "            <div>\n",
              "                <p><b>SparkSession - in-memory</b></p>\n",
              "                \n",
              "        <div>\n",
              "            <p><b>SparkContext</b></p>\n",
              "\n",
              "            <p><a href=\"http://e605bbe34e68:4040\">Spark UI</a></p>\n",
              "\n",
              "            <dl>\n",
              "              <dt>Version</dt>\n",
              "                <dd><code>v3.3.0</code></dd>\n",
              "              <dt>Master</dt>\n",
              "                <dd><code>local[*]</code></dd>\n",
              "              <dt>AppName</dt>\n",
              "                <dd><code>Recomendador PySpark</code></dd>\n",
              "            </dl>\n",
              "        </div>\n",
              "        \n",
              "            </div>\n",
              "        "
            ]
          },
          "metadata": {},
          "execution_count": 3
        }
      ]
    },
    {
      "cell_type": "markdown",
      "source": [
        "02. Leitura e Análise de Dados\n",
        "\n",
        "2.1 Leitura de dados pela URL do GitHub diretamente no Spark:"
      ],
      "metadata": {
        "id": "NpRE35ADy9EF"
      }
    },
    {
      "cell_type": "code",
      "source": [
        "from pyspark import SparkFiles"
      ],
      "metadata": {
        "id": "X21TJ1eaywOL"
      },
      "execution_count": 4,
      "outputs": []
    },
    {
      "cell_type": "code",
      "source": [
        "url_dados = 'https://github.com/IgorNascAlves/dados/blob/main/dados_musicas.csv?raw=true'\n",
        "sessao_spark.sparkContext.addFile(url_dados)\n",
        "path_dados_file = 'file://' + SparkFiles.get('dados_musicas.csv')"
      ],
      "metadata": {
        "id": "xzwK1nh5z-tr"
      },
      "execution_count": 5,
      "outputs": []
    },
    {
      "cell_type": "code",
      "source": [
        "dados = sessao_spark.read.csv(path_dados_file, header=True, sep=';', inferSchema=True)"
      ],
      "metadata": {
        "id": "XO8R66ad1GWM"
      },
      "execution_count": 6,
      "outputs": []
    },
    {
      "cell_type": "markdown",
      "source": [
        "Visualizando o dataframe:"
      ],
      "metadata": {
        "id": "YB5O7S0o1p1f"
      }
    },
    {
      "cell_type": "code",
      "source": [
        "dados.show()"
      ],
      "metadata": {
        "colab": {
          "base_uri": "https://localhost:8080/"
        },
        "id": "O0v_zk-h1pZn",
        "outputId": "90d8b0d7-7538-496c-ba09-6fb0f824bf9c"
      },
      "execution_count": 7,
      "outputs": [
        {
          "output_type": "stream",
          "name": "stdout",
          "text": [
            "+------------------+----+------------+--------------+------------------+-----------+------------------+--------+--------------------+--------------------+---+--------+-------------------+----+--------------------+----------+-----------+------------------+--------------------+\n",
            "|           valence|year|acousticness|       artists|      danceability|duration_ms|            energy|explicit|                  id|    instrumentalness|key|liveness|           loudness|mode|                name|popularity|speechiness|             tempo|        artists_song|\n",
            "+------------------+----+------------+--------------+------------------+-----------+------------------+--------+--------------------+--------------------+---+--------+-------------------+----+--------------------+----------+-----------+------------------+--------------------+\n",
            "|             0.285|2000|     0.00239|      Coldplay|             0.429|     266773|0.6609999999999999|       0|3AJwUDP919kvQ9Qco...|             1.21E-4| 11|   0.234|             -7.227|   1|              Yellow|        84|     0.0281|           173.372|   Coldplay - Yellow|\n",
            "|             0.613|2000|       0.143|       OutKast|             0.843|     270507|0.8059999999999999|       1|0I3q5fE6wg7LIfHGn...|                 0.0|  4|  0.0771|-5.9460000000000015|   0|         Ms. Jackson|        80|      0.269|            94.948|OutKast - Ms. Jac...|\n",
            "|               0.4|2000|     0.00958|   Linkin Park|             0.556|     216880|0.8640000000000001|       0|60a0Rd6pjrkxjPbaK...|                 0.0|  3|   0.209|              -5.87|   0|          In the End|        84|     0.0584|           105.143|Linkin Park - In ...|\n",
            "|0.5429999999999999|2000|     0.00664|  3 Doors Down|             0.545|     233933|             0.865|       0|6ZOBP3NvffbU4SZcr...|              1.1E-5| 11|   0.168|-5.7079999999999975|   0|          Kryptonite|        78|     0.0286|            99.009|3 Doors Down - Kr...|\n",
            "|              0.76|2000|      0.0302|        Eminem|             0.949|     284200|0.6609999999999999|       1|3yfqSUWxFvZELEM4P...|                 0.0|  5|  0.0454|             -4.244|   0| The Real Slim Shady|        80|     0.0572|           104.504|Eminem - The Real...|\n",
            "|             0.941|2000|     9.96E-4|     Disturbed|             0.695|     279213|0.8759999999999999|       1|40rvBMQizxkIqnjPd...|             6.89E-6|  3|   0.106|             -4.262|   0|Down with the Sic...|        76|     0.0553|            89.954|Disturbed - Down ...|\n",
            "|             0.722|2000|      0.0616|         Nelly|              0.85|     291782|               0.7|       1|3Gf5nttwcX9aaSQXR...|              1.8E-6|  7|   0.244|              -6.49|   1|         Ride Wit Me|        74|     0.0478|           101.875| Nelly - Ride Wit Me|\n",
            "|             0.507|2000|      0.0371|        Eminem|              0.78|     404107|             0.768|       1|3UmaczJpikHgJFyBT...|             2.34E-6|  6|   0.518|             -4.325|   0|                Stan|        78|      0.238|            80.063|       Eminem - Stan|\n",
            "|             0.861|2000|       0.031|        *NSYNC|              0.61|     200400|             0.926|       0|62bOmKYxYg7dhrC6g...|              0.0012|  8|  0.0821|             -4.843|   0|         Bye Bye Bye|        71|     0.0479|           172.638|*NSYNC - Bye Bye Bye|\n",
            "|             0.894|2000|         0.3|Britney Spears|0.7509999999999999|     211160|0.8340000000000001|       0|6naxalmIoLFWR0siv...|             1.77E-5|  1|   0.355|             -5.444|   0|Oops!...I Did It ...|        78|     0.0437|            95.053|Britney Spears - ...|\n",
            "|             0.165|2000|       0.748|      Coldplay|             0.371|     227093|             0.268|       0|7D0RhFcb3CrfPuTJ0...|              0.0517|  1|   0.104|-10.505999999999998|   1|              Sparks|        73|     0.0281|           102.617|   Coldplay - Sparks|\n",
            "|0.5379999999999999|2000|      0.0014|   Linkin Park|0.4920000000000001|     157333|             0.969|       0|3K4HG9evC7dg3N0R9...|             1.32E-6|  9|  0.0787|             -4.419|   1|     One Step Closer|        76|     0.0491|            95.136|Linkin Park - One...|\n",
            "|             0.654|2000|      0.0561|        Shaggy|             0.853|     227600|             0.606|       0|3WkibOpDF7cQ5xntM...|                 0.0|  0|   0.313|             -4.596|   1|        It Wasn't Me|        76|     0.0713|            94.759|Shaggy - It Wasn'...|\n",
            "|             0.565|2000|     0.00689|         Nelly|             0.865|     287000|             0.664|       1|3wMUvT6eIw2L5cZFG...|                 0.0|  2|   0.142|             -6.822|   1|Country Grammar (...|        70|      0.108|162.83100000000005|Nelly - Country G...|\n",
            "|             0.532|2000|      0.0112|   The Beatles|             0.386|     425653|             0.607|       0|0aym2LBJBk9DAYuHH...|1.380000000000000...| 10|   0.088|               -7.7|   1|Hey Jude - Remast...|        76|     0.0261|           147.207|The Beatles - Hey...|\n",
            "|             0.866|2000|       0.386|   The Beatles|              0.49|     145747|             0.715|       0|4pbG9SUmWIvsROVLF...|                 0.0|  7|   0.311|             -5.549|   1|I Want To Hold Yo...|        73|     0.0476|           130.726|The Beatles - I W...|\n",
            "|             0.435|2000|     0.00118|     Lifehouse|             0.541|     216067|0.8640000000000001|       0|0wqOReZDnrefefEsr...|                 0.0|  1|  0.0896|             -4.915|   1| Hanging By A Moment|        65|     0.0357|           124.557|Lifehouse - Hangi...|\n",
            "|             0.299|2000|      0.0466|   Linkin Park|              0.58|     208960|0.7020000000000001|       0|57BrRMwf9LrcmuOsy...|              3.2E-6|  4|   0.536|             -5.565|   1|            Crawling|        73|     0.0337|           105.076|Linkin Park - Cra...|\n",
            "|             0.915|2000|      0.0281|       OutKast|             0.725|     240027|              0.64|       1|6glsMWIMIxQ4BedzL...|                 0.0|  5|   0.099|             -7.905|   0|  So Fresh, So Clean|        68|      0.332|           166.028|OutKast - So Fres...|\n",
            "|             0.885|2000|       0.627|     Sam Cooke|             0.691|     125440|             0.507|       0|2g2GkH3vZHk4lWzBj...|                 0.0| 11|   0.457|             -10.23|   1|(What A) Wonderfu...|        72|     0.0343|           128.518|Sam Cooke - (What...|\n",
            "+------------------+----+------------+--------------+------------------+-----------+------------------+--------+--------------------+--------------------+---+--------+-------------------+----+--------------------+----------+-----------+------------------+--------------------+\n",
            "only showing top 20 rows\n",
            "\n"
          ]
        }
      ]
    },
    {
      "cell_type": "markdown",
      "source": [
        "Verificando os tipos das colunas:"
      ],
      "metadata": {
        "id": "nF5Jw2Lx2l-H"
      }
    },
    {
      "cell_type": "code",
      "source": [
        "dados.printSchema()"
      ],
      "metadata": {
        "colab": {
          "base_uri": "https://localhost:8080/"
        },
        "id": "boVtw8041wvu",
        "outputId": "c90c3a72-bda3-45a2-ab4b-419536dd53db"
      },
      "execution_count": 8,
      "outputs": [
        {
          "output_type": "stream",
          "name": "stdout",
          "text": [
            "root\n",
            " |-- valence: double (nullable = true)\n",
            " |-- year: integer (nullable = true)\n",
            " |-- acousticness: double (nullable = true)\n",
            " |-- artists: string (nullable = true)\n",
            " |-- danceability: double (nullable = true)\n",
            " |-- duration_ms: integer (nullable = true)\n",
            " |-- energy: double (nullable = true)\n",
            " |-- explicit: integer (nullable = true)\n",
            " |-- id: string (nullable = true)\n",
            " |-- instrumentalness: double (nullable = true)\n",
            " |-- key: integer (nullable = true)\n",
            " |-- liveness: double (nullable = true)\n",
            " |-- loudness: double (nullable = true)\n",
            " |-- mode: integer (nullable = true)\n",
            " |-- name: string (nullable = true)\n",
            " |-- popularity: integer (nullable = true)\n",
            " |-- speechiness: double (nullable = true)\n",
            " |-- tempo: double (nullable = true)\n",
            " |-- artists_song: string (nullable = true)\n",
            "\n"
          ]
        }
      ]
    },
    {
      "cell_type": "markdown",
      "source": [
        "Verificando a quantidade de linhas:"
      ],
      "metadata": {
        "id": "JiQxW4aO_Jyx"
      }
    },
    {
      "cell_type": "code",
      "source": [
        "dados.count()"
      ],
      "metadata": {
        "colab": {
          "base_uri": "https://localhost:8080/"
        },
        "id": "KsbDoxF-2uBX",
        "outputId": "89f6abfe-1c3d-46fc-c390-01301330b967"
      },
      "execution_count": 9,
      "outputs": [
        {
          "output_type": "execute_result",
          "data": {
            "text/plain": [
              "20311"
            ]
          },
          "metadata": {},
          "execution_count": 9
        }
      ]
    },
    {
      "cell_type": "markdown",
      "source": [
        "Verificando a quantidade de colunas:"
      ],
      "metadata": {
        "id": "YOhcjiF2_YEG"
      }
    },
    {
      "cell_type": "code",
      "source": [
        "len(dados.columns)"
      ],
      "metadata": {
        "colab": {
          "base_uri": "https://localhost:8080/"
        },
        "id": "QlNPia6z_M6P",
        "outputId": "52dd446e-3b7d-4d06-e298-11de34b7924e"
      },
      "execution_count": 10,
      "outputs": [
        {
          "output_type": "execute_result",
          "data": {
            "text/plain": [
              "19"
            ]
          },
          "metadata": {},
          "execution_count": 10
        }
      ]
    },
    {
      "cell_type": "markdown",
      "source": [
        "Verificando se existem dados nulos:"
      ],
      "metadata": {
        "id": "LTsFgBGF_v2o"
      }
    },
    {
      "cell_type": "code",
      "source": [
        "import pyspark.sql.functions as f"
      ],
      "metadata": {
        "id": "8K5arxSi_iIg"
      },
      "execution_count": 11,
      "outputs": []
    },
    {
      "cell_type": "code",
      "source": [
        "dados.select([f.count(f.when(f.isnull(c), 1)).alias(c) for c in dados.columns]).show()"
      ],
      "metadata": {
        "colab": {
          "base_uri": "https://localhost:8080/"
        },
        "id": "sWSBpFy2_iFy",
        "outputId": "c0ccb831-9a87-420c-851d-e6e3ba750efd"
      },
      "execution_count": 12,
      "outputs": [
        {
          "output_type": "stream",
          "name": "stdout",
          "text": [
            "+-------+----+------------+-------+------------+-----------+------+--------+---+----------------+---+--------+--------+----+----+----------+-----------+-----+------------+\n",
            "|valence|year|acousticness|artists|danceability|duration_ms|energy|explicit| id|instrumentalness|key|liveness|loudness|mode|name|popularity|speechiness|tempo|artists_song|\n",
            "+-------+----+------------+-------+------------+-----------+------+--------+---+----------------+---+--------+--------+----+----+----------+-----------+-----+------------+\n",
            "|      0|   0|           0|      0|           0|          0|     0|       0|  0|               0|  0|       0|       0|   0|   0|         0|          0|    0|           0|\n",
            "+-------+----+------------+-------+------------+-----------+------+--------+---+----------------+---+--------+--------+----+----+----------+-----------+-----+------------+\n",
            "\n"
          ]
        }
      ]
    },
    {
      "cell_type": "markdown",
      "source": [
        "Obs: Foi identificado a nossa base não possui nenhum valor nulo."
      ],
      "metadata": {
        "id": "fYZJWpAwBg9Q"
      }
    },
    {
      "cell_type": "markdown",
      "source": [
        "Varificando o ano das músicas de forma ordenada:"
      ],
      "metadata": {
        "id": "_wApcNTGBlDV"
      }
    },
    {
      "cell_type": "code",
      "source": [
        "print(sorted(dados.select('year').distinct().collect()))"
      ],
      "metadata": {
        "colab": {
          "base_uri": "https://localhost:8080/"
        },
        "id": "w4isJMyA_iDS",
        "outputId": "1488f3e3-5a61-430d-bc45-5670ae215362"
      },
      "execution_count": 13,
      "outputs": [
        {
          "output_type": "stream",
          "name": "stdout",
          "text": [
            "[Row(year=2000), Row(year=2001), Row(year=2002), Row(year=2003), Row(year=2004), Row(year=2005), Row(year=2006), Row(year=2007), Row(year=2008), Row(year=2009), Row(year=2010), Row(year=2011), Row(year=2012), Row(year=2013), Row(year=2014), Row(year=2015), Row(year=2016), Row(year=2017), Row(year=2018), Row(year=2019), Row(year=2020)]\n"
          ]
        }
      ]
    },
    {
      "cell_type": "markdown",
      "source": [
        "Obs: Nossa base de dados está restrita, portanto, a um intervalo de músicas dos anos 2000 até 2020. A análise os dados a partir dos anos me levou a pensar na seguinte questão: qual o impacto do tempo nos atributos? Por exemplo, temos a coluna \"energético\", será que as músicas ficarão mais ou menos \"energéticas\" conforme a passagem do tempo? O ano não interfere nessas características das músicas?\n",
        "\n",
        "Essas dúvidas são importantes para julgarmos quais features desejamos utilizar no nosso recomendador. Nosso próximo passos será explorar essas questões através de uma nova base de dados, com foco no ano."
      ],
      "metadata": {
        "id": "QXmAZOYWCsOq"
      }
    },
    {
      "cell_type": "markdown",
      "source": [
        "2.2 Análise de dados por ano:"
      ],
      "metadata": {
        "id": "J1P_568VCunt"
      }
    },
    {
      "cell_type": "code",
      "source": [
        "url_anos_dados = 'https://github.com/IgorNascAlves/dados/blob/main/dados_musicas_ano.csv?raw=true'\n",
        "\n",
        "sessao_spark.sparkContext.addFile(url_anos_dados)\n",
        "path_dados_file = 'file://' + SparkFiles.get('dados_musicas_ano.csv')\n",
        "\n",
        "dados_anos = sessao_spark.read.csv(path_dados_file, header=True, inferSchema=True)"
      ],
      "metadata": {
        "id": "WTp2Vwa3_iBF"
      },
      "execution_count": 14,
      "outputs": []
    },
    {
      "cell_type": "markdown",
      "source": [
        "Visualizando o dataframe:"
      ],
      "metadata": {
        "id": "4xAvYaJyHejs"
      }
    },
    {
      "cell_type": "code",
      "source": [
        "dados_anos.show()"
      ],
      "metadata": {
        "colab": {
          "base_uri": "https://localhost:8080/"
        },
        "id": "HzRV1_SO_hy9",
        "outputId": "37f2e6f0-b0a4-43bc-b945-37472148bbce"
      },
      "execution_count": 15,
      "outputs": [
        {
          "output_type": "stream",
          "name": "stdout",
          "text": [
            "+----+----+------------------+-------------------+------------------+-------------------+-------------------+-------------------+-------------------+-------------------+------------------+-------------------+-------------------+---+\n",
            "|mode|year|      acousticness|       danceability|       duration_ms|             energy|   instrumentalness|           liveness|           loudness|        speechiness|             tempo|            valence|         popularity|key|\n",
            "+----+----+------------------+-------------------+------------------+-------------------+-------------------+-------------------+-------------------+-------------------+------------------+-------------------+-------------------+---+\n",
            "|   1|1921|0.8868960000000005| 0.4185973333333336|260537.16666666663|0.23181513333333334|0.34487805886666656|            0.20571| -17.04866666666665|           0.073662|101.53149333333329|0.37932666666666665| 0.6533333333333333|  2|\n",
            "|   1|1922|0.9385915492957748| 0.4820422535211267|165469.74647887325|0.23781535211267596| 0.4341948697183099| 0.2407197183098592|-19.275281690140844| 0.1166549295774648|100.88452112676056| 0.5355492957746479|0.14084507042253522| 10|\n",
            "|   1|1923|0.9572467913513516| 0.5773405405405401|177942.36216216214| 0.2624064864864865|0.37173272502702703| 0.2274621621621621|-14.129210810810811| 0.0939486486486487| 114.0107297297297| 0.6254924324324328|  5.389189189189189|  0|\n",
            "|   1|1924| 0.940199860169493| 0.5498940677966102|191046.70762711862| 0.3443466101694912| 0.5817009136440677| 0.2352190677966101|-14.231343220338989|0.09208940677966099|120.68957203389822| 0.6637254237288139| 0.6610169491525424| 10|\n",
            "|   1|1925|0.9626070503597138| 0.5738633093525181|184986.92446043165| 0.2785935251798561| 0.4182973612230215| 0.2376679856115108| -14.14641366906474|0.11191798561151084| 115.5219208633093| 0.6219287769784171| 2.6043165467625897|  5|\n",
            "|   1|1926| 0.660817216981134| 0.5998802612481859|156881.65747460088| 0.2114670907111756| 0.3330931111175616| 0.2323695936139332|-18.492538461538466| 0.4837036284470243|109.64803265602328| 0.4369104571843251| 1.4223512336719883|  9|\n",
            "|   1|1927|0.9361794552845558| 0.6482682926829262|184993.59837398372| 0.2643213008130081| 0.3913284986504065|0.16845024390243893|-14.422373983739831|0.11360959349593502|114.84652357723554| 0.6597004878048782| 0.8016260162601626|  7|\n",
            "|   1|1928|0.9386165035685952| 0.5342878667724027|214827.90642347344|0.20794779540047573| 0.4948354801348136|0.17528937351308488|-17.191982553528927|0.15991149881046796|106.77226169706593| 0.4957126883425853| 1.5257731958762886|  1|\n",
            "|   1|1929|0.6014265861344558| 0.6476698529411761|168999.41281512607| 0.2418007352941172|0.21520403106092464| 0.2360002100840333|-16.530376050420152| 0.4900007352941176|110.94835714285715| 0.6365298319327733| 0.3403361344537815|  7|\n",
            "|   1|1930| 0.936714937370057| 0.5181758835758836|195150.28534303536| 0.3335239189189189|0.35220592816528057|0.22131086278586296|-12.869221413721428|0.11990966735966745|109.87119438669428| 0.6162376299376306| 0.9267151767151768|  2|\n",
            "|   1|1931|0.8330399585921336| 0.5952217391304357|171553.42546583852| 0.2344967732919257|0.22141964161490724|0.22742795031055896| -16.51609420289853| 0.4536189440993791|109.02528157349907| 0.5131170807453418|0.17080745341614906|  0|\n",
            "|   1|1932|0.9357705179282878| 0.5577976095617526|195749.37250996014| 0.3020677290836656|0.22635657916334675|0.23249621513944224|-13.364055776892426| 0.1390073705179282|115.11980079681273| 0.5881599601593626|  2.151394422310757|  7|\n",
            "|   1|1933| 0.899897909117222|   0.57029030390738|196219.25759768448| 0.2798994211287988| 0.1839489396816208| 0.2090719247467437| -13.06900868306802|0.09112315484804634|           112.522| 0.5994099855282197|  6.898697539797395|  7|\n",
            "|   1|1934|0.8911487501730107|  0.528705882352941| 189356.1262975779| 0.2621313148788928|  0.276382266643599|0.21345259515570927|-14.756875432525954|0.10245692041522483|115.39084602076124| 0.5588046712802772| 1.2577854671280275|  0|\n",
            "|   1|1935|0.7783855599472987| 0.5558691699604746|220124.24703557312| 0.2463669762845848| 0.2258732980895915| 0.2292998682476943| -15.41474967061924| 0.3539123847167326|110.66795652173931| 0.5455777997364957| 1.5013175230566536|  7|\n",
            "|   1|1936|0.7723120800000008| 0.5580055454545453| 220809.1863636364| 0.3083886092727274| 0.2571099957181816| 0.2214382727272726|-14.612999090909069|0.27902936363636377|109.88875454545445| 0.5640635454545455|  5.080909090909091| 10|\n",
            "|   1|1937|0.8654357853881286| 0.5421572298325723| 223216.5585996956|0.31104829528158273| 0.3270876216438359| 0.2259677321156773| -13.11514307458143|0.08567884322678843| 115.2632222222222| 0.5857894977168944|  3.328767123287671|  7|\n",
            "|   1|1938|0.9192803908646014|0.47997797716150103|249177.09951060358| 0.2809812398042416| 0.3784246349265906|  0.237111092985318|-14.290582381729198|  0.095957259380098| 111.6253278955954| 0.5149111092985317| 2.0962479608482867|  0|\n",
            "|   1|1939|0.9087381000000004|          0.5126828|        221602.065| 0.2826715000000002| 0.2776824694100001| 0.2391015999999999|-13.900570000000005| 0.1284626999999999|        113.174592| 0.5599248999999992|               4.36|  0|\n",
            "|   1|1940|0.8476440499999951|         0.52189235|       182227.9445| 0.3108928949999999|0.31684869986499986|0.26433510000000043|-13.684048000000017| 0.2429576500000001|108.44933449999992| 0.6167094700000009|               0.93|  7|\n",
            "+----+----+------------------+-------------------+------------------+-------------------+-------------------+-------------------+-------------------+-------------------+------------------+-------------------+-------------------+---+\n",
            "only showing top 20 rows\n",
            "\n"
          ]
        }
      ]
    },
    {
      "cell_type": "markdown",
      "source": [
        "Parece que essa base de dados de anos cobre uma quantidade maior de valores de anos que a base de músicas. Para essa comparação, precisaremos de um filtro que reduza essa base para as músicas apenas dos anos 2000, que são do nosso interesse:"
      ],
      "metadata": {
        "id": "sgOvJPnEH-F8"
      }
    },
    {
      "cell_type": "code",
      "source": [
        "dados_anos = dados_anos.filter('year >= 2000')\n",
        "dados_anos.show()"
      ],
      "metadata": {
        "colab": {
          "base_uri": "https://localhost:8080/"
        },
        "id": "XO00E5chHsk0",
        "outputId": "60a3a454-0179-4112-ff21-027ef628aac3"
      },
      "execution_count": 16,
      "outputs": [
        {
          "output_type": "stream",
          "name": "stdout",
          "text": [
            "+----+----+-------------------+------------------+------------------+------------------+-------------------+-------------------+-------------------+-------------------+------------------+------------------+------------------+---+\n",
            "|mode|year|       acousticness|      danceability|       duration_ms|            energy|   instrumentalness|           liveness|           loudness|        speechiness|             tempo|           valence|        popularity|key|\n",
            "+----+----+-------------------+------------------+------------------+------------------+-------------------+-------------------+-------------------+-------------------+------------------+------------------+------------------+---+\n",
            "|   1|2000|0.28932270051635994| 0.590918047034764| 242724.6426380368|0.6254128323108387|0.10116776879345596| 0.1976860429447853| -8.247765848670758|0.08920541922290394| 118.9993231083843|0.5594754601226991|  46.6840490797546|  7|\n",
            "|   1|2001| 0.2868424748428934|0.5833178553615969|240307.79600997505|0.6269855221945144|0.10721401899251867|0.18702563591022486| -8.305095261845384|0.08918229426433916|117.76539900249378| 0.541479107231919| 48.75012468827929|  7|\n",
            "|   1|2002|0.28262428988500105|0.5761602999999997|        239503.283|0.6412697960000012|0.08804835031499995| 0.1939111999999998| -7.686639500000013|0.08430759999999995|119.23973849999993|0.5423971500000008|           48.6555|  7|\n",
            "|   1|2003|0.25647051817297833|0.5757633060388944| 244670.5752302968|0.6601652610030712|0.08304927466734914|0.19697630501535301| -7.485545035823955|0.09392574206755384| 120.9146218014328|0.5305042476970324| 48.62640736949847|  7|\n",
            "|   1|2004| 0.2805589466225845|0.5676803662258397|237378.70803662261|0.6488679450661226|0.07793403490844357| 0.2021994404883014| -7.601655137334684|0.09423880976602242|121.29034587995956|0.5244885554425227| 49.27314343845372|  7|\n",
            "|   1|2005| 0.2557635068666665|0.5722805641025652| 237229.5882051282| 0.653208511282051|0.09019436118461543|0.19008162564102585|  -7.46615897435897|0.09333369230769203|121.61796666666649|0.5325309230769236| 50.95333333333333|  0|\n",
            "|   1|2006| 0.2799863520256408|0.5682301538461539|234042.91435897435|0.6503262820512825|0.07770147187692314| 0.1882892820512821| -7.265500512820514|0.08584676923076921|121.79861538461536|0.5200283076923078| 51.31384615384616|  7|\n",
            "|   1|2007| 0.2540809575538463|0.5634143589743592|241049.96256410255|0.6683047743589737|0.07295726805128197|0.19612656410256424| -7.044535897435892|0.08434733333333336| 124.0875164102562|0.5167938461538473| 51.07589743589744|  7|\n",
            "|   1|2008| 0.2491917627212275|0.5791928388746803|240107.31560102306|0.6714608207672623| 0.0636620903171356|0.19843140664961625|-6.8438040920716166|0.07735636828644507|123.50993350383641|0.5275418925831203| 50.63017902813299|  0|\n",
            "|   1|2009|0.26192861909693904|0.5641903571428577| 238140.0132653061|0.6707487551020408|0.07587207368367352| 0.2052522959183674|-7.0460147959183645|0.08545780612244899| 123.4638076530612|0.5071696617346935|51.440816326530616|  0|\n",
            "|   1|2010| 0.2426866435515872|0.5724883432539687| 242811.8045634921|0.6817778026289684|0.08298056821924611|0.19970064484126995|-6.9099042658730125|0.08103149801587313| 123.5702152777779|0.5208951587301589| 52.73015873015873|  0|\n",
            "|   1|2011|0.27318266251859197|0.5528669806643526|  236998.787307883|0.6483008934060499|0.10377233216658402|0.20330882498760566| -7.574986117997006|0.08747927615270201|121.48399702528488|0.4724536787307882| 53.30738720872582|  2|\n",
            "|   1|2012|0.24995304438046245|0.5708818508997433|245807.45758354763|0.6565714601542408|0.08520552067866319| 0.1897330077120824| -7.260549614395888|0.08174246786632405|121.78173624678669|0.4627090128534706| 52.65501285347044|  7|\n",
            "|   1|2013| 0.2574880859564779|0.5711480263157896|242267.66143724695|0.6455968914473688|0.09836505391700387|0.19963081983805714| -7.472039473684207|0.09384888663967614|120.80682945344118|0.4547411943319834|54.047064777327925|  1|\n",
            "|   1|2014|0.24931264588029906|0.5899476807980057|233728.31471321694|0.6487954437905223|0.07656955483790515| 0.1918215960099752|  -7.06743990024938|0.08406054862842896|122.30526284289296|0.4630487780548628|55.543142144638395|  0|\n",
            "|   1|2015| 0.2539522577102332|0.5937740628166152| 230029.0466058764|0.6270642715298895| 0.1067868780547114|0.18885643363728474| -7.625639311043569|0.09677922998986847|120.11541134751768|0.4320983687943254| 56.70060790273557|  7|\n",
            "|   1|2016|0.28417102995548144|0.6002023928770179|221396.51029493602|0.5928552316082347|0.09398438711741793|0.18116989426822505| -8.061056204785759|0.10431329994435183|118.65262993878693|0.4315320589872012|  59.6471897607123|  0|\n",
            "|   1|2017| 0.2860990665261043|0.6122170180722886| 211115.6967871486|0.5904210208835337|0.09709060906626496| 0.1917126004016064|  -8.31262951807228| 0.1105364959839356|117.20273995983936|0.4164763112449793| 63.26355421686747|  1|\n",
            "|   1|2018| 0.2676329907750836|0.6635004755111744| 206001.0071326676|0.6024346220161672|0.05421712166904419|0.17632553495007114| -7.168785068949124|0.12717555872563022| 121.9223076557296|0.4479212743699474| 63.29624346172135|  1|\n",
            "|   1|2019| 0.2782985863365824|0.6448141097998967|201024.78809645973|0.5932240360184717|0.07764024697280643|0.17261641867624464| -7.722191893278596|0.12104335556695732|120.23564443304272|0.4588176295536167| 65.25654181631606|  1|\n",
            "+----+----+-------------------+------------------+------------------+------------------+-------------------+-------------------+-------------------+-------------------+------------------+------------------+------------------+---+\n",
            "only showing top 20 rows\n",
            "\n"
          ]
        }
      ]
    },
    {
      "cell_type": "markdown",
      "source": [
        "Verificando a quantidade de linhas:"
      ],
      "metadata": {
        "id": "vqOfvpCbIUl0"
      }
    },
    {
      "cell_type": "code",
      "source": [
        "dados_anos.count()"
      ],
      "metadata": {
        "colab": {
          "base_uri": "https://localhost:8080/"
        },
        "id": "BbRE8RzCILZ7",
        "outputId": "5b0b29ef-f94b-4393-bcb8-888377ceefb3"
      },
      "execution_count": 17,
      "outputs": [
        {
          "output_type": "execute_result",
          "data": {
            "text/plain": [
              "21"
            ]
          },
          "metadata": {},
          "execution_count": 17
        }
      ]
    },
    {
      "cell_type": "markdown",
      "source": [
        "Verificando a quantidade de colunas:"
      ],
      "metadata": {
        "id": "WZd6417rIqbs"
      }
    },
    {
      "cell_type": "code",
      "source": [
        "len(dados_anos.columns)"
      ],
      "metadata": {
        "colab": {
          "base_uri": "https://localhost:8080/"
        },
        "id": "xZWuA4g4IY1U",
        "outputId": "ae8bf353-87c4-44fa-aace-041d320b1923"
      },
      "execution_count": 18,
      "outputs": [
        {
          "output_type": "execute_result",
          "data": {
            "text/plain": [
              "14"
            ]
          },
          "metadata": {},
          "execution_count": 18
        }
      ]
    },
    {
      "cell_type": "markdown",
      "source": [
        "Descobrindo o impacto que os anos têm nas variáveis das músicas (loudness) através de um gráfico:"
      ],
      "metadata": {
        "id": "gB5wXcsyJNas"
      }
    },
    {
      "cell_type": "code",
      "source": [
        "import plotly.express as px\n",
        "\n",
        "fig = px.line(dados_anos.toPandas(), x='year', y='loudness', markers=True, title='Variação do loudness conforme os anos')\n",
        "fig.show()"
      ],
      "metadata": {
        "colab": {
          "base_uri": "https://localhost:8080/",
          "height": 542
        },
        "id": "59_2CDROJbwp",
        "outputId": "bf14e193-0773-4614-cdb2-f496a4564ff3"
      },
      "execution_count": 19,
      "outputs": [
        {
          "output_type": "display_data",
          "data": {
            "text/html": [
              "<html>\n",
              "<head><meta charset=\"utf-8\" /></head>\n",
              "<body>\n",
              "    <div>            <script src=\"https://cdnjs.cloudflare.com/ajax/libs/mathjax/2.7.5/MathJax.js?config=TeX-AMS-MML_SVG\"></script><script type=\"text/javascript\">if (window.MathJax && window.MathJax.Hub && window.MathJax.Hub.Config) {window.MathJax.Hub.Config({SVG: {font: \"STIX-Web\"}});}</script>                <script type=\"text/javascript\">window.PlotlyConfig = {MathJaxConfig: 'local'};</script>\n",
              "        <script charset=\"utf-8\" src=\"https://cdn.plot.ly/plotly-2.24.1.min.js\"></script>                <div id=\"4cb3caa4-6309-4515-9a0d-d2ee001c5a24\" class=\"plotly-graph-div\" style=\"height:525px; width:100%;\"></div>            <script type=\"text/javascript\">                                    window.PLOTLYENV=window.PLOTLYENV || {};                                    if (document.getElementById(\"4cb3caa4-6309-4515-9a0d-d2ee001c5a24\")) {                    Plotly.newPlot(                        \"4cb3caa4-6309-4515-9a0d-d2ee001c5a24\",                        [{\"hovertemplate\":\"year=%{x}\\u003cbr\\u003eloudness=%{y}\\u003cextra\\u003e\\u003c\\u002fextra\\u003e\",\"legendgroup\":\"\",\"line\":{\"color\":\"#636efa\",\"dash\":\"solid\"},\"marker\":{\"symbol\":\"circle\"},\"mode\":\"lines+markers\",\"name\":\"\",\"orientation\":\"v\",\"showlegend\":false,\"x\":[2000,2001,2002,2003,2004,2005,2006,2007,2008,2009,2010,2011,2012,2013,2014,2015,2016,2017,2018,2019,2020],\"xaxis\":\"x\",\"y\":[-8.247765848670758,-8.305095261845384,-7.686639500000013,-7.485545035823955,-7.601655137334684,-7.46615897435897,-7.265500512820514,-7.044535897435892,-6.8438040920716166,-7.0460147959183645,-6.9099042658730125,-7.574986117997006,-7.260549614395888,-7.472039473684207,-7.06743990024938,-7.625639311043569,-8.061056204785759,-8.31262951807228,-7.168785068949124,-7.722191893278596,-6.595066995073878],\"yaxis\":\"y\",\"type\":\"scatter\"}],                        {\"template\":{\"data\":{\"histogram2dcontour\":[{\"type\":\"histogram2dcontour\",\"colorbar\":{\"outlinewidth\":0,\"ticks\":\"\"},\"colorscale\":[[0.0,\"#0d0887\"],[0.1111111111111111,\"#46039f\"],[0.2222222222222222,\"#7201a8\"],[0.3333333333333333,\"#9c179e\"],[0.4444444444444444,\"#bd3786\"],[0.5555555555555556,\"#d8576b\"],[0.6666666666666666,\"#ed7953\"],[0.7777777777777778,\"#fb9f3a\"],[0.8888888888888888,\"#fdca26\"],[1.0,\"#f0f921\"]]}],\"choropleth\":[{\"type\":\"choropleth\",\"colorbar\":{\"outlinewidth\":0,\"ticks\":\"\"}}],\"histogram2d\":[{\"type\":\"histogram2d\",\"colorbar\":{\"outlinewidth\":0,\"ticks\":\"\"},\"colorscale\":[[0.0,\"#0d0887\"],[0.1111111111111111,\"#46039f\"],[0.2222222222222222,\"#7201a8\"],[0.3333333333333333,\"#9c179e\"],[0.4444444444444444,\"#bd3786\"],[0.5555555555555556,\"#d8576b\"],[0.6666666666666666,\"#ed7953\"],[0.7777777777777778,\"#fb9f3a\"],[0.8888888888888888,\"#fdca26\"],[1.0,\"#f0f921\"]]}],\"heatmap\":[{\"type\":\"heatmap\",\"colorbar\":{\"outlinewidth\":0,\"ticks\":\"\"},\"colorscale\":[[0.0,\"#0d0887\"],[0.1111111111111111,\"#46039f\"],[0.2222222222222222,\"#7201a8\"],[0.3333333333333333,\"#9c179e\"],[0.4444444444444444,\"#bd3786\"],[0.5555555555555556,\"#d8576b\"],[0.6666666666666666,\"#ed7953\"],[0.7777777777777778,\"#fb9f3a\"],[0.8888888888888888,\"#fdca26\"],[1.0,\"#f0f921\"]]}],\"heatmapgl\":[{\"type\":\"heatmapgl\",\"colorbar\":{\"outlinewidth\":0,\"ticks\":\"\"},\"colorscale\":[[0.0,\"#0d0887\"],[0.1111111111111111,\"#46039f\"],[0.2222222222222222,\"#7201a8\"],[0.3333333333333333,\"#9c179e\"],[0.4444444444444444,\"#bd3786\"],[0.5555555555555556,\"#d8576b\"],[0.6666666666666666,\"#ed7953\"],[0.7777777777777778,\"#fb9f3a\"],[0.8888888888888888,\"#fdca26\"],[1.0,\"#f0f921\"]]}],\"contourcarpet\":[{\"type\":\"contourcarpet\",\"colorbar\":{\"outlinewidth\":0,\"ticks\":\"\"}}],\"contour\":[{\"type\":\"contour\",\"colorbar\":{\"outlinewidth\":0,\"ticks\":\"\"},\"colorscale\":[[0.0,\"#0d0887\"],[0.1111111111111111,\"#46039f\"],[0.2222222222222222,\"#7201a8\"],[0.3333333333333333,\"#9c179e\"],[0.4444444444444444,\"#bd3786\"],[0.5555555555555556,\"#d8576b\"],[0.6666666666666666,\"#ed7953\"],[0.7777777777777778,\"#fb9f3a\"],[0.8888888888888888,\"#fdca26\"],[1.0,\"#f0f921\"]]}],\"surface\":[{\"type\":\"surface\",\"colorbar\":{\"outlinewidth\":0,\"ticks\":\"\"},\"colorscale\":[[0.0,\"#0d0887\"],[0.1111111111111111,\"#46039f\"],[0.2222222222222222,\"#7201a8\"],[0.3333333333333333,\"#9c179e\"],[0.4444444444444444,\"#bd3786\"],[0.5555555555555556,\"#d8576b\"],[0.6666666666666666,\"#ed7953\"],[0.7777777777777778,\"#fb9f3a\"],[0.8888888888888888,\"#fdca26\"],[1.0,\"#f0f921\"]]}],\"mesh3d\":[{\"type\":\"mesh3d\",\"colorbar\":{\"outlinewidth\":0,\"ticks\":\"\"}}],\"scatter\":[{\"fillpattern\":{\"fillmode\":\"overlay\",\"size\":10,\"solidity\":0.2},\"type\":\"scatter\"}],\"parcoords\":[{\"type\":\"parcoords\",\"line\":{\"colorbar\":{\"outlinewidth\":0,\"ticks\":\"\"}}}],\"scatterpolargl\":[{\"type\":\"scatterpolargl\",\"marker\":{\"colorbar\":{\"outlinewidth\":0,\"ticks\":\"\"}}}],\"bar\":[{\"error_x\":{\"color\":\"#2a3f5f\"},\"error_y\":{\"color\":\"#2a3f5f\"},\"marker\":{\"line\":{\"color\":\"#E5ECF6\",\"width\":0.5},\"pattern\":{\"fillmode\":\"overlay\",\"size\":10,\"solidity\":0.2}},\"type\":\"bar\"}],\"scattergeo\":[{\"type\":\"scattergeo\",\"marker\":{\"colorbar\":{\"outlinewidth\":0,\"ticks\":\"\"}}}],\"scatterpolar\":[{\"type\":\"scatterpolar\",\"marker\":{\"colorbar\":{\"outlinewidth\":0,\"ticks\":\"\"}}}],\"histogram\":[{\"marker\":{\"pattern\":{\"fillmode\":\"overlay\",\"size\":10,\"solidity\":0.2}},\"type\":\"histogram\"}],\"scattergl\":[{\"type\":\"scattergl\",\"marker\":{\"colorbar\":{\"outlinewidth\":0,\"ticks\":\"\"}}}],\"scatter3d\":[{\"type\":\"scatter3d\",\"line\":{\"colorbar\":{\"outlinewidth\":0,\"ticks\":\"\"}},\"marker\":{\"colorbar\":{\"outlinewidth\":0,\"ticks\":\"\"}}}],\"scattermapbox\":[{\"type\":\"scattermapbox\",\"marker\":{\"colorbar\":{\"outlinewidth\":0,\"ticks\":\"\"}}}],\"scatterternary\":[{\"type\":\"scatterternary\",\"marker\":{\"colorbar\":{\"outlinewidth\":0,\"ticks\":\"\"}}}],\"scattercarpet\":[{\"type\":\"scattercarpet\",\"marker\":{\"colorbar\":{\"outlinewidth\":0,\"ticks\":\"\"}}}],\"carpet\":[{\"aaxis\":{\"endlinecolor\":\"#2a3f5f\",\"gridcolor\":\"white\",\"linecolor\":\"white\",\"minorgridcolor\":\"white\",\"startlinecolor\":\"#2a3f5f\"},\"baxis\":{\"endlinecolor\":\"#2a3f5f\",\"gridcolor\":\"white\",\"linecolor\":\"white\",\"minorgridcolor\":\"white\",\"startlinecolor\":\"#2a3f5f\"},\"type\":\"carpet\"}],\"table\":[{\"cells\":{\"fill\":{\"color\":\"#EBF0F8\"},\"line\":{\"color\":\"white\"}},\"header\":{\"fill\":{\"color\":\"#C8D4E3\"},\"line\":{\"color\":\"white\"}},\"type\":\"table\"}],\"barpolar\":[{\"marker\":{\"line\":{\"color\":\"#E5ECF6\",\"width\":0.5},\"pattern\":{\"fillmode\":\"overlay\",\"size\":10,\"solidity\":0.2}},\"type\":\"barpolar\"}],\"pie\":[{\"automargin\":true,\"type\":\"pie\"}]},\"layout\":{\"autotypenumbers\":\"strict\",\"colorway\":[\"#636efa\",\"#EF553B\",\"#00cc96\",\"#ab63fa\",\"#FFA15A\",\"#19d3f3\",\"#FF6692\",\"#B6E880\",\"#FF97FF\",\"#FECB52\"],\"font\":{\"color\":\"#2a3f5f\"},\"hovermode\":\"closest\",\"hoverlabel\":{\"align\":\"left\"},\"paper_bgcolor\":\"white\",\"plot_bgcolor\":\"#E5ECF6\",\"polar\":{\"bgcolor\":\"#E5ECF6\",\"angularaxis\":{\"gridcolor\":\"white\",\"linecolor\":\"white\",\"ticks\":\"\"},\"radialaxis\":{\"gridcolor\":\"white\",\"linecolor\":\"white\",\"ticks\":\"\"}},\"ternary\":{\"bgcolor\":\"#E5ECF6\",\"aaxis\":{\"gridcolor\":\"white\",\"linecolor\":\"white\",\"ticks\":\"\"},\"baxis\":{\"gridcolor\":\"white\",\"linecolor\":\"white\",\"ticks\":\"\"},\"caxis\":{\"gridcolor\":\"white\",\"linecolor\":\"white\",\"ticks\":\"\"}},\"coloraxis\":{\"colorbar\":{\"outlinewidth\":0,\"ticks\":\"\"}},\"colorscale\":{\"sequential\":[[0.0,\"#0d0887\"],[0.1111111111111111,\"#46039f\"],[0.2222222222222222,\"#7201a8\"],[0.3333333333333333,\"#9c179e\"],[0.4444444444444444,\"#bd3786\"],[0.5555555555555556,\"#d8576b\"],[0.6666666666666666,\"#ed7953\"],[0.7777777777777778,\"#fb9f3a\"],[0.8888888888888888,\"#fdca26\"],[1.0,\"#f0f921\"]],\"sequentialminus\":[[0.0,\"#0d0887\"],[0.1111111111111111,\"#46039f\"],[0.2222222222222222,\"#7201a8\"],[0.3333333333333333,\"#9c179e\"],[0.4444444444444444,\"#bd3786\"],[0.5555555555555556,\"#d8576b\"],[0.6666666666666666,\"#ed7953\"],[0.7777777777777778,\"#fb9f3a\"],[0.8888888888888888,\"#fdca26\"],[1.0,\"#f0f921\"]],\"diverging\":[[0,\"#8e0152\"],[0.1,\"#c51b7d\"],[0.2,\"#de77ae\"],[0.3,\"#f1b6da\"],[0.4,\"#fde0ef\"],[0.5,\"#f7f7f7\"],[0.6,\"#e6f5d0\"],[0.7,\"#b8e186\"],[0.8,\"#7fbc41\"],[0.9,\"#4d9221\"],[1,\"#276419\"]]},\"xaxis\":{\"gridcolor\":\"white\",\"linecolor\":\"white\",\"ticks\":\"\",\"title\":{\"standoff\":15},\"zerolinecolor\":\"white\",\"automargin\":true,\"zerolinewidth\":2},\"yaxis\":{\"gridcolor\":\"white\",\"linecolor\":\"white\",\"ticks\":\"\",\"title\":{\"standoff\":15},\"zerolinecolor\":\"white\",\"automargin\":true,\"zerolinewidth\":2},\"scene\":{\"xaxis\":{\"backgroundcolor\":\"#E5ECF6\",\"gridcolor\":\"white\",\"linecolor\":\"white\",\"showbackground\":true,\"ticks\":\"\",\"zerolinecolor\":\"white\",\"gridwidth\":2},\"yaxis\":{\"backgroundcolor\":\"#E5ECF6\",\"gridcolor\":\"white\",\"linecolor\":\"white\",\"showbackground\":true,\"ticks\":\"\",\"zerolinecolor\":\"white\",\"gridwidth\":2},\"zaxis\":{\"backgroundcolor\":\"#E5ECF6\",\"gridcolor\":\"white\",\"linecolor\":\"white\",\"showbackground\":true,\"ticks\":\"\",\"zerolinecolor\":\"white\",\"gridwidth\":2}},\"shapedefaults\":{\"line\":{\"color\":\"#2a3f5f\"}},\"annotationdefaults\":{\"arrowcolor\":\"#2a3f5f\",\"arrowhead\":0,\"arrowwidth\":1},\"geo\":{\"bgcolor\":\"white\",\"landcolor\":\"#E5ECF6\",\"subunitcolor\":\"white\",\"showland\":true,\"showlakes\":true,\"lakecolor\":\"white\"},\"title\":{\"x\":0.05},\"mapbox\":{\"style\":\"light\"}}},\"xaxis\":{\"anchor\":\"y\",\"domain\":[0.0,1.0],\"title\":{\"text\":\"year\"}},\"yaxis\":{\"anchor\":\"x\",\"domain\":[0.0,1.0],\"title\":{\"text\":\"loudness\"}},\"legend\":{\"tracegroupgap\":0},\"title\":{\"text\":\"Varia\\u00e7\\u00e3o do loudness conforme os anos\"}},                        {\"responsive\": true}                    ).then(function(){\n",
              "                            \n",
              "var gd = document.getElementById('4cb3caa4-6309-4515-9a0d-d2ee001c5a24');\n",
              "var x = new MutationObserver(function (mutations, observer) {{\n",
              "        var display = window.getComputedStyle(gd).display;\n",
              "        if (!display || display === 'none') {{\n",
              "            console.log([gd, 'removed!']);\n",
              "            Plotly.purge(gd);\n",
              "            observer.disconnect();\n",
              "        }}\n",
              "}});\n",
              "\n",
              "// Listen for the removal of the full notebook cells\n",
              "var notebookContainer = gd.closest('#notebook-container');\n",
              "if (notebookContainer) {{\n",
              "    x.observe(notebookContainer, {childList: true});\n",
              "}}\n",
              "\n",
              "// Listen for the clearing of the current output cell\n",
              "var outputEl = gd.closest('.output');\n",
              "if (outputEl) {{\n",
              "    x.observe(outputEl, {childList: true});\n",
              "}}\n",
              "\n",
              "                        })                };                            </script>        </div>\n",
              "</body>\n",
              "</html>"
            ]
          },
          "metadata": {}
        }
      ]
    },
    {
      "cell_type": "markdown",
      "source": [
        "Obs: Aparentemente, tivemos flutuações no valor de loudness, mas não podemos garantir que estão ligadas ao tempo. Não parece uma tendência. Mas, vamos fazer essa mesma análise de forma geral. Podemos comparar os anos para diversas features das músicas ao mesmo tempo, assim verificamos se existe um grande impacto em algumas ou todas, enfim, teremos um contexto mais geral da informação."
      ],
      "metadata": {
        "id": "reG9-fBpv6QR"
      }
    },
    {
      "cell_type": "markdown",
      "source": [
        "Utilizando um módulo diferente do plotly.express, para descobrir o impacto que os anos têm nas outras características das músicas através de um gráfico:"
      ],
      "metadata": {
        "id": "36S_SxtywB0l"
      }
    },
    {
      "cell_type": "code",
      "source": [
        "import plotly.graph_objects as go\n",
        "\n",
        "fig = go.Figure()\n",
        "\n",
        "temp = dados_anos.toPandas()\n",
        "\n",
        "fig.add_trace(go.Scatter(x=temp['year'], y=temp['acousticness'], name='Acousticness'))\n",
        "fig.add_trace(go.Scatter(x=temp['year'], y=temp['valence'],\n",
        "                    name='Valence'))\n",
        "fig.add_trace(go.Scatter(x=temp['year'], y=temp['danceability'],\n",
        "                    name='Danceability'))\n",
        "fig.add_trace(go.Scatter(x=temp['year'], y=temp['energy'],\n",
        "                    name='Energy'))\n",
        "fig.add_trace(go.Scatter(x=temp['year'], y=temp['instrumentalness'],\n",
        "                    name='Instrumentalness'))\n",
        "fig.add_trace(go.Scatter(x=temp['year'], y=temp['liveness'],\n",
        "                    name='Liveness'))\n",
        "fig.add_trace(go.Scatter(x=temp['year'], y=temp['speechiness'],\n",
        "                    name='Speechiness'))\n",
        "\n",
        "fig.show()"
      ],
      "metadata": {
        "colab": {
          "base_uri": "https://localhost:8080/",
          "height": 542
        },
        "id": "8afY1VL-wBmt",
        "outputId": "881b5752-5462-4f23-c03a-95975f3731ae"
      },
      "execution_count": 20,
      "outputs": [
        {
          "output_type": "display_data",
          "data": {
            "text/html": [
              "<html>\n",
              "<head><meta charset=\"utf-8\" /></head>\n",
              "<body>\n",
              "    <div>            <script src=\"https://cdnjs.cloudflare.com/ajax/libs/mathjax/2.7.5/MathJax.js?config=TeX-AMS-MML_SVG\"></script><script type=\"text/javascript\">if (window.MathJax && window.MathJax.Hub && window.MathJax.Hub.Config) {window.MathJax.Hub.Config({SVG: {font: \"STIX-Web\"}});}</script>                <script type=\"text/javascript\">window.PlotlyConfig = {MathJaxConfig: 'local'};</script>\n",
              "        <script charset=\"utf-8\" src=\"https://cdn.plot.ly/plotly-2.24.1.min.js\"></script>                <div id=\"1019e481-baa7-439f-ac58-7e82f5792050\" class=\"plotly-graph-div\" style=\"height:525px; width:100%;\"></div>            <script type=\"text/javascript\">                                    window.PLOTLYENV=window.PLOTLYENV || {};                                    if (document.getElementById(\"1019e481-baa7-439f-ac58-7e82f5792050\")) {                    Plotly.newPlot(                        \"1019e481-baa7-439f-ac58-7e82f5792050\",                        [{\"name\":\"Acousticness\",\"x\":[2000,2001,2002,2003,2004,2005,2006,2007,2008,2009,2010,2011,2012,2013,2014,2015,2016,2017,2018,2019,2020],\"y\":[0.28932270051635994,0.2868424748428934,0.28262428988500105,0.25647051817297833,0.2805589466225845,0.2557635068666665,0.2799863520256408,0.2540809575538463,0.2491917627212275,0.26192861909693904,0.2426866435515872,0.27318266251859197,0.24995304438046245,0.2574880859564779,0.24931264588029906,0.2539522577102332,0.28417102995548144,0.2860990665261043,0.2676329907750836,0.2782985863365824,0.2199308880935964],\"type\":\"scatter\"},{\"name\":\"Valence\",\"x\":[2000,2001,2002,2003,2004,2005,2006,2007,2008,2009,2010,2011,2012,2013,2014,2015,2016,2017,2018,2019,2020],\"y\":[0.5594754601226991,0.541479107231919,0.5423971500000008,0.5305042476970324,0.5244885554425227,0.5325309230769236,0.5200283076923078,0.5167938461538473,0.5275418925831203,0.5071696617346935,0.5208951587301589,0.4724536787307882,0.4627090128534706,0.4547411943319834,0.4630487780548628,0.4320983687943254,0.4315320589872012,0.4164763112449793,0.4479212743699474,0.4588176295536167,0.5010478078817729],\"type\":\"scatter\"},{\"name\":\"Danceability\",\"x\":[2000,2001,2002,2003,2004,2005,2006,2007,2008,2009,2010,2011,2012,2013,2014,2015,2016,2017,2018,2019,2020],\"y\":[0.590918047034764,0.5833178553615969,0.5761602999999997,0.5757633060388944,0.5676803662258397,0.5722805641025652,0.5682301538461539,0.5634143589743592,0.5791928388746803,0.5641903571428577,0.5724883432539687,0.5528669806643526,0.5708818508997433,0.5711480263157896,0.5899476807980057,0.5937740628166152,0.6002023928770179,0.6122170180722886,0.6635004755111744,0.6448141097998967,0.6929043349753701],\"type\":\"scatter\"},{\"name\":\"Energy\",\"x\":[2000,2001,2002,2003,2004,2005,2006,2007,2008,2009,2010,2011,2012,2013,2014,2015,2016,2017,2018,2019,2020],\"y\":[0.6254128323108387,0.6269855221945144,0.6412697960000012,0.6601652610030712,0.6488679450661226,0.653208511282051,0.6503262820512825,0.6683047743589737,0.6714608207672623,0.6707487551020408,0.6817778026289684,0.6483008934060499,0.6565714601542408,0.6455968914473688,0.6487954437905223,0.6270642715298895,0.5928552316082347,0.5904210208835337,0.6024346220161672,0.5932240360184717,0.6312316354679793],\"type\":\"scatter\"},{\"name\":\"Instrumentalness\",\"x\":[2000,2001,2002,2003,2004,2005,2006,2007,2008,2009,2010,2011,2012,2013,2014,2015,2016,2017,2018,2019,2020],\"y\":[0.10116776879345596,0.10721401899251867,0.08804835031499995,0.08304927466734914,0.07793403490844357,0.09019436118461543,0.07770147187692314,0.07295726805128197,0.0636620903171356,0.07587207368367352,0.08298056821924611,0.10377233216658402,0.08520552067866319,0.09836505391700387,0.07656955483790515,0.1067868780547114,0.09398438711741793,0.09709060906626496,0.05421712166904419,0.07764024697280643,0.016375524305418724],\"type\":\"scatter\"},{\"name\":\"Liveness\",\"x\":[2000,2001,2002,2003,2004,2005,2006,2007,2008,2009,2010,2011,2012,2013,2014,2015,2016,2017,2018,2019,2020],\"y\":[0.1976860429447853,0.18702563591022486,0.1939111999999998,0.19697630501535301,0.2021994404883014,0.19008162564102585,0.1882892820512821,0.19612656410256424,0.19843140664961625,0.2052522959183674,0.19970064484126995,0.20330882498760566,0.1897330077120824,0.19963081983805714,0.1918215960099752,0.18885643363728474,0.18116989426822505,0.1917126004016064,0.17632553495007114,0.17261641867624464,0.1785354187192117],\"type\":\"scatter\"},{\"name\":\"Speechiness\",\"x\":[2000,2001,2002,2003,2004,2005,2006,2007,2008,2009,2010,2011,2012,2013,2014,2015,2016,2017,2018,2019,2020],\"y\":[0.08920541922290394,0.08918229426433916,0.08430759999999995,0.09392574206755384,0.09423880976602242,0.09333369230769203,0.08584676923076921,0.08434733333333336,0.07735636828644507,0.08545780612244899,0.08103149801587313,0.08747927615270201,0.08174246786632405,0.09384888663967614,0.08406054862842896,0.09677922998986847,0.10431329994435183,0.1105364959839356,0.12717555872563022,0.12104335556695732,0.14138369458128058],\"type\":\"scatter\"}],                        {\"template\":{\"data\":{\"histogram2dcontour\":[{\"type\":\"histogram2dcontour\",\"colorbar\":{\"outlinewidth\":0,\"ticks\":\"\"},\"colorscale\":[[0.0,\"#0d0887\"],[0.1111111111111111,\"#46039f\"],[0.2222222222222222,\"#7201a8\"],[0.3333333333333333,\"#9c179e\"],[0.4444444444444444,\"#bd3786\"],[0.5555555555555556,\"#d8576b\"],[0.6666666666666666,\"#ed7953\"],[0.7777777777777778,\"#fb9f3a\"],[0.8888888888888888,\"#fdca26\"],[1.0,\"#f0f921\"]]}],\"choropleth\":[{\"type\":\"choropleth\",\"colorbar\":{\"outlinewidth\":0,\"ticks\":\"\"}}],\"histogram2d\":[{\"type\":\"histogram2d\",\"colorbar\":{\"outlinewidth\":0,\"ticks\":\"\"},\"colorscale\":[[0.0,\"#0d0887\"],[0.1111111111111111,\"#46039f\"],[0.2222222222222222,\"#7201a8\"],[0.3333333333333333,\"#9c179e\"],[0.4444444444444444,\"#bd3786\"],[0.5555555555555556,\"#d8576b\"],[0.6666666666666666,\"#ed7953\"],[0.7777777777777778,\"#fb9f3a\"],[0.8888888888888888,\"#fdca26\"],[1.0,\"#f0f921\"]]}],\"heatmap\":[{\"type\":\"heatmap\",\"colorbar\":{\"outlinewidth\":0,\"ticks\":\"\"},\"colorscale\":[[0.0,\"#0d0887\"],[0.1111111111111111,\"#46039f\"],[0.2222222222222222,\"#7201a8\"],[0.3333333333333333,\"#9c179e\"],[0.4444444444444444,\"#bd3786\"],[0.5555555555555556,\"#d8576b\"],[0.6666666666666666,\"#ed7953\"],[0.7777777777777778,\"#fb9f3a\"],[0.8888888888888888,\"#fdca26\"],[1.0,\"#f0f921\"]]}],\"heatmapgl\":[{\"type\":\"heatmapgl\",\"colorbar\":{\"outlinewidth\":0,\"ticks\":\"\"},\"colorscale\":[[0.0,\"#0d0887\"],[0.1111111111111111,\"#46039f\"],[0.2222222222222222,\"#7201a8\"],[0.3333333333333333,\"#9c179e\"],[0.4444444444444444,\"#bd3786\"],[0.5555555555555556,\"#d8576b\"],[0.6666666666666666,\"#ed7953\"],[0.7777777777777778,\"#fb9f3a\"],[0.8888888888888888,\"#fdca26\"],[1.0,\"#f0f921\"]]}],\"contourcarpet\":[{\"type\":\"contourcarpet\",\"colorbar\":{\"outlinewidth\":0,\"ticks\":\"\"}}],\"contour\":[{\"type\":\"contour\",\"colorbar\":{\"outlinewidth\":0,\"ticks\":\"\"},\"colorscale\":[[0.0,\"#0d0887\"],[0.1111111111111111,\"#46039f\"],[0.2222222222222222,\"#7201a8\"],[0.3333333333333333,\"#9c179e\"],[0.4444444444444444,\"#bd3786\"],[0.5555555555555556,\"#d8576b\"],[0.6666666666666666,\"#ed7953\"],[0.7777777777777778,\"#fb9f3a\"],[0.8888888888888888,\"#fdca26\"],[1.0,\"#f0f921\"]]}],\"surface\":[{\"type\":\"surface\",\"colorbar\":{\"outlinewidth\":0,\"ticks\":\"\"},\"colorscale\":[[0.0,\"#0d0887\"],[0.1111111111111111,\"#46039f\"],[0.2222222222222222,\"#7201a8\"],[0.3333333333333333,\"#9c179e\"],[0.4444444444444444,\"#bd3786\"],[0.5555555555555556,\"#d8576b\"],[0.6666666666666666,\"#ed7953\"],[0.7777777777777778,\"#fb9f3a\"],[0.8888888888888888,\"#fdca26\"],[1.0,\"#f0f921\"]]}],\"mesh3d\":[{\"type\":\"mesh3d\",\"colorbar\":{\"outlinewidth\":0,\"ticks\":\"\"}}],\"scatter\":[{\"fillpattern\":{\"fillmode\":\"overlay\",\"size\":10,\"solidity\":0.2},\"type\":\"scatter\"}],\"parcoords\":[{\"type\":\"parcoords\",\"line\":{\"colorbar\":{\"outlinewidth\":0,\"ticks\":\"\"}}}],\"scatterpolargl\":[{\"type\":\"scatterpolargl\",\"marker\":{\"colorbar\":{\"outlinewidth\":0,\"ticks\":\"\"}}}],\"bar\":[{\"error_x\":{\"color\":\"#2a3f5f\"},\"error_y\":{\"color\":\"#2a3f5f\"},\"marker\":{\"line\":{\"color\":\"#E5ECF6\",\"width\":0.5},\"pattern\":{\"fillmode\":\"overlay\",\"size\":10,\"solidity\":0.2}},\"type\":\"bar\"}],\"scattergeo\":[{\"type\":\"scattergeo\",\"marker\":{\"colorbar\":{\"outlinewidth\":0,\"ticks\":\"\"}}}],\"scatterpolar\":[{\"type\":\"scatterpolar\",\"marker\":{\"colorbar\":{\"outlinewidth\":0,\"ticks\":\"\"}}}],\"histogram\":[{\"marker\":{\"pattern\":{\"fillmode\":\"overlay\",\"size\":10,\"solidity\":0.2}},\"type\":\"histogram\"}],\"scattergl\":[{\"type\":\"scattergl\",\"marker\":{\"colorbar\":{\"outlinewidth\":0,\"ticks\":\"\"}}}],\"scatter3d\":[{\"type\":\"scatter3d\",\"line\":{\"colorbar\":{\"outlinewidth\":0,\"ticks\":\"\"}},\"marker\":{\"colorbar\":{\"outlinewidth\":0,\"ticks\":\"\"}}}],\"scattermapbox\":[{\"type\":\"scattermapbox\",\"marker\":{\"colorbar\":{\"outlinewidth\":0,\"ticks\":\"\"}}}],\"scatterternary\":[{\"type\":\"scatterternary\",\"marker\":{\"colorbar\":{\"outlinewidth\":0,\"ticks\":\"\"}}}],\"scattercarpet\":[{\"type\":\"scattercarpet\",\"marker\":{\"colorbar\":{\"outlinewidth\":0,\"ticks\":\"\"}}}],\"carpet\":[{\"aaxis\":{\"endlinecolor\":\"#2a3f5f\",\"gridcolor\":\"white\",\"linecolor\":\"white\",\"minorgridcolor\":\"white\",\"startlinecolor\":\"#2a3f5f\"},\"baxis\":{\"endlinecolor\":\"#2a3f5f\",\"gridcolor\":\"white\",\"linecolor\":\"white\",\"minorgridcolor\":\"white\",\"startlinecolor\":\"#2a3f5f\"},\"type\":\"carpet\"}],\"table\":[{\"cells\":{\"fill\":{\"color\":\"#EBF0F8\"},\"line\":{\"color\":\"white\"}},\"header\":{\"fill\":{\"color\":\"#C8D4E3\"},\"line\":{\"color\":\"white\"}},\"type\":\"table\"}],\"barpolar\":[{\"marker\":{\"line\":{\"color\":\"#E5ECF6\",\"width\":0.5},\"pattern\":{\"fillmode\":\"overlay\",\"size\":10,\"solidity\":0.2}},\"type\":\"barpolar\"}],\"pie\":[{\"automargin\":true,\"type\":\"pie\"}]},\"layout\":{\"autotypenumbers\":\"strict\",\"colorway\":[\"#636efa\",\"#EF553B\",\"#00cc96\",\"#ab63fa\",\"#FFA15A\",\"#19d3f3\",\"#FF6692\",\"#B6E880\",\"#FF97FF\",\"#FECB52\"],\"font\":{\"color\":\"#2a3f5f\"},\"hovermode\":\"closest\",\"hoverlabel\":{\"align\":\"left\"},\"paper_bgcolor\":\"white\",\"plot_bgcolor\":\"#E5ECF6\",\"polar\":{\"bgcolor\":\"#E5ECF6\",\"angularaxis\":{\"gridcolor\":\"white\",\"linecolor\":\"white\",\"ticks\":\"\"},\"radialaxis\":{\"gridcolor\":\"white\",\"linecolor\":\"white\",\"ticks\":\"\"}},\"ternary\":{\"bgcolor\":\"#E5ECF6\",\"aaxis\":{\"gridcolor\":\"white\",\"linecolor\":\"white\",\"ticks\":\"\"},\"baxis\":{\"gridcolor\":\"white\",\"linecolor\":\"white\",\"ticks\":\"\"},\"caxis\":{\"gridcolor\":\"white\",\"linecolor\":\"white\",\"ticks\":\"\"}},\"coloraxis\":{\"colorbar\":{\"outlinewidth\":0,\"ticks\":\"\"}},\"colorscale\":{\"sequential\":[[0.0,\"#0d0887\"],[0.1111111111111111,\"#46039f\"],[0.2222222222222222,\"#7201a8\"],[0.3333333333333333,\"#9c179e\"],[0.4444444444444444,\"#bd3786\"],[0.5555555555555556,\"#d8576b\"],[0.6666666666666666,\"#ed7953\"],[0.7777777777777778,\"#fb9f3a\"],[0.8888888888888888,\"#fdca26\"],[1.0,\"#f0f921\"]],\"sequentialminus\":[[0.0,\"#0d0887\"],[0.1111111111111111,\"#46039f\"],[0.2222222222222222,\"#7201a8\"],[0.3333333333333333,\"#9c179e\"],[0.4444444444444444,\"#bd3786\"],[0.5555555555555556,\"#d8576b\"],[0.6666666666666666,\"#ed7953\"],[0.7777777777777778,\"#fb9f3a\"],[0.8888888888888888,\"#fdca26\"],[1.0,\"#f0f921\"]],\"diverging\":[[0,\"#8e0152\"],[0.1,\"#c51b7d\"],[0.2,\"#de77ae\"],[0.3,\"#f1b6da\"],[0.4,\"#fde0ef\"],[0.5,\"#f7f7f7\"],[0.6,\"#e6f5d0\"],[0.7,\"#b8e186\"],[0.8,\"#7fbc41\"],[0.9,\"#4d9221\"],[1,\"#276419\"]]},\"xaxis\":{\"gridcolor\":\"white\",\"linecolor\":\"white\",\"ticks\":\"\",\"title\":{\"standoff\":15},\"zerolinecolor\":\"white\",\"automargin\":true,\"zerolinewidth\":2},\"yaxis\":{\"gridcolor\":\"white\",\"linecolor\":\"white\",\"ticks\":\"\",\"title\":{\"standoff\":15},\"zerolinecolor\":\"white\",\"automargin\":true,\"zerolinewidth\":2},\"scene\":{\"xaxis\":{\"backgroundcolor\":\"#E5ECF6\",\"gridcolor\":\"white\",\"linecolor\":\"white\",\"showbackground\":true,\"ticks\":\"\",\"zerolinecolor\":\"white\",\"gridwidth\":2},\"yaxis\":{\"backgroundcolor\":\"#E5ECF6\",\"gridcolor\":\"white\",\"linecolor\":\"white\",\"showbackground\":true,\"ticks\":\"\",\"zerolinecolor\":\"white\",\"gridwidth\":2},\"zaxis\":{\"backgroundcolor\":\"#E5ECF6\",\"gridcolor\":\"white\",\"linecolor\":\"white\",\"showbackground\":true,\"ticks\":\"\",\"zerolinecolor\":\"white\",\"gridwidth\":2}},\"shapedefaults\":{\"line\":{\"color\":\"#2a3f5f\"}},\"annotationdefaults\":{\"arrowcolor\":\"#2a3f5f\",\"arrowhead\":0,\"arrowwidth\":1},\"geo\":{\"bgcolor\":\"white\",\"landcolor\":\"#E5ECF6\",\"subunitcolor\":\"white\",\"showland\":true,\"showlakes\":true,\"lakecolor\":\"white\"},\"title\":{\"x\":0.05},\"mapbox\":{\"style\":\"light\"}}}},                        {\"responsive\": true}                    ).then(function(){\n",
              "                            \n",
              "var gd = document.getElementById('1019e481-baa7-439f-ac58-7e82f5792050');\n",
              "var x = new MutationObserver(function (mutations, observer) {{\n",
              "        var display = window.getComputedStyle(gd).display;\n",
              "        if (!display || display === 'none') {{\n",
              "            console.log([gd, 'removed!']);\n",
              "            Plotly.purge(gd);\n",
              "            observer.disconnect();\n",
              "        }}\n",
              "}});\n",
              "\n",
              "// Listen for the removal of the full notebook cells\n",
              "var notebookContainer = gd.closest('#notebook-container');\n",
              "if (notebookContainer) {{\n",
              "    x.observe(notebookContainer, {childList: true});\n",
              "}}\n",
              "\n",
              "// Listen for the clearing of the current output cell\n",
              "var outputEl = gd.closest('.output');\n",
              "if (outputEl) {{\n",
              "    x.observe(outputEl, {childList: true});\n",
              "}}\n",
              "\n",
              "                        })                };                            </script>        </div>\n",
              "</body>\n",
              "</html>"
            ]
          },
          "metadata": {}
        }
      ]
    },
    {
      "cell_type": "markdown",
      "source": [
        "Obs: É possível notar que o impacto dos anos nas músicas parece pequeno. Temos algumas flutuações, mas não parecem ter relação com a passagem do tempo, por exemplo, as músicas não estão ficando mais \"energéticas\" com o tempo. Existe uma variação, mas não está relacionada com os anos. Anteriormente, construímos a análise de uma feature e agora podemos fazer para várias.\n",
        "\n"
      ],
      "metadata": {
        "id": "cUp_85NuylA-"
      }
    },
    {
      "cell_type": "markdown",
      "source": [
        "2.3 Matriz de correlação entre as features:"
      ],
      "metadata": {
        "id": "okfbOHUa0l0A"
      }
    },
    {
      "cell_type": "code",
      "source": [
        "fig = px.imshow(dados_anos.drop('mode').toPandas().corr(), text_auto=True)\n",
        "fig.show()"
      ],
      "metadata": {
        "colab": {
          "base_uri": "https://localhost:8080/",
          "height": 542
        },
        "id": "eiW-KptzxnIu",
        "outputId": "ffe2c513-8e13-422f-fdb8-f8b157b0abc8"
      },
      "execution_count": 21,
      "outputs": [
        {
          "output_type": "display_data",
          "data": {
            "text/html": [
              "<html>\n",
              "<head><meta charset=\"utf-8\" /></head>\n",
              "<body>\n",
              "    <div>            <script src=\"https://cdnjs.cloudflare.com/ajax/libs/mathjax/2.7.5/MathJax.js?config=TeX-AMS-MML_SVG\"></script><script type=\"text/javascript\">if (window.MathJax && window.MathJax.Hub && window.MathJax.Hub.Config) {window.MathJax.Hub.Config({SVG: {font: \"STIX-Web\"}});}</script>                <script type=\"text/javascript\">window.PlotlyConfig = {MathJaxConfig: 'local'};</script>\n",
              "        <script charset=\"utf-8\" src=\"https://cdn.plot.ly/plotly-2.24.1.min.js\"></script>                <div id=\"d873ae6d-4d07-451c-92b0-75af20d6aaa3\" class=\"plotly-graph-div\" style=\"height:525px; width:100%;\"></div>            <script type=\"text/javascript\">                                    window.PLOTLYENV=window.PLOTLYENV || {};                                    if (document.getElementById(\"d873ae6d-4d07-451c-92b0-75af20d6aaa3\")) {                    Plotly.newPlot(                        \"d873ae6d-4d07-451c-92b0-75af20d6aaa3\",                        [{\"coloraxis\":\"coloraxis\",\"name\":\"0\",\"texttemplate\":\"%{z}\",\"x\":[\"year\",\"acousticness\",\"danceability\",\"duration_ms\",\"energy\",\"instrumentalness\",\"liveness\",\"loudness\",\"speechiness\",\"tempo\",\"valence\",\"popularity\",\"key\"],\"y\":[\"year\",\"acousticness\",\"danceability\",\"duration_ms\",\"energy\",\"instrumentalness\",\"liveness\",\"loudness\",\"speechiness\",\"tempo\",\"valence\",\"popularity\",\"key\"],\"z\":[[1.0,-0.3411159583826981,0.6608199386023006,-0.7677124784467935,-0.4883614976017922,-0.3778796163418823,-0.5600359793453032,0.24481327200034977,0.6679407869495613,0.135206651286006,-0.8475989110150034,0.9403224364955638,-0.59003208568506],[-0.3411159583826981,1.0,-0.21562914783872839,0.07027065889373486,-0.5028464016727273,0.6000179544161117,-0.005278610778445343,-0.8384634126764212,-0.11507903484724662,-0.779129060109222,0.017657401281779277,-0.15878272118242956,0.30112204523201086],[0.6608199386023006,-0.21562914783872839,1.0,-0.9174882989904196,-0.6300040145063887,-0.6365783321457552,-0.7937311387338585,0.1177493452900591,0.9290984292792732,0.008636460322801484,-0.3339128886804443,0.8080907171455811,-0.3130172458393562],[-0.7677124784467935,0.07027065889373486,-0.9174882989904196,1.0,0.7158216074913761,0.5408931341064447,0.7726846760122201,-0.040353826764081446,-0.9337595836692876,0.049435388491187233,0.4998944618939771,-0.9211587580397507,0.4112955092341246],[-0.4883614976017922,-0.5028464016727273,-0.6300040145063887,0.7158216074913761,1.0,-0.09557373830784033,0.7059936616366327,0.6163827716194801,-0.6879629289427857,0.6827348256574154,0.5688501869406707,-0.6830008647144806,0.11853490224047748],[-0.3778796163418823,0.6000179544161117,-0.6365783321457552,0.5408931341064447,-0.09557373830784033,1.0,0.34767145702429336,-0.738575685509048,-0.5356289163845074,-0.6735345367211589,-0.08676554084668006,-0.39967805880699375,0.2824279571619284],[-0.5600359793453032,-0.005278610778445343,-0.7937311387338585,0.7726846760122201,0.7059936616366327,0.34767145702429336,1.0,0.07598100746952816,-0.7340833881462239,0.18936558013168733,0.38466429778551764,-0.7202553144289295,0.1345806771347886],[0.24481327200034977,-0.8384634126764212,0.1177493452900591,-0.040353826764081446,0.6163827716194801,-0.738575685509048,0.07598100746952816,1.0,0.005313336822696862,0.9597996046866653,0.11428988275912833,0.07272200634495016,-0.2990411256697193],[0.6679407869495613,-0.11507903484724662,0.9290984292792732,-0.9337595836692876,-0.6879629289427857,-0.5356289163845074,-0.7340833881462239,0.005313336822696862,1.0,-0.0691209252461087,-0.41134099161696436,0.8300352075638717,-0.2949439559626186],[0.135206651286006,-0.779129060109222,0.008636460322801484,0.049435388491187233,0.6827348256574154,-0.6735345367211589,0.18936558013168733,0.9597996046866653,-0.0691209252461087,1.0,0.2151115193534347,-0.03535889516641647,-0.2561334077890368],[-0.8475989110150034,0.017657401281779277,-0.3339128886804443,0.4998944618939771,0.5688501869406707,-0.08676554084668006,0.38466429778551764,0.11428988275912833,-0.41134099161696436,0.2151115193534347,1.0,-0.7616832157267148,0.384059807659227],[0.9403224364955638,-0.15878272118242956,0.8080907171455811,-0.9211587580397507,-0.6830008647144806,-0.39967805880699375,-0.7202553144289295,0.07272200634495016,0.8300352075638717,-0.03535889516641647,-0.7616832157267148,1.0,-0.5339331304034587],[-0.59003208568506,0.30112204523201086,-0.3130172458393562,0.4112955092341246,0.11853490224047748,0.2824279571619284,0.1345806771347886,-0.2990411256697193,-0.2949439559626186,-0.2561334077890368,0.384059807659227,-0.5339331304034587,1.0]],\"type\":\"heatmap\",\"xaxis\":\"x\",\"yaxis\":\"y\",\"hovertemplate\":\"x: %{x}\\u003cbr\\u003ey: %{y}\\u003cbr\\u003ecolor: %{z}\\u003cextra\\u003e\\u003c\\u002fextra\\u003e\"}],                        {\"template\":{\"data\":{\"histogram2dcontour\":[{\"type\":\"histogram2dcontour\",\"colorbar\":{\"outlinewidth\":0,\"ticks\":\"\"},\"colorscale\":[[0.0,\"#0d0887\"],[0.1111111111111111,\"#46039f\"],[0.2222222222222222,\"#7201a8\"],[0.3333333333333333,\"#9c179e\"],[0.4444444444444444,\"#bd3786\"],[0.5555555555555556,\"#d8576b\"],[0.6666666666666666,\"#ed7953\"],[0.7777777777777778,\"#fb9f3a\"],[0.8888888888888888,\"#fdca26\"],[1.0,\"#f0f921\"]]}],\"choropleth\":[{\"type\":\"choropleth\",\"colorbar\":{\"outlinewidth\":0,\"ticks\":\"\"}}],\"histogram2d\":[{\"type\":\"histogram2d\",\"colorbar\":{\"outlinewidth\":0,\"ticks\":\"\"},\"colorscale\":[[0.0,\"#0d0887\"],[0.1111111111111111,\"#46039f\"],[0.2222222222222222,\"#7201a8\"],[0.3333333333333333,\"#9c179e\"],[0.4444444444444444,\"#bd3786\"],[0.5555555555555556,\"#d8576b\"],[0.6666666666666666,\"#ed7953\"],[0.7777777777777778,\"#fb9f3a\"],[0.8888888888888888,\"#fdca26\"],[1.0,\"#f0f921\"]]}],\"heatmap\":[{\"type\":\"heatmap\",\"colorbar\":{\"outlinewidth\":0,\"ticks\":\"\"},\"colorscale\":[[0.0,\"#0d0887\"],[0.1111111111111111,\"#46039f\"],[0.2222222222222222,\"#7201a8\"],[0.3333333333333333,\"#9c179e\"],[0.4444444444444444,\"#bd3786\"],[0.5555555555555556,\"#d8576b\"],[0.6666666666666666,\"#ed7953\"],[0.7777777777777778,\"#fb9f3a\"],[0.8888888888888888,\"#fdca26\"],[1.0,\"#f0f921\"]]}],\"heatmapgl\":[{\"type\":\"heatmapgl\",\"colorbar\":{\"outlinewidth\":0,\"ticks\":\"\"},\"colorscale\":[[0.0,\"#0d0887\"],[0.1111111111111111,\"#46039f\"],[0.2222222222222222,\"#7201a8\"],[0.3333333333333333,\"#9c179e\"],[0.4444444444444444,\"#bd3786\"],[0.5555555555555556,\"#d8576b\"],[0.6666666666666666,\"#ed7953\"],[0.7777777777777778,\"#fb9f3a\"],[0.8888888888888888,\"#fdca26\"],[1.0,\"#f0f921\"]]}],\"contourcarpet\":[{\"type\":\"contourcarpet\",\"colorbar\":{\"outlinewidth\":0,\"ticks\":\"\"}}],\"contour\":[{\"type\":\"contour\",\"colorbar\":{\"outlinewidth\":0,\"ticks\":\"\"},\"colorscale\":[[0.0,\"#0d0887\"],[0.1111111111111111,\"#46039f\"],[0.2222222222222222,\"#7201a8\"],[0.3333333333333333,\"#9c179e\"],[0.4444444444444444,\"#bd3786\"],[0.5555555555555556,\"#d8576b\"],[0.6666666666666666,\"#ed7953\"],[0.7777777777777778,\"#fb9f3a\"],[0.8888888888888888,\"#fdca26\"],[1.0,\"#f0f921\"]]}],\"surface\":[{\"type\":\"surface\",\"colorbar\":{\"outlinewidth\":0,\"ticks\":\"\"},\"colorscale\":[[0.0,\"#0d0887\"],[0.1111111111111111,\"#46039f\"],[0.2222222222222222,\"#7201a8\"],[0.3333333333333333,\"#9c179e\"],[0.4444444444444444,\"#bd3786\"],[0.5555555555555556,\"#d8576b\"],[0.6666666666666666,\"#ed7953\"],[0.7777777777777778,\"#fb9f3a\"],[0.8888888888888888,\"#fdca26\"],[1.0,\"#f0f921\"]]}],\"mesh3d\":[{\"type\":\"mesh3d\",\"colorbar\":{\"outlinewidth\":0,\"ticks\":\"\"}}],\"scatter\":[{\"fillpattern\":{\"fillmode\":\"overlay\",\"size\":10,\"solidity\":0.2},\"type\":\"scatter\"}],\"parcoords\":[{\"type\":\"parcoords\",\"line\":{\"colorbar\":{\"outlinewidth\":0,\"ticks\":\"\"}}}],\"scatterpolargl\":[{\"type\":\"scatterpolargl\",\"marker\":{\"colorbar\":{\"outlinewidth\":0,\"ticks\":\"\"}}}],\"bar\":[{\"error_x\":{\"color\":\"#2a3f5f\"},\"error_y\":{\"color\":\"#2a3f5f\"},\"marker\":{\"line\":{\"color\":\"#E5ECF6\",\"width\":0.5},\"pattern\":{\"fillmode\":\"overlay\",\"size\":10,\"solidity\":0.2}},\"type\":\"bar\"}],\"scattergeo\":[{\"type\":\"scattergeo\",\"marker\":{\"colorbar\":{\"outlinewidth\":0,\"ticks\":\"\"}}}],\"scatterpolar\":[{\"type\":\"scatterpolar\",\"marker\":{\"colorbar\":{\"outlinewidth\":0,\"ticks\":\"\"}}}],\"histogram\":[{\"marker\":{\"pattern\":{\"fillmode\":\"overlay\",\"size\":10,\"solidity\":0.2}},\"type\":\"histogram\"}],\"scattergl\":[{\"type\":\"scattergl\",\"marker\":{\"colorbar\":{\"outlinewidth\":0,\"ticks\":\"\"}}}],\"scatter3d\":[{\"type\":\"scatter3d\",\"line\":{\"colorbar\":{\"outlinewidth\":0,\"ticks\":\"\"}},\"marker\":{\"colorbar\":{\"outlinewidth\":0,\"ticks\":\"\"}}}],\"scattermapbox\":[{\"type\":\"scattermapbox\",\"marker\":{\"colorbar\":{\"outlinewidth\":0,\"ticks\":\"\"}}}],\"scatterternary\":[{\"type\":\"scatterternary\",\"marker\":{\"colorbar\":{\"outlinewidth\":0,\"ticks\":\"\"}}}],\"scattercarpet\":[{\"type\":\"scattercarpet\",\"marker\":{\"colorbar\":{\"outlinewidth\":0,\"ticks\":\"\"}}}],\"carpet\":[{\"aaxis\":{\"endlinecolor\":\"#2a3f5f\",\"gridcolor\":\"white\",\"linecolor\":\"white\",\"minorgridcolor\":\"white\",\"startlinecolor\":\"#2a3f5f\"},\"baxis\":{\"endlinecolor\":\"#2a3f5f\",\"gridcolor\":\"white\",\"linecolor\":\"white\",\"minorgridcolor\":\"white\",\"startlinecolor\":\"#2a3f5f\"},\"type\":\"carpet\"}],\"table\":[{\"cells\":{\"fill\":{\"color\":\"#EBF0F8\"},\"line\":{\"color\":\"white\"}},\"header\":{\"fill\":{\"color\":\"#C8D4E3\"},\"line\":{\"color\":\"white\"}},\"type\":\"table\"}],\"barpolar\":[{\"marker\":{\"line\":{\"color\":\"#E5ECF6\",\"width\":0.5},\"pattern\":{\"fillmode\":\"overlay\",\"size\":10,\"solidity\":0.2}},\"type\":\"barpolar\"}],\"pie\":[{\"automargin\":true,\"type\":\"pie\"}]},\"layout\":{\"autotypenumbers\":\"strict\",\"colorway\":[\"#636efa\",\"#EF553B\",\"#00cc96\",\"#ab63fa\",\"#FFA15A\",\"#19d3f3\",\"#FF6692\",\"#B6E880\",\"#FF97FF\",\"#FECB52\"],\"font\":{\"color\":\"#2a3f5f\"},\"hovermode\":\"closest\",\"hoverlabel\":{\"align\":\"left\"},\"paper_bgcolor\":\"white\",\"plot_bgcolor\":\"#E5ECF6\",\"polar\":{\"bgcolor\":\"#E5ECF6\",\"angularaxis\":{\"gridcolor\":\"white\",\"linecolor\":\"white\",\"ticks\":\"\"},\"radialaxis\":{\"gridcolor\":\"white\",\"linecolor\":\"white\",\"ticks\":\"\"}},\"ternary\":{\"bgcolor\":\"#E5ECF6\",\"aaxis\":{\"gridcolor\":\"white\",\"linecolor\":\"white\",\"ticks\":\"\"},\"baxis\":{\"gridcolor\":\"white\",\"linecolor\":\"white\",\"ticks\":\"\"},\"caxis\":{\"gridcolor\":\"white\",\"linecolor\":\"white\",\"ticks\":\"\"}},\"coloraxis\":{\"colorbar\":{\"outlinewidth\":0,\"ticks\":\"\"}},\"colorscale\":{\"sequential\":[[0.0,\"#0d0887\"],[0.1111111111111111,\"#46039f\"],[0.2222222222222222,\"#7201a8\"],[0.3333333333333333,\"#9c179e\"],[0.4444444444444444,\"#bd3786\"],[0.5555555555555556,\"#d8576b\"],[0.6666666666666666,\"#ed7953\"],[0.7777777777777778,\"#fb9f3a\"],[0.8888888888888888,\"#fdca26\"],[1.0,\"#f0f921\"]],\"sequentialminus\":[[0.0,\"#0d0887\"],[0.1111111111111111,\"#46039f\"],[0.2222222222222222,\"#7201a8\"],[0.3333333333333333,\"#9c179e\"],[0.4444444444444444,\"#bd3786\"],[0.5555555555555556,\"#d8576b\"],[0.6666666666666666,\"#ed7953\"],[0.7777777777777778,\"#fb9f3a\"],[0.8888888888888888,\"#fdca26\"],[1.0,\"#f0f921\"]],\"diverging\":[[0,\"#8e0152\"],[0.1,\"#c51b7d\"],[0.2,\"#de77ae\"],[0.3,\"#f1b6da\"],[0.4,\"#fde0ef\"],[0.5,\"#f7f7f7\"],[0.6,\"#e6f5d0\"],[0.7,\"#b8e186\"],[0.8,\"#7fbc41\"],[0.9,\"#4d9221\"],[1,\"#276419\"]]},\"xaxis\":{\"gridcolor\":\"white\",\"linecolor\":\"white\",\"ticks\":\"\",\"title\":{\"standoff\":15},\"zerolinecolor\":\"white\",\"automargin\":true,\"zerolinewidth\":2},\"yaxis\":{\"gridcolor\":\"white\",\"linecolor\":\"white\",\"ticks\":\"\",\"title\":{\"standoff\":15},\"zerolinecolor\":\"white\",\"automargin\":true,\"zerolinewidth\":2},\"scene\":{\"xaxis\":{\"backgroundcolor\":\"#E5ECF6\",\"gridcolor\":\"white\",\"linecolor\":\"white\",\"showbackground\":true,\"ticks\":\"\",\"zerolinecolor\":\"white\",\"gridwidth\":2},\"yaxis\":{\"backgroundcolor\":\"#E5ECF6\",\"gridcolor\":\"white\",\"linecolor\":\"white\",\"showbackground\":true,\"ticks\":\"\",\"zerolinecolor\":\"white\",\"gridwidth\":2},\"zaxis\":{\"backgroundcolor\":\"#E5ECF6\",\"gridcolor\":\"white\",\"linecolor\":\"white\",\"showbackground\":true,\"ticks\":\"\",\"zerolinecolor\":\"white\",\"gridwidth\":2}},\"shapedefaults\":{\"line\":{\"color\":\"#2a3f5f\"}},\"annotationdefaults\":{\"arrowcolor\":\"#2a3f5f\",\"arrowhead\":0,\"arrowwidth\":1},\"geo\":{\"bgcolor\":\"white\",\"landcolor\":\"#E5ECF6\",\"subunitcolor\":\"white\",\"showland\":true,\"showlakes\":true,\"lakecolor\":\"white\"},\"title\":{\"x\":0.05},\"mapbox\":{\"style\":\"light\"}}},\"xaxis\":{\"anchor\":\"y\",\"domain\":[0.0,1.0],\"scaleanchor\":\"y\",\"constrain\":\"domain\"},\"yaxis\":{\"anchor\":\"x\",\"domain\":[0.0,1.0],\"autorange\":\"reversed\",\"constrain\":\"domain\"},\"coloraxis\":{\"colorscale\":[[0.0,\"#0d0887\"],[0.1111111111111111,\"#46039f\"],[0.2222222222222222,\"#7201a8\"],[0.3333333333333333,\"#9c179e\"],[0.4444444444444444,\"#bd3786\"],[0.5555555555555556,\"#d8576b\"],[0.6666666666666666,\"#ed7953\"],[0.7777777777777778,\"#fb9f3a\"],[0.8888888888888888,\"#fdca26\"],[1.0,\"#f0f921\"]]},\"margin\":{\"t\":60}},                        {\"responsive\": true}                    ).then(function(){\n",
              "                            \n",
              "var gd = document.getElementById('d873ae6d-4d07-451c-92b0-75af20d6aaa3');\n",
              "var x = new MutationObserver(function (mutations, observer) {{\n",
              "        var display = window.getComputedStyle(gd).display;\n",
              "        if (!display || display === 'none') {{\n",
              "            console.log([gd, 'removed!']);\n",
              "            Plotly.purge(gd);\n",
              "            observer.disconnect();\n",
              "        }}\n",
              "}});\n",
              "\n",
              "// Listen for the removal of the full notebook cells\n",
              "var notebookContainer = gd.closest('#notebook-container');\n",
              "if (notebookContainer) {{\n",
              "    x.observe(notebookContainer, {childList: true});\n",
              "}}\n",
              "\n",
              "// Listen for the clearing of the current output cell\n",
              "var outputEl = gd.closest('.output');\n",
              "if (outputEl) {{\n",
              "    x.observe(outputEl, {childList: true});\n",
              "}}\n",
              "\n",
              "                        })                };                            </script>        </div>\n",
              "</body>\n",
              "</html>"
            ]
          },
          "metadata": {}
        }
      ]
    },
    {
      "cell_type": "markdown",
      "source": [
        "![lulu.png](data:image/png;base64,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)\n",
        "\n",
        "Obs: Nós temos diversos quadrados azuis. Gostaria de destacar o ponto y = acousticness, y = loudness. O valor dessa correlação é de -0,8, logo, se trata de um valor inverso, negativo. Significa que essas características são relacionadas, mas de maneira contrária: quanto mais acústica uma música é, menos barulhenta.\n",
        "\n",
        "![lulu.png](data:image/png;base64,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)\n",
        "\n",
        "Outra análise que podemos fazer é do ponto x = acousticness, y = energy. Essa correlação tem valor -0,5. Quer dizer que elas são relacionadas e há uma tendência: quanto mais acústica uma música é, menos energética."
      ],
      "metadata": {
        "id": "xnGUF8t22cWH"
      }
    },
    {
      "cell_type": "markdown",
      "source": [
        "3.0 Clusterização por gênero musical\n",
        "\n",
        "3.1 StandardScaler\n",
        "\n",
        "Vamos analisar um novo Dataframe com a mesma estrutura do anterior, onde observamos como as características musicais mudaram, em média, ao longo dos anos. Desta vez, vamos calcular essas variações para cada gênero musical individualmente."
      ],
      "metadata": {
        "id": "XfMh9kREsDva"
      }
    },
    {
      "cell_type": "code",
      "source": [
        "url_dados_generos = 'https://github.com/IgorNascAlves/dados/blob/main/dados_musicas_genero.csv?raw=true'\n",
        "\n",
        "sessao_spark.sparkContext.addFile(url_dados_generos)\n",
        "path_dados_file = \"file://\" + SparkFiles.get(\"dados_musicas_genero.csv\")\n",
        "\n",
        "dados_generos = sessao_spark.read.csv(path_dados_file, header=True, inferSchema= True)"
      ],
      "metadata": {
        "id": "6y6KGdRD1RvS"
      },
      "execution_count": 22,
      "outputs": []
    },
    {
      "cell_type": "markdown",
      "source": [
        "Visualizando os dados de dados de gênero:"
      ],
      "metadata": {
        "id": "N55RCTsmxW5h"
      }
    },
    {
      "cell_type": "code",
      "source": [
        "dados_generos.show()"
      ],
      "metadata": {
        "colab": {
          "base_uri": "https://localhost:8080/"
        },
        "id": "gHAbXZhvw4lZ",
        "outputId": "55826235-446e-464b-d5df-dbd5de9b4bf0"
      },
      "execution_count": 23,
      "outputs": [
        {
          "output_type": "stream",
          "name": "stdout",
          "text": [
            "+----+--------------------+-------------------+-------------------+------------------+-------------------+--------------------+-------------------+-------------------+--------------------+------------------+-------------------+------------------+---+\n",
            "|mode|              genres|       acousticness|       danceability|       duration_ms|             energy|    instrumentalness|           liveness|           loudness|         speechiness|             tempo|            valence|        popularity|key|\n",
            "+----+--------------------+-------------------+-------------------+------------------+-------------------+--------------------+-------------------+-------------------+--------------------+------------------+-------------------+------------------+---+\n",
            "|   1|21st century clas...| 0.9793333333333332|0.16288333333333335|160297.66666666663|0.07131666666666665|          0.60683367|             0.3616|-31.514333333333337| 0.04056666666666667|           75.3365|0.10378333333333334| 27.83333333333333|  6|\n",
            "|   1|               432hz|            0.49478| 0.2993333333333333| 1048887.333333333| 0.4506783333333333|  0.4777616666666668|              0.131|            -16.854| 0.07681666666666667|120.28566666666666|            0.22175|              52.5|  5|\n",
            "|   1|               8-bit|              0.762| 0.7120000000000001|          115177.0|              0.818|  0.8759999999999999|              0.126|              -9.18|               0.047|           133.444|              0.975|              48.0|  7|\n",
            "|   1|                  []| 0.6514170195595453| 0.5290925603549332| 232880.8902503945| 0.4191460727353524|  0.2053091895111363|0.21869585415040735|-12.288964675489455| 0.10787155868681396| 112.8573524318416| 0.5136042963588958|20.859882191849056|  7|\n",
            "|   1|          a cappella|  0.676557304985755| 0.5389612464387464| 190628.5408867521| 0.3164335701566952|0.003003441440420227| 0.1722541371082621|-12.479387421652426| 0.08285143981481483| 112.1103620014245|0.44824865455840457| 45.82007122507122|  7|\n",
            "|   1|            abstract|            0.45921| 0.5161666666666667|          343196.5| 0.4424166666666666|  0.8496666666666667| 0.1180666666666667|-15.472083333333332|0.046516666666666664|127.88575000000002|           0.307325|              43.5|  1|\n",
            "|   1|      abstract beats| 0.3421466666666667|              0.623|          229936.2| 0.5277999999999999|  0.3336026120000001|0.09965333333333334| -7.918000000000001| 0.11637333333333333|          112.4138| 0.4935066666666666| 58.93333333333332| 10|\n",
            "|   1|    abstract hip hop| 0.2438540633608816| 0.6945709366391184|231849.23415977962| 0.6462346418732783|  0.0242312629201102| 0.1685429201101929| -7.349327823691461| 0.21425769972451789|108.24498650137741| 0.5713909090909091| 39.79070247933884|  2|\n",
            "|   0|           accordeon|0.32299999999999995|              0.588|          164000.0|              0.392|               0.441|             0.0794|            -14.899|              0.0727|           109.131| 0.7090000000000001|              39.0|  2|\n",
            "|   1|           accordion|           0.446125|          0.6248125|       167061.5625|          0.3734375|       0.19373839375|             0.1603|        -14.4870625| 0.07853750000000001|       112.8724375| 0.6586875000000001|           21.9375|  2|\n",
            "|   0|          acid house|0.06795053846153845|             0.6774|297188.05384615384| 0.7244030769230769|  0.3858910307692308| 0.2334884615384616| -9.381199999999998| 0.05585538461538461|126.49209230769232| 0.5676769230769231| 46.63846153846154|  7|\n",
            "|   1|           acid rock| 0.2569145079725167| 0.4472389930828895| 259203.9143310266| 0.5806492948018793| 0.15092567737840148| 0.2304514628310576| -11.43307330938882| 0.06759985278233482|125.65952227133604| 0.5344474777454798| 32.67595532906288|  2|\n",
            "|   1|         acid trance|            0.00683| 0.6629999999999999|          221160.0|              0.925|               0.703|              0.185|             -6.775|              0.0449|           132.687|              0.843|              62.0|  9|\n",
            "|   1|          acousmatic| 0.9170191062801932| 0.4204582850241546| 185040.2595531401| 0.2385243417874396|  0.6162484134359903| 0.2610061823671498| -20.96456474637681| 0.08061773913043478|104.07463265700486| 0.3244473852657005| 9.342524154589373|  5|\n",
            "|   1|      acoustic blues|  0.761723539455837| 0.6069147720232645|204321.25087923245| 0.3606592945953496| 0.09891813613614234|0.18309821355287112| -12.55490505937252| 0.06881536422902226|113.28452122830322|  0.633785722320662| 23.74606007693052|  7|\n",
            "|   1|        acoustic pop| 0.4902350260381985| 0.5351083171521532|235379.78355519095| 0.4764399220103099|0.033338280109024794| 0.1577504987283953| -9.297247893173367| 0.04177066481431856|117.88741975150835| 0.3794153530026807| 53.11550474564842|  7|\n",
            "|   1|       acoustic punk| 0.4049000220385675| 0.5391115702479339|192332.11845730024| 0.6158241505968779|0.061939951303948575|0.20948062442607893| -8.010774104683195| 0.06357052341597796|122.30848852157943| 0.7305188246097337| 40.37649219467401|  9|\n",
            "|   1|       acoustic rock| 0.6132007936507936| 0.5243968253968254|          195036.0| 0.4160026455026456| 0.32147492174603176|0.14051838624338622| -10.54062037037037| 0.03468108465608465| 122.6556626984127| 0.3802986772486773| 51.10978835978836|  7|\n",
            "|   0|         action rock|              0.229|              0.412|          198400.0|              0.938|             2.59E-4|              0.106|             -0.253|               0.182|            97.489|               0.32|              47.0|  4|\n",
            "|   1|           adoracion| 0.4328571428571428| 0.5047142857142857| 302906.0714285714| 0.5207499999999999|                 0.0|0.31598571428571426| -8.010071428571429|0.038203571428571434| 130.7106785714286| 0.3115714285714285| 46.39285714285714|  9|\n",
            "+----+--------------------+-------------------+-------------------+------------------+-------------------+--------------------+-------------------+-------------------+--------------------+------------------+-------------------+------------------+---+\n",
            "only showing top 20 rows\n",
            "\n"
          ]
        }
      ]
    },
    {
      "cell_type": "markdown",
      "source": [
        "Verificando a quantidade de linhas:"
      ],
      "metadata": {
        "id": "h2FQ_sRmxpwY"
      }
    },
    {
      "cell_type": "code",
      "source": [
        "dados_generos.count()"
      ],
      "metadata": {
        "colab": {
          "base_uri": "https://localhost:8080/"
        },
        "id": "0FXjCsI6xgDR",
        "outputId": "0525b70f-5c6a-4a91-f7f7-7a7f35a71671"
      },
      "execution_count": 24,
      "outputs": [
        {
          "output_type": "execute_result",
          "data": {
            "text/plain": [
              "2973"
            ]
          },
          "metadata": {},
          "execution_count": 24
        }
      ]
    },
    {
      "cell_type": "markdown",
      "source": [
        "Verificando a quantidade de gêneros:"
      ],
      "metadata": {
        "id": "Pw5vbHv8xtlq"
      }
    },
    {
      "cell_type": "code",
      "source": [
        "dados_generos.select('genres').distinct().count()"
      ],
      "metadata": {
        "colab": {
          "base_uri": "https://localhost:8080/"
        },
        "id": "pSY-5OdpxsIX",
        "outputId": "6678f3ec-b7b5-4a3c-b959-bbd62f4ed46b"
      },
      "execution_count": 25,
      "outputs": [
        {
          "output_type": "execute_result",
          "data": {
            "text/plain": [
              "2973"
            ]
          },
          "metadata": {},
          "execution_count": 25
        }
      ]
    },
    {
      "cell_type": "markdown",
      "source": [
        "Obs: Foi verificado que temos um gênero musical por linha."
      ],
      "metadata": {
        "id": "lRJUDmp9yCwL"
      }
    },
    {
      "cell_type": "markdown",
      "source": [
        "Verificando a quantidade de caracteristicas musicais:"
      ],
      "metadata": {
        "id": "VfkGMfwryJfT"
      }
    },
    {
      "cell_type": "code",
      "source": [
        "len(dados_generos.columns)"
      ],
      "metadata": {
        "colab": {
          "base_uri": "https://localhost:8080/"
        },
        "id": "d_y73DzJx57Y",
        "outputId": "420e112b-0552-4b92-ba8c-25da19d4838e"
      },
      "execution_count": 26,
      "outputs": [
        {
          "output_type": "execute_result",
          "data": {
            "text/plain": [
              "14"
            ]
          },
          "metadata": {},
          "execution_count": 26
        }
      ]
    },
    {
      "cell_type": "markdown",
      "source": [
        "Ao trabalharmos com o Spark, um ponto importante é fazer a transformação da nossa base de dados. Temos diversas colunas representando os dados e o Spark, para aplicar determinadas técnicas, funciona vetorizando as colunas. Então, ao invés de várias colunas, queremos uma com um grande vetor que represente os dados:"
      ],
      "metadata": {
        "id": "5AEwiu6FztYg"
      }
    },
    {
      "cell_type": "code",
      "source": [
        "from pyspark.ml.feature import VectorAssembler"
      ],
      "metadata": {
        "id": "P2lm6FeDyJvQ"
      },
      "execution_count": 27,
      "outputs": []
    },
    {
      "cell_type": "code",
      "source": [
        "dados_generos.columns"
      ],
      "metadata": {
        "colab": {
          "base_uri": "https://localhost:8080/"
        },
        "id": "Ok7hYomSzcmL",
        "outputId": "11b59977-7444-4c4d-f09b-1c517ae3d559"
      },
      "execution_count": 28,
      "outputs": [
        {
          "output_type": "execute_result",
          "data": {
            "text/plain": [
              "['mode',\n",
              " 'genres',\n",
              " 'acousticness',\n",
              " 'danceability',\n",
              " 'duration_ms',\n",
              " 'energy',\n",
              " 'instrumentalness',\n",
              " 'liveness',\n",
              " 'loudness',\n",
              " 'speechiness',\n",
              " 'tempo',\n",
              " 'valence',\n",
              " 'popularity',\n",
              " 'key']"
            ]
          },
          "metadata": {},
          "execution_count": 28
        }
      ]
    },
    {
      "cell_type": "code",
      "source": [
        "X = dados_generos.columns\n",
        "X.remove('genres')\n",
        "X"
      ],
      "metadata": {
        "colab": {
          "base_uri": "https://localhost:8080/"
        },
        "id": "lAARw8bHzgcP",
        "outputId": "fec040fe-457f-4633-deda-bc51bc76c66d"
      },
      "execution_count": 29,
      "outputs": [
        {
          "output_type": "execute_result",
          "data": {
            "text/plain": [
              "['mode',\n",
              " 'acousticness',\n",
              " 'danceability',\n",
              " 'duration_ms',\n",
              " 'energy',\n",
              " 'instrumentalness',\n",
              " 'liveness',\n",
              " 'loudness',\n",
              " 'speechiness',\n",
              " 'tempo',\n",
              " 'valence',\n",
              " 'popularity',\n",
              " 'key']"
            ]
          },
          "metadata": {},
          "execution_count": 29
        }
      ]
    },
    {
      "cell_type": "markdown",
      "source": [
        "Criando o vetorizador:"
      ],
      "metadata": {
        "id": "sRQQJmBiz_HS"
      }
    },
    {
      "cell_type": "code",
      "source": [
        "dados_generos_vector = VectorAssembler(inputCols=X, outputCol='features').transform(dados_generos).select(['features', 'genres'])"
      ],
      "metadata": {
        "id": "vb39B8PD0BrA"
      },
      "execution_count": 30,
      "outputs": []
    },
    {
      "cell_type": "markdown",
      "source": [
        "Visualizando os dados:"
      ],
      "metadata": {
        "id": "Qe2q_zsy0lFI"
      }
    },
    {
      "cell_type": "code",
      "source": [
        "dados_generos_vector.show()"
      ],
      "metadata": {
        "colab": {
          "base_uri": "https://localhost:8080/"
        },
        "id": "NlUhlu8i0RtT",
        "outputId": "9e3a829d-2d65-4528-fccd-b4c6a82e7791"
      },
      "execution_count": 31,
      "outputs": [
        {
          "output_type": "stream",
          "name": "stdout",
          "text": [
            "+--------------------+--------------------+\n",
            "|            features|              genres|\n",
            "+--------------------+--------------------+\n",
            "|[1.0,0.9793333333...|21st century clas...|\n",
            "|[1.0,0.49478,0.29...|               432hz|\n",
            "|[1.0,0.762,0.7120...|               8-bit|\n",
            "|[1.0,0.6514170195...|                  []|\n",
            "|[1.0,0.6765573049...|          a cappella|\n",
            "|[1.0,0.45921,0.51...|            abstract|\n",
            "|[1.0,0.3421466666...|      abstract beats|\n",
            "|[1.0,0.2438540633...|    abstract hip hop|\n",
            "|[0.0,0.3229999999...|           accordeon|\n",
            "|[1.0,0.446125,0.6...|           accordion|\n",
            "|[0.0,0.0679505384...|          acid house|\n",
            "|[1.0,0.2569145079...|           acid rock|\n",
            "|[1.0,0.00683,0.66...|         acid trance|\n",
            "|[1.0,0.9170191062...|          acousmatic|\n",
            "|[1.0,0.7617235394...|      acoustic blues|\n",
            "|[1.0,0.4902350260...|        acoustic pop|\n",
            "|[1.0,0.4049000220...|       acoustic punk|\n",
            "|[1.0,0.6132007936...|       acoustic rock|\n",
            "|[0.0,0.229,0.412,...|         action rock|\n",
            "|[1.0,0.4328571428...|           adoracion|\n",
            "+--------------------+--------------------+\n",
            "only showing top 20 rows\n",
            "\n"
          ]
        }
      ]
    },
    {
      "cell_type": "markdown",
      "source": [
        "Queremos criar componentes que representarão as variações dos dados com a técnica PCA e será necessário aplicar outra técnica chamada Standardscaler, que vai fazer uma conta, permitindo que todas as nossas colunas estejam na mesma escala:"
      ],
      "metadata": {
        "id": "rJR3fgLHyxDy"
      }
    },
    {
      "cell_type": "code",
      "source": [
        "from pyspark.ml.feature import StandardScaler"
      ],
      "metadata": {
        "id": "8sG7C1Zk0QO9"
      },
      "execution_count": 32,
      "outputs": []
    },
    {
      "cell_type": "code",
      "source": [
        "scaler = StandardScaler(inputCol='features', outputCol='scaled_features')\n",
        "scaler_model = scaler.fit(dados_generos_vector)\n",
        "dados_generos_scaler = scaler_model.transform(dados_generos_vector)"
      ],
      "metadata": {
        "id": "37X1likA1H9w"
      },
      "execution_count": 33,
      "outputs": []
    },
    {
      "cell_type": "markdown",
      "source": [
        "Visualisando o resultado:"
      ],
      "metadata": {
        "id": "GZj13l8n10Uj"
      }
    },
    {
      "cell_type": "code",
      "source": [
        "dados_generos_scaler.show()"
      ],
      "metadata": {
        "colab": {
          "base_uri": "https://localhost:8080/"
        },
        "id": "TwFFhqtH131I",
        "outputId": "d0085197-80c9-4fe6-bc80-48fe8a84e47d"
      },
      "execution_count": 34,
      "outputs": [
        {
          "output_type": "stream",
          "name": "stdout",
          "text": [
            "+--------------------+--------------------+--------------------+\n",
            "|            features|              genres|     scaled_features|\n",
            "+--------------------+--------------------+--------------------+\n",
            "|[1.0,0.9793333333...|21st century clas...|[2.68174831000279...|\n",
            "|[1.0,0.49478,0.29...|               432hz|[2.68174831000279...|\n",
            "|[1.0,0.762,0.7120...|               8-bit|[2.68174831000279...|\n",
            "|[1.0,0.6514170195...|                  []|[2.68174831000279...|\n",
            "|[1.0,0.6765573049...|          a cappella|[2.68174831000279...|\n",
            "|[1.0,0.45921,0.51...|            abstract|[2.68174831000279...|\n",
            "|[1.0,0.3421466666...|      abstract beats|[2.68174831000279...|\n",
            "|[1.0,0.2438540633...|    abstract hip hop|[2.68174831000279...|\n",
            "|[0.0,0.3229999999...|           accordeon|[0.0,1.0101313736...|\n",
            "|[1.0,0.446125,0.6...|           accordion|[2.68174831000279...|\n",
            "|[0.0,0.0679505384...|          acid house|[0.0,0.2125045534...|\n",
            "|[1.0,0.2569145079...|           acid rock|[2.68174831000279...|\n",
            "|[1.0,0.00683,0.66...|         acid trance|[2.68174831000279...|\n",
            "|[1.0,0.9170191062...|          acousmatic|[2.68174831000279...|\n",
            "|[1.0,0.7617235394...|      acoustic blues|[2.68174831000279...|\n",
            "|[1.0,0.4902350260...|        acoustic pop|[2.68174831000279...|\n",
            "|[1.0,0.4049000220...|       acoustic punk|[2.68174831000279...|\n",
            "|[1.0,0.6132007936...|       acoustic rock|[2.68174831000279...|\n",
            "|[0.0,0.229,0.412,...|         action rock|[0.0,0.7161612525...|\n",
            "|[1.0,0.4328571428...|           adoracion|[2.68174831000279...|\n",
            "+--------------------+--------------------+--------------------+\n",
            "only showing top 20 rows\n",
            "\n"
          ]
        }
      ]
    },
    {
      "cell_type": "markdown",
      "source": [
        "3.2 PCA - Principal Component Analysis\n",
        "\n",
        "Já preparamos os nossos dados: vetorizamos, escalamos e, agora, estamos prontos para usarmos o PCA. Relembrando que a ideia do PCA é reunir as diversas features das 14 colunas e reduzi-las em apenas duas, permitindo, desta maneira, a construção de análises gráficas e um estudo mais apurado das informações."
      ],
      "metadata": {
        "id": "ubKYbLzt2RrY"
      }
    },
    {
      "cell_type": "code",
      "source": [
        "from pyspark.ml.feature import PCA"
      ],
      "metadata": {
        "id": "_4ry7Cnq16Uh"
      },
      "execution_count": 35,
      "outputs": []
    },
    {
      "cell_type": "code",
      "source": [
        "pca = PCA(k=2, inputCol='scaled_features', outputCol='pca_features')\n",
        "model_pca = pca.fit(dados_generos_scaler)\n",
        "dados_generos_pca = model_pca.transform(dados_generos_scaler)"
      ],
      "metadata": {
        "id": "C9pKKWrO5tqM"
      },
      "execution_count": 36,
      "outputs": []
    },
    {
      "cell_type": "markdown",
      "source": [
        "Visualizando os dados:"
      ],
      "metadata": {
        "id": "0YZLyNTe69z6"
      }
    },
    {
      "cell_type": "code",
      "source": [
        "dados_generos_pca.select('pca_features').show(truncate=False)"
      ],
      "metadata": {
        "colab": {
          "base_uri": "https://localhost:8080/"
        },
        "id": "hOr8e4-n6_9p",
        "outputId": "fb2588eb-db76-484c-d83a-0c6368e240f2"
      },
      "execution_count": 37,
      "outputs": [
        {
          "output_type": "stream",
          "name": "stdout",
          "text": [
            "+-----------------------------------------+\n",
            "|pca_features                             |\n",
            "+-----------------------------------------+\n",
            "|[2.5070953668885667,0.43816913737697943] |\n",
            "|[-0.5969679056633488,4.981612052751348]  |\n",
            "|[-4.158460276223561,-0.8366525081079943] |\n",
            "|[-2.387344878512217,-0.4877989015663405] |\n",
            "|[-2.6501218371679083,-0.5756819768820474]|\n",
            "|[-1.496509120336763,1.8644183183717797]  |\n",
            "|[-3.923520772157324,0.2851835002352836]  |\n",
            "|[-4.611011109831114,-0.6783790472312378] |\n",
            "|[-2.837690063084229,-0.5712993716580518] |\n",
            "|[-2.706690139892783,-1.25937880797083]   |\n",
            "|[-4.6983313839242875,1.2765569680619446] |\n",
            "|[-3.375987496679868,0.7560741064307471]  |\n",
            "|[-5.608998877066021,1.0427311644393213]  |\n",
            "|[0.2954946352117687,-0.2763864586236301] |\n",
            "|[-2.5725591062870428,-1.3169815431109795]|\n",
            "|[-3.4008228020493454,0.5073029625781897] |\n",
            "|[-4.366720316263419,-0.3364827059771091] |\n",
            "|[-2.7254698167724003,0.5058604987046365] |\n",
            "|[-4.958112358381605,1.2627579957290729]  |\n",
            "|[-3.6934951846422712,1.3822762065335454] |\n",
            "+-----------------------------------------+\n",
            "only showing top 20 rows\n",
            "\n"
          ]
        }
      ]
    },
    {
      "cell_type": "markdown",
      "source": [
        "Criando um pipeline que guardará toda essa estratégia de transformação de dados em um objeto só:"
      ],
      "metadata": {
        "id": "QOZEXieu7yKq"
      }
    },
    {
      "cell_type": "code",
      "source": [
        "from pyspark.ml import Pipeline"
      ],
      "metadata": {
        "id": "UG4Ni1RV7ChA"
      },
      "execution_count": 38,
      "outputs": []
    },
    {
      "cell_type": "code",
      "source": [
        "pca_pipeline = Pipeline(stages=[VectorAssembler(inputCols=X, outputCol='features'),\n",
        "                                StandardScaler(inputCol='features', outputCol='scaled_features'),\n",
        "                                PCA(k=2, inputCol='scaled_features', outputCol='pca_features')])"
      ],
      "metadata": {
        "id": "5-TrJSS572KS"
      },
      "execution_count": 39,
      "outputs": []
    },
    {
      "cell_type": "markdown",
      "source": [
        "Ajustando o Pipeline:"
      ],
      "metadata": {
        "id": "AOlw79eeEUiv"
      }
    },
    {
      "cell_type": "code",
      "source": [
        "pca_pipeline_model = pca_pipeline.fit(dados_generos)"
      ],
      "metadata": {
        "id": "WYNGKuRcDwKR"
      },
      "execution_count": 40,
      "outputs": []
    },
    {
      "cell_type": "markdown",
      "source": [
        "Fazendo a transformação dos nossos dados:"
      ],
      "metadata": {
        "id": "VojovlqXEgpU"
      }
    },
    {
      "cell_type": "code",
      "source": [
        "dados_generos_pca = pca_pipeline_model.transform(dados_generos)"
      ],
      "metadata": {
        "id": "sIj2AAIkEhVe"
      },
      "execution_count": 41,
      "outputs": []
    },
    {
      "cell_type": "markdown",
      "source": [
        "Visualizando os dados:"
      ],
      "metadata": {
        "id": "t3_nvWeDE12E"
      }
    },
    {
      "cell_type": "code",
      "source": [
        "dados_generos_pca.show()"
      ],
      "metadata": {
        "colab": {
          "base_uri": "https://localhost:8080/"
        },
        "id": "SxTDk4YbEz6G",
        "outputId": "b559b10b-88b6-4da6-9278-e87b5243ecd0"
      },
      "execution_count": 42,
      "outputs": [
        {
          "output_type": "stream",
          "name": "stdout",
          "text": [
            "+----+--------------------+-------------------+-------------------+------------------+-------------------+--------------------+-------------------+-------------------+--------------------+------------------+-------------------+------------------+---+--------------------+--------------------+--------------------+\n",
            "|mode|              genres|       acousticness|       danceability|       duration_ms|             energy|    instrumentalness|           liveness|           loudness|         speechiness|             tempo|            valence|        popularity|key|            features|     scaled_features|        pca_features|\n",
            "+----+--------------------+-------------------+-------------------+------------------+-------------------+--------------------+-------------------+-------------------+--------------------+------------------+-------------------+------------------+---+--------------------+--------------------+--------------------+\n",
            "|   1|21st century clas...| 0.9793333333333332|0.16288333333333335|160297.66666666663|0.07131666666666665|          0.60683367|             0.3616|-31.514333333333337| 0.04056666666666667|           75.3365|0.10378333333333334| 27.83333333333333|  6|[1.0,0.9793333333...|[2.68174831000279...|[2.50709536688856...|\n",
            "|   1|               432hz|            0.49478| 0.2993333333333333| 1048887.333333333| 0.4506783333333333|  0.4777616666666668|              0.131|            -16.854| 0.07681666666666667|120.28566666666666|            0.22175|              52.5|  5|[1.0,0.49478,0.29...|[2.68174831000279...|[-0.5969679056633...|\n",
            "|   1|               8-bit|              0.762| 0.7120000000000001|          115177.0|              0.818|  0.8759999999999999|              0.126|              -9.18|               0.047|           133.444|              0.975|              48.0|  7|[1.0,0.762,0.7120...|[2.68174831000279...|[-4.1584602762235...|\n",
            "|   1|                  []| 0.6514170195595453| 0.5290925603549332| 232880.8902503945| 0.4191460727353524|  0.2053091895111363|0.21869585415040735|-12.288964675489455| 0.10787155868681396| 112.8573524318416| 0.5136042963588958|20.859882191849056|  7|[1.0,0.6514170195...|[2.68174831000279...|[-2.3873448785122...|\n",
            "|   1|          a cappella|  0.676557304985755| 0.5389612464387464| 190628.5408867521| 0.3164335701566952|0.003003441440420227| 0.1722541371082621|-12.479387421652426| 0.08285143981481483| 112.1103620014245|0.44824865455840457| 45.82007122507122|  7|[1.0,0.6765573049...|[2.68174831000279...|[-2.6501218371679...|\n",
            "|   1|            abstract|            0.45921| 0.5161666666666667|          343196.5| 0.4424166666666666|  0.8496666666666667| 0.1180666666666667|-15.472083333333332|0.046516666666666664|127.88575000000002|           0.307325|              43.5|  1|[1.0,0.45921,0.51...|[2.68174831000279...|[-1.4965091203367...|\n",
            "|   1|      abstract beats| 0.3421466666666667|              0.623|          229936.2| 0.5277999999999999|  0.3336026120000001|0.09965333333333334| -7.918000000000001| 0.11637333333333333|          112.4138| 0.4935066666666666| 58.93333333333332| 10|[1.0,0.3421466666...|[2.68174831000279...|[-3.9235207721573...|\n",
            "|   1|    abstract hip hop| 0.2438540633608816| 0.6945709366391184|231849.23415977962| 0.6462346418732783|  0.0242312629201102| 0.1685429201101929| -7.349327823691461| 0.21425769972451789|108.24498650137741| 0.5713909090909091| 39.79070247933884|  2|[1.0,0.2438540633...|[2.68174831000279...|[-4.6110111098311...|\n",
            "|   0|           accordeon|0.32299999999999995|              0.588|          164000.0|              0.392|               0.441|             0.0794|            -14.899|              0.0727|           109.131| 0.7090000000000001|              39.0|  2|[0.0,0.3229999999...|[0.0,1.0101313736...|[-2.8376900630842...|\n",
            "|   1|           accordion|           0.446125|          0.6248125|       167061.5625|          0.3734375|       0.19373839375|             0.1603|        -14.4870625| 0.07853750000000001|       112.8724375| 0.6586875000000001|           21.9375|  2|[1.0,0.446125,0.6...|[2.68174831000279...|[-2.7066901398927...|\n",
            "|   0|          acid house|0.06795053846153845|             0.6774|297188.05384615384| 0.7244030769230769|  0.3858910307692308| 0.2334884615384616| -9.381199999999998| 0.05585538461538461|126.49209230769232| 0.5676769230769231| 46.63846153846154|  7|[0.0,0.0679505384...|[0.0,0.2125045534...|[-4.6983313839242...|\n",
            "|   1|           acid rock| 0.2569145079725167| 0.4472389930828895| 259203.9143310266| 0.5806492948018793| 0.15092567737840148| 0.2304514628310576| -11.43307330938882| 0.06759985278233482|125.65952227133604| 0.5344474777454798| 32.67595532906288|  2|[1.0,0.2569145079...|[2.68174831000279...|[-3.3759874966798...|\n",
            "|   1|         acid trance|            0.00683| 0.6629999999999999|          221160.0|              0.925|               0.703|              0.185|             -6.775|              0.0449|           132.687|              0.843|              62.0|  9|[1.0,0.00683,0.66...|[2.68174831000279...|[-5.6089988770660...|\n",
            "|   1|          acousmatic| 0.9170191062801932| 0.4204582850241546| 185040.2595531401| 0.2385243417874396|  0.6162484134359903| 0.2610061823671498| -20.96456474637681| 0.08061773913043478|104.07463265700486| 0.3244473852657005| 9.342524154589373|  5|[1.0,0.9170191062...|[2.68174831000279...|[0.29549463521176...|\n",
            "|   1|      acoustic blues|  0.761723539455837| 0.6069147720232645|204321.25087923245| 0.3606592945953496| 0.09891813613614234|0.18309821355287112| -12.55490505937252| 0.06881536422902226|113.28452122830322|  0.633785722320662| 23.74606007693052|  7|[1.0,0.7617235394...|[2.68174831000279...|[-2.5725591062870...|\n",
            "|   1|        acoustic pop| 0.4902350260381985| 0.5351083171521532|235379.78355519095| 0.4764399220103099|0.033338280109024794| 0.1577504987283953| -9.297247893173367| 0.04177066481431856|117.88741975150835| 0.3794153530026807| 53.11550474564842|  7|[1.0,0.4902350260...|[2.68174831000279...|[-3.4008228020493...|\n",
            "|   1|       acoustic punk| 0.4049000220385675| 0.5391115702479339|192332.11845730024| 0.6158241505968779|0.061939951303948575|0.20948062442607893| -8.010774104683195| 0.06357052341597796|122.30848852157943| 0.7305188246097337| 40.37649219467401|  9|[1.0,0.4049000220...|[2.68174831000279...|[-4.3667203162634...|\n",
            "|   1|       acoustic rock| 0.6132007936507936| 0.5243968253968254|          195036.0| 0.4160026455026456| 0.32147492174603176|0.14051838624338622| -10.54062037037037| 0.03468108465608465| 122.6556626984127| 0.3802986772486773| 51.10978835978836|  7|[1.0,0.6132007936...|[2.68174831000279...|[-2.7254698167724...|\n",
            "|   0|         action rock|              0.229|              0.412|          198400.0|              0.938|             2.59E-4|              0.106|             -0.253|               0.182|            97.489|               0.32|              47.0|  4|[0.0,0.229,0.412,...|[0.0,0.7161612525...|[-4.9581123583816...|\n",
            "|   1|           adoracion| 0.4328571428571428| 0.5047142857142857| 302906.0714285714| 0.5207499999999999|                 0.0|0.31598571428571426| -8.010071428571429|0.038203571428571434| 130.7106785714286| 0.3115714285714285| 46.39285714285714|  9|[1.0,0.4328571428...|[2.68174831000279...|[-3.6934951846422...|\n",
            "+----+--------------------+-------------------+-------------------+------------------+-------------------+--------------------+-------------------+-------------------+--------------------+------------------+-------------------+------------------+---+--------------------+--------------------+--------------------+\n",
            "only showing top 20 rows\n",
            "\n"
          ]
        }
      ]
    },
    {
      "cell_type": "markdown",
      "source": [
        "Visualizando a última coluna:"
      ],
      "metadata": {
        "id": "deyQRh8UFImm"
      }
    },
    {
      "cell_type": "code",
      "source": [
        "dados_generos_pca.select('pca_features').show(truncate=False)"
      ],
      "metadata": {
        "colab": {
          "base_uri": "https://localhost:8080/"
        },
        "id": "IIBPw93CE5-L",
        "outputId": "1f4b8c8b-83b1-4953-d52c-d85f9e2d5c5a"
      },
      "execution_count": 43,
      "outputs": [
        {
          "output_type": "stream",
          "name": "stdout",
          "text": [
            "+-----------------------------------------+\n",
            "|pca_features                             |\n",
            "+-----------------------------------------+\n",
            "|[2.5070953668885667,0.43816913737697943] |\n",
            "|[-0.5969679056633488,4.981612052751348]  |\n",
            "|[-4.158460276223561,-0.8366525081079943] |\n",
            "|[-2.387344878512217,-0.4877989015663405] |\n",
            "|[-2.6501218371679083,-0.5756819768820474]|\n",
            "|[-1.496509120336763,1.8644183183717797]  |\n",
            "|[-3.923520772157324,0.2851835002352836]  |\n",
            "|[-4.611011109831114,-0.6783790472312378] |\n",
            "|[-2.837690063084229,-0.5712993716580518] |\n",
            "|[-2.706690139892783,-1.25937880797083]   |\n",
            "|[-4.6983313839242875,1.2765569680619446] |\n",
            "|[-3.375987496679868,0.7560741064307471]  |\n",
            "|[-5.608998877066021,1.0427311644393213]  |\n",
            "|[0.2954946352117687,-0.2763864586236301] |\n",
            "|[-2.5725591062870428,-1.3169815431109795]|\n",
            "|[-3.4008228020493454,0.5073029625781897] |\n",
            "|[-4.366720316263419,-0.3364827059771091] |\n",
            "|[-2.7254698167724003,0.5058604987046365] |\n",
            "|[-4.958112358381605,1.2627579957290729]  |\n",
            "|[-3.6934951846422712,1.3822762065335454] |\n",
            "+-----------------------------------------+\n",
            "only showing top 20 rows\n",
            "\n"
          ]
        }
      ]
    },
    {
      "cell_type": "markdown",
      "source": [
        "Obs: Fizemos um resumo das nossas features, isto é, dos nossos dados de gêneros musicais, em apenas duas componentes e estamos prontos para agruparmos esses diversos gêneros musicais para descobrirmos se realmente são próximos uns dos outros, em outras palavras, se apenas com as características musicais é possível fazer esses agrupamentos."
      ],
      "metadata": {
        "id": "9EdKNIfuFdfb"
      }
    },
    {
      "cell_type": "markdown",
      "source": [
        "3.3 K-Means\n",
        "\n",
        "Fazendo o agrupamento:"
      ],
      "metadata": {
        "id": "luuOuGDwFgOC"
      }
    },
    {
      "cell_type": "code",
      "source": [
        "from pyspark.ml.clustering import KMeans"
      ],
      "metadata": {
        "id": "z-4LFyuNFkzh"
      },
      "execution_count": 44,
      "outputs": []
    },
    {
      "cell_type": "markdown",
      "source": [
        "Definindo o Seed:"
      ],
      "metadata": {
        "id": "0T8L1bNJNOO4"
      }
    },
    {
      "cell_type": "code",
      "source": [
        "SEED = 1224"
      ],
      "metadata": {
        "id": "oC0iWeutNK2N"
      },
      "execution_count": 45,
      "outputs": []
    },
    {
      "cell_type": "markdown",
      "source": [
        "Definindo uma váriavel:"
      ],
      "metadata": {
        "id": "BcZ9RpcUMO3i"
      }
    },
    {
      "cell_type": "code",
      "source": [
        "kmeans = KMeans(featuresCol='pca_features', predictionCol='cluster_pca').setK(5).setSeed(SEED)"
      ],
      "metadata": {
        "id": "EXLfIFIzMHCh"
      },
      "execution_count": 46,
      "outputs": []
    },
    {
      "cell_type": "markdown",
      "source": [
        "Ajustando o algoritmo:"
      ],
      "metadata": {
        "id": "efaQbQ-NM8ne"
      }
    },
    {
      "cell_type": "code",
      "source": [
        "model_kmeans = kmeans.fit(dados_generos_pca)"
      ],
      "metadata": {
        "id": "-794C4ZAMEeQ"
      },
      "execution_count": 47,
      "outputs": []
    },
    {
      "cell_type": "markdown",
      "source": [
        "Salvando as informações:"
      ],
      "metadata": {
        "id": "YFRsljggN0sz"
      }
    },
    {
      "cell_type": "code",
      "source": [
        "predictions_kmeans = model_kmeans.transform(dados_generos_pca)"
      ],
      "metadata": {
        "id": "W9hazvF0Nzr_"
      },
      "execution_count": 48,
      "outputs": []
    },
    {
      "cell_type": "markdown",
      "source": [
        "Visualizano o dataframe:"
      ],
      "metadata": {
        "id": "o7aXKduaOYgS"
      }
    },
    {
      "cell_type": "code",
      "source": [
        "predictions_kmeans.show()"
      ],
      "metadata": {
        "colab": {
          "base_uri": "https://localhost:8080/"
        },
        "id": "tL1wRbeyOXau",
        "outputId": "8bc5514c-f295-46a0-9a50-5996bcee8928"
      },
      "execution_count": 49,
      "outputs": [
        {
          "output_type": "stream",
          "name": "stdout",
          "text": [
            "+----+--------------------+-------------------+-------------------+------------------+-------------------+--------------------+-------------------+-------------------+--------------------+------------------+-------------------+------------------+---+--------------------+--------------------+--------------------+-----------+\n",
            "|mode|              genres|       acousticness|       danceability|       duration_ms|             energy|    instrumentalness|           liveness|           loudness|         speechiness|             tempo|            valence|        popularity|key|            features|     scaled_features|        pca_features|cluster_pca|\n",
            "+----+--------------------+-------------------+-------------------+------------------+-------------------+--------------------+-------------------+-------------------+--------------------+------------------+-------------------+------------------+---+--------------------+--------------------+--------------------+-----------+\n",
            "|   1|21st century clas...| 0.9793333333333332|0.16288333333333335|160297.66666666663|0.07131666666666665|          0.60683367|             0.3616|-31.514333333333337| 0.04056666666666667|           75.3365|0.10378333333333334| 27.83333333333333|  6|[1.0,0.9793333333...|[2.68174831000279...|[2.50709536688856...|          2|\n",
            "|   1|               432hz|            0.49478| 0.2993333333333333| 1048887.333333333| 0.4506783333333333|  0.4777616666666668|              0.131|            -16.854| 0.07681666666666667|120.28566666666666|            0.22175|              52.5|  5|[1.0,0.49478,0.29...|[2.68174831000279...|[-0.5969679056633...|          2|\n",
            "|   1|               8-bit|              0.762| 0.7120000000000001|          115177.0|              0.818|  0.8759999999999999|              0.126|              -9.18|               0.047|           133.444|              0.975|              48.0|  7|[1.0,0.762,0.7120...|[2.68174831000279...|[-4.1584602762235...|          4|\n",
            "|   1|                  []| 0.6514170195595453| 0.5290925603549332| 232880.8902503945| 0.4191460727353524|  0.2053091895111363|0.21869585415040735|-12.288964675489455| 0.10787155868681396| 112.8573524318416| 0.5136042963588958|20.859882191849056|  7|[1.0,0.6514170195...|[2.68174831000279...|[-2.3873448785122...|          0|\n",
            "|   1|          a cappella|  0.676557304985755| 0.5389612464387464| 190628.5408867521| 0.3164335701566952|0.003003441440420227| 0.1722541371082621|-12.479387421652426| 0.08285143981481483| 112.1103620014245|0.44824865455840457| 45.82007122507122|  7|[1.0,0.6765573049...|[2.68174831000279...|[-2.6501218371679...|          0|\n",
            "|   1|            abstract|            0.45921| 0.5161666666666667|          343196.5| 0.4424166666666666|  0.8496666666666667| 0.1180666666666667|-15.472083333333332|0.046516666666666664|127.88575000000002|           0.307325|              43.5|  1|[1.0,0.45921,0.51...|[2.68174831000279...|[-1.4965091203367...|          2|\n",
            "|   1|      abstract beats| 0.3421466666666667|              0.623|          229936.2| 0.5277999999999999|  0.3336026120000001|0.09965333333333334| -7.918000000000001| 0.11637333333333333|          112.4138| 0.4935066666666666| 58.93333333333332| 10|[1.0,0.3421466666...|[2.68174831000279...|[-3.9235207721573...|          4|\n",
            "|   1|    abstract hip hop| 0.2438540633608816| 0.6945709366391184|231849.23415977962| 0.6462346418732783|  0.0242312629201102| 0.1685429201101929| -7.349327823691461| 0.21425769972451789|108.24498650137741| 0.5713909090909091| 39.79070247933884|  2|[1.0,0.2438540633...|[2.68174831000279...|[-4.6110111098311...|          1|\n",
            "|   0|           accordeon|0.32299999999999995|              0.588|          164000.0|              0.392|               0.441|             0.0794|            -14.899|              0.0727|           109.131| 0.7090000000000001|              39.0|  2|[0.0,0.3229999999...|[0.0,1.0101313736...|[-2.8376900630842...|          4|\n",
            "|   1|           accordion|           0.446125|          0.6248125|       167061.5625|          0.3734375|       0.19373839375|             0.1603|        -14.4870625| 0.07853750000000001|       112.8724375| 0.6586875000000001|           21.9375|  2|[1.0,0.446125,0.6...|[2.68174831000279...|[-2.7066901398927...|          0|\n",
            "|   0|          acid house|0.06795053846153845|             0.6774|297188.05384615384| 0.7244030769230769|  0.3858910307692308| 0.2334884615384616| -9.381199999999998| 0.05585538461538461|126.49209230769232| 0.5676769230769231| 46.63846153846154|  7|[0.0,0.0679505384...|[0.0,0.2125045534...|[-4.6983313839242...|          3|\n",
            "|   1|           acid rock| 0.2569145079725167| 0.4472389930828895| 259203.9143310266| 0.5806492948018793| 0.15092567737840148| 0.2304514628310576| -11.43307330938882| 0.06759985278233482|125.65952227133604| 0.5344474777454798| 32.67595532906288|  2|[1.0,0.2569145079...|[2.68174831000279...|[-3.3759874966798...|          4|\n",
            "|   1|         acid trance|            0.00683| 0.6629999999999999|          221160.0|              0.925|               0.703|              0.185|             -6.775|              0.0449|           132.687|              0.843|              62.0|  9|[1.0,0.00683,0.66...|[2.68174831000279...|[-5.6089988770660...|          1|\n",
            "|   1|          acousmatic| 0.9170191062801932| 0.4204582850241546| 185040.2595531401| 0.2385243417874396|  0.6162484134359903| 0.2610061823671498| -20.96456474637681| 0.08061773913043478|104.07463265700486| 0.3244473852657005| 9.342524154589373|  5|[1.0,0.9170191062...|[2.68174831000279...|[0.29549463521176...|          2|\n",
            "|   1|      acoustic blues|  0.761723539455837| 0.6069147720232645|204321.25087923245| 0.3606592945953496| 0.09891813613614234|0.18309821355287112| -12.55490505937252| 0.06881536422902226|113.28452122830322|  0.633785722320662| 23.74606007693052|  7|[1.0,0.7617235394...|[2.68174831000279...|[-2.5725591062870...|          0|\n",
            "|   1|        acoustic pop| 0.4902350260381985| 0.5351083171521532|235379.78355519095| 0.4764399220103099|0.033338280109024794| 0.1577504987283953| -9.297247893173367| 0.04177066481431856|117.88741975150835| 0.3794153530026807| 53.11550474564842|  7|[1.0,0.4902350260...|[2.68174831000279...|[-3.4008228020493...|          4|\n",
            "|   1|       acoustic punk| 0.4049000220385675| 0.5391115702479339|192332.11845730024| 0.6158241505968779|0.061939951303948575|0.20948062442607893| -8.010774104683195| 0.06357052341597796|122.30848852157943| 0.7305188246097337| 40.37649219467401|  9|[1.0,0.4049000220...|[2.68174831000279...|[-4.3667203162634...|          4|\n",
            "|   1|       acoustic rock| 0.6132007936507936| 0.5243968253968254|          195036.0| 0.4160026455026456| 0.32147492174603176|0.14051838624338622| -10.54062037037037| 0.03468108465608465| 122.6556626984127| 0.3802986772486773| 51.10978835978836|  7|[1.0,0.6132007936...|[2.68174831000279...|[-2.7254698167724...|          4|\n",
            "|   0|         action rock|              0.229|              0.412|          198400.0|              0.938|             2.59E-4|              0.106|             -0.253|               0.182|            97.489|               0.32|              47.0|  4|[0.0,0.229,0.412,...|[0.0,0.7161612525...|[-4.9581123583816...|          3|\n",
            "|   1|           adoracion| 0.4328571428571428| 0.5047142857142857| 302906.0714285714| 0.5207499999999999|                 0.0|0.31598571428571426| -8.010071428571429|0.038203571428571434| 130.7106785714286| 0.3115714285714285| 46.39285714285714|  9|[1.0,0.4328571428...|[2.68174831000279...|[-3.6934951846422...|          3|\n",
            "+----+--------------------+-------------------+-------------------+------------------+-------------------+--------------------+-------------------+-------------------+--------------------+------------------+-------------------+------------------+---+--------------------+--------------------+--------------------+-----------+\n",
            "only showing top 20 rows\n",
            "\n"
          ]
        }
      ]
    },
    {
      "cell_type": "markdown",
      "source": [
        "Selecionando as inforamções necessárias:"
      ],
      "metadata": {
        "id": "vLzA5IklOZ9Q"
      }
    },
    {
      "cell_type": "code",
      "source": [
        "predictions_kmeans.select('pca_features', 'cluster_pca').show(truncate=False)"
      ],
      "metadata": {
        "colab": {
          "base_uri": "https://localhost:8080/"
        },
        "id": "NO4-2sNVOaVY",
        "outputId": "39375d71-bbe9-475d-e1fb-04f46d0202ac"
      },
      "execution_count": 50,
      "outputs": [
        {
          "output_type": "stream",
          "name": "stdout",
          "text": [
            "+-----------------------------------------+-----------+\n",
            "|pca_features                             |cluster_pca|\n",
            "+-----------------------------------------+-----------+\n",
            "|[2.5070953668885667,0.43816913737697943] |2          |\n",
            "|[-0.5969679056633488,4.981612052751348]  |2          |\n",
            "|[-4.158460276223561,-0.8366525081079943] |4          |\n",
            "|[-2.387344878512217,-0.4877989015663405] |0          |\n",
            "|[-2.6501218371679083,-0.5756819768820474]|0          |\n",
            "|[-1.496509120336763,1.8644183183717797]  |2          |\n",
            "|[-3.923520772157324,0.2851835002352836]  |4          |\n",
            "|[-4.611011109831114,-0.6783790472312378] |1          |\n",
            "|[-2.837690063084229,-0.5712993716580518] |4          |\n",
            "|[-2.706690139892783,-1.25937880797083]   |0          |\n",
            "|[-4.6983313839242875,1.2765569680619446] |3          |\n",
            "|[-3.375987496679868,0.7560741064307471]  |4          |\n",
            "|[-5.608998877066021,1.0427311644393213]  |1          |\n",
            "|[0.2954946352117687,-0.2763864586236301] |2          |\n",
            "|[-2.5725591062870428,-1.3169815431109795]|0          |\n",
            "|[-3.4008228020493454,0.5073029625781897] |4          |\n",
            "|[-4.366720316263419,-0.3364827059771091] |4          |\n",
            "|[-2.7254698167724003,0.5058604987046365] |4          |\n",
            "|[-4.958112358381605,1.2627579957290729]  |3          |\n",
            "|[-3.6934951846422712,1.3822762065335454] |3          |\n",
            "+-----------------------------------------+-----------+\n",
            "only showing top 20 rows\n",
            "\n"
          ]
        }
      ]
    },
    {
      "cell_type": "markdown",
      "source": [
        "3.4 Plotando o clustering\n",
        "\n",
        "Transformando o vetor em colunas:"
      ],
      "metadata": {
        "id": "hkj6LN2nPF9Z"
      }
    },
    {
      "cell_type": "code",
      "source": [
        "from pyspark.ml.functions import vector_to_array"
      ],
      "metadata": {
        "id": "bwA31nPVO4Rd"
      },
      "execution_count": 51,
      "outputs": []
    },
    {
      "cell_type": "code",
      "source": [
        "pca_features_xy = predictions_kmeans.withColumn('x', vector_to_array('pca_features')[0])\\\n",
        "                  .withColumn('y', vector_to_array('pca_features')[1])\\\n",
        "                  .select(['x', 'y', 'cluster_pca', 'genres'])"
      ],
      "metadata": {
        "id": "ByzsAOLGYmX7"
      },
      "execution_count": 52,
      "outputs": []
    },
    {
      "cell_type": "markdown",
      "source": [
        "Visualizando os dados:"
      ],
      "metadata": {
        "id": "bNW7mHd_ZnOi"
      }
    },
    {
      "cell_type": "markdown",
      "source": [
        "0.4 Clusterização por música\n",
        "\n",
        "4.1 Redução da dimensionalidade\n"
      ],
      "metadata": {
        "id": "WmMsKmGiX4ld"
      }
    },
    {
      "cell_type": "code",
      "source": [
        "pca_features_xy.show()"
      ],
      "metadata": {
        "colab": {
          "base_uri": "https://localhost:8080/"
        },
        "id": "JjbTYEptYmVS",
        "outputId": "19e90e21-bf78-45b8-d45f-172e857b3e16"
      },
      "execution_count": 53,
      "outputs": [
        {
          "output_type": "stream",
          "name": "stdout",
          "text": [
            "+-------------------+-------------------+-----------+--------------------+\n",
            "|                  x|                  y|cluster_pca|              genres|\n",
            "+-------------------+-------------------+-----------+--------------------+\n",
            "| 2.5070953668885667|0.43816913737697943|          2|21st century clas...|\n",
            "|-0.5969679056633488|  4.981612052751348|          2|               432hz|\n",
            "| -4.158460276223561|-0.8366525081079943|          4|               8-bit|\n",
            "| -2.387344878512217|-0.4877989015663405|          0|                  []|\n",
            "|-2.6501218371679083|-0.5756819768820474|          0|          a cappella|\n",
            "| -1.496509120336763| 1.8644183183717797|          2|            abstract|\n",
            "| -3.923520772157324| 0.2851835002352836|          4|      abstract beats|\n",
            "| -4.611011109831114|-0.6783790472312378|          1|    abstract hip hop|\n",
            "| -2.837690063084229|-0.5712993716580518|          4|           accordeon|\n",
            "| -2.706690139892783|  -1.25937880797083|          0|           accordion|\n",
            "|-4.6983313839242875| 1.2765569680619446|          3|          acid house|\n",
            "| -3.375987496679868| 0.7560741064307471|          4|           acid rock|\n",
            "| -5.608998877066021| 1.0427311644393213|          1|         acid trance|\n",
            "| 0.2954946352117687|-0.2763864586236301|          2|          acousmatic|\n",
            "|-2.5725591062870428|-1.3169815431109795|          0|      acoustic blues|\n",
            "|-3.4008228020493454| 0.5073029625781897|          4|        acoustic pop|\n",
            "| -4.366720316263419|-0.3364827059771091|          4|       acoustic punk|\n",
            "|-2.7254698167724003| 0.5058604987046365|          4|       acoustic rock|\n",
            "| -4.958112358381605| 1.2627579957290729|          3|         action rock|\n",
            "|-3.6934951846422712| 1.3822762065335454|          3|           adoracion|\n",
            "+-------------------+-------------------+-----------+--------------------+\n",
            "only showing top 20 rows\n",
            "\n"
          ]
        }
      ]
    },
    {
      "cell_type": "markdown",
      "source": [
        "Gráfico:"
      ],
      "metadata": {
        "id": "yONhl6_8ZxlH"
      }
    },
    {
      "cell_type": "code",
      "source": [
        "fig = px.scatter(pca_features_xy.toPandas(), x='x', y='y', color='cluster_pca', hover_data=['x','y', 'genres'])\n",
        "fig.show()"
      ],
      "metadata": {
        "colab": {
          "base_uri": "https://localhost:8080/",
          "height": 542
        },
        "id": "g9frSnmNYmS7",
        "outputId": "4ca485d8-77f4-426d-df6f-6f1e2bd34c24"
      },
      "execution_count": 54,
      "outputs": [
        {
          "output_type": "display_data",
          "data": {
            "text/html": [
              "<html>\n",
              "<head><meta charset=\"utf-8\" /></head>\n",
              "<body>\n",
              "    <div>            <script src=\"https://cdnjs.cloudflare.com/ajax/libs/mathjax/2.7.5/MathJax.js?config=TeX-AMS-MML_SVG\"></script><script type=\"text/javascript\">if (window.MathJax && window.MathJax.Hub && window.MathJax.Hub.Config) {window.MathJax.Hub.Config({SVG: {font: \"STIX-Web\"}});}</script>                <script type=\"text/javascript\">window.PlotlyConfig = {MathJaxConfig: 'local'};</script>\n",
              "        <script charset=\"utf-8\" src=\"https://cdn.plot.ly/plotly-2.24.1.min.js\"></script>                <div id=\"c790be5e-6b36-42bf-b5a1-a32a4de89062\" class=\"plotly-graph-div\" style=\"height:525px; width:100%;\"></div>            <script type=\"text/javascript\">                                    window.PLOTLYENV=window.PLOTLYENV || {};                                    if (document.getElementById(\"c790be5e-6b36-42bf-b5a1-a32a4de89062\")) {                    Plotly.newPlot(                        \"c790be5e-6b36-42bf-b5a1-a32a4de89062\",                        [{\"customdata\":[[\"21st century classical\"],[\"432hz\"],[\"8-bit\"],[\"[]\"],[\"a cappella\"],[\"abstract\"],[\"abstract beats\"],[\"abstract hip hop\"],[\"accordeon\"],[\"accordion\"],[\"acid house\"],[\"acid rock\"],[\"acid trance\"],[\"acousmatic\"],[\"acoustic blues\"],[\"acoustic pop\"],[\"acoustic punk\"],[\"acoustic rock\"],[\"action rock\"],[\"adoracion\"],[\"adult standards\"],[\"adventista\"],[\"afghan pop\"],[\"afghan traditional\"],[\"african percussion\"],[\"african reggae\"],[\"african rock\"],[\"african-american classical\"],[\"afro dancehall\"],[\"afro house\"],[\"afro psych\"],[\"afro soul\"],[\"afro-funk\"],[\"afrobeat\"],[\"afrofuturism\"],[\"afrofuturismo brasileiro\"],[\"afropop\"],[\"afroswing\"],[\"aggrotech\"],[\"alabama indie\"],[\"alabama metal\"],[\"alabama rap\"],[\"alaska indie\"],[\"albanian pop\"],[\"albany ny indie\"],[\"alberta country\"],[\"alberta hip hop\"],[\"album rock\"],[\"albuquerque indie\"],[\"alt-idol\"],[\"alte\"],[\"alternative americana\"],[\"alternative country\"],[\"alternative dance\"],[\"alternative emo\"],[\"alternative hip hop\"],[\"alternative metal\"],[\"alternative pop\"],[\"alternative pop rock\"],[\"alternative r&b\"],[\"alternative rock\"],[\"alternative roots rock\"],[\"ambeat\"],[\"ambient\"],[\"ambient black metal\"],[\"ambient folk\"],[\"ambient house\"],[\"ambient idm\"],[\"ambient industrial\"],[\"ambient pop\"],[\"ambient techno\"],[\"ambient worship\"],[\"american 21st century classical\"],[\"american choir\"],[\"american classical piano\"],[\"american contemporary classical\"],[\"american early music\"],[\"american folk revival\"],[\"american metalcore\"],[\"american modern classical\"],[\"american oi\"],[\"american orchestra\"],[\"american post-rock\"],[\"american primitive\"],[\"american romanticism\"],[\"american shoegaze\"],[\"anadolu rock\"],[\"anarcho-punk\"],[\"anglican liturgy\"],[\"animal singing\"],[\"anime\"],[\"anime latino\"],[\"anime rock\"],[\"anime score\"],[\"ann arbor indie\"],[\"anthem emo\"],[\"anthem worship\"],[\"anti-folk\"],[\"antilliaanse folklore\"],[\"antiviral pop\"],[\"appalachian folk\"],[\"arab folk\"],[\"arab groove\"],[\"arab pop\"],[\"arabesk\"],[\"arabic hip hop\"],[\"arabic jazz\"],[\"argentine ambient\"],[\"argentine hardcore\"],[\"argentine heavy metal\"],[\"argentine hip hop\"],[\"argentine indie\"],[\"argentine metal\"],[\"argentine punk\"],[\"argentine reggae\"],[\"argentine rock\"],[\"argentine telepop\"],[\"arizona punk\"],[\"arkansas country\"],[\"arkansas hip hop\"],[\"arkansas indie\"],[\"armenian folk\"],[\"art pop\"],[\"art punk\"],[\"art rock\"],[\"art song\"],[\"asbury park indie\"],[\"asheville indie\"],[\"asian american hip hop\"],[\"asmr\"],[\"athens indie\"],[\"atl hip hop\"],[\"atl trap\"],[\"atlanta indie\"],[\"atlanta metal\"],[\"atlanta punk\"],[\"atmosphere\"],[\"atmospheric black metal\"],[\"atmospheric dnb\"],[\"atmospheric post-metal\"],[\"atmospheric post-rock\"],[\"atmospheric sludge\"],[\"auckland indie\"],[\"audiophile vocal\"],[\"aussietronica\"],[\"austin americana\"],[\"austin singer-songwriter\"],[\"austindie\"],[\"australian alternative pop\"],[\"australian alternative rock\"],[\"australian ambient\"],[\"australian children's music\"],[\"australian choir\"],[\"australian classical\"],[\"australian classical piano\"],[\"australian country\"],[\"australian dance\"],[\"australian electropop\"],[\"australian garage punk\"],[\"australian hip hop\"],[\"australian house\"],[\"australian indie\"],[\"australian indie folk\"],[\"australian indie rock\"],[\"australian indigenous\"],[\"australian metal\"],[\"australian metalcore\"],[\"australian pop\"],[\"australian post-hardcore\"],[\"australian post-punk\"],[\"australian psych\"],[\"australian r&b\"],[\"australian reggae fusion\"],[\"australian rock\"],[\"australian singer-songwriter\"],[\"australian ska\"],[\"australian talent show\"],[\"australian trap\"],[\"australian underground hip hop\"],[\"austrian choir\"],[\"austrian classical piano\"],[\"austrian orchestra\"],[\"austrian pop\"],[\"austro-german modernism\"],[\"austropop\"],[\"autoharp\"],[\"autonomous black metal\"],[\"avant-garde\"],[\"avant-garde jazz\"],[\"avant-garde metal\"],[\"axe\"],[\"azeri traditional\"],[\"azonto\"],[\"azontobeats\"],[\"bachata\"],[\"bachata dominicana\"],[\"background music\"],[\"background piano\"],[\"baglama\"],[\"bahai\"],[\"bahamian folk\"],[\"bahamian pop\"],[\"baiao\"],[\"bajki\"],[\"bakersfield sound\"],[\"balearic\"],[\"balkan brass\"],[\"balkan classical piano\"],[\"ballet class\"],[\"ballroom\"],[\"baltic classical\"],[\"baltimore hip hop\"],[\"baltimore indie\"],[\"banda\"],[\"banda caliente\"],[\"banda carnavalera\"],[\"bandinhas\"],[\"bandolim\"],[\"bandoneon\"],[\"bangla\"],[\"banjo\"],[\"bansuri\"],[\"barbadian pop\"],[\"barbershop\"],[\"bard\"],[\"barnmusik\"],[\"barockinterpreten\"],[\"baroque\"],[\"baroque brass\"],[\"baroque ensemble\"],[\"baroque pop\"],[\"baroque singing\"],[\"baroque violin\"],[\"baroque woodwind\"],[\"bass house\"],[\"bass music\"],[\"bass trap\"],[\"basshall\"],[\"bassline\"],[\"bath indie\"],[\"baton rouge indie\"],[\"baton rouge rap\"],[\"battle rap\"],[\"bay area hip hop\"],[\"bay area indie\"],[\"bboy\"],[\"bc underground hip hop\"],[\"beach music\"],[\"beat italiano\"],[\"beat poetry\"],[\"beatboxing\"],[\"beatlesque\"],[\"bebop\"],[\"bedroom pop\"],[\"bedroom soul\"],[\"belarusian indie\"],[\"belarusian pop\"],[\"belarusian rock\"],[\"belgian classical piano\"],[\"belgian contemporary classical\"],[\"belgian dance\"],[\"belgian edm\"],[\"belgian hardcore\"],[\"belgian indie\"],[\"belgian indie rock\"],[\"belgian jazz\"],[\"belgian new wave\"],[\"belgian pop\"],[\"belgian rock\"],[\"belgian singer-songwriter\"],[\"belgian techno\"],[\"belly dance\"],[\"bengali folk\"],[\"beninese pop\"],[\"bergen indie\"],[\"berlin minimal techno\"],[\"berlin school\"],[\"bhajan\"],[\"bhangra\"],[\"bible\"],[\"big band\"],[\"big beat\"],[\"big room\"],[\"binaural\"],[\"birdsong\"],[\"birmingham grime\"],[\"birmingham hip hop\"],[\"birmingham metal\"],[\"bitpop\"],[\"black 'n' roll\"],[\"black comedy\"],[\"black metal\"],[\"black punk\"],[\"black thrash\"],[\"blackened crust\"],[\"blackgaze\"],[\"bleep techno\"],[\"bluegrass\"],[\"bluegrass fiddle\"],[\"bluegrass gospel\"],[\"blues\"],[\"blues latinoamericano\"],[\"blues mexicano\"],[\"blues rock\"],[\"bmore\"],[\"bolero\"],[\"bolero cubano\"],[\"boogaloo\"],[\"boogie\"],[\"boogie-woogie\"],[\"boom bap\"],[\"boom bap brasileiro\"],[\"bossa nova\"],[\"bossa nova jazz\"],[\"boston folk\"],[\"boston hardcore\"],[\"boston hip hop\"],[\"boston indie\"],[\"boston metal\"],[\"boston punk\"],[\"boston rock\"],[\"bounce\"],[\"bouncy house\"],[\"bouzouki\"],[\"bow pop\"],[\"boy band\"],[\"boy pop\"],[\"boy soprano\"],[\"brain waves\"],[\"braindance\"],[\"brass band\"],[\"brass ensemble\"],[\"brass quintet\"],[\"brazilian boogie\"],[\"brazilian classical\"],[\"brazilian classical piano\"],[\"brazilian contemporary classical\"],[\"brazilian edm\"],[\"brazilian groove metal\"],[\"brazilian hip hop\"],[\"brazilian indie\"],[\"brazilian jazz\"],[\"brazilian metal\"],[\"brazilian modern jazz\"],[\"brazilian percussion\"],[\"brazilian punk\"],[\"brazilian reggae\"],[\"brazilian rock\"],[\"brazilian ska\"],[\"brazilian soul\"],[\"brazilian thrash metal\"],[\"breakbeat\"],[\"breakcore\"],[\"brega\"],[\"breton folk\"],[\"brighton indie\"],[\"brill building pop\"],[\"brisbane indie\"],[\"bristol electronic\"],[\"bristol indie\"],[\"brit funk\"],[\"british alternative rock\"],[\"british black metal\"],[\"british blues\"],[\"british children's music\"],[\"british choir\"],[\"british classical piano\"],[\"british comedy\"],[\"british contemporary classical\"],[\"british dance band\"],[\"british death metal\"],[\"british experimental\"],[\"british folk\"],[\"british grindcore\"],[\"british indie rock\"],[\"british industrial\"],[\"british invasion\"],[\"british jazz\"],[\"british modern classical\"],[\"british orchestra\"],[\"british post-rock\"],[\"british power metal\"],[\"british singer-songwriter\"],[\"british soul\"],[\"british soundtrack\"],[\"britpop\"],[\"broadway\"],[\"broken beat\"],[\"bronx hip hop\"],[\"brooklyn drill\"],[\"brooklyn indie\"],[\"brostep\"],[\"brutal death metal\"],[\"brutal deathcore\"],[\"bubble trance\"],[\"bubblegrunge\"],[\"bubblegum dance\"],[\"bubblegum pop\"],[\"buffalo hip hop\"],[\"buffalo ny indie\"],[\"buffalo ny metal\"],[\"bulgarian experimental\"],[\"burmese traditional\"],[\"bush ballad\"],[\"c-pop\"],[\"c86\"],[\"cabaret\"],[\"cajun\"],[\"calgary indie\"],[\"cali rap\"],[\"calming instrumental\"],[\"calypso\"],[\"cambodian rock\"],[\"cambridge choir\"],[\"cambridgeshire indie\"],[\"cameroonian pop\"],[\"canadian americana\"],[\"canadian blues\"],[\"canadian ccm\"],[\"canadian celtic\"],[\"canadian children's music\"],[\"canadian choir\"],[\"canadian classical\"],[\"canadian classical piano\"],[\"canadian comedy\"],[\"canadian contemporary country\"],[\"canadian contemporary r&b\"],[\"canadian country\"],[\"canadian electronic\"],[\"canadian electropop\"],[\"canadian experimental\"],[\"canadian folk\"],[\"canadian hardcore\"],[\"canadian hip hop\"],[\"canadian house\"],[\"canadian indie\"],[\"canadian indie folk\"],[\"canadian indigenous\"],[\"canadian indigenous hip hop\"],[\"canadian latin\"],[\"canadian metal\"],[\"canadian metalcore\"],[\"canadian modern jazz\"],[\"canadian pop\"],[\"canadian pop punk\"],[\"canadian post-hardcore\"],[\"canadian post-rock\"],[\"canadian psychedelic\"],[\"canadian punk\"],[\"canadian rock\"],[\"canadian rockabilly\"],[\"canadian singer-songwriter\"],[\"canadian soundtrack\"],[\"cancion melodica\"],[\"candy pop\"],[\"cantautor\"],[\"cante flamenco\"],[\"canterbury scene\"],[\"canto popular uruguayo\"],[\"cantopop\"],[\"canzone d'autore\"],[\"canzone genovese\"],[\"canzone napoletana\"],[\"cape town indie\"],[\"cape verdean folk\"],[\"capoeira\"],[\"caracas indie\"],[\"carnatic\"],[\"carnatic instrumental\"],[\"carnatic vocal\"],[\"cartoon\"],[\"cathedral choir\"],[\"caucasian classical\"],[\"caucasian classical piano\"],[\"ccm\"],[\"cedm\"],[\"cello\"],[\"celtic\"],[\"celtic harp\"],[\"celtic metal\"],[\"celtic punk\"],[\"celtic rock\"],[\"cha-cha-cha\"],[\"chakra\"],[\"chamame\"],[\"chamber choir\"],[\"chamber ensemble\"],[\"chamber folk\"],[\"chamber orchestra\"],[\"chamber pop\"],[\"chamber psych\"],[\"champeta\"],[\"channel islands indie\"],[\"channel pop\"],[\"chanson\"],[\"chanson paillarde\"],[\"chaotic hardcore\"],[\"charanga\"],[\"charango\"],[\"charlotte nc indie\"],[\"charlottesville indie\"],[\"chattanooga indie\"],[\"chicago blues\"],[\"chicago drill\"],[\"chicago hardcore\"],[\"chicago house\"],[\"chicago indie\"],[\"chicago pop punk\"],[\"chicago punk\"],[\"chicago rap\"],[\"chicago soul\"],[\"chicano punk\"],[\"chicano rap\"],[\"chicha\"],[\"chihuahua indie\"],[\"children's choir\"],[\"children's folk\"],[\"children's music\"],[\"children's story\"],[\"chilean hardcore\"],[\"chilean indie\"],[\"chilean rock\"],[\"chilena\"],[\"chill beats\"],[\"chill guitar\"],[\"chill lounge\"],[\"chill out\"],[\"chill pop\"],[\"chill r&b\"],[\"chillhop\"],[\"chillstep\"],[\"chillwave\"],[\"chinese audiophile\"],[\"chinese classical\"],[\"chinese classical performance\"],[\"chinese classical piano\"],[\"chinese electropop\"],[\"chinese hip hop\"],[\"chinese idol pop\"],[\"chinese indie\"],[\"chinese indie rock\"],[\"chinese instrumental\"],[\"chinese jazz\"],[\"chinese r&b\"],[\"chinese soundtrack\"],[\"chinese traditional\"],[\"chiptune\"],[\"chopped and screwed\"],[\"choral\"],[\"choro\"],[\"christchurch indie\"],[\"christelijk\"],[\"christian a cappella\"],[\"christian alternative rock\"],[\"christian dance\"],[\"christian hard rock\"],[\"christian hardcore\"],[\"christian hip hop\"],[\"christian indie\"],[\"christian metal\"],[\"christian metalcore\"],[\"christian music\"],[\"christian pop\"],[\"christian power metal\"],[\"christian punk\"],[\"christian relaxative\"],[\"christian rock\"],[\"christian trap\"],[\"christian uplift\"],[\"christmas instrumental\"],[\"christmas product\"],[\"chunchaca\"],[\"chutney\"],[\"cincinnati rap\"],[\"cinematic post-rock\"],[\"circuit\"],[\"circus\"],[\"classic afrobeat\"],[\"classic arab pop\"],[\"classic australian country\"],[\"classic belgian pop\"],[\"classic bhangra\"],[\"classic bollywood\"],[\"classic canadian rock\"],[\"classic cantopop\"],[\"classic colombian pop\"],[\"classic country pop\"],[\"classic czech pop\"],[\"classic danish pop\"],[\"classic dubstep\"],[\"classic eurovision\"],[\"classic finnish pop\"],[\"classic french pop\"],[\"classic garage rock\"],[\"classic girl group\"],[\"classic greek pop\"],[\"classic hardstyle\"],[\"classic icelandic pop\"],[\"classic indo pop\"],[\"classic iskelma\"],[\"classic israeli pop\"],[\"classic italian folk pop\"],[\"classic italian pop\"],[\"classic j-rock\"],[\"classic japanese jazz\"],[\"classic korean pop\"],[\"classic latvian pop\"],[\"classic mandopop\"],[\"classic norwegian pop\"],[\"classic opm\"],[\"classic pakistani pop\"],[\"classic persian pop\"],[\"classic peruvian pop\"],[\"classic polish pop\"],[\"classic praise\"],[\"classic psychedelic rock\"],[\"classic punjabi pop\"],[\"classic rock\"],[\"classic russian pop\"],[\"classic russian rock\"],[\"classic schlager\"],[\"classic soul\"],[\"classic soundtrack\"],[\"classic swedish pop\"],[\"classic thai pop\"],[\"classic tunisian pop\"],[\"classic turkish pop\"],[\"classic uk pop\"],[\"classic venezuelan pop\"],[\"classical\"],[\"classical accordion\"],[\"classical baritone\"],[\"classical bass\"],[\"classical cello\"],[\"classical clarinet\"],[\"classical contralto\"],[\"classical countertenor\"],[\"classical era\"],[\"classical flute\"],[\"classical guitar\"],[\"classical harp\"],[\"classical horn\"],[\"classical mandolin\"],[\"classical mezzo-soprano\"],[\"classical oboe\"],[\"classical organ\"],[\"classical performance\"],[\"classical piano\"],[\"classical piano duo\"],[\"classical piano trio\"],[\"classical saxophone\"],[\"classical soprano\"],[\"classical tenor\"],[\"classical trumpet\"],[\"classify\"],[\"clawhammer banjo\"],[\"clean comedy\"],[\"cleveland metal\"],[\"coco\"],[\"collage pop\"],[\"college a cappella\"],[\"colombian hip hop\"],[\"colombian pop\"],[\"colombian rock\"],[\"columbus ohio indie\"],[\"comedy\"],[\"comedy rap\"],[\"comedy rock\"],[\"comic\"],[\"comic metal\"],[\"commons\"],[\"complextro\"],[\"compositional ambient\"],[\"concepcion indie\"],[\"concert band\"],[\"connecticut hardcore\"],[\"connecticut indie\"],[\"conscious hip hop\"],[\"contemporary choir\"],[\"contemporary classical\"],[\"contemporary classical piano\"],[\"contemporary country\"],[\"contemporary folk\"],[\"contemporary gospel\"],[\"contemporary jazz\"],[\"contemporary post-bop\"],[\"contemporary vocal jazz\"],[\"contrabass\"],[\"cool jazz\"],[\"copla\"],[\"cornish folk\"],[\"cornwall indie\"],[\"corrido\"],[\"corridos cristianos\"],[\"corridos tumbados\"],[\"corrosion\"],[\"cosmic american\"],[\"cosmic post-rock\"],[\"country\"],[\"country blues\"],[\"country boogie\"],[\"country dawn\"],[\"country gospel\"],[\"country pop\"],[\"country rap\"],[\"country road\"],[\"country rock\"],[\"coverchill\"],[\"cowboy western\"],[\"cowpunk\"],[\"crack rock steady\"],[\"croatian folk\"],[\"croatian pop\"],[\"croatian rock\"],[\"crossover thrash\"],[\"crunk\"],[\"crust punk\"],[\"cuarteto\"],[\"cuatro venezolano\"],[\"cuban alternative\"],[\"cuban rumba\"],[\"cubaton\"],[\"cumbia\"],[\"cumbia andina mexicana\"],[\"cumbia chilena\"],[\"cumbia colombiana regia\"],[\"cumbia ecuatoriana\"],[\"cumbia funk\"],[\"cumbia lagunera\"],[\"cumbia paraguaya\"],[\"cumbia peruana\"],[\"cumbia pop\"],[\"cumbia ranchera\"],[\"cumbia salvadorena\"],[\"cumbia santafesina\"],[\"cumbia sonidera\"],[\"cumbia villera\"],[\"cyberpunk\"],[\"cymraeg\"],[\"cypriot pop\"],[\"czech classical\"],[\"czech classical piano\"],[\"czech contemporary classical\"],[\"d-beat\"],[\"dabke\"],[\"dakke dak\"],[\"dallas indie\"],[\"dance pop\"],[\"dance rock\"],[\"dance-punk\"],[\"dancehall\"],[\"dangdut\"],[\"danish alternative rock\"],[\"danish classical\"],[\"danish electronic\"],[\"danish electropop\"],[\"danish hip hop\"],[\"danish jazz\"],[\"danish metal\"],[\"danish pop\"],[\"danish pop rock\"],[\"danish post-punk\"],[\"danish punk\"],[\"danish rock\"],[\"danish singer-songwriter\"],[\"dansband\"],[\"danseband\"],[\"dansktop\"],[\"danspunk\"],[\"dark cabaret\"],[\"dark clubbing\"],[\"dark disco\"],[\"dark hardcore\"],[\"dark jazz\"],[\"dark minimal techno\"],[\"dark post-punk\"],[\"dark techno\"],[\"dark trap\"],[\"dark wave\"],[\"darksynth\"],[\"dayton indie\"],[\"dc hardcore\"],[\"dc indie\"],[\"death 'n' roll\"],[\"death metal\"],[\"deathcore\"],[\"deathgrass\"],[\"deathgrind\"],[\"deathrash\"],[\"deathrock\"],[\"deathstep\"],[\"deep acoustic pop\"],[\"deep adult standards\"],[\"deep big room\"],[\"deep ccm\"],[\"deep christian rock\"],[\"deep classic garage rock\"],[\"deep comedy\"],[\"deep contemporary country\"],[\"deep dance pop\"],[\"deep delta blues\"],[\"deep disco\"],[\"deep disco house\"],[\"deep dnb\"],[\"deep east coast hip hop\"],[\"deep euro house\"],[\"deep flow\"],[\"deep free jazz\"],[\"deep freestyle\"],[\"deep full on\"],[\"deep funk\"],[\"deep g funk\"],[\"deep gothic post-punk\"],[\"deep groove house\"],[\"deep house\"],[\"deep idm\"],[\"deep indian pop\"],[\"deep indie singer-songwriter\"],[\"deep latin alternative\"],[\"deep latin christian\"],[\"deep melodic metalcore\"],[\"deep minimal techno\"],[\"deep motown\"],[\"deep new americana\"],[\"deep new wave\"],[\"deep norteno\"],[\"deep northern soul\"],[\"deep pop edm\"],[\"deep progressive house\"],[\"deep psychobilly\"],[\"deep punk rock\"],[\"deep r&b\"],[\"deep ragga\"],[\"deep regional mexican\"],[\"deep smooth jazz\"],[\"deep soft rock\"],[\"deep soul house\"],[\"deep soundtrack\"],[\"deep southern soul\"],[\"deep southern trap\"],[\"deep space rock\"],[\"deep talent show\"],[\"deep tech house\"],[\"deep techno\"],[\"deep tropical house\"],[\"deep underground hip hop\"],[\"deep uplifting trance\"],[\"delta blues\"],[\"dembow\"],[\"denpa-kei\"],[\"denton tx indie\"],[\"denver indie\"],[\"depressive black metal\"],[\"derby indie\"],[\"desert blues\"],[\"desi hip hop\"],[\"desi pop\"],[\"destroy techno\"],[\"detroit hip hop\"],[\"detroit house\"],[\"detroit techno\"],[\"detroit trap\"],[\"detske pisnicky\"],[\"detskie pesni\"],[\"devon indie\"],[\"dfw rap\"],[\"dhrupad\"],[\"digital hardcore\"],[\"dinner jazz\"],[\"dirty south rap\"],[\"dirty texas rap\"],[\"disco\"],[\"disco house\"],[\"disney\"],[\"diva house\"],[\"dixieland\"],[\"diy emo\"],[\"djent\"],[\"dmv rap\"],[\"dominican pop\"],[\"dong-yo\"],[\"doo-wop\"],[\"doom metal\"],[\"double drumming\"],[\"downtempo\"],[\"drama\"],[\"dream pop\"],[\"dream trance\"],[\"dreamgaze\"],[\"dreamo\"],[\"drift\"],[\"drill\"],[\"drill and bass\"],[\"drone\"],[\"drone folk\"],[\"drone metal\"],[\"drum and bass\"],[\"dub\"],[\"dub metal\"],[\"dub poetry\"],[\"dub techno\"],[\"dubstep\"],[\"dubsteppe\"],[\"duduk\"],[\"duluth indie\"],[\"dunedin indie\"],[\"dunedin sound\"],[\"dungeon synth\"],[\"duranguense\"],[\"dusseldorf electronic\"],[\"dutch blues\"],[\"dutch cabaret\"],[\"dutch classical piano\"],[\"dutch death metal\"],[\"dutch dnb\"],[\"dutch edm\"],[\"dutch folk\"],[\"dutch hip hop\"],[\"dutch house\"],[\"dutch indie\"],[\"dutch jazz\"],[\"dutch metal\"],[\"dutch pop\"],[\"dutch prog\"],[\"dutch rap pop\"],[\"dutch rock\"],[\"dutch trance\"],[\"e6fi\"],[\"early american folk\"],[\"early avant garde\"],[\"early modern classical\"],[\"early music\"],[\"early music choir\"],[\"early music ensemble\"],[\"early reggae\"],[\"early romantic era\"],[\"early synthpop\"],[\"early us punk\"],[\"east coast hip hop\"],[\"east coast reggae\"],[\"eastern bloc groove\"],[\"easy listening\"],[\"easycore\"],[\"eau claire indie\"],[\"ebm\"],[\"ecm-style jazz\"],[\"ectofolk\"],[\"ecuadorian pop\"],[\"edm\"],[\"edmonton indie\"],[\"egyptian pop\"],[\"egyptian traditional\"],[\"el paso indie\"],[\"electra\"],[\"electric bass\"],[\"electric blues\"],[\"electro\"],[\"electro house\"],[\"electro jazz\"],[\"electro latino\"],[\"electro swing\"],[\"electro-industrial\"],[\"electro-pop francais\"],[\"electroclash\"],[\"electrofox\"],[\"electronic djent\"],[\"electronic rock\"],[\"electronic trap\"],[\"electronica\"],[\"electronica argentina\"],[\"electropop\"],[\"electropowerpop\"],[\"emo\"],[\"emo mexicano\"],[\"emo punk\"],[\"emo rap\"],[\"emocore\"],[\"english baroque\"],[\"english indie rock\"],[\"english renaissance\"],[\"enka\"],[\"entehno\"],[\"environmental\"],[\"epic doom\"],[\"epicore\"],[\"erhu\"],[\"escape room\"],[\"esperanto\"],[\"essex indie\"],[\"estonian hip hop\"],[\"estonian pop\"],[\"ethereal wave\"],[\"etherpop\"],[\"ethio-jazz\"],[\"ethiopian pop\"],[\"ethnomusicology\"],[\"ethnotronica\"],[\"eugene indie\"],[\"euphoric hardstyle\"],[\"eurobeat\"],[\"eurodance\"],[\"europop\"],[\"euroska\"],[\"eurovision\"],[\"exotica\"],[\"experimental\"],[\"experimental ambient\"],[\"experimental big band\"],[\"experimental dub\"],[\"experimental folk\"],[\"experimental guitar\"],[\"experimental hip hop\"],[\"experimental house\"],[\"experimental indie\"],[\"experimental jazz\"],[\"experimental pop\"],[\"experimental rock\"],[\"experimental vocal\"],[\"fado\"],[\"family gospel\"],[\"faroese pop\"],[\"fast melodic punk\"],[\"fidget house\"],[\"filmi\"],[\"filter house\"],[\"filthstep\"],[\"final fantasy\"],[\"fingerstyle\"],[\"finnish alternative rock\"],[\"finnish classical\"],[\"finnish contemporary classical\"],[\"finnish death metal\"],[\"finnish edm\"],[\"finnish hard rock\"],[\"finnish heavy metal\"],[\"finnish metal\"],[\"finnish power metal\"],[\"finnish soul\"],[\"flamenco\"],[\"flamenco guitar\"],[\"flick hop\"],[\"flint hip hop\"],[\"float house\"],[\"florida death metal\"],[\"florida rap\"],[\"fluxwork\"],[\"fo jing\"],[\"focus\"],[\"focus beats\"],[\"focus trance\"],[\"folclor afrocolombiano\"],[\"folclor colombiano\"],[\"folclore extremeno\"],[\"folclore jujeno\"],[\"folclore navarra\"],[\"folclore salteno\"],[\"folclore tucumano\"],[\"folk\"],[\"folk metal\"],[\"folk punk\"],[\"folk rock\"],[\"folk rock italiano\"],[\"folk-pop\"],[\"folklore argentino\"],[\"folklore boliviano\"],[\"folklore chileno\"],[\"folklore ecuatoriano\"],[\"folklore peruano\"],[\"folklore venezolano\"],[\"folklore veracruzano\"],[\"folkmusik\"],[\"folktronica\"],[\"footwork\"],[\"forro\"],[\"forro tradicional\"],[\"fort worth indie\"],[\"fourth world\"],[\"francoton\"],[\"freak folk\"],[\"freakbeat\"],[\"free folk\"],[\"free improvisation\"],[\"free jazz\"],[\"freestyle\"],[\"french baroque\"],[\"french classical piano\"],[\"french contemporary classical\"],[\"french death metal\"],[\"french dnb\"],[\"french hip hop\"],[\"french indie folk\"],[\"french indie pop\"],[\"french indietronica\"],[\"french jazz\"],[\"french metal\"],[\"french movie tunes\"],[\"french opera\"],[\"french orchestra\"],[\"french pop\"],[\"french post-punk\"],[\"french psychedelic\"],[\"french reggae\"],[\"french rock\"],[\"french romanticism\"],[\"french shoegaze\"],[\"french soundtrack\"],[\"french synthpop\"],[\"french techno\"],[\"frenchcore\"],[\"full on\"],[\"funana\"],[\"funeral doom\"],[\"funk\"],[\"funk 150 bpm\"],[\"funk carioca\"],[\"funk das antigas\"],[\"funk metal\"],[\"funk mexicano\"],[\"funk ostentacao\"],[\"funk paulista\"],[\"funk pop\"],[\"funk rock\"],[\"funky breaks\"],[\"funky tech house\"],[\"future bass\"],[\"future funk\"],[\"future garage\"],[\"future house\"],[\"future rock\"],[\"futurepop\"],[\"g funk\"],[\"gabba\"],[\"gabonese pop\"],[\"gaian doom\"],[\"gainesville indie\"],[\"gaita zuliana\"],[\"galante era\"],[\"gamelan\"],[\"gaming dubstep\"],[\"gaming edm\"],[\"gangster rap\"],[\"garage house\"],[\"garage pop\"],[\"garage psych\"],[\"garage punk\"],[\"garage punk blues\"],[\"garage rock\"],[\"garage rock revival\"],[\"gauze pop\"],[\"gbvfi\"],[\"geek folk\"],[\"geek rock\"],[\"georgian folk\"],[\"german alternative rock\"],[\"german baroque\"],[\"german choir\"],[\"german classical piano\"],[\"german country\"],[\"german dance\"],[\"german hard rock\"],[\"german heavy metal\"],[\"german house\"],[\"german indie\"],[\"german jazz\"],[\"german literature\"],[\"german metal\"],[\"german oi\"],[\"german opera\"],[\"german orchestra\"],[\"german pop\"],[\"german pop rock\"],[\"german post-hardcore\"],[\"german power metal\"],[\"german punk\"],[\"german renaissance\"],[\"german rock\"],[\"german romanticism\"],[\"german show tunes\"],[\"german soundtrack\"],[\"german techno\"],[\"german thrash metal\"],[\"german trance\"],[\"german underground rap\"],[\"ghanaian hip hop\"],[\"ghanaian traditional\"],[\"ghazal\"],[\"ghent indie\"],[\"girl group\"],[\"glam metal\"],[\"glam punk\"],[\"glam rock\"],[\"glee club\"],[\"glitch\"],[\"glitch hop\"],[\"glitch pop\"],[\"glitchcore\"],[\"go-go\"],[\"goregrind\"],[\"gospel\"],[\"gospel antigas\"],[\"gospel blues\"],[\"gospel italiano\"],[\"gospel r&b\"],[\"gospel rap\"],[\"gospel singers\"],[\"gospel soul\"],[\"gothabilly\"],[\"gothenburg indie\"],[\"gothenburg metal\"],[\"gothic alternative\"],[\"gothic americana\"],[\"gothic black metal\"],[\"gothic metal\"],[\"gothic post-punk\"],[\"gothic rock\"],[\"gothic symphonic metal\"],[\"gqom\"],[\"grand rapids indie\"],[\"grave wave\"],[\"greek clarinet\"],[\"greek contemporary classical\"],[\"greek folk\"],[\"greek guitar\"],[\"greek house\"],[\"greek jazz\"],[\"greek pop\"],[\"greek swing\"],[\"gregorian chant\"],[\"grime\"],[\"grindcore\"],[\"griot\"],[\"groove metal\"],[\"groove room\"],[\"grunge\"],[\"grunge pop\"],[\"grupera\"],[\"gruperas inmortales\"],[\"guadalajara indie\"],[\"guam indie\"],[\"guaracha\"],[\"guatemalan pop\"],[\"guidance\"],[\"guinean pop\"],[\"guitarra argentina\"],[\"guitarra clasica\"],[\"guitarra portuguesa\"],[\"gujarati garba\"],[\"gujarati pop\"],[\"guzheng\"],[\"gymcore\"],[\"gypsy\"],[\"gypsy jazz\"],[\"gypsy punk\"],[\"haitian traditional\"],[\"halifax indie\"],[\"halloween\"],[\"hamburg electronic\"],[\"hammered dulcimer\"],[\"hammond organ\"],[\"hands up\"],[\"hangpan\"],[\"happy hardcore\"],[\"hard alternative\"],[\"hard bop\"],[\"hard minimal techno\"],[\"hard rock\"],[\"hard rock brasileiro\"],[\"hardcore\"],[\"hardcore hip hop\"],[\"hardcore punk\"],[\"hardcore techno\"],[\"hardstyle\"],[\"harlem hip hop\"],[\"harlem renaissance\"],[\"harmonica blues\"],[\"harmonica jazz\"],[\"harp\"],[\"harpsichord\"],[\"haryanvi pop\"],[\"hauntology\"],[\"hawaiian\"],[\"hawaiian hip hop\"],[\"hawaiian indie\"],[\"healing\"],[\"heartland rock\"],[\"hi-nrg\"],[\"highlife\"],[\"hindi hip hop\"],[\"hindi indie\"],[\"hindustani classical\"],[\"hindustani instrumental\"],[\"hindustani vocal\"],[\"hip hop\"],[\"hip hop cubano\"],[\"hip house\"],[\"hip pop\"],[\"hiplife\"],[\"histoire pour enfants\"],[\"historic classical performance\"],[\"historic orchestral performance\"],[\"historic piano performance\"],[\"historic string quartet\"],[\"historical keyboard\"],[\"historically informed performance\"],[\"hoerspiel\"],[\"hokkien pop\"],[\"hollywood\"],[\"hong kong hip hop\"],[\"hong kong indie\"],[\"hong kong rock\"],[\"honky tonk\"],[\"honky-tonk piano\"],[\"hopebeat\"],[\"horror punk\"],[\"horror synth\"],[\"horrorcore\"],[\"house\"],[\"houston rap\"],[\"huapango\"],[\"huayno\"],[\"hula\"],[\"humppa\"],[\"hungarian choir\"],[\"hungarian classical performance\"],[\"hungarian classical piano\"],[\"hungarian contemporary classical\"],[\"hungarian edm\"],[\"hungarian folk\"],[\"hungarian pop\"],[\"hungarian rock\"],[\"hungarian techno\"],[\"hurdy-gurdy\"],[\"hyperpop\"],[\"hyphy\"],[\"icelandic classical\"],[\"icelandic electronic\"],[\"icelandic experimental\"],[\"icelandic folk\"],[\"icelandic indie\"],[\"icelandic jazz\"],[\"icelandic pop\"],[\"icelandic rock\"],[\"idaho indie\"],[\"idol\"],[\"idol rock\"],[\"ilahiler\"],[\"ilocano pop\"],[\"impressionism\"],[\"indian classical\"],[\"indian edm\"],[\"indian folk\"],[\"indian fusion\"],[\"indian indie\"],[\"indian instrumental\"],[\"indian jazz\"],[\"indiana hip hop\"],[\"indie anthem-folk\"],[\"indie cafe pop\"],[\"indie deutschrap\"],[\"indie dream pop\"],[\"indie electronica\"],[\"indie electropop\"],[\"indie folk\"],[\"indie game soundtrack\"],[\"indie garage rock\"],[\"indie hip hop\"],[\"indie jazz\"],[\"indie pop\"],[\"indie pop rap\"],[\"indie poptimism\"],[\"indie psych-pop\"],[\"indie punk\"],[\"indie quebecois\"],[\"indie r&b\"],[\"indie rock\"],[\"indie rock mexicano\"],[\"indie rockism\"],[\"indie shoegaze\"],[\"indie singer-songwriter\"],[\"indie soul\"],[\"indie surf\"],[\"indie triste\"],[\"indiecoustica\"],[\"indietronica\"],[\"indonesian hip hop\"],[\"indonesian indie\"],[\"indonesian pop\"],[\"indonesian r&b\"],[\"indonesian worship\"],[\"industrial\"],[\"industrial hardcore\"],[\"industrial hip hop\"],[\"industrial metal\"],[\"industrial rock\"],[\"indy indie\"],[\"instrumental acoustic guitar\"],[\"instrumental bluegrass\"],[\"instrumental funk\"],[\"instrumental grime\"],[\"instrumental math rock\"],[\"instrumental post-rock\"],[\"instrumental progressive metal\"],[\"instrumental rock\"],[\"instrumental soul\"],[\"instrumental stoner rock\"],[\"instrumental surf\"],[\"intelligent dance music\"],[\"iowa hip hop\"],[\"irish accordion\"],[\"irish ballad\"],[\"irish banjo\"],[\"irish classical\"],[\"irish country\"],[\"irish dance\"],[\"irish fiddle\"],[\"irish folk\"],[\"irish hip hop\"],[\"irish indie\"],[\"irish metal\"],[\"irish pop\"],[\"irish pub song\"],[\"irish rock\"],[\"irish singer-songwriter\"],[\"iskelma\"],[\"islamic recitation\"],[\"isle of wight indie\"],[\"israeli classical\"],[\"israeli classical piano\"],[\"israeli folk\"],[\"israeli hip hop\"],[\"israeli mediterranean\"],[\"israeli pop\"],[\"israeli rock\"],[\"israeli singer-songwriter\"],[\"israeli techno\"],[\"italian adult pop\"],[\"italian baritone\"],[\"italian baroque\"],[\"italian baroque ensemble\"],[\"italian bass\"],[\"italian blues\"],[\"italian classical guitar\"],[\"italian classical piano\"],[\"italian contemporary jazz\"],[\"italian disco\"],[\"italian gothic\"],[\"italian gothic metal\"],[\"italian indie pop\"],[\"italian jazz\"],[\"italian library music\"],[\"italian mandolin\"],[\"italian metal\"],[\"italian mezzo-soprano\"],[\"italian modern prog\"],[\"italian opera\"],[\"italian orchestra\"],[\"italian pop rock\"],[\"italian power metal\"],[\"italian progressive metal\"],[\"italian progressive rock\"],[\"italian renaissance\"],[\"italian romanticism\"],[\"italian soprano\"],[\"italian soundtrack\"],[\"italian techno\"],[\"italian tenor\"],[\"italian violin\"],[\"italo dance\"],[\"italo house\"],[\"j-acoustic\"],[\"j-ambient\"],[\"j-dance\"],[\"j-division\"],[\"j-idol\"],[\"j-metal\"],[\"j-pixie\"],[\"j-pop\"],[\"j-pop girl group\"],[\"j-poprock\"],[\"j-punk\"],[\"j-reggae\"],[\"j-rock\"],[\"jacksonville indie\"],[\"jam band\"],[\"jamgrass\"],[\"jamtronica\"],[\"jangle pop\"],[\"japanese alternative rock\"],[\"japanese chillhop\"],[\"japanese city pop\"],[\"japanese classical\"],[\"japanese classical performance\"],[\"japanese classical piano\"],[\"japanese concert band\"],[\"japanese dream pop\"],[\"japanese electronic\"],[\"japanese electropop\"],[\"japanese emo\"],[\"japanese experimental\"],[\"japanese folk\"],[\"japanese garage rock\"],[\"japanese girl punk\"],[\"japanese heavy metal\"],[\"japanese idm\"],[\"japanese indie folk\"],[\"japanese indie rock\"],[\"japanese instrumental\"],[\"japanese jazz\"],[\"japanese jazz fusion\"],[\"japanese jazztronica\"],[\"japanese metalcore\"],[\"japanese new wave\"],[\"japanese piano\"],[\"japanese pop punk\"],[\"japanese post-hardcore\"],[\"japanese power metal\"],[\"japanese prog\"],[\"japanese psychedelic\"],[\"japanese punk rock\"],[\"japanese r&b\"],[\"japanese rockabilly\"],[\"japanese singer-songwriter\"],[\"japanese soundtrack\"],[\"japanese traditional\"],[\"japanese vgm\"],[\"japanese vocal jazz\"],[\"jawaiian\"],[\"jazz\"],[\"jazz accordion\"],[\"jazz blues\"],[\"jazz boom bap\"],[\"jazz brass\"],[\"jazz chileno\"],[\"jazz clarinet\"],[\"jazz colombiano\"],[\"jazz cubano\"],[\"jazz double bass\"],[\"jazz drums\"],[\"jazz flute\"],[\"jazz funk\"],[\"jazz fusion\"],[\"jazz guitar\"],[\"jazz harp\"],[\"jazz metal\"],[\"jazz mexicano\"],[\"jazz orchestra\"],[\"jazz organ\"],[\"jazz piano\"],[\"jazz pop\"],[\"jazz quartet\"],[\"jazz rap\"],[\"jazz rock\"],[\"jazz saxophone\"],[\"jazz trio\"],[\"jazz trombone\"],[\"jazz trumpet\"],[\"jazz tuba\"],[\"jazz venezolano\"],[\"jazz vibraphone\"],[\"jazz violin\"],[\"jazztronica\"],[\"jewish cantorial\"],[\"jewish hip hop\"],[\"jig and reel\"],[\"jordanian pop\"],[\"joropo\"],[\"jovem guarda\"],[\"jug band\"],[\"juju\"],[\"jump blues\"],[\"jump up\"],[\"k-indie\"],[\"k-pop\"],[\"k-pop boy group\"],[\"k-pop girl group\"],[\"k-rap\"],[\"kabarett\"],[\"kabyle\"],[\"kaneka\"],[\"kannada bhava geethe\"],[\"kansas city hip hop\"],[\"kashmiri pop\"],[\"kawaii future bass\"],[\"kawaii metal\"],[\"kayokyoku\"],[\"kc indie\"],[\"kent indie\"],[\"kentucky hip hop\"],[\"kentucky indie\"],[\"kentucky metal\"],[\"kentucky mountain folk\"],[\"kentucky punk\"],[\"kentucky roots\"],[\"keroncong\"],[\"khaleeji iraqi\"],[\"khmer\"],[\"kids dance party\"],[\"kindie rock\"],[\"kingston on indie\"],[\"kirtan\"],[\"kiwi rock\"],[\"kizomba antigas\"],[\"kleine hoerspiel\"],[\"klezmer\"],[\"knoxville indie\"],[\"kodomo no ongaku\"],[\"kolsche karneval\"],[\"komedi\"],[\"kompa\"],[\"kora\"],[\"korean classical performance\"],[\"korean classical piano\"],[\"korean indie rock\"],[\"korean mask singer\"],[\"korean pop\"],[\"korean r&b\"],[\"korean trap\"],[\"koto\"],[\"krautrock\"],[\"kundiman\"],[\"la indie\"],[\"la pop\"],[\"laboratorio\"],[\"lafayette indie\"],[\"laiko\"],[\"lancashire indie\"],[\"lancaster pa indie\"],[\"late romantic era\"],[\"latin\"],[\"latin afrobeat\"],[\"latin alternative\"],[\"latin american classical piano\"],[\"latin arena pop\"],[\"latin christian\"],[\"latin classical\"],[\"latin funk\"],[\"latin hip hop\"],[\"latin house\"],[\"latin jazz\"],[\"latin metal\"],[\"latin pop\"],[\"latin rock\"],[\"latin ska\"],[\"latin soundtrack\"],[\"latin talent show\"],[\"latin tech house\"],[\"latin viral pop\"],[\"latin worship\"],[\"latincore\"],[\"latino comedy\"],[\"latintronica\"],[\"latinx alternative\"],[\"latvian pop\"],[\"lds\"],[\"lds youth\"],[\"lebanese pop\"],[\"leicester indie\"],[\"lexington ky indie\"],[\"lgbtq+ hip hop\"],[\"library music\"],[\"liedermacher\"],[\"light music\"],[\"lilith\"],[\"liquid funk\"],[\"lithuanian electronic\"],[\"liverpool indie\"],[\"livetronica\"],[\"lldm\"],[\"lo star\"],[\"lo-fi\"],[\"lo-fi beats\"],[\"lo-fi brasileiro\"],[\"lo-fi chill\"],[\"lo-fi cover\"],[\"lo-fi emo\"],[\"lo-fi house\"],[\"lo-fi indie\"],[\"lo-fi vgm\"],[\"london rap\"],[\"louisiana blues\"],[\"louisiana metal\"],[\"louisville indie\"],[\"louisville underground\"],[\"lounge\"],[\"louvor\"],[\"lovers rock\"],[\"lullaby\"],[\"lund indie\"],[\"lute\"],[\"macedonian folk\"],[\"madchester\"],[\"madrigal\"],[\"magyar alternative\"],[\"maine hip hop\"],[\"maine indie\"],[\"mainland chinese pop\"],[\"makossa\"],[\"malaysian mandopop\"],[\"malaysian pop\"],[\"malian blues\"],[\"mallet\"],[\"malmo indie\"],[\"mambo\"],[\"manchester hip hop\"],[\"manchester indie\"],[\"mande pop\"],[\"mandolin\"],[\"mandopop\"],[\"manguebeat\"],[\"manila sound\"],[\"manitoba indie\"],[\"mantra\"],[\"marathi pop\"],[\"marathi traditional\"],[\"marching band\"],[\"mariachi\"],[\"mariachi cristiano\"],[\"marimba orquesta\"],[\"martial industrial\"],[\"mashup\"],[\"math rock\"],[\"mathcore\"],[\"mbalax\"],[\"medieval\"],[\"medieval folk\"],[\"medieval rock\"],[\"meditation\"],[\"melancholia\"],[\"melbourne bounce\"],[\"melbourne bounce international\"],[\"melbourne indie\"],[\"mellow gold\"],[\"melodic death metal\"],[\"melodic deathcore\"],[\"melodic dubstep\"],[\"melodic groove metal\"],[\"melodic hard rock\"],[\"melodic hardcore\"],[\"melodic metal\"],[\"melodic metalcore\"],[\"melodic power metal\"],[\"melodic rap\"],[\"melodic thrash\"],[\"meme rap\"],[\"memphis americana\"],[\"memphis blues\"],[\"memphis hip hop\"],[\"memphis indie\"],[\"memphis soul\"],[\"mento\"],[\"merengue\"],[\"merengue tipico\"],[\"merseybeat\"],[\"messianic praise\"],[\"metal\"],[\"metal guitar\"],[\"metal mineiro\"],[\"metalcore\"],[\"metropopolis\"],[\"mexican classic rock\"],[\"mexican classical\"],[\"mexican hip hop\"],[\"mexican indie\"],[\"mexican pop\"],[\"mexican pop punk\"],[\"mexican rock\"],[\"mexican rock-and-roll\"],[\"mexican son\"],[\"mexican traditional\"],[\"miami bass\"],[\"miami hip hop\"],[\"miami indie\"],[\"miami metal\"],[\"michigan indie\"],[\"microhouse\"],[\"microtonal\"],[\"middle earth\"],[\"middle east hip hop\"],[\"middle eastern traditional\"],[\"midwest americana\"],[\"midwest emo\"],[\"military cadence\"],[\"military rap\"],[\"milwaukee indie\"],[\"mindfulness\"],[\"minecraft\"],[\"minimal melodic techno\"],[\"minimal tech house\"],[\"minimal techno\"],[\"minimal wave\"],[\"minimalism\"],[\"minneapolis indie\"],[\"minneapolis metal\"],[\"minneapolis punk\"],[\"minneapolis sound\"],[\"minnesota hip hop\"],[\"mississippi hip hop\"],[\"mississippi indie\"],[\"mizrahi\"],[\"mod revival\"],[\"modern alternative pop\"],[\"modern alternative rock\"],[\"modern big band\"],[\"modern blues\"],[\"modern blues rock\"],[\"modern bollywood\"],[\"modern country rock\"],[\"modern dream pop\"],[\"modern folk rock\"],[\"modern funk\"],[\"modern hard rock\"],[\"modern indie pop\"],[\"modern jazz piano\"],[\"modern jazz trio\"],[\"modern old-time\"],[\"modern performance\"],[\"modern power pop\"],[\"modern psychedelic folk\"],[\"modern reggae\"],[\"modern rock\"],[\"modern salsa\"],[\"modern ska punk\"],[\"modern southern rock\"],[\"modern string quartet\"],[\"modern swing\"],[\"modern uplift\"],[\"modular synth\"],[\"moldovan pop\"],[\"mollywood\"],[\"mongolian hip hop\"],[\"mongolian pop\"],[\"monterrey indie\"],[\"montreal indie\"],[\"moog\"],[\"moombahton\"],[\"morna\"],[\"motivation\"],[\"motown\"],[\"mountain dulcimer\"],[\"movie tunes\"],[\"mpb\"],[\"music box\"],[\"music hall\"],[\"musica afroperuana\"],[\"musica alagoana\"],[\"musica andina\"],[\"musica andina colombiana\"],[\"musica antigua\"],[\"musica aragonesa\"],[\"musica ayacuchana\"],[\"musica canaria\"],[\"musica costarricense\"],[\"musica costena\"],[\"musica cristiana guatemalteca\"],[\"musica de fondo\"],[\"musica gaucha tradicionalista\"],[\"musica hondurena\"],[\"musica infantil\"],[\"musica jibara\"],[\"musica juiz-forana\"],[\"musica llanera\"],[\"musica nicaraguense\"],[\"musica para criancas\"],[\"musica para ninos\"],[\"musica paraibana\"],[\"musica piemonteisa\"],[\"musica popular colombiana\"],[\"musica popular mineira\"],[\"musica popular paraense\"],[\"musica potosina\"],[\"musica prehispanica\"],[\"musica sarda\"],[\"musica tradicional cubana\"],[\"musica tropical guatemalteca\"],[\"musical advocacy\"],[\"musikkorps\"],[\"musique concrete\"],[\"musique peule\"],[\"musique pour enfant quebecois\"],[\"musique pour enfants\"],[\"musique touareg\"],[\"muzica populara\"],[\"muzika l'yeladim\"],[\"naija worship\"],[\"nantes indie\"],[\"narodna muzika\"],[\"nashville americana\"],[\"nashville hip hop\"],[\"nashville indie\"],[\"nashville singer-songwriter\"],[\"nashville sound\"],[\"native american\"],[\"native american contemporary\"],[\"native american flute\"],[\"native american hip hop\"],[\"native american spiritual\"],[\"navajo\"],[\"nederlandse hardstyle\"],[\"nederpop\"],[\"neo classical metal\"],[\"neo kyma\"],[\"neo mellow\"],[\"neo r&b\"],[\"neo soul\"],[\"neo-classical\"],[\"neo-kraut\"],[\"neo-pagan\"],[\"neo-progressive\"],[\"neo-psychedelic\"],[\"neo-rockabilly\"],[\"neo-singer-songwriter\"],[\"neo-synthpop\"],[\"neo-trad metal\"],[\"neo-traditional bluegrass\"],[\"neo-traditional country\"],[\"neoclassical darkwave\"],[\"neoclassicism\"],[\"neofolk\"],[\"neon pop punk\"],[\"neotango\"],[\"nepali indie\"],[\"nepali pop\"],[\"nerdcore\"],[\"neue deutsche harte\"],[\"neue deutsche todeskunst\"],[\"neue deutsche welle\"],[\"neurofunk\"],[\"new age\"],[\"new age piano\"],[\"new americana\"],[\"new beat\"],[\"new comedy\"],[\"new england americana\"],[\"new england emo\"],[\"new french touch\"],[\"new isolationism\"],[\"new jack swing\"],[\"new jersey hardcore\"],[\"new jersey indie\"],[\"new jersey punk\"],[\"new jersey rap\"],[\"new mexico music\"],[\"new orleans blues\"],[\"new orleans funk\"],[\"new orleans indie\"],[\"new orleans jazz\"],[\"new orleans rap\"],[\"new rave\"],[\"new romantic\"],[\"new tribe\"],[\"new wave\"],[\"new wave of thrash metal\"],[\"new wave pop\"],[\"new weird america\"],[\"new york death metal\"],[\"new york drill\"],[\"new zealand classical\"],[\"newcastle indie\"],[\"newcastle nsw indie\"],[\"nigerian hip hop\"],[\"nigerian pop\"],[\"nightcore\"],[\"nightrun\"],[\"ninja\"],[\"nintendocore\"],[\"nisiotika\"],[\"nl folk\"],[\"no wave\"],[\"noise pop\"],[\"noise punk\"],[\"noise rock\"],[\"nordic classical piano\"],[\"nordic contemporary classical\"],[\"nordic folk\"],[\"nordic house\"],[\"nordic orchestra\"],[\"nordic post-rock\"],[\"nordic soundtrack\"],[\"norman ok indie\"],[\"norsk lovsang\"],[\"norteno\"],[\"norteno-sax\"],[\"north carolina emo\"],[\"north carolina hip hop\"],[\"north carolina indie\"],[\"north carolina metal\"],[\"north carolina roots\"],[\"north east england indie\"],[\"northern irish indie\"],[\"northern irish punk\"],[\"northern soul\"],[\"norwegian black metal\"],[\"norwegian choir\"],[\"norwegian classical\"],[\"norwegian contemporary jazz\"],[\"norwegian death metal\"],[\"norwegian experimental\"],[\"norwegian hip hop\"],[\"norwegian indie\"],[\"norwegian jazz\"],[\"norwegian metal\"],[\"norwegian pop\"],[\"norwegian pop rap\"],[\"norwegian punk rock\"],[\"norwegian rock\"],[\"norwegian singer-songwriter\"],[\"norwegian space disco\"],[\"nottingham indie\"],[\"nouvelle chanson francaise\"],[\"nova canco\"],[\"nova mpb\"],[\"nova musica pernambucana\"],[\"novelty\"],[\"nu age\"],[\"nu disco\"],[\"nu gaze\"],[\"nu jazz\"],[\"nu metal\"],[\"nu skool breaks\"],[\"nu-cumbia\"],[\"nu-metalcore\"],[\"nubian traditional\"],[\"nueva cancion\"],[\"nueva ola chilena\"],[\"nueva ola peruana\"],[\"nuevo flamenco\"],[\"nuevo folklore mexicano\"],[\"nuevo regional mexicano\"],[\"nuevo tango\"],[\"nursery\"],[\"nwobhm\"],[\"nwothm\"],[\"ny roots\"],[\"nyc pop\"],[\"nyc rap\"],[\"nyhc\"],[\"nz christian\"],[\"nz folk\"],[\"nz hardcore\"],[\"nz indie\"],[\"nz pop\"],[\"nz punk\"],[\"nz reggae\"],[\"nz singer-songwriter\"],[\"oakland hip hop\"],[\"oakland indie\"],[\"oc indie\"],[\"oc rap\"],[\"oceania soundtrack\"],[\"ohio hip hop\"],[\"ohio indie\"],[\"oi\"],[\"ok indie\"],[\"okc indie\"],[\"okinawan pop\"],[\"oklahoma country\"],[\"old school dancehall\"],[\"old school hip hop\"],[\"old school rap francais\"],[\"old school thrash\"],[\"old school uk hip hop\"],[\"old west\"],[\"old-time\"],[\"old-time fiddle\"],[\"olympia wa indie\"],[\"omaha indie\"],[\"one-person band\"],[\"ontario indie\"],[\"opera\"],[\"opera chorus\"],[\"opera metal\"],[\"operatic pop\"],[\"operetta\"],[\"opm\"],[\"oratory\"],[\"orchestra\"],[\"orchestral performance\"],[\"orebro indie\"],[\"organic ambient\"],[\"organic electronic\"],[\"organic house\"],[\"orgcore\"],[\"oriental classical\"],[\"orkney and shetland folk\"],[\"orlando indie\"],[\"orquesta tipica\"],[\"orthodox chant\"],[\"oshare kei\"],[\"otacore\"],[\"oth indie\"],[\"ottawa indie\"],[\"ottawa rap\"],[\"oud\"],[\"outer hip hop\"],[\"outlaw country\"],[\"outsider\"],[\"outsider house\"],[\"oxford choir\"],[\"oxford indie\"],[\"p funk\"],[\"pagan black metal\"],[\"pagode\"],[\"pagode baiano\"],[\"paisley underground\"],[\"pakistani folk\"],[\"pakistani hip hop\"],[\"pakistani pop\"],[\"palestinian pop\"],[\"palm desert scene\"],[\"panamanian pop\"],[\"panamanian rock\"],[\"panpipe\"],[\"papuri\"],[\"parody\"],[\"partido alto\"],[\"partyschlager\"],[\"pei indie\"],[\"permanent wave\"],[\"perreo\"],[\"persian pop\"],[\"persian traditional\"],[\"perth indie\"],[\"peruvian hip hop\"],[\"peruvian rock\"],[\"pet calming\"],[\"philly indie\"],[\"philly rap\"],[\"philly soul\"],[\"phoenix indie\"],[\"phonk\"],[\"pianissimo\"],[\"piano blues\"],[\"piano cover\"],[\"piano mpb\"],[\"piano rock\"],[\"pibroch\"],[\"piedmont blues\"],[\"pinoy hip hop\"],[\"pinoy indie\"],[\"pinoy pop punk\"],[\"pinoy praise\"],[\"pinoy r&b\"],[\"pinoy reggae\"],[\"pinoy rock\"],[\"pinoy traditional\"],[\"pinoy trap\"],[\"pirate\"],[\"pittsburgh indie\"],[\"pittsburgh rap\"],[\"pittsburgh rock\"],[\"pixie\"],[\"plunderphonics\"],[\"poetry\"],[\"polca paraguaya\"],[\"polish blues\"],[\"polish classical\"],[\"polish classical piano\"],[\"polish contemporary classical\"],[\"polish jazz\"],[\"polish modern jazz\"],[\"polish pop\"],[\"polish post-rock\"],[\"polish reggae\"],[\"polish rock\"],[\"political hip hop\"],[\"polka\"],[\"polynesian hip hop\"],[\"polynesian pop\"],[\"polyphony\"],[\"pony\"],[\"pop\"],[\"pop argentino\"],[\"pop chileno\"],[\"pop dance\"],[\"pop edm\"],[\"pop electronico\"],[\"pop emo\"],[\"pop flamenco\"],[\"pop folk\"],[\"pop house\"],[\"pop nacional\"],[\"pop nacional antigas\"],[\"pop peruano\"],[\"pop punk\"],[\"pop quebecois\"],[\"pop r&b\"],[\"pop rap\"],[\"pop reggaeton\"],[\"pop rock\"],[\"pop rock brasileiro\"],[\"pop romantico\"],[\"pop soul\"],[\"pop venezolano\"],[\"pop violin\"],[\"popgaze\"],[\"popping\"],[\"pops orchestra\"],[\"popwave\"],[\"pornogrind\"],[\"porro\"],[\"portland hip hop\"],[\"portland indie\"],[\"portland metal\"],[\"portland punk\"],[\"portuguese early music\"],[\"post-disco\"],[\"post-disco soul\"],[\"post-doom metal\"],[\"post-grunge\"],[\"post-hardcore\"],[\"post-metal\"],[\"post-minimalism\"],[\"post-post-hardcore\"],[\"post-punk\"],[\"post-punk argentina\"],[\"post-rock\"],[\"post-romantic era\"],[\"post-screamo\"],[\"post-teen pop\"],[\"power metal\"],[\"power pop\"],[\"power thrash\"],[\"power-pop punk\"],[\"praise\"],[\"prepared piano\"],[\"preschool children's music\"],[\"prog quebec\"],[\"progressive alternative\"],[\"progressive bluegrass\"],[\"progressive deathcore\"],[\"progressive electro house\"],[\"progressive groove metal\"],[\"progressive house\"],[\"progressive jazz fusion\"],[\"progressive metal\"],[\"progressive metalcore\"],[\"progressive post-hardcore\"],[\"progressive power metal\"],[\"progressive psytrance\"],[\"progressive rock\"],[\"progressive sludge\"],[\"progressive trance\"],[\"progressive trance house\"],[\"progressive uplifting trance\"],[\"proto-rap\"],[\"proto-techno\"],[\"protopunk\"],[\"psalmen\"],[\"psicodelia brasileira\"],[\"psybass\"],[\"psychedelic blues-rock\"],[\"psychedelic doom\"],[\"psychedelic folk\"],[\"psychedelic folk rock\"],[\"psychedelic hip hop\"],[\"psychedelic pop\"],[\"psychedelic punk\"],[\"psychedelic rock\"],[\"psychedelic soul\"],[\"psychedelic trance\"],[\"psychill\"],[\"psychobilly\"],[\"pub rock\"],[\"puerto rican folk\"],[\"puerto rican pop\"],[\"puerto rican rock\"],[\"punjabi folk\"],[\"punjabi hip hop\"],[\"punjabi pop\"],[\"punk\"],[\"punk 'n' roll\"],[\"punk blues\"],[\"punk rock italiano\"],[\"punk rock mexicano\"],[\"punta\"],[\"purple sound\"],[\"qawwali\"],[\"quartetto d'archi\"],[\"quatuor a cordes\"],[\"quebec death metal\"],[\"quebec indie\"],[\"queens hip hop\"],[\"queer country\"],[\"queercore\"],[\"quiet storm\"],[\"quran\"],[\"r&b\"],[\"r&b en espanol\"],[\"rabindra sangeet\"],[\"radio symphony\"],[\"ragtime\"],[\"rai\"],[\"ranchera\"],[\"rap\"],[\"rap chileno\"],[\"rap conciencia\"],[\"rap conscient\"],[\"rap cristiano\"],[\"rap dominicano\"],[\"rap kreyol\"],[\"rap latina\"],[\"rap metal\"],[\"rap nacional antigo\"],[\"rap napoletano\"],[\"rap rock\"],[\"rap underground mexicano\"],[\"rare groove\"],[\"rave\"],[\"rawstyle\"],[\"reading\"],[\"reading indie\"],[\"rebel blues\"],[\"rebetiko\"],[\"recorder\"],[\"red dirt\"],[\"redneck\"],[\"reggae\"],[\"reggae en espanol\"],[\"reggae fusion\"],[\"reggae rock\"],[\"reggaeton\"],[\"reggaeton colombiano\"],[\"reggaeton cristiano\"],[\"reggaeton flow\"],[\"reggaeton mexicano\"],[\"regional mexican\"],[\"relaxative\"],[\"renaissance\"],[\"rennes indie\"],[\"retro metal\"],[\"retro soul\"],[\"rhode island indie\"],[\"rhode island rap\"],[\"rhythm and blues\"],[\"riddim\"],[\"rif\"],[\"riot grrrl\"],[\"ritmo kombina\"],[\"rochester mn indie\"],[\"rochester ny indie\"],[\"rock\"],[\"rock alternatif francais\"],[\"rock alternativo brasileiro\"],[\"rock andaluz\"],[\"rock baiano\"],[\"rock brasiliense\"],[\"rock chapin\"],[\"rock cristiano\"],[\"rock drums\"],[\"rock en espanol\"],[\"rock gaucho\"],[\"rock independant francais\"],[\"rock kapak\"],[\"rock keyboard\"],[\"rock nacional\"],[\"rock nacional brasileiro\"],[\"rock pernambucano\"],[\"rock progressif francais\"],[\"rock steady\"],[\"rock urbano mexicano\"],[\"rock-and-roll\"],[\"rockabilly\"],[\"rockabilly en espanol\"],[\"roda de samba\"],[\"romanian classical piano\"],[\"romanian electronic\"],[\"romanian folk\"],[\"romanian pop\"],[\"romanian rock\"],[\"romantico\"],[\"roots americana\"],[\"roots reggae\"],[\"roots rock\"],[\"roots worship\"],[\"rosary\"],[\"rumba\"],[\"rumba congolaise\"],[\"rune folk\"],[\"russian alternative rock\"],[\"russian ccm\"],[\"russian chanson\"],[\"russian choir\"],[\"russian classical piano\"],[\"russian dance\"],[\"russian edm\"],[\"russian folk\"],[\"russian folk rock\"],[\"russian jazz\"],[\"russian metal\"],[\"russian metalcore\"],[\"russian modern classical\"],[\"russian orchestra\"],[\"russian pop\"],[\"russian post-punk\"],[\"russian punk\"],[\"russian rock\"],[\"russian romanticism\"],[\"russian shoegaze\"],[\"russian trance\"],[\"rva indie\"],[\"rwandan traditional\"],[\"ryukyu ongaku\"],[\"sacramento hip hop\"],[\"sacramento indie\"],[\"sacred steel\"],[\"sad rap\"],[\"salsa\"],[\"salsa choke\"],[\"salsa colombiana\"],[\"salsa cubana\"],[\"salsa international\"],[\"salsa peruana\"],[\"salsa puertorriquena\"],[\"salsa venezolana\"],[\"samba\"],[\"samba de roda\"],[\"samba moderno\"],[\"samba-enredo\"],[\"samba-jazz\"],[\"samba-rock\"],[\"san antonio rap\"],[\"san diego indie\"],[\"san diego rap\"],[\"san marcos tx indie\"],[\"sandalwood\"],[\"sarod\"],[\"saskatchewan indie\"],[\"scam rap\"],[\"scandinavian r&b\"],[\"scandipop\"],[\"schlager\"],[\"scorecore\"],[\"scottish electronic\"],[\"scottish fiddle\"],[\"scottish folk\"],[\"scottish hip hop\"],[\"scottish indie\"],[\"scottish jazz\"],[\"scottish metal\"],[\"scottish new wave\"],[\"scottish rock\"],[\"scottish singer-songwriter\"],[\"scratch\"],[\"scream rap\"],[\"screamo\"],[\"seattle hip hop\"],[\"seattle indie\"],[\"second line\"],[\"sefardi\"],[\"serbian electronic\"],[\"serialism\"],[\"sertanejo\"],[\"sertanejo pop\"],[\"sertanejo tradicional\"],[\"sertanejo universitario\"],[\"sevdah\"],[\"sevillanas\"],[\"shaabi\"],[\"shabad\"],[\"shakuhachi\"],[\"shamanic\"],[\"shanty\"],[\"sheffield indie\"],[\"shibuya-kei\"],[\"shimmer pop\"],[\"shimmer psych\"],[\"shiver pop\"],[\"shoegaze\"],[\"show tunes\"],[\"shred\"],[\"shush\"],[\"sierreno\"],[\"singaporean mandopop\"],[\"singaporean pop\"],[\"singaporean singer-songwriter\"],[\"singer-songwriter\"],[\"singing bowl\"],[\"sitar\"],[\"ska\"],[\"ska argentino\"],[\"ska chileno\"],[\"ska jazz\"],[\"ska mexicano\"],[\"ska punk\"],[\"ska revival\"],[\"skate punk\"],[\"skiffle\"],[\"skramz\"],[\"sky room\"],[\"slack-key guitar\"],[\"slam poetry\"],[\"slamming deathcore\"],[\"slavic folk metal\"],[\"slayer\"],[\"slc indie\"],[\"sleaze rock\"],[\"sleep\"],[\"slovak electronic\"],[\"slovenian electronic\"],[\"slovenian metal\"],[\"slow game\"],[\"slowcore\"],[\"sludge metal\"],[\"small room\"],[\"smooth jazz\"],[\"smooth saxophone\"],[\"smooth soul\"],[\"soca\"],[\"socal pop punk\"],[\"social media pop\"],[\"soda pop\"],[\"soft rock\"],[\"solipsynthm\"],[\"son cubano\"],[\"son cubano clasico\"],[\"son jarocho\"],[\"sophisti-pop\"],[\"sotalaulut\"],[\"soukous\"],[\"soul\"],[\"soul blues\"],[\"soul flow\"],[\"soul jazz\"],[\"souldies\"],[\"sound\"],[\"sound art\"],[\"sound effects\"],[\"sound team\"],[\"soundtrack\"],[\"south african alternative\"],[\"south african choral\"],[\"south african country\"],[\"south african hip hop\"],[\"south african house\"],[\"south african jazz\"],[\"south african pop\"],[\"south african pop dance\"],[\"south african rock\"],[\"south carolina hip hop\"],[\"south carolina indie\"],[\"south carolina metal\"],[\"south dakota indie\"],[\"southampton indie\"],[\"southern americana\"],[\"southern gospel\"],[\"southern hip hop\"],[\"southern metal\"],[\"southern rock\"],[\"southern soul\"],[\"southern soul blues\"],[\"soviet synthpop\"],[\"sovietwave\"],[\"spa\"],[\"space age pop\"],[\"space ambient\"],[\"space rock\"],[\"spanish baroque\"],[\"spanish classical\"],[\"spanish classical piano\"],[\"spanish folk metal\"],[\"spanish hip hop\"],[\"spanish indie pop\"],[\"spanish invasion\"],[\"spanish metal\"],[\"spanish modern rock\"],[\"spanish new wave\"],[\"spanish noise pop\"],[\"spanish pop\"],[\"spanish pop rock\"],[\"spanish renaissance\"],[\"spanish rock\"],[\"spanish synthpop\"],[\"spanish techno\"],[\"speed garage\"],[\"speed metal\"],[\"speedcore\"],[\"spiritual hip hop\"],[\"spiritual jazz\"],[\"spirituals\"],[\"springfield mo indie\"],[\"spytrack\"],[\"st louis rap\"],[\"steampunk\"],[\"steel guitar\"],[\"steelpan\"],[\"stl indie\"],[\"stomp and flutter\"],[\"stomp and holler\"],[\"stomp and whittle\"],[\"stomp pop\"],[\"stoner metal\"],[\"stoner rock\"],[\"straight edge\"],[\"straight-ahead jazz\"],[\"street band\"],[\"street punk\"],[\"streichquartett\"],[\"stride\"],[\"string band\"],[\"string folk\"],[\"string orchestra\"],[\"string quartet\"],[\"strut\"],[\"substep\"],[\"sudanese pop\"],[\"sufi\"],[\"sufi chant\"],[\"sunshine pop\"],[\"supergroup\"],[\"surf music\"],[\"surf punk\"],[\"svensk progg\"],[\"swamp blues\"],[\"swamp pop\"],[\"swamp rock\"],[\"swancore\"],[\"swedish alternative rock\"],[\"swedish americana\"],[\"swedish black metal\"],[\"swedish choir\"],[\"swedish country\"],[\"swedish dancehall\"],[\"swedish death metal\"],[\"swedish doom metal\"],[\"swedish electronic\"],[\"swedish electropop\"],[\"swedish eurodance\"],[\"swedish garage rock\"],[\"swedish hard rock\"],[\"swedish hardcore\"],[\"swedish heavy metal\"],[\"swedish house\"],[\"swedish idol pop\"],[\"swedish indie folk\"],[\"swedish indie pop\"],[\"swedish indie rock\"],[\"swedish jazz\"],[\"swedish jazz orkester\"],[\"swedish melodic rock\"],[\"swedish metal\"],[\"swedish metalcore\"],[\"swedish pop\"],[\"swedish post-hardcore\"],[\"swedish power metal\"],[\"swedish prog\"],[\"swedish progressive metal\"],[\"swedish rock-and-roll\"],[\"swedish singer-songwriter\"],[\"swedish soul\"],[\"swedish stoner rock\"],[\"swedish synth\"],[\"swedish synthpop\"],[\"swedish tropical house\"],[\"swedish underground rap\"],[\"swing\"],[\"swing italiano\"],[\"swing revival\"],[\"swiss black metal\"],[\"swiss classical piano\"],[\"swiss country\"],[\"swiss metal\"],[\"swiss pop\"],[\"swiss rock\"],[\"swiss worship\"],[\"sydney indie\"],[\"symphonic black metal\"],[\"symphonic metal\"],[\"symphonic rock\"],[\"synth funk\"],[\"synthpop\"],[\"synthwave\"],[\"syrian pop\"],[\"tabla\"],[\"tagalog rap\"],[\"tagalog worship\"],[\"taiwan campus folk\"],[\"taiwan classical performance\"],[\"taiwan hip hop\"],[\"taiwan indie\"],[\"taiwan pop\"],[\"taiwan singer-songwriter\"],[\"tajik pop\"],[\"talent show\"],[\"tamaulipas indie\"],[\"tamaulipas rap\"],[\"tamborazo\"],[\"tamil hip hop\"],[\"tamil pop\"],[\"tamil worship\"],[\"tampa indie\"],[\"tango\"],[\"tango cancion\"],[\"tape club\"],[\"tech house\"],[\"technical death metal\"],[\"technical deathcore\"],[\"technical groove metal\"],[\"technical melodic death metal\"],[\"technical thrash\"],[\"techno\"],[\"techno kayo\"],[\"tecnobanda\"],[\"teen pop\"],[\"tejano\"],[\"tempe indie\"],[\"tennessee hip hop\"],[\"tennessee metal\"],[\"tex-mex\"],[\"texas blues\"],[\"texas country\"],[\"texas latin rap\"],[\"texas pop punk\"],[\"texas punk\"],[\"thai folk\"],[\"thai folk rock\"],[\"thai idol\"],[\"thai indie rock\"],[\"thai pop\"],[\"thall\"],[\"theme\"],[\"theremin\"],[\"thrash core\"],[\"thrash metal\"],[\"timba\"],[\"tin pan alley\"],[\"tipico\"],[\"tolkien metal\"],[\"tollywood\"],[\"tone\"],[\"torch song\"],[\"toronto indie\"],[\"toronto rap\"],[\"trad jazz catala\"],[\"traditional bluegrass\"],[\"traditional blues\"],[\"traditional british folk\"],[\"traditional country\"],[\"traditional folk\"],[\"traditional funk\"],[\"traditional rockabilly\"],[\"traditional ska\"],[\"traditional soul\"],[\"trance\"],[\"trance mexicano\"],[\"trancecore\"],[\"transpop\"],[\"trap\"],[\"trap argentino\"],[\"trap chileno\"],[\"trap dominicano\"],[\"trap latino\"],[\"trap mexicano\"],[\"trap queen\"],[\"trap soul\"],[\"trap triste\"],[\"trap venezolano\"],[\"traprun\"],[\"trash rock\"],[\"triangle indie\"],[\"tribal house\"],[\"trinidadian reggae\"],[\"trio cubano\"],[\"trip hop\"],[\"trival\"],[\"tropical\"],[\"tropical house\"],[\"tropicalia\"],[\"trova\"],[\"trova mexicana\"],[\"truck-driving country\"],[\"tuareg guitar\"],[\"tucson indie\"],[\"tulsa indie\"],[\"tuna estudiantil\"],[\"tunisian pop\"],[\"turbo folk\"],[\"turkish classical\"],[\"turkish classical performance\"],[\"turkish edm\"],[\"turkish experimental\"],[\"turkish folk\"],[\"turkish jazz\"],[\"turkish modern jazz\"],[\"turkish pop\"],[\"turkish psych\"],[\"turkish trap\"],[\"turkish trap pop\"],[\"turntablism\"],[\"twee pop\"],[\"twoubadou\"],[\"tzadik\"],[\"ugandan pop\"],[\"uilleann pipes\"],[\"uk alternative hip hop\"],[\"uk alternative pop\"],[\"uk americana\"],[\"uk contemporary jazz\"],[\"uk contemporary r&b\"],[\"uk dance\"],[\"uk dancehall\"],[\"uk diy punk\"],[\"uk dnb\"],[\"uk doom metal\"],[\"uk dub\"],[\"uk experimental electronic\"],[\"uk funky\"],[\"uk garage\"],[\"uk hip hop\"],[\"uk house\"],[\"uk metalcore\"],[\"uk noise rock\"],[\"uk pop\"],[\"uk pop punk\"],[\"uk post-hardcore\"],[\"uk post-punk\"],[\"uk reggae\"],[\"uk rockabilly\"],[\"uk stoner rock\"],[\"uk worship\"],[\"uk82\"],[\"ukrainian choir\"],[\"ukrainian classical\"],[\"ukrainian classical piano\"],[\"ukrainian electronic\"],[\"ukrainian pop\"],[\"ukulele\"],[\"umbanda\"],[\"underground hip hop\"],[\"underground power pop\"],[\"underground rap\"],[\"university choir\"],[\"uplifting trance\"],[\"uptempo hardcore\"],[\"urban contemporary\"],[\"urbano espanol\"],[\"us power metal\"],[\"utah indie\"],[\"uzbek pop\"],[\"uzbek traditional\"],[\"v-pop\"],[\"vallenato\"],[\"vallenato moderno\"],[\"vancouver indie\"],[\"vancouver metal\"],[\"vancouver punk\"],[\"vapor pop\"],[\"vapor soul\"],[\"vapor trap\"],[\"vapor twitch\"],[\"vaporwave\"],[\"variete francaise\"],[\"vaudeville\"],[\"vbs\"],[\"veena\"],[\"vegan straight edge\"],[\"vegas indie\"],[\"velha guarda\"],[\"venezuelan hip hop\"],[\"venezuelan indie\"],[\"venezuelan rock\"],[\"veracruz indie\"],[\"vermont indie\"],[\"vgm instrumental\"],[\"vgm remix\"],[\"victoria bc indie\"],[\"victorian britain\"],[\"video game music\"],[\"vienna indie\"],[\"vietnamese bolero\"],[\"vietnamese pop\"],[\"viking black metal\"],[\"viking folk\"],[\"viking metal\"],[\"villancicos\"],[\"vintage chanson\"],[\"vintage chinese pop\"],[\"vintage classical singing\"],[\"vintage country folk\"],[\"vintage dutch pop\"],[\"vintage french electronic\"],[\"vintage gospel\"],[\"vintage hollywood\"],[\"vintage italian pop\"],[\"vintage italian soundtrack\"],[\"vintage jazz\"],[\"vintage old-time\"],[\"vintage rockabilly\"],[\"vintage schlager\"],[\"vintage spanish pop\"],[\"vintage swedish pop\"],[\"vintage swing\"],[\"vintage tango\"],[\"viola\"],[\"violao\"],[\"violao classico\"],[\"violin\"],[\"viral pop\"],[\"viral rap\"],[\"viral trap\"],[\"virgin islands reggae\"],[\"virginia hip hop\"],[\"virginia metal\"],[\"virginia punk\"],[\"visor\"],[\"visual kei\"],[\"vocal ensemble\"],[\"vocal harmony group\"],[\"vocal house\"],[\"vocal jazz\"],[\"vocal trance\"],[\"vocaloid\"],[\"vogue\"],[\"volksmusik\"],[\"warm drone\"],[\"washboard\"],[\"washington indie\"],[\"wassoulou\"],[\"water\"],[\"wave\"],[\"welsh folk\"],[\"welsh indie\"],[\"welsh metal\"],[\"welsh rock\"],[\"west african jazz\"],[\"west australian hip hop\"],[\"west coast rap\"],[\"west coast reggae\"],[\"west coast trap\"],[\"west end\"],[\"west virginia indie\"],[\"western americana\"],[\"western mass indie\"],[\"western saharan folk\"],[\"western swing\"],[\"white noise\"],[\"wind ensemble\"],[\"wind quintet\"],[\"wisconsin indie\"],[\"witch house\"],[\"women's choir\"],[\"women's music\"],[\"wonky\"],[\"worcester ma indie\"],[\"world\"],[\"world fusion\"],[\"world meditation\"],[\"world worship\"],[\"worship\"],[\"wrestling\"],[\"wu fam\"],[\"wyoming indie\"],[\"wyoming roots\"],[\"xhosa\"],[\"xtra raw\"],[\"yacht rock\"],[\"ye ye\"],[\"yiddish folk\"],[\"yodeling\"],[\"yoga\"],[\"yoik\"],[\"york indie\"],[\"yorkshire folk\"],[\"yugoslav new wave\"],[\"yugoslav rock\"],[\"zambian pop\"],[\"zeuhl\"],[\"zhongguo feng\"],[\"zimdancehall\"],[\"zolo\"],[\"zouglou\"],[\"zouk\"],[\"zurich indie\"],[\"zydeco\"]],\"hovertemplate\":\"x=%{x}\\u003cbr\\u003ey=%{y}\\u003cbr\\u003egenres=%{customdata[0]}\\u003cbr\\u003ecluster_pca=%{marker.color}\\u003cextra\\u003e\\u003c\\u002fextra\\u003e\",\"legendgroup\":\"\",\"marker\":{\"color\":[2,2,4,0,0,2,4,1,4,0,3,4,1,2,0,4,4,4,3,3,0,0,4,0,3,1,1,2,1,1,4,1,1,4,4,3,4,1,3,4,3,1,1,1,4,1,1,4,1,3,1,4,4,3,3,1,3,3,1,1,3,3,4,2,3,0,3,3,4,2,4,3,2,2,2,2,2,0,3,0,4,2,3,2,2,3,4,3,2,4,3,1,1,3,4,3,3,4,0,1,0,2,4,4,4,4,2,0,1,3,1,4,1,1,1,1,1,1,4,1,3,2,4,1,4,2,1,4,1,2,3,1,1,1,3,1,2,3,1,3,1,3,3,0,3,4,4,1,3,1,2,4,2,2,2,4,3,3,1,1,3,3,4,3,1,3,3,1,1,4,3,4,3,1,4,3,1,1,1,2,2,2,3,2,1,4,3,2,0,3,1,0,1,1,1,1,2,0,0,4,4,1,0,4,4,3,4,2,2,0,2,1,3,1,1,1,0,4,0,0,4,2,1,0,0,0,2,2,2,2,4,2,0,0,1,3,1,1,1,3,1,1,1,1,3,1,1,0,4,0,1,1,0,4,4,3,3,3,2,2,1,1,1,3,3,0,3,1,3,4,3,4,0,1,1,3,2,0,1,2,0,3,3,2,2,1,1,3,3,3,4,3,1,3,3,2,3,4,0,4,4,3,3,4,1,4,0,4,1,0,1,1,4,4,4,1,1,1,3,1,4,1,1,0,0,1,1,2,2,2,4,2,2,4,2,2,2,1,3,1,4,0,3,0,4,1,1,1,1,4,3,3,1,4,2,4,4,3,3,3,4,3,3,4,1,2,2,4,2,0,3,4,0,3,1,4,4,3,2,2,3,3,0,1,2,3,4,4,1,1,1,3,3,1,3,4,1,4,4,4,3,2,0,0,4,3,0,4,1,1,2,0,1,2,3,1,0,4,1,1,0,2,2,2,0,1,4,4,3,1,2,0,3,1,3,4,0,4,1,1,3,3,4,4,1,3,2,4,1,3,4,4,2,4,1,4,4,3,0,4,4,0,0,3,4,4,1,0,0,0,1,2,2,2,3,1,0,0,2,3,1,1,0,2,0,2,2,4,2,4,3,1,1,4,4,1,3,4,1,1,3,0,4,1,3,1,1,3,1,1,4,3,1,4,1,0,4,4,0,1,4,3,1,3,2,4,3,4,4,4,3,3,0,2,2,2,3,3,1,4,3,2,4,4,2,2,2,1,2,0,3,0,4,3,1,3,1,1,4,3,3,3,3,3,1,2,1,1,3,0,0,1,1,1,3,1,3,1,0,4,1,1,0,1,4,4,4,0,4,3,0,4,1,4,4,0,3,3,3,4,4,0,4,3,0,0,0,4,1,4,0,4,4,4,0,3,4,4,0,3,4,4,2,4,1,4,4,4,4,2,3,2,2,2,2,2,2,2,2,2,2,2,0,2,2,2,2,2,2,2,3,2,2,2,0,0,4,3,1,1,1,1,1,1,1,4,1,4,1,3,4,3,2,1,2,3,1,1,2,2,2,1,4,4,2,0,0,2,0,0,0,3,1,1,1,3,4,2,4,0,4,4,0,1,1,1,4,0,4,1,1,0,1,1,3,1,3,1,4,1,4,1,1,1,1,1,1,1,1,1,0,1,4,1,1,1,1,3,1,0,2,2,0,3,0,1,1,1,1,1,1,3,1,2,3,2,1,2,3,1,3,3,1,3,3,4,1,0,1,1,3,1,3,2,3,3,3,1,3,3,3,3,4,3,3,3,4,3,3,3,3,1,0,3,3,4,4,4,4,1,0,1,4,3,1,1,1,0,1,3,1,1,3,1,1,2,4,3,0,4,3,3,0,4,1,1,2,3,3,3,1,1,4,1,4,4,3,2,4,1,0,1,3,3,1,1,3,0,1,1,1,1,3,1,3,1,4,3,1,4,3,1,0,0,4,1,0,3,2,1,1,4,1,0,1,0,3,3,1,1,1,4,3,3,3,0,3,3,3,3,2,1,3,2,2,3,3,4,3,1,2,3,3,2,4,0,4,3,1,3,3,0,2,3,3,1,0,1,1,0,2,3,1,3,1,4,3,4,0,0,2,2,2,2,4,2,4,1,1,1,4,0,1,4,3,2,4,1,1,1,1,0,3,3,0,4,1,1,4,1,1,3,4,1,1,3,1,1,3,1,1,1,3,3,3,1,3,2,3,2,4,0,2,3,3,0,1,2,3,0,1,3,3,4,2,0,3,1,3,1,1,1,1,1,0,4,2,2,1,4,2,4,1,3,2,4,4,0,0,4,0,3,1,4,1,3,3,2,3,2,2,3,3,3,1,3,3,1,4,4,2,4,3,3,1,3,0,2,4,3,1,1,0,4,0,0,4,4,3,1,4,4,4,4,1,0,0,1,4,4,0,4,4,4,4,3,2,1,4,4,4,2,0,1,0,2,0,3,3,1,3,4,3,0,3,0,2,2,4,1,3,1,4,2,3,0,1,3,3,3,1,3,4,0,1,1,1,3,0,1,1,1,1,3,3,1,3,1,3,1,1,3,4,3,3,1,0,2,3,3,1,1,1,3,3,3,1,1,3,3,4,1,3,3,2,2,2,4,1,3,3,1,1,2,0,3,3,2,2,4,4,1,3,1,2,3,2,2,2,1,3,1,1,1,0,0,3,1,3,3,1,1,3,3,3,1,1,3,3,0,0,0,4,1,4,4,3,3,3,1,1,3,3,3,3,3,1,1,3,0,0,0,0,3,0,4,0,0,1,3,3,3,1,3,1,4,1,1,1,1,3,4,3,0,2,0,4,4,2,3,0,0,4,0,1,4,1,2,4,1,2,1,3,0,3,3,4,3,1,3,3,3,1,0,0,0,2,2,0,2,0,1,1,2,1,1,4,3,1,0,2,0,1,1,1,1,1,2,2,2,2,2,2,2,0,4,4,1,4,4,4,0,1,3,2,1,1,1,1,1,0,4,2,2,2,2,3,0,0,0,3,3,1,1,2,3,2,4,0,4,3,3,3,3,3,4,0,2,0,1,1,2,1,0,0,1,4,4,0,4,0,1,4,3,4,4,4,4,1,1,0,3,4,1,3,3,1,3,4,4,1,0,4,1,4,3,3,1,2,3,4,1,3,3,3,0,0,4,1,3,3,3,3,4,3,1,3,4,1,0,4,0,4,3,0,4,1,2,3,1,4,3,0,4,0,0,0,2,0,1,3,4,4,4,4,4,0,2,0,2,3,2,2,3,1,3,3,4,2,0,2,3,2,3,2,2,4,3,0,3,2,2,2,2,3,0,0,1,1,3,2,4,3,1,3,3,1,1,3,1,1,1,3,4,4,1,1,3,4,1,2,2,2,2,3,2,1,3,0,4,1,1,3,2,0,1,0,0,3,3,3,3,3,3,3,3,1,3,1,1,1,1,3,2,3,4,4,0,0,0,1,0,4,0,4,4,2,0,0,4,0,0,0,3,2,0,4,0,0,0,1,3,0,2,0,0,0,4,0,0,3,2,1,4,1,4,4,0,1,0,3,4,1,1,1,1,0,0,1,0,1,0,1,3,4,3,3,1,4,1,0,1,1,0,0,4,1,4,1,2,4,4,0,0,1,0,0,2,4,0,2,2,3,1,4,4,1,2,2,4,1,1,0,1,4,3,3,2,1,1,1,2,1,3,0,1,1,1,4,3,1,1,1,0,1,1,1,3,1,1,1,1,0,2,4,4,3,1,1,0,4,2,4,3,3,4,3,0,1,4,0,4,4,0,3,0,0,0,1,4,3,3,3,0,4,1,2,4,0,4,1,0,0,1,4,3,4,4,3,4,2,3,4,1,3,4,4,4,4,4,4,0,1,0,0,4,4,1,3,1,4,3,4,2,0,3,2,4,1,1,1,4,3,3,3,3,3,3,3,3,3,1,3,1,4,4,1,3,4,0,1,1,4,0,3,3,3,3,1,4,2,1,1,1,1,1,4,1,4,1,1,4,1,1,3,2,2,4,0,3,3,0,1,4,2,4,3,1,4,3,2,1,3,3,1,1,1,4,2,3,1,1,3,4,3,4,1,3,4,4,1,4,2,2,1,2,3,1,1,1,1,1,1,2,3,1,2,1,0,4,4,4,1,2,1,4,4,4,0,0,4,0,0,1,4,4,1,2,3,1,1,4,1,4,2,0,1,4,4,4,4,4,4,0,0,0,1,4,4,1,0,4,4,1,3,4,3,3,4,2,0,0,0,3,1,4,4,1,1,4,4,2,4,2,1,2,0,3,4,3,0,4,4,4,2,0,0,3,3,1,4,1,3,4,4,0,2,3,1,3,0,0,3,3,3,1,3,2,2,4,1,4,4,3,1,2,1,3,3,3,1,4,0,4,1,0,1,1,1,3,1,3,1,4,3,1,2,3,1,1,1,1,3,3,3,4,4,3,3,3,3,2,2,3,1,2,3,2,0,3,1,1,3,1,4,3,4,3,1,3,4,3,0,2,2,3,2,1,1,2,3,3,3,3,3,3,3,3,4,4,4,1,4,2,1,3,4,3,3,1,3,0,4,4,4,4,4,1,0,0,3,3,1,1,1,3,2,4,1,4,1,1,3,4,1,4,3,4,2,1,4,3,1,3,1,4,1,1,1,3,1,3,4,0,4,3,4,4,2,2,3,2,0,4,3,2,2,3,2,3,3,3,0,0,4,0,2,1,1,1,1,1,0,1,4,4,2,2,3,1,3,4,1,1,0,1,0,4,3,1,1,2,4,1,1,1,0,1,1,4,0,3,1,1,0,3,1,4,1,1,4,0,2,4,4,2,0,1,3,3,3,0,4,3,4,4,1,1,4,1,1,3,0,2,4,2,2,2,2,2,4,3,4,4,1,0,1,1,2,1,1,1,3,1,1,1,1,4,0,1,1,4,1,1,4,1,1,1,1,1,4,4,1,4,1,1,2,3,0,1,4,4,3,4,2,4,1,3,3,3,3,2,3,4,4,2,2,3,1,3,1,3,1,3,2,4,0,4,4,3,3,3,3,3,3,3,3,3,3,3,3,3,3,3,4,3,1,0,4,3,3,3,0,4,4,4,3,4,4,3,3,1,1,4,4,1,0,1,1,1,3,1,1,3,1,1,0,2,2,3,4,1,4,1,4,0,1,1,0,2,0,3,4,1,1,1,1,4,1,1,1,3,1,2,1,1,4,3,3,0,3,1,0,0,1,1,1,1,1,1,1,1,3,1,1,1,4,2,1,3,1,4,1,4,1,3,1,1,1,1,3,4,4,1,1,4,3,3,3,1,1,3,4,3,4,1,4,3,4,3,4,4,4,4,2,1,2,1,0,0,4,1,4,4,0,4,4,0,3,3,0,2,2,3,3,0,4,4,3,3,2,2,1,3,4,4,2,3,3,1,2,0,1,3,4,4,4,1,1,1,4,4,4,4,4,0,4,4,0,4,4,3,1,4,0,2,0,1,4,1,4,2,4,2,0,1,3,0,1,1,1,1,4,1,3,1,3,4,1,4,2,4,4,0,4,4,4,1,0,2,2,4,3,4,1,4,3,3,4,3,2,1,4,4,3,4,2,2,1,1,1,1,1,1,1,1,4,0,3,0,1,3,3,3,3,3,2,4,1,3,1,4,3,4,4,4,4,1,1,1,0,4,1,4,0,4,4,4,4,4,4,1,0,4,2,2,2,1,2,4,0,1,1,1,4,1,1,3,1,4,3,3,3,1,4,1,3,1,4,4,1,3,2,0,2,3,2,0,2,3,1,4,4,3,3,1,3,1,1,2,1,1,3,1,3,4,1,0,0,4,0,1,1,0,4,1,0,4,4,1,3,3,3,2,1,3,2,0,0,2,2,2,1,3,3,4,4,4,3,4,3,3,4,4,4,3,1,4,3,2,1,1,3,3,4,1,3,1,3,3,4,4,3,4,3,1,2,0,1,3,3,1,3,3,3,3,1,4,4,0,2,3,3,1,0,0,3,3,2,2,3,1,3,2,0,3,3,3,1,1,3,0,0,4,4,4,2,0,4,4,4,0,1,1,1,1,0,4,0,1,0,0,3,4,3,4,3,3,3,3,4,1,1,1,1,1,3,1,4,1,1,1,1,4,1,4,4,1,3,0,2,3,3,4,0,4,3,0,2,0,4,1,4,4,0,4,0,0,4,4,1,1,3,3,3,1,1,1,1,3,1,1,1,4,1,1,3,1,3,1,0,0,4,1,1,1,4,4,0,4,0,1,1,4,4,4,0,2,1,3,0,0,0,4,0,3,4,1,4,4,2,4,0,1,1,4,4,1,1,1,3,3,3,1,3,1,1,1,1,3,1,1,1,3,3,1,1,3,3,3,2,2,2,3,1,0,4,1,1,1,2,3,3,4,1,3,4,0,0,1,1,1,4,3,3,4,4,1,3,3,4,4,1,0,3,3,0,1,1,1,1,4,2,3,4,2,0,3,1,1,3,3,3,4,0,0,2,0,0,3,0,0,0,2,0,0,1,0,4,0,0,0,2,0,0,2,4,1,1,1,1,3,3,0,3,2,0,1,0,3,3,1,0,2,0,1,4,2,1,2,1,3,3,4,1,1,1,1,0,1,4,1,0,4,2,2,2,2,3,3,4,4,1,4,0,2,3,3,1,1,1,4,4,3,4,4,0,0,2,0,4,4,1,1,4,3,1,1,4,1,4,0,4],\"coloraxis\":\"coloraxis\",\"symbol\":\"circle\"},\"mode\":\"markers\",\"name\":\"\",\"showlegend\":false,\"x\":[2.5070953668885667,-0.5969679056633488,-4.158460276223561,-2.387344878512217,-2.6501218371679083,-1.496509120336763,-3.923520772157324,-4.611011109831114,-2.837690063084229,-2.706690139892783,-4.6983313839242875,-3.375987496679868,-5.608998877066021,0.2954946352117687,-2.5725591062870428,-3.4008228020493454,-4.366720316263419,-2.7254698167724003,-4.958112358381605,-3.6934951846422712,-2.3116694418123536,-2.495395657404454,-4.335204546066737,-0.8581261952412627,-3.976028924238297,-5.083763521257526,-4.485954030673711,0.36498631174507096,-5.762650418249874,-4.461581953701338,-4.355809968981686,-6.838183840880273,-4.9699526232133815,-3.696638147390979,-4.008367421260787,-4.477452285343293,-3.6220271054307753,-5.166996866893572,-4.62450853756,-4.094376775037353,-4.996851545459158,-4.831127188307811,-5.074373574764681,-5.357393360658257,-2.429946001962236,-4.8872316622999366,-6.216153756078059,-4.163869190777452,-4.375036628841874,-5.599767532123392,-5.461981186365572,-3.519957322909866,-3.6204113100304607,-4.676610464893099,-4.637370719586301,-4.947145009921959,-4.7331130286083924,-4.32334176269361,-5.389012884269636,-4.390929602508024,-4.257141936578433,-3.8920417103992206,-4.474045603322584,-0.03564668626936085,-2.6509692493824097,-2.421662233131127,-4.366867212313458,-2.779708277978587,-3.7419753219175487,0.3381454914428945,-3.982518746079752,-2.1602634615920744,3.00291501108084,-0.0009516320766093566,1.4669983004410674,1.0609572922651893,0.03978019223036861,-1.6016331166980313,-5.567553123646133,-0.5331485662766946,-3.544803023414361,0.9711272284928161,-1.7703769070944417,-0.7395042605426246,0.5209250413365909,-2.866156046253303,-2.8719682239102338,-5.279645004711659,1.0291789116112413,-4.377158579368759,-5.031744778414797,-5.511231694364842,-5.766675169822016,-3.643540623288662,-3.1590493254132945,-4.868831761471575,-4.10116409594273,-3.4771951560122325,-1.5990958889805784,-5.239411621447389,-2.431466740007431,-0.695302310588003,-2.692331171875709,-3.6126852664722944,-3.685806120963241,-2.424119614455952,-0.7136369992880738,-2.018921711202299,-4.96090228239341,-5.365459829043066,-5.6691478987120245,-3.3910329224898,-6.356489884022959,-5.0208023653812415,-5.474149167955978,-4.395937273679969,-5.416156485201284,-5.451094000080214,-3.655292989739507,-5.848503594454404,-2.6963752013900613,1.8389479816672225,-3.524869498071136,-4.453460637157531,-3.4095237174078923,0.0165307895254859,-4.53266022633462,-2.935465658890652,-4.9706020621239535,0.12044630634047934,-4.093198004385115,-5.1805735654511755,-5.1848379400111195,-4.936559229000648,-4.967088763105222,-5.636330198004944,1.3584586934390839,-2.6509692493824097,-5.106582918541897,-2.937560628364969,-6.286669742229688,-2.937560628364969,-4.809947216418683,-1.428652950345264,-4.544608053998073,-4.170522899634582,-3.9645544347456023,-4.3659175172409155,-2.7711854679591195,-4.683127349390449,1.9662842342838245,-4.36252654437158,0.27731040413004837,-0.46134586721458826,0.8849562536756834,-3.690008208567063,-5.172272706957578,-4.659823012157896,-5.135314495049288,-5.334280187590363,-4.9344102338899365,-4.587087603302851,-3.7164788636762878,-5.232941861870435,-4.731894014724026,-5.300488664539027,-5.067803166998767,-4.519917869892383,-4.6782932787412035,-3.2174138757686603,-4.502265335132614,-3.224442360833283,-3.828693925223616,-4.711631115480921,-4.425356430088934,-5.434488870130995,-4.319352209262777,-5.876405281719774,-4.915924675571274,0.7552729690724664,1.5093374488090803,0.6772597632107252,-3.0724451435244595,-0.12381872765175435,-5.581672104315237,-3.2868770341463955,-2.9508344190331197,1.0268855352482107,-1.0143491733515164,-4.42053485606079,-4.874750389574627,-1.7470956688023869,-5.589266236619819,-5.072186632913586,-5.296075026246495,-5.04046936130986,1.3247478469734586,-1.2258733070031844,-1.5615222080638942,-3.1168580775687826,-3.201472422582916,-6.709173792299384,-2.3596862394630373,-2.747531832365787,-3.387955520451975,-4.290745205699504,-3.412181856761408,1.9047522511957318,-0.383141601175988,-1.290330517221646,1.993698217727989,-5.226399747343382,-4.208080874908136,-5.260693077645069,-4.993674381634953,-4.70745790401461,-1.0499997192695059,-3.079569838734042,-2.222618301342035,-1.2203146342931457,-3.221188421647751,1.4379764850645282,-5.268243552446846,-2.3180624610756535,-2.0879310710183105,-1.0776978254838006,-0.7376015859331267,0.4410334715032056,0.22908122597425612,-0.26469656442862516,-3.739987114458715,0.781594918919212,-0.7085965402183602,-2.619643894064793,-4.998642597822328,-3.493024814285272,-5.142156944896056,-5.589370432328704,-5.679213360730011,-4.8748143646239965,-4.746220620329249,-5.303656805669687,-5.397706155769295,-5.540413038613182,-4.323928693083358,-4.611826604475928,-5.298959958840356,-2.6232887842338446,-3.825206354387143,-1.9463773522784666,-4.878376252693534,-4.301388295273469,-1.3059593961903275,-3.871102213551251,-4.3009222975768795,-5.003620123683097,-5.982616860454033,-5.982616860454033,1.5479874885491283,-1.2439894210135296,-5.636155381081917,-5.336876109351062,-5.021987772828615,-3.7935979776030995,-4.313004672085262,-1.0119859039440267,-3.7764102523029255,-5.480102211955438,-2.9433561651313025,-3.160704089220984,-3.0819565682828034,-3.554855074185965,-1.1479852284255314,-4.731993687360203,-4.84663471237035,-3.6794051659536335,-0.3901105737750523,-1.84724033088385,-5.081373388023606,0.8111654380108623,-1.7032308919698476,-4.325754867288595,-5.433275344863524,2.860391130314495,-0.8493508806653167,-5.447659673088959,-7.258821944217092,-3.769242773511947,-5.096045147230372,-4.2052658504162626,-4.414457971186544,-3.7593017533596043,-5.423683393743953,-3.45809552288971,-4.2052658504162626,-1.6073338081107837,-4.577997686113656,-3.351038394786936,-1.9749914191270934,-3.5168252176041963,-2.9479966210869595,-5.277892329505016,-4.7827763982525395,-3.9728294765367873,-5.305879583452744,-2.92501225023993,-2.9022539865487302,-3.8782330082094303,-4.671223879279335,-2.1557547454665436,-5.216368108986172,-5.573243006322628,-2.78093163510819,-2.961249985794189,-2.652040912022222,-4.60731047382165,-5.356887810572479,-5.049992322047183,-5.115399605075391,-4.598872518209746,-4.209407083974348,-5.803977257683215,-6.029259199808785,-1.8434805942046444,-2.048056976852694,-4.531233318424352,-5.309331648059133,2.6324439383058578,2.860391130314495,-1.5440931518366792,-2.8807879750866054,0.3471841680891877,1.5164415974555525,-4.091065378163481,-0.48310504877477256,1.7346181179693396,0.37610254345864874,-5.358885409827924,-4.49979198330814,-5.776816937942182,-3.542775847250604,-2.2429087124006326,-4.49979198330814,-1.8166813089926366,-3.5793288184807874,-5.311333348587723,-4.939953572730317,-4.689726107532756,-5.008431077966906,-4.362026179533311,-4.49979198330814,-4.93819268732955,-6.104547771849928,-3.571877612315031,0.11602717560598838,-4.14127071610155,-3.4908207862270757,-4.638263426182965,-2.606795855239269,-4.088334243063862,-4.1930703052245715,-4.237877656565584,-3.985440313317706,-3.646245710264778,-5.367270476876653,0.8000023440276716,2.408787099666291,-4.1203415824351195,0.9243825157830229,-1.0443624743901412,-3.369540621833744,-2.9658023256783874,-2.301463708947319,-3.4647498677985875,-4.558722382095478,-2.9256692844524532,-3.978979888035598,-2.4660411835955207,0.6856673009723644,0.5890842810718215,-2.027300654578943,-5.356453832314641,-1.9969673721481425,-4.623022539796002,-0.014704796368303777,-4.590718340151951,-2.8693997584287003,-3.6518336379956424,-5.222039622474023,-5.4889659819825445,-4.568722940006777,-5.109077878903733,-3.442712938470485,-4.395222772571127,-4.760209365185643,-3.951686362333807,-5.944115097565752,-4.007030775796918,-4.141346740083334,-4.235040577070814,-4.1423893475062465,3.520290007140837,-0.20847281151330677,-1.7973432489977648,-2.900234299379548,-4.165296690640272,-1.3597591089839505,-4.140249585799371,-4.721382856095986,-4.893320685847,-0.4985242644110148,-2.5788005709453623,-4.7302747164106265,0.3447890996386126,-2.57781039432783,-4.936677661583595,-1.906096222487774,-4.306741492000387,-4.575522958962448,-4.5211411025498505,-3.0485584859468724,0.8003691815266405,0.7286450158475104,2.5295820405351233,-2.633291643393298,-4.636458308457667,-3.2291785247648397,-3.631948329178455,-4.66524959945803,-4.571542112053315,-0.6007925132264494,-2.468984370664333,-4.381758856949218,-5.09316831603887,-3.6697252251196324,-4.063426182281965,-2.4552097181689647,-3.353921851727784,-5.343777967524715,-5.541091738343573,-4.3358736260382456,-5.010343311437334,-3.6896877421835206,-4.222179718247739,-5.431617706907925,-4.689391098619316,-0.5411064925841845,-3.0688933497662187,-5.112262836439745,-4.87193988495102,-4.422108286109046,-3.072477000751603,-0.775924977478867,-3.49028539810741,-5.085511385078382,-4.00846937056542,-3.3802055881031157,-2.50487959197724,-2.247151886645403,-3.0820396167414517,-3.044376861009466,-1.9603050579640657,-1.0318430229710451,-3.6517750916958027,-3.088578270288629,-3.699026595688223,-5.717824790756596,-2.1018119725960998,-1.701514622090551,-2.0854102079694483,-4.651707641315453,1.6939194491283116,0.10723865587762377,2.9100735532073623,-4.097694126450038,-5.671069135062736,-1.1595906839733503,-2.5888877559186274,0.16288970979966402,-5.4142518790235705,-5.259642562888532,-4.32445088669038,-2.6978394576529268,1.4467000219929076,-2.2597517447722693,1.4747100152422912,-0.871562214800877,-3.4964739334061403,0.8278449894773956,-3.194891981068719,-3.5143900668732693,-5.2458209318173905,-4.92444302609093,-3.4676868980666886,-3.0665099341798063,-4.596767791276207,-4.481039761543774,-3.48687809145862,-4.8045370343070575,-4.787846835690024,-4.7163747262292,-2.5000595107119383,-2.957631946656918,-5.116408928813566,-4.822831802007799,-4.856270742441845,-4.474225505228202,-4.272086153850531,-5.19806917090064,-5.040568172803404,-3.6278568661990453,-4.70012232750766,-4.7154530905915975,-4.459891228537544,-4.631579739874836,-1.912309347548407,-3.618155617631954,-4.106258371307422,-2.859821339179236,-5.494732724948322,-3.7277604620878027,-4.192597025394802,-5.074680544250715,-3.702148078857279,1.210145876243588,-3.093428319635359,-2.5201920104186306,-3.6325608005379904,-4.153277336389335,-3.30336936566976,-4.629426921159562,-4.121959854008618,-2.5301398370655246,0.28721583573715614,1.5819667819421053,2.48228627229359,-5.890281119389613,-3.508937028680893,-5.325227338416166,-3.647067683979801,-4.423621871271554,0.3784267146243079,-3.4158857775550984,-3.7735005339432224,0.28721583573715614,-0.35286940798317223,-1.4783923804812245,-5.3485051494951685,0.5696208110952872,-2.5548324843242445,-3.1739315701153905,-1.760980511492982,-2.5893021896448682,-4.329991151760642,-6.193498403665639,-5.3001611043981915,-5.19699567838375,-5.603871295004517,-3.790269700600213,-4.66541404220603,-4.869171480300018,-3.721973786539572,-4.478666313635377,-4.154497469317395,-5.3301935898638435,-0.754119150731245,-5.220236312649482,-5.253524644475592,-2.9078974835206655,-0.4695360083243747,-2.4374474977768377,-5.057689462518137,-4.518860794243656,-5.586706586028742,-4.0803470825041375,-6.279395007687545,-3.4809022501658275,-4.504513318903443,-1.7894639436343096,-2.9158297831715783,-4.780599055416052,-5.902966725775286,-2.2983882640101876,-4.425777106667888,-2.783845541560215,-3.6666117411792345,-3.3989140554706694,-1.2604043445656625,-3.0378779773755413,-4.414390450282923,-1.118104937068118,-4.488909192879655,-5.801862068626826,-4.14408005244922,-3.7338319088685563,-2.509864765272939,-4.7399009080566215,-2.9157976543050306,-3.85151312722362,-4.286367421673874,-3.104265247690129,-0.788846299384978,-2.8466059184174544,-4.0358548541835075,-1.9395529797502684,-1.6963378999408472,-0.9267441278960806,-2.8968839739983037,-4.754339132750697,-2.7494855207706266,-2.386540009556223,-3.0444694820911358,-4.097268659955897,-3.535547683669418,-1.7864036160869945,-3.0202594052584617,-4.223428699242665,-3.984179230059826,-2.4999880926043665,-4.411701358732395,-2.975653932559821,-3.682713421339936,-0.22843299225337516,-3.845804381939451,-5.034971324758869,-4.43908853211066,-3.052190481189034,-3.8674106101225285,-4.046500838965876,0.8248058624948273,-3.451658557238681,0.16370099872341884,0.4625797216472825,1.5411798079640038,1.0866256748296828,0.7182401184620442,0.5394359984857346,0.45709536217501145,0.8062778060401212,1.4555356612119783,1.5386334982995333,2.1477374134183593,-1.8760680425303389,0.46772953120038085,0.80494795705609,0.394772335289914,0.9487355300885298,2.011978113627898,2.2132767143802896,1.5773978571030802,-1.7940798303370655,0.3114387081443364,0.05874278495664822,-0.1989067605565484,-1.9024539982658586,-1.6782365330449949,-4.002170954068779,-4.828528204518565,-4.84557739029975,-5.248420341715813,-4.53124201311413,-5.677570681866043,-5.356641584400979,-4.7934576603527015,-5.383189545201895,-4.058163148218504,-5.401442359913559,-2.9379756970317272,-4.553942654467481,-4.754952145222011,-3.125069049701706,-5.385986778002177,0.2059091546602765,-5.614863181498975,0.16255517615431628,-5.216596184845042,-4.837497338351346,-4.850382195800599,3.00291501108084,1.584556961373927,1.9071597880601057,-4.882836520138859,-2.9326452141332093,-3.747868481089675,-0.581555117717887,-1.1439716441818533,-2.036882965142946,0.9496615102823442,-1.2251520598573762,-2.5629779399923063,-2.775969917333917,-4.566074715471028,-5.215559526971925,-5.646097399384991,-5.199103034467054,-4.00793886125039,-2.9928494811961213,-1.3946775984731687,-4.269798305657646,-2.2319663389027418,-3.6301228690985274,-4.252731532645001,-2.872488148838626,-4.9563518963906095,-5.265382620034631,-4.682811332369899,-3.7309945147346992,-2.214919234020492,-2.889819184927151,-4.50975366913939,-5.425759816369545,-1.9563517697793884,-4.507667155328207,-4.507667155328207,-4.13020496024651,-5.463521192611304,-4.240167801189526,-5.277832502665982,-4.179588937784977,-6.087390122720602,-3.2054399474966244,-4.75128741401476,-5.014234048638947,-5.2619135944969315,-5.697078755875922,-5.199994392898521,-4.866042929142368,-4.435992445699317,-5.176514458670336,-6.048521196660772,-2.2973910893929554,-6.566279086742132,-3.050525931446196,-5.206233183904521,-6.083294097221034,-5.283098451508421,-6.035102758105042,-3.662320442488738,-5.883626363510584,-1.9893805840003318,1.1020860666639347,1.2934925127099364,-0.8983178904420189,-4.619601171729456,-1.2849261527331552,-6.035447790142313,-4.614726617999253,-5.047674147000941,-4.432268477927294,-4.861104602765764,-5.385857673258034,-3.85151312722362,-5.462657541670718,1.002629612839261,-4.570947640753806,-0.17044337500554602,-6.020805834332481,0.21472325141127452,-3.9015197767576772,-6.0081807230469835,-2.2690899128419626,-3.4647147098887245,-5.9315838341930895,-4.722169060873634,-3.4647147098887245,-3.582824894589332,-4.3151325798509905,-1.3167835112225483,-5.997505648928257,-4.638822889828936,-3.612300060091386,-5.1050342836279805,-5.507077358588355,0.48566101031452763,-3.479886141765233,-4.086857406436185,-2.954588047311575,-4.986366356937069,-3.5812329212608325,-4.1181976611213305,-4.756704965000342,-3.9354030131285356,-3.2005908624580415,-3.789973763893768,-3.992621879386126,-4.607691558097391,-4.2603486342547585,-3.122070627503431,-3.6459883996965146,-4.316888610750551,-5.228677733606068,-4.914352931631224,-2.4185710439950707,-5.286824427246123,-3.8732549617329433,-2.4755380530983744,-4.162603146392043,-4.099430462263741,-3.881856347625257,-6.144095585194447,-0.5819214966999232,-4.763773237180515,-4.125391173135178,-5.328598894410506,-5.771651924376855,-4.830071144967742,-5.9400928977975385,-2.479938579342516,-5.145284841566116,-3.438574259298679,-5.234326054350179,-6.137820112532424,-3.8107978719451805,-4.833520503096878,-4.429885582472353,-1.2638326913404578,-2.861325247684381,-5.481277177541535,-2.174202863862354,-2.694102746370725,-5.122281798412755,-3.900453875346066,-2.8735453023044295,-3.7307771708835515,-4.9762413466160655,-4.854153974935825,-0.86896085138937,-4.589141724216086,-2.748614695539068,-3.378886537510748,-4.864490298921746,-6.344080683499397,-4.555263514057512,-5.367075239901784,-2.6230832121971828,-3.8218692952891615,-2.5142568398314964,1.3604074848475969,-3.871495459804984,-5.403594061974566,-1.9542558893063093,-4.345626681669128,-1.9758746900908055,-3.0819565682828034,-4.843844100473679,-5.120730511775768,-4.233062020280249,-2.5756992651405644,-6.0688634944089515,-4.703216856439864,-4.831512841577891,-4.2684921299649226,-2.126651179479337,-4.588504990405025,-2.905216143606632,-5.010731012483104,-3.944819916828052,-4.690261281349024,-5.438843235957077,-4.157586330768914,-3.5202328643501977,-5.603379602981405,-1.536101702527469,-2.7495991879726036,-3.0604613880451734,-5.4472997933686065,-0.7753333732683021,-5.224864881530178,-0.47850908563099676,-5.343093784926085,-4.822135551251415,-4.326036371876757,-5.602521689095736,-2.512711913902516,-5.114809519284199,-2.1092908206417724,-3.684574806244457,-4.343254465264909,-4.988393297989981,-5.089356402436012,-6.422527823047502,-3.4391379709314296,-3.571269683371384,-4.149729757421123,-3.569064181698557,-2.0696849216571374,-2.9393201153276833,-4.778824354378836,-3.4059960878905864,-4.857486047098761,1.6265701512943411,-5.15559390234945,-2.8891923073959633,0.20588500289839476,-1.145850832936652,-2.3820604318720044,-4.329227741165606,-4.468602659609295,-2.7951179860847737,-5.614295592139432,-1.2987786025205204,-5.398808585238453,-2.660981895635546,1.8389479816672225,-4.13726701833,-2.5232668488880257,-3.4726912184024448,-2.6509692493824097,-5.417431611611537,-2.8373273722285473,-4.793753860618807,-1.5874633124803943,2.6943475416443,-4.154003117738107,-5.48293881468231,-5.700374408271562,-1.9261155607635616,-6.193032503101146,-4.907105180380474,-1.8475229392411017,-0.1256357239327576,-4.356264487813294,-4.655745902208873,-4.339617656297806,-6.545025178300857,-3.4226894221760076,-4.780452710579942,-3.95554568230376,-2.7512566814760193,-1.2839739296143315,0.7372064402967313,0.5772465663948536,0.3273043673454989,0.02012067513252293,-4.069831573840387,0.34204152804712235,-4.023897392410776,-4.984123563810715,-5.0988694363577824,-4.787493323403343,-3.884211116999925,-1.493243277539585,-5.72980783530754,-2.7369450428588142,-4.185257665035357,0.1173864124312276,-2.58198679404491,-5.012963603313802,-5.106927380213162,-5.058155577083769,-5.920888510276411,-1.3697439954984862,-3.933033979500513,-4.274424727107668,-2.2633727029765978,-3.6395232397297623,-4.728101279253777,-5.348122202476685,-4.134461089197962,-5.806149671563956,-4.4227304174698325,-4.285287186295225,-3.9280606801719204,-5.169580314949783,-5.4566440341924904,-3.186884145545724,-5.1180279660668075,-5.1889817169027594,-3.6743707297350268,-5.261045168403487,-4.933707262323286,-5.632436210483634,-4.935341956323819,-5.966576688209623,-4.54001905054523,-4.517710828142441,-4.2603783649845495,0.38376285838324353,-6.148575996349203,0.946215731543893,-3.120000001693263,-2.2194491942305286,-0.5426544746061284,-3.637279713266685,-2.924547483196101,-1.4288880764143288,-4.923424244512809,0.7458479492063292,-3.8107978719451805,-2.2601260787890425,-5.2899593420729145,-2.5988330978744885,-3.865318692923349,-3.0505988180231776,0.14546933819420896,-1.0244326726960784,-3.592266868389149,-4.548445383517873,-4.936802809963494,-5.786785554006779,-5.696362746223875,-5.2024990794702495,-6.793089563951314,-5.126729143982088,-1.848822448014898,-2.5435426421945344,1.0977324858814612,-1.1210456910306246,-5.825429421963322,-4.161629185694354,-0.02701671479868341,-3.9704977155386105,-5.5874287864145895,-3.2622093445532307,-1.4963613854954754,-3.5203608326870923,-2.956566033799232,-1.2952874523471787,-2.4492475126446847,-2.7586313738774018,-1.1938183336222896,-6.474588738644974,-5.937494710336558,-2.950779457025824,-4.908855366015953,-4.675501553325569,-3.041809724960321,-0.1453928407355751,-4.420185900347078,1.8249084564044713,1.7208591715644763,-4.636641599483375,-4.254886294546545,-4.982451002542508,-5.208049340547015,-4.853474278683277,-4.667816532848699,-4.530602754994605,-3.2991457917314935,-2.975905805089746,1.1536474135470225,-4.488248247776678,-3.024846096596968,-4.262570133899524,-4.972449989725707,-1.7653172066627927,-2.133841178806529,0.9386810855591465,-4.30918436560822,-3.1101228194596446,-5.321801057756419,-4.950374669078643,-2.9281846847141035,-3.028707682087715,-0.6860995979162757,-1.3941306458966665,-3.46006698827588,-3.021500231410681,-5.012790730329964,-4.302083977373832,-3.5228576299969356,-3.553061079572456,-3.604733535493753,-2.6772914451578935,-4.8045370343070575,-0.8989333477017438,-2.374707194862712,-5.152342486534294,-4.078213690732249,-4.495956761093868,-0.9989670053064543,-3.5801221506505514,-4.137394036090074,-4.2682453659703565,-4.3215168887188495,-4.7550417724572895,0.07825954320112462,-5.124862706431654,-3.151458319385953,-4.004089818380504,-3.346475709184571,-0.3808698235061438,-1.0519420943851834,-4.89536489757728,-0.041750866506941244,1.9127508519448033,-2.2271220269484964,-4.235922681560477,-4.343130480483141,-5.301306808918394,-2.262598885622024,-3.7867701120171002,-3.9872905796277665,-1.8614779604678542,-4.235922681560477,-2.4157647395040107,0.36309190344675923,0.43898484806391913,-3.3897598798176016,-6.637582724411297,-4.370743938458483,-4.897427465222973,-4.358902494160157,0.48982358953525945,-4.593089399335725,-1.184195254773256,-4.892972389663184,-4.985362598447731,-4.7073913628873845,-3.7271142308031218,-5.47371274381009,-4.785334341733039,-3.971588221289725,-0.3640652327194156,-5.3085190337979125,-7.228250857391674,-4.907729250311826,-4.399798049257387,-2.5921144021458793,-6.0920158742125015,-7.01730297053188,-4.551953759397357,-6.377573545540188,-4.1413931358787215,-4.591009113275873,-4.768090490134845,-3.8401489014499304,-5.469400769788461,-4.2101064269675055,-4.341790856689342,-5.109636700399982,-4.884818667988679,-3.5247110848431933,-2.6639518863665708,-4.227186632132373,-5.225194811675761,-0.5174574639879652,0.8109152817925195,-6.053554653881899,-5.077052431560325,-5.170291374783138,-5.104919320169028,-5.156402389543296,-3.860013364517997,-4.6959783276053,-3.804880939476899,-4.940104962055662,-4.9381666119177305,-4.336466298342861,-4.100524710067895,-3.117233417416843,-4.677918206987256,-3.6354092575017347,-4.653545722835439,0.6785104992383708,-0.13574527166672215,2.079749082499419,-3.204655521037827,-5.791377988341957,-4.077462853547392,-4.488881208015359,-5.614608760118284,-5.692720527277566,-0.7051172918374087,-1.7507527560980527,-4.41894180873093,-4.443780937950838,0.27885657588462553,0.43393034548585413,-4.324455832214126,-4.2603582438553085,-5.694321063432106,-4.870609615829718,-5.122215161451377,2.576845389354283,-4.232460168049194,0.41302623519677156,-0.7399558389346473,-1.0120811889229693,-5.226459570463905,-3.5800478313800213,-5.325007034261342,-6.29186166610669,-5.615265795674221,-2.2535307623384067,-1.9737086436979412,-4.313004672085262,-5.220344337920116,-4.535110800796339,-4.858072771206413,-4.364012441384492,-4.4830557345409625,-3.3389988622251376,-4.212667089846835,-3.335356834206308,-5.227396989107788,-5.350666846401099,-3.575903965793243,-3.5393456336339995,-1.5891877040009161,-2.4943600825373777,-3.4583058906224107,-3.8853647228980055,-6.346058529873465,-3.2052395105666656,-3.8317811164057947,-4.2775748134845335,-3.9221219239847183,-4.846624917864416,-5.8424476087956485,-4.8996746006087,-4.65648804780118,-4.7035644490952535,-3.794758948524115,-4.179681038056434,-4.8601821918781285,-5.798985947696488,-4.958105244813525,-4.138111740379875,-1.7070947900265592,-0.6323162787977237,-0.9870799948471694,-1.256713000723032,-3.786404853424034,-0.5483311192090004,-2.9265630435061256,-2.2221554236063894,-0.7055074528190609,-5.647667798558569,-2.6062387804488636,-3.6186093520215663,-4.883667507433113,-4.590522991063139,-4.139786394071556,-5.434470098869213,-4.5038231076686035,-4.7238319506617215,-5.272084590420389,-4.749406861067514,-6.279395007687545,-4.600285823431294,-3.759190778407302,-2.8326805840425036,-0.19137434800106054,1.4526643031580615,-2.229584728046952,-2.7983167545507195,-3.2233620897611575,0.5917141678910061,-5.371813078041048,-1.5358527818892098,-2.1058321772291384,-4.068317881190739,-0.7137640619676404,-6.234068938598194,-3.8922774120888235,-5.861195596036839,0.0728451740327154,-3.1472290381715213,-5.560317624331781,-0.03431837298571078,-5.4306828061135635,-5.328398147264677,-1.409798097032858,-3.5247268110828207,-4.339856238645671,-3.957644113848415,-4.620167718205895,-5.1383594996397495,-4.467089522388965,-4.750468753504579,-5.238289818198247,-5.271938190108605,-1.5573278549293856,-2.7181731860882774,-1.0119859039440267,0.031021198277267504,0.10396484179041822,-0.3053083090749652,0.8491175332863989,-2.560542653328559,-4.563165260511398,-5.688874175455752,0.9739984094662117,-4.434732889716114,-5.0224014779347845,-4.015758322967013,-4.106421507153364,-5.223973148850005,-0.7148948460803657,-0.244224080379088,-0.7502225467391042,-5.0012980678994525,-6.279660904309779,-5.278865551365723,-4.914763291252145,-5.5038316013941335,1.3238622302459846,0.6304275922228102,1.0300052690825343,1.67778924681741,0.4246416016274789,0.568614800249563,-0.5676570080633172,-2.4151122129799134,-2.804398740719873,-3.388619220377105,-6.657422152278722,-3.3397250564195677,-3.3397250564195677,-3.240103653848453,-1.4450889048551203,-5.033099752452502,-4.801263062342858,-1.531901587705191,-5.47308817639787,-5.076005699895535,-5.367018244669418,-5.156589689720529,-4.690055553030444,-1.795781401998268,-4.488909192879655,1.1823871784169646,1.0307390995211019,1.866190010789069,2.4358752451550707,-3.421672171989721,-1.2915186406250367,-1.5258883378070605,-1.5258883378070605,-3.421672171989721,-3.0601884689826324,-4.892400541684087,-4.970103813278424,0.8923656943521612,-3.0700006963512037,-1.087354806111614,-2.4670201871666784,-2.220990340117518,-3.6788613478292196,-2.3945669745070237,-2.3185192300941546,-2.6200291563833136,-3.947155358613644,-6.12026105203517,-2.873897416072862,-2.4015434515479845,1.5559871817918745,-1.0841487556800147,-4.871555260202178,-4.619126794253312,0.7143762912599241,-4.383933266256465,-2.0020774083043253,-1.7215431414422362,-5.3234303126546365,-2.9758304279264998,-3.4398177271304022,-3.007553250898184,-3.040973154816765,-1.543760088804685,-4.699899733332014,-3.2535707574673194,-3.641122201380098,-4.103178797141607,-4.338107541306486,-3.125550705031423,-4.158982960825912,-5.429426152547154,-4.933217915416117,-2.454799591103901,-4.282851489602714,-3.402383620462971,-4.457594375340026,-4.154060771107801,-5.954656129394102,-5.71366783642485,-3.722598321572564,-3.5241806979266825,-4.08122648630154,-4.641563913819932,-2.3484614964230244,-3.732428486265814,-4.805278856053793,-4.296117990903339,-3.85151312722362,-3.3812786929163674,-4.655342746651351,1.8986220803863185,-3.561764806109541,-3.820339762776016,-5.501620450480899,-4.724533291656037,-4.237820872808138,-3.4284533316157426,-1.8767122627665114,-2.587381473145469,-3.186781316378526,-6.028464717725964,-4.627188529112983,-1.9535580647123598,-4.148022235765708,-3.85107635865038,-2.856739782399886,-3.168899711498074,-4.450694105911223,-2.0671830922562866,-4.572832792690343,-4.703738075212049,-0.8370947811031595,-3.502483642381282,-0.5592419765276523,-3.328019545719722,-1.9025509124639846,-2.5985491231802422,-2.9576906100839486,-4.67735541357781,-0.5246486569484533,-3.8666100423499987,-4.363120501129793,-3.6322819450822013,-3.839518709903117,-1.8786285609206614,-4.488909192879655,-2.5859140430483913,-1.8694180853855191,-0.6397023394802668,2.3313835251877015,0.004250337319995687,-4.966204270941069,-4.717248099102232,-4.072703316426139,-3.2174275563909704,-3.043248265913506,-4.199096186017303,-3.7204930152773468,-0.1862518067692971,0.7246102854911212,-0.9910781906660339,-0.09785095522450016,-3.8685162783587805,2.0818361424531235,2.0499023126331006,-3.451658557238681,-5.052712662274202,-4.912325367267261,-4.912325367267261,-4.33887292354023,0.4986400710212962,-2.287439748302232,-0.3583101208278882,-4.912325367267261,-0.1391247632942385,-3.2365962003336572,0.40651939271055176,-0.10222700798155188,-2.726344044011171,-4.757479083526582,-1.7956434645098494,-2.8017821379334067,0.6065798395246842,0.08112045757820165,0.02708770522593351,-0.582881768913313,-2.8626658579423783,-0.6599946107497734,-1.319891798366866,-5.839778715036814,-5.551060302176079,-6.164405608460044,1.6273409616664247,-4.0873174494174105,-4.948735409981666,-6.047630231801459,-5.5477452401306095,-5.671625569681361,-5.466935106600765,-5.585665194745309,-5.520461793566562,-5.789679809449206,-4.541420758735627,-5.513151664980419,-4.387555029210544,-3.9656344420905203,-3.9468242011966463,-5.855303319261677,-4.682089309671343,-4.730285318770528,-3.2883671802637315,-4.596746820384191,-0.5310347770616926,1.4538317744755829,1.884469991834316,1.5183609042073787,-3.310089871752065,-0.3467629409825893,-6.065427696330097,-4.91333665453193,-2.0585348150371034,-3.9301954142957327,-5.301631660733681,-6.018730658263753,-4.421081017444009,-0.3467629409825893,-2.0857973642885206,-6.911896328552973,-2.0102118377162768,-1.6727849230762035,-3.6318398846932047,-5.751870960939505,-6.1190052875292675,-4.159281940378027,-4.130384845256026,-5.158757675103212,-6.236016207881775,-5.558451533719202,-4.316457392593108,-3.713280308444112,-5.719332367919125,-4.541420758735627,-4.4959211690581915,-4.874627640032356,-2.465193191573716,0.5078346124273552,-2.059320512923337,-2.8656367699204117,-4.228393018910923,-1.3442350811413717,-1.3696728798048696,-2.5081999469241394,-4.827661807808561,-1.2163681274229565,-3.747724524929055,-1.2059218271232843,-3.6416173016807463,-2.8511337902768066,-0.8215520219501611,-1.3093370694658757,-1.5183353376298163,-2.7844547012841985,-1.94264956510091,-1.1850435781196549,-1.3573617755544065,-5.216894008198902,-0.2684706332487156,-1.4838277247336702,-2.8206034294687634,-1.016904200950887,-2.50539338259386,-1.7947515921512953,-4.824187186443138,-3.3136386088394834,-1.712194939161459,-0.6411022430176199,-1.9769617452846533,-1.8395129550038058,-1.6473964004879262,-3.33408375892676,-1.566173006984673,-2.034523890021889,-3.5485098281494873,0.6011208352518296,-5.715449150205428,-2.918676045132001,-6.474373435223654,-4.30680899917644,-3.8037718562368052,-2.2081275461714833,-4.960420506700613,-2.9419049084361304,-4.343130480483141,-3.9734957565049416,-5.637830052365449,-5.6621940649315095,-6.328251416196961,-4.843196799746317,-1.0920668960444473,-1.7710809924209332,-5.1647497221486365,-1.2566214459968685,-5.835592376370998,-1.4953207889616038,-4.6661715057086335,-5.599767532123392,-3.433055845717867,-3.613847231555071,-3.325363795063827,-5.168987785170435,-3.1541905919268665,-6.841202700325392,-1.598108028001302,-6.425049522427924,-4.41279618111073,-1.7631817717765614,-1.2945020548966886,-4.2392269864797685,-5.204867542908237,-3.458203310408881,-5.133746978585393,0.2651537400525695,-4.165581818977734,-3.5247110848431933,-1.8921640807212436,-2.672391229776766,-5.087502115870062,-0.21320054236104521,0.08402206789316669,0.21376112969140326,-3.6704415851593017,-0.8310603402148964,0.9267764347513444,2.6496330761758147,-4.859672870928417,-4.933545692923559,-4.324417551613171,-4.400142852402639,-5.488977547238913,0.3518987561710019,-0.958799261148924,-3.222275447905556,-4.499365488187727,-4.747930847049146,-0.9545568990049371,-5.455402033971019,-2.917105711847792,-2.7385650803484833,-3.5654905586242123,0.6494352183703147,-5.128179013376772,-5.044723337053469,-5.063952477349314,1.6060832061681374,-4.459689425955627,-3.6445722065851895,-1.1992228250841614,-5.858387921936846,-5.201494525751791,-5.78232444241822,-3.7998913118581314,-4.629208650928013,-4.4952488161502355,-4.860764301652537,-6.1167710693668855,-1.4479145751112046,-5.49460170665054,-4.591367911345676,-5.139174062441337,-3.6576698610483662,-5.263493288608376,-4.591966875110217,-4.867544799592755,-4.636031753921779,-0.9267441278960806,-0.5677647737962543,-2.899729115839088,-2.6832350356847026,-4.959335749105736,-4.787218665227902,-4.996554317172324,-1.425037548540667,-3.449987261052189,0.14083326750961184,-3.564300354213087,-4.267058465520457,-3.6291340492696555,-3.19622182528188,-4.084893102747818,-0.8001887605310043,-4.888543654903368,-3.4454800143476936,-2.5946871519512205,-4.30918436560822,-2.8684784025042127,-1.9067734953524298,-3.1161851037754986,-2.212195873300677,-2.1914256499048776,-2.1831774326652584,-5.12102804503708,-3.332567389040485,-4.101428005271174,-4.105345404606243,-2.301879026144677,-1.8184023018654976,-2.7120121833748807,-4.7575139567173395,-0.2548488556167883,-2.3765092957277236,-0.15280139703658885,-3.4571761570680324,-4.778082329785335,-0.17567336762513758,-1.2915186406250367,-5.600467394417254,-2.939141636046242,-3.954241822260193,-4.285436000397967,-3.077513695118989,-4.731725216622051,-2.6905530776387043,-0.11833412695864831,-3.6111105573851536,-3.2653453878046146,-5.181285951332985,-5.068857722005409,-2.6752047856017427,-3.0669848817232124,-3.3130758631096744,-4.292475260577798,-3.1488950784466465,-3.2532305127926975,-1.4222197489475688,-5.5947571025472,-0.8895264977993589,-1.3138025365691925,-3.2234954356500483,-4.014645123104063,-5.983535708427799,-2.6660403516814957,-4.956761872154239,-3.191675063095346,-5.407885458134807,-2.6572038731506717,2.2129573413274124,-2.1323527575298926,-3.9928168764713075,0.8979780360841765,-2.7468044444414033,-5.738548988494766,-5.257154259000379,-5.037303774749053,-3.818573541404076,-4.571111921896918,-4.7193091269824095,-4.782096465886385,-5.305313632243642,-4.341724016568794,-5.019617698526433,-4.583669326366282,-4.8127558841892295,-5.259908413271489,-4.958591911495176,-4.838324859995055,-5.286886619924484,-3.2522610424030622,-2.899327908383265,-5.807050383817499,-4.958112358381605,-3.1733609146852646,-3.093355913472717,-4.885439883130393,-5.326527225982561,-3.831864834373569,-1.496114442087303,-4.377395792037949,-3.4796864318274623,-4.49979198330814,-4.7342673733340215,-4.510871044008872,-3.752787029985838,1.430117946479158,-5.717060871055582,-4.523900998655221,-4.8169332758647,-5.635039223563761,-5.1427192637422525,-3.3146440793701157,-4.808238507559606,-4.608816992154588,-5.406511664281497,-5.248692564912086,-4.137278570798782,-5.296037619947692,-4.711631361466993,-2.316035278014808,1.2723793604036442,0.6512688053057923,-2.424119614455952,-1.2945020548966886,-3.973616714066759,-4.483039399296538,-2.4685325285349977,-5.127179659524263,-3.487573902127231,-0.2963654668095812,-3.496883176437091,-2.6341180803081197,-4.4887015444666805,-2.366338434238437,-4.10605156383391,0.8968039957997762,-4.260691002625561,-4.368071312577981,-5.314639723608733,-4.395769757691452,-5.378689108494595,-4.936831257873032,-3.87960243105736,-0.31831868393910717,-4.761861218759197,-4.2842302481360655,-4.889380568367958,-3.6962499022786988,-3.763625844480297,-4.375221596690008,-4.0352814217946475,-4.882932393672132,-3.9508650265161065,-4.088020429073148,-3.7858206493712716,-4.778382243634122,-3.6734265820953484,0.15599148794521825,-0.6976078083030259,-4.654084469294908,0.3721729193339963,-4.775642722773962,-5.207548757079983,-5.277837663910854,-4.77618563751253,-4.857968212386133,-5.559805480777848,-4.674824633766074,-0.0747045415061646,-5.4025987399370585,-6.101479802763026,-1.1012759530726761,-5.601520792329053,-1.9718774046079535,-3.1578929227942676,-3.1578929227942676,-3.4477341351348616,-4.479658775405932,-0.3274851368174167,-5.374156729459362,-3.088578270288629,-3.759190778407302,-3.673655757765198,-0.5180823927675693,-2.272631726064983,-3.4458386648227677,-1.5740950260756539,-2.3276213172663045,-5.646043336821305,-3.8427709988833554,-2.9914569899236785,-4.950374669078643,1.0929626382055102,-5.379826214827578,-4.690055553030444,-5.218770249471159,-3.2102846673390224,-5.149411496213942,-3.704837419877839,2.4165258402301966,-1.0499997192695059,-4.878234973700092,-3.622257429631193,-3.9938335485252336,-4.144939198697289,-3.7301624626762058,-2.8301580791435694,-4.097373849011737,-2.5689310110560433,-2.067765333775889,-2.8505474844517393,-4.696590874770055,-3.6610515241390784,-4.183469771000894,-5.0424292573845095,-1.8695656624910066,-3.31592635148404,-3.115187624768781,-4.893916535558754,-3.5526700478114805,-3.497050183952311,-4.384534274900203,-4.668337584384996,-4.541522288993519,1.3238622302459846,-2.0529204578443854,-1.475537969712675,-2.9593796418198095,-4.05151588126728,-5.3484378760336915,-4.115450089131543,-2.969664297731376,-5.393486100713123,-4.637649360440064,-3.538047318328834,-2.8460850725737905,-0.5223429516450043,-4.055622881657869,0.6318303257213645,-5.4150181456069255,0.13607999524063427,-1.3983912449955762,-5.477090721306903,-4.165474315199333,-4.325764937292899,-1.3423929904619945,-3.7942132230090415,-4.204278085364417,-4.348473644876558,-0.16789518867169884,-1.9542558893063093,-1.5642369417198676,-2.3999958805694144,-4.2795043449889,-4.966028392153609,-3.521195457502841,-4.8478042690878125,-4.841664572747763,-3.7355173112509217,-3.6504102302309667,-1.4732845646489452,0.9360050911408404,-2.6660403516814957,-5.303463598128452,-4.461167220003683,-2.206980630642236,-2.206980630642236,-3.5284792099831592,-4.8605041378659175,-4.5584509004007225,-4.450234038776062,-5.328598894410506,-0.15416665993968642,-0.12079709830296993,-3.486072058365414,-5.4251202619535315,-4.5011679028411145,-2.5828131815253705,-4.288541139257676,-4.326766728604648,0.8297778625701884,-4.3753020829109355,-5.054809751907,-4.074889022218934,-4.969123542677441,-5.060741159014034,-3.560408924127183,-2.6407843178924044,-4.272298445418016,-5.756262654081312,-2.5328292872427496,-5.805062505301481,-4.901986967932918,-4.543750649493101,-1.7689201905837442,-4.530049619801496,-4.51133375890755,-4.434547702014638,-2.709926584648201,-3.2317246085061133,-5.801179772954835,1.304483236373932,-6.240158276881772,-5.646890037924499,-5.506180413989245,-5.568145244531773,-5.864620327928571,-4.584631870241915,-3.0561400164679937,-5.257814690275363,-2.8550733449489227,-4.362294060873959,-3.9243366498846872,-4.148016285678167,-4.385672153490235,-4.198087452420795,2.05906503672005,0.9319573440337628,-2.489574574820498,-5.180840514909321,0.8154580822104305,-3.601026502496186,0.6361486384603257,-1.214316188495938,-4.137775336659526,-5.223517055599739,-5.101382668039377,-4.809120410095905,-5.201889722274046,-3.481045950976939,-4.721297180707784,-2.955238722883742,-5.1310064117852505,-5.556929620666097,-5.043976653607385,-3.85232487271706,-3.1832927220656266,-0.5804869632352402,1.8378649176516189,-0.389141199017323,-4.2052658504162626,1.0537731700150137,-5.792171663940544,-4.254110134883787,0.057709496829940574,-3.725820114393005,-4.874503196296033,-5.1159612217931025,-5.71464156089964,-4.580974423852904,-3.8389481117317996,-3.5723090234745554,-3.1286451632491192,-4.114324056063091,-3.6127696780913636,-3.3711795682268146,-4.685152051685584,-4.065364499238478,1.9919444061295308,-4.874984931284491,-3.8480813253132355,-3.727606736217078,-4.915930837922391,-4.564194726251123,-4.506007872987895,-5.523055618880567,-1.3697439954984862,-3.0138639954816906,-2.6798992331007643,-3.84507241471725,-3.379875927990067,-3.364124801579871,-5.218812498073069,-1.2935779879394105,-2.538620488241396,-4.287503166051623,-4.586499964824836,-4.607758211564225,-4.604346014635681,-5.426459154626773,-4.617671617610769,0.18737886180694852,-2.9286093020106105,-6.494433535082473,-3.097404548241891,-4.392535228623087,-6.494433535082473,-4.02975497668974,-2.9601998474427327,-5.025260817415705,-4.227458343900164,-4.899534092452958,-4.3563849696372765,0.12669611359027874,-5.503458553673313,-3.643107278907489,-5.107982333087549,-4.555168273511975,-3.653149025942582,-5.857118323672935,-3.5304326121235468,-4.9801716402587015,-5.037655173292935,-5.301306808918394,-4.184445368729248,-5.3538933849634445,-3.083683588459681,-2.833493689676752,-0.3101157335278803,-3.820508593002596,-4.494304397290521,-4.190401608943218,-4.127482355229306,0.047549145490283905,-0.4992982936578928,-4.185439105890703,-1.1016837716519654,-0.5491287130932143,-3.105517021666632,-1.756676064786196,0.7199005573310551,0.8127767141150735,-2.7630295466709565,-0.8112392167581004,-3.786404853424034,-3.5670700112768348,-5.416859625439794,-0.540200312755835,0.25356943333944565,-3.4848725595871257,-2.3984529136460924,1.4354104355003163,-5.777485933698286,-4.822515525010454,-4.809241466511936,-5.340299326726859,-4.902908664265329,-0.9258083430700654,-4.920200708246561,-3.6686117306063992,-2.9032477934335823,-1.1924204815510624,1.5987477094619786,-4.386910779265087,-4.710682164629273,-2.9508344190331197,-4.346191736951269,-6.535394491347997,-4.593555379011054,-2.373957631682874,-5.641283079361659,-2.4677550927937753,-2.424119614455952,-3.5679431624087066,-5.284988328724022,-6.595588647093733,0.006607940042384871,-2.553252719097244,-4.4933209237025515,-4.919035913688875,-4.754834355823146,-1.7323537341069495,-4.271005062954765,-5.463501735105245,-3.5920059642310393,-2.290929160013177,-5.61325233548012,-5.890808776830595,-4.72904530713439,-2.228291317240112,-4.819801043914088,-5.391734035558967,-3.8029527789502007,-5.050697766339884,-4.709786713005688,-4.302188140997594,-2.2426989795108785,-0.4152644754257075,-3.36564762968197,-4.003467643705094,-0.22865139491026398,-2.4926908937475685,-5.257441528470775,-4.820444752093999,-4.897187090469807,-3.4964176600884223,-2.7383063843913473,-3.830381356929609,-3.8906277360141925,-3.35292002014894,-3.936696669877042,-4.444586297396763,-4.8882464604591815,-4.225889269877969,-4.816112191276834,-5.408990681985685,-4.944911713410691,-1.462734353322733,-0.6295510790495739,-4.621084340765138,-0.0830235383716732,2.0156613396586094,0.6316874773890565,-1.3345606001660764,1.5259121332622623,-3.0221950926577033,-5.618715236454069,-3.0122225403677803,-4.621084340765138,-4.884252379752352,-2.5746218125653373,-5.273473289735201,-4.637136649577936,0.7646652072163735,-4.695962475227249,-4.569611297340666,-5.167208490630902,-3.2818017006481948,-5.22990404079303,-5.157672087213783,-5.336019576844298,-5.423245185923841,-4.3540867289114225,-2.148749961522012,-5.266782782939085,-5.930125533135819,-3.5034284543142973,-4.962717247738688,-5.142395654556732,-3.563972700949921,-4.603540510112323,-5.095214588392646,-4.919507591522254,-4.494092330399145,-5.300099582047378,-3.238763230836614,-4.09593602724896,-4.647601414027637,-2.9301146248029455,-4.612275933257996,-4.6107883186854375,-0.27130430580632353,-4.027641044925244,-1.6969607601210528,-5.258846682000592,-3.6584482409907606,-3.595336143101496,-4.605696751530831,-3.75774002478981,0.8066649719453809,-4.330839871518845,-4.8784523571016845,-3.2863124151385956,-5.105153001003631,-4.514960160261208,-2.611410686450835,0.5885714409935411,-5.219279566652801,-4.05797526987707,-3.933158510367863,-1.1189777428589833,0.7906802231204859,-5.4728912069443485,-5.109187220966226,-4.719264537563859,-4.579990917564695,-4.120825087265576,-5.2669607362272215,-3.472654460769224,1.280714304012031,-4.115982758298911,-1.9971918346026258,-3.313520939276917,-3.28119164041589,-4.313452917756149,-5.162983548544524,-4.303546628055893,-4.6068479882994495,-3.8499512148817034,-4.2391296259025495,-4.698996137695234,-4.947695873175395,-3.699768231250433,-3.326624262031307,-2.8596333321898944,-4.035187611379313,-4.062667502314933,-3.614134389946081,-3.878152021498073,-3.9167485070926156,-3.7087733939463807,-4.2913800089402745,-1.760980511492982,-2.923405349901075,-3.962887973878944,-3.5097230598837865,-2.863263919898246,-1.6913690962252081,-3.5720403339388995,-4.141729749378447,-3.6941712500612844,-4.61211923581777,-3.5479588534539652,-3.4147684632172988,-2.999379018890265,-3.8511008676617067,-5.320512598339675,-4.462437135543581,-3.7979416225000757,-4.124301015368486,-5.047889812881259,-1.346838105616184,-5.99387487360413,-4.474572249413117,-4.990151311471307,-5.017707133794441,-4.814757120916385,-4.60173322861697,-5.966576688209623,-4.878234973700092,-5.269808997095861,-1.8304095731051702,-0.6856949720490025,0.013165227698133152,-3.7170234255486636,-3.8972282300013665,-5.216109865156278,-4.2714466699973945,-4.388853496398819,-4.051053785660159,-2.5859140430483913,-4.423755124757349,-5.442477753677249,-0.6529337294718541,0.7092329104075701,-1.6333966907910236,-1.8477447218173504,-3.18446285266631,-5.104881663830582,-5.367731221097757,-5.031855001490778,-5.307053562862951,-3.8454728792334665,-5.400778288514713,-5.041027573355729,-5.147805777960234,-5.242519826806678,-5.573243006322628,-0.49680216152444745,-5.201153422477372,-5.144763666569144,-3.7432266623382224,-4.963042436626533,-4.6488596476206965,-1.8787192612819137,-2.6354268836690644,-4.826616089966101,-1.8193532837411928,-2.2857912621655303,-4.45606380970465,-5.14902269511341,-4.6409765872784,-5.189352784788355,-5.0375872948277705,-4.853188480094056,-5.383811512009595,-5.536068982551353,-4.809997243091967,-5.480878998469789,-7.263895756721579,-5.17601325482223,-3.0240207124605623,0.7964728736701541,-5.130587391588748,-4.1540805011782105,-4.630065919342947,-3.4818473933273637,-5.82784597855746,-3.4782680092995153,-5.408340951703357,-3.780172292918373,-5.216283461676099,-5.717371198643292,-4.6059882065299735,-5.9311013640133226,-4.460628942634607,-4.109656700708523,-3.957644113848415,-4.988129996198527,-4.522646116708501,-4.178190100229549,-4.600285823431294,-3.9014357435761324,-3.991978685919143,-4.823337555050785,-5.300099582047378,-4.312671837473817,-4.2798024567348785,-3.8986756303375105,-3.901555599215145,-4.7419692014304085,-3.9357843719782744,-2.6830741550995816,-4.274994932972512,-4.408704706274675,-3.7802338216127542,-3.966210061228667,-3.8900491101872907,-3.5592530072831514,1.4103461390945666,-4.488109590709272,0.006607940042384871,-5.913135595822321,-1.8498079170286401,-2.4780195890863297,-3.9178460840145375,-4.716072761422491,-3.89801171806002,-3.147078669404414,-1.2606384439505294,-3.017170583378241,-3.283127345041955,-1.9464442795640324,-5.3026097004166886,-3.475989672815584,-2.6256389969459506,1.4419756980173029,2.36092064446658,-5.300472372346335,-5.362977543166316,-2.3974583325521426,-3.30210297871508,-3.148246053730536,-4.824611020672751,-4.824611020672751,0.9627409034476921,1.711496968749384,-4.449950388425731,-4.348901442401263,-2.9878465227351847,-3.48237854724609,1.1600569649156685,-2.9330069694213488,-3.543728248755069,-5.0328939912994555,2.025092392897042,-1.028814932729672,-4.989630723929109,-4.501465180312044,-4.373993000183317,-4.32161556474164,-4.359892007280338,-5.468681189034478,-4.966690583398922,-4.692002492894003,-4.117205679669225,-4.316334928469006,-4.341032118580394,-3.8148558664642094,-3.2343225738053696,-1.9148532527809878,-4.180424244809613,-4.389291137305863,-2.712566690395117,-4.223588459942338,-4.1155939012781335,-4.582397736125236,-4.966898347617791,-3.7964649658010945,-1.6008805537598187,0.37948230671514993,-2.6765052192501444,-5.3542521276626305,-3.930020288632712,-4.65056882233879,-3.2181055616996916,-1.3157112824042891,-4.2587532303250875,-0.7440687390986103,-2.358796542833147,-5.269808997095861,-3.825598447501335,-1.2778106064203016,-5.827082832855054,-4.484466170955736,-4.670713355925619,-4.574701509711327,-4.315009370010133,-5.998635356265796,-5.130017494674957,-5.36920048551627,-3.8838064496009945,-4.427410613714116,-4.779886462178348,-3.458141588818553,1.2309495597177553,-3.804917473250132,-3.040951095416185,-2.6179971238241855,-4.040389905174054,-3.6003998060929905,-3.9421796852376976,-4.321331245339836,-0.32023345383438284,0.44116103653635524,-0.8119344198893794,-3.2458921477786435,-4.252630513739868,-3.8022659927575755,-4.692467500640179,-3.86943405437371,-4.309397167695139,-3.1737570564442112,-3.4914481645154765,-4.054070410895645,0.5835215164119296,-5.043305241597617,-3.361609708859199,-3.2812656818501504,-4.144894251221378,-3.0634951047044514,3.874529669529658,0.006703187403925457,-4.814631547444272,-5.348090154886587,-5.494732724948322,-4.431501142124396,-5.8682915609269,-5.378398422403891,-4.85170556029756,-5.327829204480053,-2.7472717669795212,-2.1193713811166477,-4.084847337640418,-1.9210775142563326,-4.724025069055243,-4.537064426614093,-5.989955734859334,-5.1770302229644685,-2.518090535315384,-4.731575606893341,0.3773089790230306,-3.263593189475697,-5.195612271420261,-4.313452917756149,-4.467196292156045,-2.366062441271472,-3.8707578473436315,-3.003634061655019,-2.9961773955521394,-3.7373386481017086,-3.7158453448596678,-5.47892875964447,-5.031183464471518,-5.01403250607935,-3.0632019605317287,-3.884819599529276,-5.203794294460022,-3.5643812310427547,-2.859434282424059,-4.152093302816784,-4.334987389771086,-4.488909192879655,-2.9373533248270904,-3.589235479596506,-3.516235023298489,-4.500490095696898,-2.038545305842574,-3.254061921371098,-0.700730868793745,1.8571200730795505,-0.7624467101409188,-4.542055580690268,-0.5311153500451422,-4.244673130145552,-1.2628076528892351,-4.58211053625666,-5.809355721292711,-5.66045777545826,-2.934147224709132,-5.185587126012533,-6.2095990517296356,-4.94344543732689,-5.3392185540708565,-3.3249094631287046,-3.7578946121023833,-5.022329088836699,-3.628075750883871,-4.530475776671798,-2.9319222508086082,-5.238522792228165,-4.641038518329891,-4.323039634084596,-3.6951173898988925,-4.188294213440638,-5.4290842465622875,-5.003620123683097,0.46913210230170355,-1.7750173562367497,-0.0886590331641397,-2.513471810945747,0.11626259502896444,-0.7258611358601725,1.9262554124634137,-5.318233772764063,-5.676924315055843,-3.4662970155599964,-4.136640879663508,-4.259031135212662,-3.7426185421447316,-5.106359120832588,-3.7426185421447316,-4.657446534232027,-4.529344477802738,0.8707108328480633,-4.767242582309562,-5.32883251076567,-3.200309717093764,-5.089030845371474,-4.444226273162593,-3.820339762776016,-5.931211044131855,-2.0746945639280456,-1.0322938395811836,-3.476125122007357,-1.4430175420137414,-5.208004781382456,-4.715781462110457,-1.6584570955524747,-3.365000272523279,-4.864972045959778,-2.5115393880446604,-3.736587241249212,-3.7586645917772223,-5.309666834181996,-3.8103270136099234,-3.7549633493431975,-4.437678094544846,-0.5118393591428312,-4.368150407236782,-5.108667050273025,1.7133981828147342,-1.0659219935356041,-2.4247245884108795,-0.29155085979493367,0.6981381731433984,0.6318388275616545,-5.162923069195002,-3.3460419427622634,-2.4899420275553217,-3.401053380721565,-2.873897416072862,-3.521704147513607,-3.98915581506517,-3.383767307012785,-4.591236055470411,-4.464238713243591,-3.924633626629511,-3.78624622727102,-4.097755653913326,-4.373297595751233,-5.009894056361605,-2.682244330035619,-3.1106699426004876,0.8020260631677423,-5.1270115535166685,-5.979188173216612,-4.178153277530033,-3.637279713266685,-3.3412438590946882,-4.898958031613183,-4.890875613383142,-5.955504052034499,-4.077937997480083,-4.667304402112022,-2.9845171991320862,-3.3412438590946882,-4.931912421835935,-3.0355892112507967,-4.372382723258509,-5.326014507364641,-0.2883701829810081,-0.23786517857249517,-4.247481414362498,-4.502678382834681,-4.6903806503706065,-4.726817898651006,-4.667304402112022,-4.427101701270479,-4.464238713243591,-3.1171730801149025,-4.658535739463694,-2.8891768229309647,-3.709199086752251,-2.059045873488056,-1.5557721142904717,-4.228221796104126,-4.497021184939949,-4.824812889423897,-1.958241742063481,-2.35358985528857,-4.53561371710896,-3.8484191686245453,1.3379080802473289,-0.4688355389735053,-4.3270388483608,-4.798225290811354,-4.0807397671772465,-0.7036637653320058,-2.113770162482853,-4.287762209721454,-4.7280539923221285,-2.9981393624045714,-4.897435848357615,-4.549227571722371,-4.247811020069853,-1.3484537999842166,-1.6911384910816278,-3.936696669877042,-2.232646641221588,-2.716264978119108,-0.38579077917009086,-1.237585797038576,-3.3128224872112604,-3.2284756765971503,-2.984367174858218,-2.835960656624527,-4.9658050514900065,-5.263493288608376,-6.41669428124082,-4.884928922736756,-2.136748754540673,-2.9243980147691517,-2.260792676191622,-4.631096228741023,-1.8162046739554218,-2.376598025991385,-4.031264275713811,-4.009646405124166,-3.653118903122893,-3.8897968611060563,-4.359483547398727,-3.498870788488215,-3.6175668128901854,-3.556944610982788,-3.965560765834816,-5.564640456692123,-5.1547474718004125,-4.8459528943703125,-5.043237966992677,-5.358430910778995,-4.891536596163587,-5.27252745365262,-3.673565697509202,-4.26603778940566,-4.981585502794221,-5.897458228814135,-4.442557769291291,-4.208056199402644,-4.612323972102058,-2.610096880893233,-3.62338401195704,-4.540854680552179,-4.148022235765708,-1.3691762811045458,1.4815813924992536,-4.311319138966825,-3.9807384808512776,-4.232596238664906,-1.1254608942061939,-3.971498299389877,-2.708422165332435,-2.1438458051995757,1.8923180829105453,-1.610786181385491,-2.645194606497206,-5.21916162176698,-3.4558899345553042,-3.032141070995153,-2.5040230814027917,-2.542797197986717,-2.9087772583377043,-2.7052556245752037,-2.8751647924134764,-4.630376926687642,-5.275578050191928,-4.495970524084012,-4.223689364832601,-5.216215190296051,-5.32705745578936,-4.400961767469625,-5.223529641302441,-5.952317882380908,-5.931634134517944,-4.260144578327397,-5.407926390263482,-5.977602141320623,-5.3859649875782285,-4.306331061981983,-5.745904198903385,-6.265302539660779,-5.48254965406875,-4.944952765855826,-4.007858541164587,-5.291550697740487,-3.2246948610247395,-2.0949317800361746,-3.6729417029272784,-5.544697281695344,-5.113326824768429,-5.187180812674915,-3.5953527830501293,-2.8663000852970417,-2.240671292466605,-3.3890720321484977,-2.0529204578443854,-4.937215298523182,-4.3070223024355725,-4.528580087283417,-4.43908853211066,-4.3460615770482125,-1.7165728258691137,1.1115916389983949,-5.773516709047099,-4.384534274900203,-1.8452858462444224,-1.6959984780053683,-1.0892701918606302,-3.2870388567507542,-2.4524900272525203,-5.0439574301802,-3.668984804141596,-4.8913814167937195,-4.058838318992876,-3.502149252156847,2.3878485668112406,-3.5247110848431933,-1.0684052997492668,-5.490020713107415,-4.600888665282895,-2.7789589384955646,-3.2662421101246375,-4.780331471374385,-5.323606530305111,-5.99388458218432,-7.044343330706915,-4.113613214740451,-3.3067572234965388,-6.336911573595718,-2.6842702999753194,-5.386441148376156,-6.372923587316574,-5.384397164209034,-4.477830239274764,-5.062997353883907,-5.1480824899567965,-4.577933860805105,-4.552901624287198,-4.842664738342911,-4.146008792266583,-4.948664798875044,-5.534153070127366,-3.0710930616416503,-3.0241410216696254,-5.040371922485127,0.31536716812986576,0.9993974031360511,2.014033680702328,-3.5654173762106494,-6.035786410889141,-1.70448266549861,-3.672980058070675,-4.838799221315887,-4.805925537122331,-5.150494799230422,1.5987477094619786,-3.8197578417077676,-4.953414177151106,-4.310599746734956,-5.333354589240769,-4.542255602867438,-2.5425324374643505,-2.835960656624527,-0.2318719903725314,-4.662199001393212,-5.101309962460466,-5.110689862495215,-3.116611526859104,-4.5815364056514305,-4.32517785323086,-4.098554955301701,-4.15657632594688,-5.002729240006128,-4.107992241699433,-4.630167790398037,-3.4708400217951976,-3.6420240348422945,-5.0814082597445,-1.428282921223662,-4.684516615382823,-5.624256024642677,-2.8373743210020983,-6.211362742972011,-5.75878129806669,-4.913236483585673,-4.455940467665068,-3.6398202940431243,0.3493595886685903,-4.279185556631947,-3.9630502542870834,0.9047541002236553,-1.9519927158879429,-2.358156822980151,-4.662199001393212,-4.662199001393212,-3.1106699426004876,-2.489574574820498,-4.318252272235193,-3.8349664336066347,-1.5704410061805802,-2.430755933721792,0.28373492957629254,-1.9206672931433502,-1.533179300571753,-3.704847463544283,-0.9662714825835346,-1.6471657994301747,-0.8894578746516295,-0.5972639135536884,-2.128439482752479,-1.4025920875825753,-4.907817182807568,-1.3539872938234097,-2.933135718032638,-1.767645270460255,-2.4352353756153895,-1.8451977976025113,1.0358008813143664,-1.9347976233413748,-1.918805217171546,-0.12855609997622022,-4.157968803012676,-5.2467897386104365,-6.004098765346454,-4.374347457244834,-5.210567277321348,-4.852462681252904,-5.254842150335663,-0.08629814195833503,-5.364996859905467,0.5537030274350385,-2.313891267255009,-5.4963543970194095,-1.7607693784046317,-4.189762846624239,-5.757783657522528,-4.969473383269282,-2.083654868758577,-0.2820101589984861,-2.5179564266639725,-4.299454685375824,-3.6607580382326734,-0.8078609258386802,-4.534604135674848,0.15373488229668497,-5.214342740992923,-5.300312652850117,-4.968113441570619,-3.226290767038257,-5.840981938207327,-5.039767649744018,-5.20031012733402,-4.901287198822981,-2.510516851451867,-5.350604391019056,-3.429259510027256,-5.021275926345021,-2.0529204578443854,-3.256618843305938,2.5571048372912752,0.3804114164336501,1.4397955535464282,-1.5114845176337808,-4.29364386353108,-4.3921910853775685,-2.8126047629433693,-3.410736086077794,-4.636424820684174,-2.870805054948645,-1.5472032959633046,1.2082833120496692,-3.4883980746782157,-3.6444957763178323,-5.360852422045417,-5.229442394572215,-5.902545031988977,-3.7527969296311956,-3.601087501431765,-5.199689593714902,-3.907971024257655,-2.874374729533758,-0.6365689974859785,-2.7948978643743345,0.6897957645963835,-0.5804869632352402,-3.0771641184124077,-2.624948521543838,-4.877415053511758,-4.755541363675318,-4.379184222379161,-3.4599010050485495,-4.757304362151579,-6.634794713341572,-3.9181421935898797,-6.5492719708983955,-4.192043469635213,-1.7680020287988047,-4.426985991810751],\"xaxis\":\"x\",\"y\":[0.43816913737697943,4.981612052751348,-0.8366525081079943,-0.4877989015663405,-0.5756819768820474,1.8644183183717797,0.2851835002352836,-0.6783790472312378,-0.5712993716580518,-1.25937880797083,1.2765569680619446,0.7560741064307471,1.0427311644393213,-0.2763864586236301,-1.3169815431109795,0.5073029625781897,-0.3364827059771091,0.5058604987046365,1.2627579957290729,1.3822762065335454,-0.4226030705854389,-0.8288723577239867,-0.6072880911782343,-1.4069288423640265,0.9933269247917429,-0.6737190709851917,-0.08662709156681646,0.6218511570174333,0.2555745029810873,0.017764042805293236,-0.10562522348205719,0.1401855387304091,-1.1509940464794908,0.07433490683041155,0.3183534526481741,1.266748412467516,-0.15378440169132593,-0.9529183592404532,1.3092326125404625,0.41014684622458203,1.343308351595267,-0.028265112195098443,-0.6467204432711564,0.048482624439470164,0.5663131601694972,0.21924105940169908,-1.5825802864431397,0.7706398659885518,0.2833790208992005,2.2171871639921394,-1.1734800739618418,0.807589838772238,0.25840754107045943,1.0324372165462787,1.151840059283114,-0.5878292340675279,1.6385172072426586,1.1489283345202879,0.10511149169662802,0.04937581094513763,1.1110751737520235,0.9156514363587915,-0.816054631675415,1.8669542640681758,3.600987054031278,0.3007700672680798,1.3705633048663812,2.8606940803097847,-0.25571548776726694,1.2950150145238393,0.1800838410495879,1.702132630158421,1.1289370726337054,0.40763525206041146,0.6221134969005283,0.510211058144546,1.1729319881917786,-1.4556208824574781,2.591153239880409,-0.07250822786735037,-0.07000333959076945,1.1080722916872667,1.9152502276261432,1.5335940810483197,0.21029276221382148,2.322192422578855,-0.29802155298049954,2.2080950936018886,-0.09015614830483476,-2.6072714522024634,1.5623371715311238,1.2422083487867899,1.4848879604688945,1.3044986135695011,0.30395348908112535,1.1685955502095755,1.6290922902605054,0.36522925654954624,-1.4359446534017017,0.06592910845293018,-1.250180696263442,0.3524234866958799,0.5219991373188864,0.12071843281537165,0.7367903968440558,0.9339842015674862,0.6260314064275341,1.101757919980756,0.02943436309048101,1.4360195655101713,0.3265780068401733,0.25462193695987617,1.0131952199432352,0.7586935229585197,-0.429302260540332,0.44254278924464246,-0.017954637279325954,1.3974646451837016,-0.5719967674148994,1.21184990082513,1.5432613993731101,1.846390232103203,0.8517324091029557,0.5231426773109253,0.7172767556967556,-0.014812339420350332,0.6740278616052886,0.13397254451196083,-0.3164141630777713,2.6372468624187317,0.9732994102064861,-0.06946140122825424,-0.048476313163910906,0.6008191631848392,1.7024577438216566,0.22606968778492945,0.9859637480485178,3.600987054031278,0.16589574343657917,4.015508170914254,-0.5283858821370957,4.015508170914254,1.2852514925547613,-1.2538733405730833,1.520187614409796,0.4667600843699002,0.592601988420937,0.036632608894510636,1.169712166846431,0.7054202653376572,2.0153596046836912,-1.4879429228210106,-0.5120242154034724,0.6592526230945375,2.4975751492205873,-0.3065510631536258,1.3476938721925045,1.6356608606387966,0.727565941615965,0.24859365515157925,1.4238326033515607,1.071959838778731,0.8072512724749493,1.5988968281253428,0.7640721177159112,2.878646198596776,1.6496394382455644,0.6407463928179675,0.09640300958251508,0.9385261139072143,1.5483437459945464,0.2436672242654868,0.905906670655571,0.5062488462327608,-0.3347353956259727,2.8494683597316905,0.5136061474489908,-0.6544083573068762,0.5931578055316846,1.0416315882307468,1.2378387852628498,1.4193403346876863,1.6449463426414916,0.0810038644223595,-0.3208561668855651,-2.1771669763563093,3.551184350842573,0.6655986849179277,0.4585553708750011,4.339508935633531,-0.15682096135322657,-0.354898045928579,-0.280453487017417,-0.24248295085573565,-0.7587586798467025,-0.8801508104052362,1.0316017960292774,0.5054578533099454,-1.41845263596193,0.06079000695846048,-1.1737803353784444,-0.4385851281042731,-2.011033005224194,-0.7156056431097272,-1.421944548282912,1.077777285481268,-0.05375926393291766,1.6814080868334844,0.1682573252378767,0.4485512444975401,1.2318972676517561,-0.754826748707451,1.987666741472343,-0.859781447052874,-0.9313634986391524,-0.8005214713020801,-1.8901043511651354,-1.1950049090764172,-0.355387555542698,-1.1393896735941482,-0.608834179217955,0.6877090819517139,-0.5039526412022917,-1.2423711055236792,-0.7028069772528653,0.050152553729185576,0.6071506933663416,-0.3403591566973224,-0.24088137950960464,0.43929279990632625,0.4566402746492398,0.9534501373803489,-0.1149858949632003,-1.9315461411570127,0.4785900391235277,1.1655026285713954,1.2679434784358632,-0.6180433072867558,0.6648852624177861,1.4867628744254044,-0.5519320079501027,-0.17070793752065022,-0.28436885657888716,-0.5580829344979471,0.921130794256475,-0.023670968421742773,-0.16226447857728665,-1.0808831120421676,0.3859822563767449,-2.1509115594061443,-1.4066278328199147,0.4534372045909512,-0.04554816848116373,-0.03249100756082543,-0.2094302997220276,1.2516418310338002,3.8548239199439847,3.8548239199439847,0.46353095062548205,1.095204272066689,1.4688296200578799,1.252289372921912,0.27278970457437035,1.1477677539173683,2.19931701600657,-1.163414988282606,2.2699783099086637,0.6545659859138223,1.8341334488968801,0.04747423209368174,1.764491790213257,0.22883704702775762,-0.7370869388697159,-0.3477391611820901,-0.2210840324324672,0.988460186083833,2.1492462208448853,-0.5697394195184842,-0.7171655293491993,1.224550134958758,-0.7837179333155867,1.333405173026198,1.6142463936010976,-0.8263287472699312,2.381701426840121,-0.06589601746806431,-0.22363754205564043,2.138731481090316,2.7188461597627773,4.417231373138001,-1.7837801394436579,3.4633503045934035,1.1937150885252605,3.288704592845795,4.417231373138001,2.479098975415064,2.0681442222218713,-0.5026322538669179,-0.19854537662382657,-0.6970836619405512,-0.7801254019185828,2.5957272221776586,2.406585258548936,0.5008578239727999,0.93826781472304,-1.0625134153469489,-1.555933622313154,-0.711763269047911,-0.13450811960956124,-0.9517551856565465,-0.18980871010443195,-0.8843065138045929,-0.7854838571820405,-0.9437918656949431,-0.10056766921212898,0.6035353293367562,-0.277537270863767,0.39306503435447404,2.379354342305601,0.8343831941230091,0.6757298458008342,-0.19132921070551714,1.1292178206397057,-0.6646423160909625,0.8936029472539148,0.1551186414718364,0.5825671238286987,0.7772070571536064,-0.8263287472699312,1.7612184168735632,-0.018903391414425992,-0.36959248927652755,0.784572390812992,-0.7073991701218174,0.2413928802059829,0.8006627318160446,2.849495508392149,0.44055434829442863,2.319905161100785,-0.9313909483512488,-0.8233334391672763,-0.27147158594371124,2.319905161100785,-0.394192842353981,-2.489935707637234,-0.49730567090619626,-0.5263258674821064,0.12398543478297724,1.1359708969273692,-0.8621072723744376,2.319905161100785,1.547406198781178,0.05344586351929573,-0.8555943411699135,1.5733308043886878,0.5743838818778767,-0.6618650757458986,1.261790295533844,2.6865026463053443,1.7769732543693209,-0.34160645390726596,1.2146882086977608,2.781576292204587,0.4359981157911496,-2.2930504878954774,0.7249101947303135,0.8412171281494437,-1.3752624805420082,1.1166459437425689,-1.1242628908124772,2.8291637558375533,0.9817543859143916,-0.21051419844303787,2.7168833135985846,0.9265785771605768,0.8466017161633506,-0.22525299347710454,1.47588268272202,0.36774254384501204,1.2160991965579435,2.41480296615118,2.0503408586582723,0.4952206745232658,0.21061984485628213,1.81383468779626,1.0839696445652336,-0.32068736256721136,0.012553299003932285,-0.7418038948205444,-0.6093611337051333,0.7472260056966725,1.5650756110804926,2.9170873541127613,0.05936058425005483,1.6895022284650327,0.5226512871502107,0.3623648473623042,-0.5448787834461939,-0.34430280848327893,0.4827102925202864,2.473861280738637,10.655072697769697,-1.4897328822849623,-1.147009381497213,0.21262302472528202,0.7983648377669126,-1.2488573683469928,-0.1315206521139012,1.0270995181252016,-0.6737149105328767,0.6880030271849522,-1.9517854659729283,-0.08854889154165768,0.27703071922716915,1.3440999294721299,-1.2460070604604834,0.22564140769567406,-0.23571007156390897,0.8451972476497824,-0.05592387623058895,-2.1796053337156467,-0.09962791938201249,1.4706235716213214,0.5528409459200478,-0.39806590813213344,0.33303415330241787,-0.08549295200234,-0.17886301032397417,1.890270069109467,0.8613508077533407,1.311493179238092,-0.062448783371745836,1.7015092665648994,-0.23511045318226437,2.1227662879161713,0.3662024786030605,-0.23978624568190995,-0.25684872674725967,0.4995034436869099,-0.22252323621646733,2.0493785593603686,2.403221729128713,0.7598051264105324,0.5070839638592766,1.321691303370025,1.5553535926082662,4.615788752257964,0.8678575461206584,1.1492997751415306,1.1968897673941374,-1.382143508643083,-0.11378689520612112,1.714249546075281,0.01802635056823053,0.9253533292392929,0.2214131756629469,-0.7061834971939471,1.542979813417854,-0.43927203741186227,0.15720762430722598,0.09348907585128413,-0.9998377955505662,-0.4378834748998822,2.441657918830827,-0.676302824199438,-2.134545693906943,0.08529149756716503,-0.45994100449324793,-0.4002376365763169,-0.26309780694482643,-1.1531550026513835,0.19468065328687,0.6227305523983451,0.9118179425672547,1.3279100339280252,0.9980631144403426,0.7147399440931625,-0.20826027057164656,1.7263689417377253,2.1996992858760334,-0.3430129291297415,0.343545467444851,-1.7198605264409892,2.8567540273684493,-0.9002497687941049,1.15756741485642,1.1753182990918989,0.3422601251963812,0.9386771565649861,0.6920068835901734,1.1527697417401646,1.0119184987483922,-0.5629407899545498,0.24328076916782876,-0.2536840411845152,-0.6491156555540101,1.2784502451111535,-1.8289771998796014,0.02237425966887606,0.48110498733712737,1.1939764597127334,-2.1072560640962554,-0.671285784113954,0.2008214764344482,1.7879772921229027,0.9289489539960278,0.8112809459531379,1.9727159995442345,1.173601898580435,-0.2078485644651203,-0.6953201135947631,1.076411572746484,-0.7684936202109568,-0.6188745486253687,0.09440216581759173,0.03518803450999797,-1.4567336893957867,-1.373343820470858,-1.4579360285799716,0.6871043550364108,0.05403507502901497,0.9063515345391592,-0.782458442796556,2.3314441464879976,0.09384577740678943,-0.6236201236126783,2.21253662987542,-1.9805219242858454,-0.3582263325087335,-0.7288590210965904,2.3459830845741365,1.0093409287993718,-0.048453236353370094,1.1388537781731443,0.7329827850018523,0.8200268429822785,2.4550430893037825,1.67782403243232,0.5991847363734277,0.5130146877962752,2.6295626832076153,0.7539883175258141,-0.7803257143803363,0.69639137067367,1.1388537781731443,1.5520585685368629,1.812542159877425,-0.11402173852548123,0.6240809593111563,-1.178064341893341,1.4891807488197042,-0.5456677398938214,0.4136138454577283,1.0888677626711372,0.9913952020190767,1.618106965853075,0.3017102913808114,0.2366715151206366,0.8491211797690404,1.282807140572675,1.997804700149994,1.1272634199815348,1.0982586285630627,1.383406020534843,0.6431999295822959,0.9442962653469262,1.2354618686207255,0.05103216243800894,1.1889023583853766,-0.1990893988837099,0.11979197873717619,-0.43085373927448456,-0.6769470757307681,0.602342815151062,1.0960673202629232,1.3847633286845116,1.079786497630215,-0.4028127545581599,0.3091960944553708,-0.9843414999895811,0.19173237177007427,-0.3528597643457073,-0.8742012369704872,0.2089119196056825,0.14357264455415383,-1.3085114343003192,-0.9543622650432488,-0.7733522790515864,-0.8671137448312867,2.194786722865752,-0.6771071743630952,-2.0971280954652833,-0.2250957882415632,-0.10036047859837643,-0.679758407091213,-0.5756775106708503,1.8036147448923068,2.3924973146636566,2.5592317283164983,-2.1276828349795487,-0.023258227689283237,-0.9074728314518996,-0.18813623702979426,1.4998791315404476,0.06317408734262407,0.22213241906155157,0.016627349560509083,0.35953598198236486,0.33747672989731065,0.4334133991505582,-0.8343991321250435,0.2024816630444445,-0.958232892305539,-0.8656110237931792,0.5278464417689874,1.7064373930691803,-1.0447980204468357,0.38760406645520745,-1.676280269776319,1.356816343808334,-0.5701840896360537,-0.41363370202981203,0.685376596722266,-0.45376605606013787,0.4790252435561774,-0.7833480740763217,0.02317915692857239,-0.15815626592026136,-0.9247331328828969,0.6894752032958058,1.207910812926923,0.0211408261849205,0.4441373062971429,0.9035597045092798,1.1113712150588984,0.7484713520980364,1.9193642431399802,-0.018256524593440973,1.0642188828196244,-0.024232184349000714,0.566031107395961,1.1727186397006575,-0.08239362599142466,0.6144410494964127,1.1715510095613109,1.1866218311538226,0.9902966691424803,0.9272729126551122,-0.5630384748857729,1.072513191694552,2.0403849898099073,0.24859713831189842,0.3016067395756844,0.12999904528182363,0.17336988635256417,-0.47583331328192496,-1.4883894091679424,1.8795869889005508,-1.6215755480024925,0.46458315668369843,-0.026563684745065604,-0.090433339859396,-0.3273802705627859,-0.4578811523577871,0.19301574257162338,-0.8910271544145965,-0.8619022311237989,-0.7141653829018146,-0.5163528011105396,1.069988062173211,-0.5511125905158073,1.5288428097029423,1.5596569772066602,0.6976177126420715,2.6694542431701693,1.3924946568465082,1.0678772752810404,-0.46605045961786123,1.1289370726337054,1.1977783744662625,0.9268808704654339,0.5608970551106949,-0.3215799087221347,0.8623162943491017,1.0339009245852033,0.32222272808620567,-0.3608545177664141,1.172554312307606,-0.07499015557502665,-0.9506618534004396,-1.7409606415969148,3.002529409764387,-0.8375813835802624,-1.277007194786066,-0.48691143976543044,2.030972267841873,-0.29537867453605066,3.105091588920706,0.06096757670005634,-1.2868807086721612,-2.1633093995742723,0.4103992994058893,-1.2734252961427242,0.5739540543430879,0.17440470959738455,0.48135192354499207,-0.09348235606961366,-3.2123753050329804,-1.0933491586262627,0.05668980933160525,0.769212567759906,0.4748080547745088,0.342162616172867,0.342162616172867,2.0590125937362314,-0.14102887199557707,1.5889497939995347,-0.14803091254171602,-1.2447671276243701,-0.7216219610137679,-0.9768384067286207,-0.7722489634401799,-1.0086372642872115,-0.7302593500329906,-1.0719742506646992,-1.0793610229052073,-0.8040960426640428,0.815337676701091,-0.7721238256337171,-0.7456725768186092,-0.45861899946375084,-0.1465237538424725,-1.6312445455401245,-0.8354554245698701,-1.004289564647329,-0.5594685799137862,-0.8893682125632911,2.430803013267446,1.1105038924898072,-0.9855623357030759,1.0247157656748445,0.9668073742390515,-0.9740482200457629,2.026063490444314,-0.39470320528265734,1.3235362321092647,0.4927290175986725,0.31438098518082963,0.3589398182917323,1.084424746526619,-0.7899931723816086,2.5592317283164983,1.1371760270199418,1.5317388617416945,1.5783336503340266,1.3204487197223922,0.06665472160811191,0.6790227763982123,2.396519016102177,0.7100607332241562,1.3366306756173112,3.297045357007258,0.5475950368303479,1.667924586490847,3.297045357007258,-1.5283146592889592,0.4498579222935101,-1.6522236811859043,-0.3268423460167706,0.7919757461640162,1.5573484204827974,0.7502306966116501,1.9621165116223505,1.1200673650828143,1.4043676811731527,1.6597775104170724,1.6568916208227595,0.1508718964362789,1.4526043227689465,2.0411879856796804,1.5222780337442412,1.5779062104846133,0.9992005728188816,3.37059630868063,2.796037257226505,2.0077781547440656,0.20121478597352677,2.6944021154073634,3.0239495841065023,1.9373929797077318,2.774651430973678,0.7563264003480734,-1.1192192811025727,1.4866003077470586,1.8726498277083439,0.33989062310134316,-0.7835507011456441,-2.6658280306337683,-0.3959231120112327,1.0545358520121977,-1.3866991476723993,0.3886965347766621,0.32209570817844857,2.56997442651202,-0.8627330612563172,0.21259582689286394,-0.359005067593392,-0.34957069979161753,-0.45366916246183436,3.0241812440629054,-0.5690827801244935,0.6305534846408978,3.1841071544246016,0.422838349310053,0.30855793086499167,1.3674013872017994,-1.0673586008701097,3.7183865214071696,-1.0271567199774998,0.10966879647806183,1.7302112888257437,1.0230561315702202,-1.789929168308755,0.2688204046360693,-0.08150996342250122,-0.9286486226864898,0.7252328804580757,1.2391024899121579,2.710921080411863,3.7673991966452207,0.41505901691748764,1.3819617259122985,-1.311236459811755,-0.9858180641550034,0.7704442751735842,-0.6837652174073117,2.056624007184046,0.2610554238270346,-1.8356247523272657,-0.2426759482835044,1.4630611184526492,0.2578761085614269,2.66488885396279,1.764491790213257,0.8849878914284878,0.2609098873701256,2.196958441138205,-1.101446397571843,-0.4255071565401112,0.5921543752320476,0.3555557431995051,0.5789019714253468,1.7389649770484517,0.18045479360058192,1.521785841128236,0.22041351611449397,-0.3874356165045168,1.5308694696505512,-0.20157474856059837,0.7086285666970336,1.925535359036669,0.25679935499602435,0.9478624903968522,-1.936887091075172,0.22728353697595385,-0.4547713879645876,-1.8362222276583697,1.9847561411200751,0.3847530234789708,-0.1466907700606122,-0.28080555037926314,-0.2757094136047709,0.7058662971241407,-0.5976483574385072,0.44119525523144304,-1.1101222805521926,1.679907025608061,2.1298845704220515,0.37340874300802834,-0.649614813105631,-0.9000254502980899,-0.829729770613945,2.7377156552839588,1.5880170708982295,1.1311430395270827,-1.0269335390867889,1.6665678920416966,1.6906963852225807,2.6495245582731806,1.294160571089272,2.247594311659041,0.16483884549821903,1.491616702470769,2.174649664330304,1.0819095389132647,3.1394352550727556,2.3284337039426823,-1.0428950371281678,3.073102610724861,-0.30545433917592946,1.9711462044024188,1.4853511286836147,1.6791681597681978,1.846390232103203,0.015108453459396204,-0.5811565539395748,-1.1269971785412194,3.600987054031278,-1.1289826841613722,1.2234994759580664,2.246156704527968,-2.8940666852961385,1.036593366269227,2.6059225205000907,2.882164073526921,1.0160433756852176,-3.6702377317640837,-0.967943910649239,1.1484065452288037,-0.4838993058941405,3.5031260105935034,2.708215859213233,0.25125502905394914,1.7809615829173109,-0.6598725627828091,-0.5459755316087275,2.118856326112169,0.3170445826732092,-1.97741593254853,-1.4422487695071233,0.6166743702711035,-0.019159445488782043,1.0192247313685394,0.10157871538829352,-2.084822233301418,0.3537454180827414,0.2645537014320668,1.0745720318020524,-0.7392308882579007,-0.12234074475666765,0.6300109412932849,-0.13527749682311196,0.6311985650440101,0.8205834551108138,1.4222862564479923,1.1681950818228986,0.20741504461037122,-0.7917439328627619,1.2517168910667948,0.24313376525652253,-0.1295167294506231,-1.668326162360847,2.505955075199596,0.9883074082161154,-0.25817295887875147,0.1210789079199473,-0.4353743291553656,1.233024219595763,0.6242860555600616,-0.019794280868774515,-0.17359607323229242,1.8531580952390927,0.24702782314730432,1.229418735349136,-1.0973583100513356,2.9979932141050942,1.183183776919811,1.167200714321889,1.0662067760275098,0.48605124171784747,0.6791335102103395,0.8344556769406103,1.4834456573250552,1.8000990056407589,1.8030219220180241,0.17907037377683682,1.9418587231951487,-0.2376006548562728,1.9082204394223932,-0.9039293606789118,0.735262006767099,-0.8784604493069166,3.700363875970978,3.203622237055564,1.9679493247420112,0.21227325955078533,0.21609175871663933,1.05365958725523,3.1841071544246016,-1.418823557296307,0.5509721204557548,1.6630452872180237,0.9884374198317747,0.3123495185397809,0.3424854601221472,-1.376675423605689,1.2551333714134891,0.7325838763036174,1.666930537939279,1.1557143325305363,0.7395492526538058,0.30633510863762753,0.34438347003410014,-0.23313389065536474,-0.33463005009080005,0.8603256410329564,1.5484729744203654,1.3005931186411435,-0.5680862674454346,-0.22730478905520785,1.75144280994346,0.6963279472189591,0.6839069242654006,1.9600996814226832,2.2071667299618656,0.8848111609397762,0.9480165759736252,0.3412898444951927,-1.2112379134414706,0.2594613457868333,-0.6276283848215507,3.169211763718533,0.9885479248728447,-0.6195970736429044,0.678167064556609,1.8650809096964147,1.2632088121507419,0.4518235562331549,1.45119113969051,1.5808078963319767,0.690013875961792,2.662967018266645,1.9555818031781391,1.205224309764618,1.0508796651772656,2.17559353205685,2.673023645563286,0.055979340264703165,-0.4289672122851305,0.3055799890603509,-0.685095613540718,-0.8876902806108428,1.3446405842843179,2.9701359160597685,-0.7346559678789618,3.216376576331284,0.9172725728070638,0.8274176242685862,-0.6866579546089593,2.0470611365872715,-0.5413234374319627,-1.666291276465484,-2.368799801544297,-0.2391703090102206,-1.6146275146390001,-1.377163174414912,-0.0030737642738479357,-0.18194102467638346,2.683855744325328,0.566394196898448,-0.1684428956172779,-0.7666728261091216,0.2685419960283517,-0.15492125010997776,0.02237425966887606,-0.9092025185308001,-0.9035474480102562,-0.22879729666459706,-1.3510254800217765,-0.9685479155899264,-0.09480161807758206,0.7511500598641951,0.5153509235193652,-1.8137212927438404,-1.7530335744651926,1.386827022685003,1.7211318354342446,0.21321888618245233,0.7754798477123446,-0.06836172798774437,0.8702177525553766,0.5201966993601667,0.42414988124866115,-0.09795697031106923,-0.6915150330284586,0.42164050184703544,-1.3059124749795497,2.9570215924285064,4.182842669866849,-0.11812428976112528,2.4166825701675863,0.09404467408648284,1.315484231182161,-0.4897378474843244,2.9570215924285064,-0.3338921325169233,0.12947056685936106,0.7497762344508972,0.020670631799061447,0.3611581961630176,1.6823583966754927,-0.6909982648718525,-0.17937806449216492,0.41119220997518435,2.276345074938902,-0.003321269555227552,0.32069950535512076,1.8770250881872632,1.7770457635714099,3.5329832296042953,-1.0087714550497713,1.2898749599002866,-0.1727262755069843,-1.0185929203673503,-0.03664775203883149,0.47936177267066143,1.110356604828856,1.398612481656967,-0.5329003917441222,-0.6012242287079649,0.33498726460096756,0.7059099135811275,0.6564089392378059,1.1929303320151805,1.271955220312401,0.648529109456766,1.0346154339860223,-0.365695296209552,2.0684119608878033,0.6413520520792466,-0.752020851563514,1.5200736071878462,-0.16282055283395636,3.2058466978818307,1.1893586750881693,-0.6395397521197683,-0.7232956892104234,-0.47854616519171705,1.8367072562949909,2.182061270961075,-0.40802566933608114,0.2071507531325487,1.1612325170205724,1.1950244595174535,1.6457106413443197,1.2359329008974391,1.127590289185436,0.5851840541811947,1.4598663072634275,0.836518331243741,0.5992805461427146,-0.6549779502165438,0.9569175354470203,1.47449227537289,-0.4489719576790542,0.0476026013418953,0.5335301321670315,0.4915719289884216,0.21048479246824991,1.9153318153381018,1.567393446438571,0.5665543343631743,-0.03754961685012251,1.1602492651052638,-3.6286455996424243,2.5932443117405595,1.05459717317207,0.3740599414739667,0.8190632321582019,0.08354566150728121,0.3192654772880807,-0.3468262863829254,2.9286818101884213,0.24225446290648686,0.48839100477639086,1.3915069908400781,0.3467642728346948,0.5081272806115067,1.2894206513910431,1.2157451037461635,2.6282633867889142,1.3472118139992804,-0.5276777234511042,-0.2548158129231713,-1.8220844059174133,-0.8062741646986034,2.19931701600657,-0.05362719883449876,1.2454593501006577,1.1448388793540745,0.7751935091075512,0.5940534787161513,1.8392691413338578,1.8447860418893611,1.8713885081870067,0.09214276614032804,0.5408131188625679,3.2262462623760575,1.0988977684895875,-1.1751538991501707,-1.1078046829468808,-4.630958635745123,0.3462390698137065,0.16679257502730438,-0.8390150676477801,-0.36335973971627483,1.9398363862075052,0.9729859993213469,2.498745153500148,0.44239314995516216,-0.2297092345842155,3.422675096019077,2.654227659547362,1.6882086207585998,1.3177846864398222,2.017837025837631,0.2606003822467804,0.6556743047145096,1.3009263432509124,-1.076603215042551,0.12502095013836498,-0.8727451858106914,-0.09932247674946384,2.585479956231263,-0.12839146236992083,-0.8339174988646145,-1.5203579418874293,-0.2555234624531139,0.1791235105568769,2.8056072858005994,1.5871553120336104,1.9699557358567699,-0.534324126670794,1.4304923864295396,1.3574839006365382,-0.6370018155189063,-0.819876894568285,-0.4244080362024868,0.0775973821806934,1.3847633286845116,1.4287953795003514,-2.0229800214314593,1.1519194623488662,-1.2489665952185416,0.3701363535831846,-1.4844306157910792,-0.6663660438677065,-0.892388150453237,3.117103872053094,1.457704365744884,-2.714516899663984,-1.1848418747008094,-0.02339120051805583,-1.4852433267853697,0.8658774482310572,-1.0020961133872959,0.5061262244699056,1.0308097060218517,-0.18071923484632846,1.0109897116296345,1.3705416880393972,1.4111203179129945,1.8055350391092788,-0.008525690413334959,1.350880935304943,1.3246872486936683,-0.25431206533649525,1.3462123954005984,-0.8013456499749984,1.2680684947650616,1.260414605010649,1.722642321594816,-0.47582097166015946,-1.413506546302926,-0.9186267660999183,-1.163414988282606,0.7857875593657618,-0.05907794375182199,-0.6086705823408731,2.4770106811260244,-0.24806024543425015,-0.7953640336277051,-0.061849064889596406,2.3674756364620517,0.45864622639487945,0.20334569591495388,-0.194928762962426,0.9418610267046046,-0.2999346538458644,-0.16575467948173375,0.5263302256216501,-1.332616327676118,-0.42694069195937306,-0.2126593547030469,0.13779433419159984,-0.2640927797268913,-0.6078809346957724,5.356673730726955,0.12998724384772006,0.986580592839298,0.3533278014519762,0.8850144173467551,0.022181075943211472,0.18014444593116113,-3.179463535155259,0.8426825559966898,0.06714200065438189,0.675014661141732,-0.4753760471099032,-0.4753760471099032,-1.66136709161351,-1.2778478001128073,0.6670429053029312,1.4885420181570137,1.6769828654294856,0.17111342277656585,0.8887872169423799,-0.4228258754397061,-1.1605570800124068,-0.1630343174823228,-0.40603289341655696,-2.0971280954652833,1.2316290254726634,0.9400291256694377,0.8255197278071444,-0.55714837892691,1.9030433551281491,-1.0780033660618726,-1.0442981851556317,-1.0442981851556317,1.9030433551281491,1.4934341704483711,-0.04493604853269947,-0.804529123076685,1.084038527083074,2.3843828440438832,0.9012153639729874,0.5580020199035505,0.13839750193039532,0.06882177724720492,1.4614277150138024,2.1261372144915023,1.7252286252642977,0.8778013023251884,2.2865726990463258,0.08438082373686431,-1.6147715364024362,0.7028307361294823,-0.5294026670983131,0.18713777304055484,-0.140229033180484,1.360393928629884,0.17392611445789377,-0.6201540110278039,0.4233598803446536,-0.3264501152260758,0.3216295809364316,0.3297163637754714,-2.2069504542157627,1.0374617601564677,1.1329302791496854,0.6967627061724395,0.328035345260774,1.1062493944981777,0.7563635459604592,-0.8649412690975504,0.3681853186288339,0.6304256479533339,0.29001018573711906,0.7333742272099468,0.10108713159718168,1.0230134957408927,0.7277922481804138,-0.08033832110165265,0.9505073745761061,2.7644983010790956,0.6744331970769841,3.6367931351757217,0.48480754124035685,0.08185196782123058,0.999880458739192,-0.6798225192048059,0.5591441061760194,0.8675854349075653,-0.12177261281294356,2.5592317283164983,1.0705665501248356,0.16633736653459327,-0.3748331233850061,1.3448585819152181,-0.5313343321288778,0.11651713862581672,1.462344194293784,1.5808242923850626,1.1891740751332198,-0.2488489545388954,-0.21267627644531653,-0.05627361770010042,-0.2800179453895931,3.621613258052346,3.142529415612289,0.9565660229662653,2.023456475795391,0.24185355252493254,2.904768367571806,0.7190677367595575,1.4957575947832171,-1.5156450244343722,-1.0521143579759822,-0.8427179441591008,-0.6023571013081319,-0.3659049104128951,0.09848540590693639,2.469397565552816,-1.412423042052613,-0.7731257172202235,-0.08546394624945422,0.7540778926073795,3.183488933109428,0.7221198107790819,-1.3304710919703893,1.211347326781213,0.16218058355692389,-2.0971280954652833,-1.217352550346426,-0.08698848066491399,0.014081162427851401,1.2803801324011637,-1.5059954046543613,-0.6184336559976982,2.2855378948499534,0.058731655130549024,-0.5177753672040081,-0.3979279663936074,0.5739655920471355,-0.006539136026288256,-0.4868383470374731,0.1735097449015421,0.1783130648171012,-0.40649146726399055,1.3184839250020373,0.05705030898581782,0.8730125518836629,1.207910812926923,0.202389218720792,2.7654150292413906,2.7654150292413906,0.0514870023090257,0.8916730029295148,0.710944244750788,0.2734703363976269,2.7654150292413906,-0.4015735507306173,3.573444410510611,-0.06288766094827539,0.4004683726055431,-0.15199286540165147,2.0377244289355416,1.484512877024917,2.1930243680547674,0.5490602882950784,-0.2127629732144957,-0.19132057399973323,0.9835121180343842,1.9827773364774566,-0.3637371347756989,-0.23668930665169322,0.24611366947251498,0.32654942684372507,2.6657365050102158,2.1619073227998555,0.4603492912483354,1.74241999877413,0.08401111734488004,1.9665461474307926,1.9110412213912014,1.2256808758028346,-0.014484055970527128,1.5249838845657424,1.4911036241509834,0.6264987155361885,1.4356020632582287,1.2004721194554393,0.43885647790700805,0.19145266654501555,-0.44939539197590084,0.7759991067473081,1.1350216584793005,-0.7442733450269192,-0.05796957631832784,1.4861204697504409,1.1780698171127917,1.0605510538584866,2.202140224925242,2.0533076652170323,1.6785806305712414,0.33803708459635246,1.729464015890896,0.7540486566986977,0.07974973791175652,0.7216378873599801,1.6442999576310537,2.6161057486631805,1.6785806305712414,-1.9541703038756264,1.2106262063134463,0.7404222535014889,0.3340255578020401,0.959517422099188,2.084421180585974,2.147654201678569,0.858411706652275,2.1695853454703613,1.844964254176995,2.0226856393272694,2.5494270866754114,0.7210306255220518,1.5742718618328724,1.5088617961368134,0.6264987155361885,-0.025725097142231895,1.018559758862469,1.4465459553038205,-0.5036431530444831,1.6100060310731394,0.6343598936546773,-0.7041938607682152,0.017950984486187253,-0.5257446864334796,-0.8297140595498544,-1.2181745453329176,-0.5080340066631002,-1.7731147256353599,-0.31734194669998084,-0.27663191892922173,-0.5612128844574453,1.0084722262742827,0.23936886797165402,0.3576555746098505,0.10526454351506374,0.7643483798302079,0.2760386336237634,0.2189657487977016,2.5093422554048397,0.4724991797926092,-0.5107535354565965,-0.04912580556523805,-0.03492688963587998,-0.1085204135476986,-0.4773250993354784,-0.8397658160184718,1.1631225709403201,-0.09712976417366716,0.21794175350119138,-1.1383755372258064,-0.1771059079910059,-0.7464674757529195,-1.6853909177199604,-0.31376381777476003,-0.6385794949272228,1.056894232207142,0.28630097191997983,-0.8939255740471463,0.31029709121674404,0.5865081869923991,-1.3543555517935313,0.30779526766619364,-1.282015671255313,-0.0700943376643681,-1.5851486978010043,4.182842669866849,-0.2170535881782552,0.24088453803718243,0.5999944324855689,0.4725486967743762,0.2071174667034978,-1.6465853405073765,-0.9669091769193952,-1.501111126741261,-0.9762660634441966,0.5195959914399636,-2.75904260777231,0.9271069480282418,2.2171871639921394,-0.2025829659783257,1.7378000615798583,1.067707100354727,-0.576640992339433,-0.04233925641329431,-0.1818897193851033,-1.4873555008066663,-0.006925540340124765,0.4563435941575885,-0.7242595794301004,0.8304302171055468,0.4387260553097092,-1.2757914644391368,-1.5290867386601894,-0.2626135504827776,2.070365692358868,0.5331960046975729,-0.16282055283395636,-4.745736538424162,-1.4034599136370964,0.35582398413582117,-0.4163712529200856,-0.9668519601939074,-0.013379737083082445,-0.4857830426681116,-0.20453836647287607,0.9598893705979719,-0.8128286234754133,2.3992168236414826,-0.07295824500584443,0.011149666119039696,-0.22392765406346793,0.7918513316708692,0.52300892271154,2.1215740404216885,-1.157276368516773,0.6020978993781161,0.9000049078438644,0.22731499722651594,-0.4346533572688286,-0.8513505083771813,2.035027398899235,1.288727295018037,0.6688187644592078,-0.0936890803734835,-0.3561988716892462,0.33694195426697854,1.1895302668638703,0.5160164157754585,1.129373010045438,-0.5707096247557442,-0.5884848750178318,-0.3399089822807047,-0.3753770989088356,-0.8798422287954057,1.45023307226774,0.07642120303432032,0.5013382829154192,0.11048121232278532,0.4537421590818609,0.20200024614223414,0.6343646492043808,-0.08717346737106638,1.4794699489128176,0.8387145069316488,-0.3169694723319462,-0.2404416670160163,-0.23576077229830555,0.01662734956050886,0.5924834074871527,0.9343533657365002,0.22596308245016147,1.5798990707711058,0.6812023066863414,0.007494170377503449,-0.2198698534125335,0.8701207399890866,0.869946786832129,0.3230550523769507,2.1511059244963113,0.9633637903308369,0.6066575551185729,1.2269564768013614,-1.8122042277950732,0.08787057604926737,0.8332502936459698,-0.7475921899452538,-0.6866579546089593,-0.7230051881664976,1.1126497664062058,1.1374100371628875,-0.0466094927936416,0.9990311571410516,0.7834313726921324,-0.09733094963792585,-1.031812543606148,2.5871886020742,1.8065569209930623,2.7340547253796506,-0.30383739255801656,0.9603151908022791,-1.120397033674669,0.16707753192409314,0.9113947235415034,-1.2374046091850368,-0.35406259396911277,0.8657837704481569,-0.5053635169605886,-1.0780033660618726,-0.7510782829640803,0.44590717041079636,0.8303158789113092,-0.6998260341827418,0.8914362916542241,1.7033292046487192,0.44336341845099575,1.2043533212807354,1.9148903477945551,-0.8517394572227315,0.03406911063981303,2.3341876968580024,0.28502706868108574,-0.17791320248466838,0.6834113876152877,-1.0509536782886757,-0.6960555498813136,0.7347217424607272,0.02379784308471438,-0.18066682227513745,-1.0400006854239132,0.011847971740468819,-0.6042867067593836,0.19571085386751685,-0.640633558826094,1.4109100744204668,0.7495469731582491,0.9552166257126906,2.4510226695693773,1.1670732550338678,-1.2352907829762205,0.9220131034220316,2.1748182061545975,1.8423241445206116,0.7126174765603148,0.5372042995401746,0.5237296567999398,0.9948053869528395,0.06122196280817779,2.1482759883367164,2.2021262826940333,2.0326198978602696,2.0916615102692755,1.634682727484239,1.312427496605521,2.366649802480911,1.9804950395017764,3.1053679146043747,-0.08335442900602182,2.5329131490146324,-0.7023144652057663,0.5082334733377631,-1.2222716866254133,-0.13616703780747136,1.2627579957290729,-0.5390002275249639,-2.7033232326249097,-0.7805684141122973,-0.415070655739824,-0.4969135280511368,0.6583078669939222,2.2091910070294656,2.4073023348792284,2.319905161100785,1.7764244580554946,0.9276550558007567,-0.27533212946974,-1.1436680989307269,-0.5586084105675992,0.8666043355460348,0.24763354883187236,1.323948657082685,0.8477811630564014,-0.762950956287775,-0.7074826813069328,-1.9706893613275944,-0.6938493088169824,-0.07922710185362643,-0.8300768366009299,1.2586311172897635,0.4538604992227806,1.322197682575987,6.174641604836998,0.2642790813960518,0.9339842015674862,0.8304302171055468,1.2237201666192976,1.133978838693316,-0.7125985735121125,0.12058125570081685,-0.3332861843521703,2.967673271099528,0.6873750157577742,3.108808136611855,0.7638139312997771,1.0164596812663749,1.466450802413865,1.0649991252371964,0.5251368641490426,1.7452395205111704,2.1158277834717105,-0.12317818301859593,-0.39514537607834244,0.04111555590757083,0.43497141035140674,1.4744997120327095,1.3218047740150505,0.4977948285617438,0.9900963706728073,1.4641548354171325,0.5710648494332464,0.9440912226298162,-0.3254066219072396,0.5728436856810877,1.3387342330793455,0.2977206402940053,0.12417345078800013,0.7110484439403307,-0.25133820537758794,1.020191653246316,0.9726203967305538,-0.048192839006274496,1.6507755513641131,1.1466738065516968,0.7517740424827696,-0.4875252316364411,0.996716454816692,-0.30369556789215746,0.6143823490340031,0.6239216159698012,1.3529556125638236,1.9354110831507918,1.297142831986237,3.376086597705622,0.5706387754775033,-1.6901133854393189,-0.6118959671349542,-0.6118959671349542,0.4595917726276352,-0.46481913451670925,0.8663488217080392,0.9702114083775285,-0.676302824199438,-2.0229800214314593,-0.5391169825956217,-0.794008838444485,-0.6036407771762833,-0.4444796605382944,-0.7646261588688363,-2.5646472968040257,-0.09200978529912321,-0.6592635133305926,0.10292245373917924,-1.666291276465484,-1.404957368164417,1.7205431453636375,-0.1630343174823228,-1.0355573746304039,0.5784494654118543,-0.9846985820555375,-0.17505112082980331,1.3261989309075084,-1.8901043511651354,-0.7868481095759068,-1.0156475901751205,-1.8435075423484126,-1.0037820577967829,-0.9763595807216188,-0.5892037736325378,-0.28607780074594485,-0.9507568692982762,0.10748896737223027,-1.2048764529098712,-0.8246127815934348,0.019415503087972744,-0.9751197791294383,-1.1869941198576281,-2.289030535258839,-1.4340855356522715,-1.3547837643233955,0.7201159791570375,1.0814084193885687,-1.07901496358614,1.4201797395670273,2.519183627881672,-2.777368470109053,5.356673730726955,0.3559082883047066,-1.6275678244574108,-2.5423592221621796,1.366791841582578,1.2360447000498602,0.08265644354333809,0.08635714002318626,-0.6900580499565651,0.8857342316288856,0.6673817552369645,-0.8582440723464626,0.11085884491276723,-0.7026506305857908,0.04663349486028049,-1.4037711855225963,0.599332196285286,-0.9143606148378457,2.133829236902907,0.37944475973816244,2.328609685984561,-0.031221991517547152,0.5239981953485708,-0.10454060048386346,-0.05151506975955597,0.8357290172529285,1.4630611184526492,0.09646525574269108,1.5588453564877958,1.31129114964098,-0.5160023647675926,-0.001681028134765979,1.0726151431947701,2.68457374719452,-0.07136159782797871,-0.298711375579808,1.046518462709309,0.5922375013383103,1.4109100744204668,0.8279411886932183,0.9321096224006198,-2.176308465761316,-2.176308465761316,1.0718707796012776,1.8020690885292128,1.6820264686337436,0.18608989474886664,2.56997442651202,1.4126441714147382,1.0095808021906372,0.29035989365400855,1.047817281411212,-1.7069454566974627,-0.11129811236486553,0.8610821405562833,0.6513115110726543,0.857781616678438,-0.04131170302450679,1.7520871483528846,0.9434990799304694,1.7753032531415778,-0.30091976494913025,-1.064425498148541,-1.0632444954435327,-0.06851018864908792,-0.24169018159523267,-0.5973854069870561,-0.07645748159350504,1.0954372657186424,0.2981217571580464,2.9392450615145136,0.4621398874562955,2.081384177317819,0.20529230732961806,0.021753106873134524,2.2725885318254755,-0.24788725263430117,4.089328063827412,2.0893429988331187,1.159610803577787,0.6378990281643776,-0.005140828602782173,1.1919430585688349,1.926518911456609,1.209411086057293,2.0806101966414086,-0.3009590923179211,-1.1545788921636204,0.8645232156019913,1.3908104727647295,2.108172184507635,1.1035702259056597,0.3863899078425855,0.3980276928471887,2.2385109825321763,0.8746084681778661,1.8674486240617116,1.3646110270940353,2.2284612245964697,-1.4674796576295002,2.043056379026539,-0.8658834400355913,-0.8246252664464121,1.9319965917211328,-0.49790203649482084,0.6744012093933422,1.4825831710107396,-0.060729327188333154,2.9271799477899147,0.9598781178050392,1.3089076600942935,-0.7731161826195049,3.9633520829531768,0.03362784939651547,1.6609152125096383,0.22925149849844795,4.417231373138001,2.116905147439793,1.070910751105069,0.5944325866301874,1.3292428989372689,4.139408025809829,1.1434366870982822,3.150293885873998,3.343603536897616,3.369898775466564,1.3035624814720164,1.7324041610402172,1.7151379155982356,-0.6164881376617701,-0.06220153145534386,-0.4916287573732495,-0.6078987208516743,-1.151500192681999,2.8735376263886323,0.37656679839206303,1.750718810594959,0.48050255395140345,1.6039984052472638,1.8974505128869559,-0.3795230084519213,1.919225639416047,-1.668326162360847,-0.3897860744864842,-0.319782963292187,-0.11090840573242525,-0.3105957120954442,-1.3371901052411905,-0.7084489368541695,-0.14969350925245847,-1.0307917273498564,2.342912475917895,2.8842982575237945,-0.703207323006693,0.09212305710368887,-0.29009377988309343,1.524345422632862,-0.037952947969137174,0.6297938699471186,1.097592048815333,0.5346349872538363,0.5464790351288094,1.097592048815333,1.287602898854136,0.2243078490313651,-0.5034152867349755,0.056518102073643044,1.6175709482655531,-0.03793544910425192,1.1108848236594777,0.002684181464332734,0.44420354222941,1.4243365050602457,-0.2474056584927533,1.5914871071641477,0.8379432459563253,-0.47249010031272537,-1.1038678537093367,-0.5992393650137462,-0.11812428976112528,2.5291938066880744,0.47864879955713013,1.5674395640228462,-0.8314002016154656,-0.9117813691499352,0.4919453802456578,1.57436169269869,-0.17743403352963036,0.11453352922496093,0.38377042741533474,0.1241016378395887,2.597332725299867,0.7933459963367192,-0.2783512860323476,0.7047434843009692,2.2984055266343293,1.1192675080021952,1.1010897028304891,4.225268163748146,1.4940701773059843,2.585479956231263,1.4018759687721571,1.6786474855972453,-0.22951795072195705,-1.1655825125405657,-0.6544333375927487,-1.2550557490797645,2.4156030651875753,0.9266323889500576,0.8837904140454386,0.5729532840419006,-0.7741028366403038,0.3726326961951909,-0.655166946952474,-0.12793971415345828,-0.41205066076612346,-0.2590713583881553,2.1338418907094674,1.6279381716020234,1.3656903754166632,-0.13014829805079503,3.551184350842573,-0.8349328524645308,0.03261254607213319,0.8772424805296374,-0.7203647734213791,0.7453936657001139,-0.3962511737125876,0.9339842015674862,1.3311990650621421,-0.39345615902402986,-0.01044348003191423,1.158309037052832,1.0377876196552738,-0.21163108740253395,-1.3462704787663993,0.06538815026640421,-1.0240638542933482,0.7485133713052334,-0.0316060075457459,-0.708286380507894,0.15986216546225984,1.8931629333030626,0.24892796574954681,-0.20090726619496987,-0.012975290217414915,1.16026692803229,-0.41708109584229586,-0.27938610075619774,-0.06769302128552693,-0.238608737314622,-1.9040104538747116,-0.9613278196418431,0.9685939814128366,0.09260439884161678,0.6957002209799606,0.5786780680220573,-1.3074940335881593,-1.1334991660459415,1.1672127576074152,1.5811985041918197,1.8121525336566515,-1.6982957283774869,0.3378639245194666,1.2533522211269852,0.009953978197259485,-1.3005983266631684,0.4240986512885771,-0.20382075522988816,-0.2692841409570504,0.15409810516223388,1.3054826309413001,1.2605859449251235,-3.404856483462597,0.5714601669722071,-1.6161442281579226,0.3745472190853155,0.8258378103791216,3.3579323338677294,1.160914399411591,1.4500940129154758,-0.6046307048454816,1.958430358824333,-0.6368780777468221,-1.6161442281579226,-0.5380331113361599,-1.2917923509638896,0.8416510753263036,-0.9783889104024167,0.6514135802946043,0.3963726796677894,0.3275150070432153,0.34538412545596925,1.1254840115545546,0.6271201339656858,1.1830678506450818,-0.034291817813282326,1.0630572515183916,-0.4672487360905536,0.49795296729923977,1.0506820993455537,0.42024333216260207,0.17431934014638942,-0.43498666234542666,1.149841369747996,0.140856952622749,0.16031453542964244,-0.01223922923100147,-0.4643846154319359,0.7432875479718293,1.0782185358031824,-0.1000213491732628,0.33618437642185695,0.5227732994178422,0.8823311594942027,-0.2305019585075885,-0.9611901327591171,0.7150146733176431,1.6732979270579813,0.18767515519877176,-0.6352384706438332,0.6001993700096936,-0.16342200816106017,3.538952009740767,0.6526011035331205,-0.15890970032891832,-0.26927813603081174,-0.696106711363532,2.5931880252022195,1.578750013648235,1.667941025824961,2.7931769816701184,0.7048475539956958,1.5175507662904437,0.722286127921987,0.19546819231302412,2.313525538676217,0.47919997773350603,1.7710628069503973,0.42453089486858614,2.3383588804023048,0.5943960528921115,2.7463992320994732,1.244087831572179,1.1330704480995974,-0.25613777444762953,-1.7713706940371536,1.2169166867702845,-0.14834874407880516,-0.18669890596600694,4.250717996259497,1.4471061265037157,2.98987148807446,1.6816819386435056,1.5235512355404597,2.6808158795184878,1.9689293667352392,1.7635898101996224,4.860570908737348,2.5435857250962575,1.4460017433165824,2.7781858309837544,1.8833643883624602,1.2046334063176294,2.8346137779720935,-1.0769035456669738,1.4512900561454742,0.4529578324363935,-0.5456677398938214,-0.09861379271188889,3.907556367943323,1.539936005245404,2.9362129551670235,0.1427780868324615,-0.11050737713087165,0.1539688054037715,0.1287463644070931,2.972404398810679,0.3668727161064681,0.2061282978578561,2.868388638321909,1.4778016600209405,1.071314164811939,0.45303773161355904,-1.7088727332570184,0.42385938795160155,0.5470353432428192,-1.9162625781567266,-0.31558086721695183,-0.32560510194564596,1.1125739252970952,1.553340320739752,0.9768423617689292,0.6938127309865671,1.8000990056407589,-0.7868481095759068,-0.033876700731771035,0.4572801445055955,0.3631487114879983,1.3527285041814796,3.397293118850825,0.6438134546568495,-0.6428380192982838,-0.04769900219847175,0.1131303079993091,-0.14839419802922635,-1.217352550346426,0.028627366947360608,-0.6123502725066337,-0.8899000126701888,1.2281232612877007,-1.1894658201003887,2.1326027691744205,-0.5775322683655753,-0.24711495495015262,-1.6082553223208849,-0.5530206074724459,-0.20168881648784004,0.773427540540831,-0.4666439835370491,0.02686321748141378,-0.4810928454979005,1.4253633955035367,-0.8843065138045929,0.09695268368442594,1.1332394503581011,-1.2659224906017008,0.32443571305459734,1.5813011166621276,1.5268714228070999,-2.8066022188841915,2.408122592681134,0.9484418651043839,-1.516088518148676,-1.2444964454416005,0.7694820763816419,0.29765176761355766,-0.9521319600531428,-0.4082465080302198,-0.25590048687437245,-0.4167040218624441,-0.13051567004769377,-0.17658853055072252,1.9755126846533753,0.15931171297954533,-0.9116283116913616,-0.7400862925241642,-0.44088125989777466,-0.46077105902304205,-0.733787893884044,2.1592267482936527,0.3241362964826768,0.41651082024415625,0.38038629495006626,-1.0432536373771057,-1.1302850973588972,1.0729366892842112,1.186746491778904,-0.09787723287122777,0.9551858401036828,-0.4878189473531966,0.9856920711268817,-0.8149374744895785,-0.25431206533649525,-0.04852900185098233,-0.06987223459899108,0.7386691977573756,1.4287953795003514,1.90954805319623,0.9372805765926766,0.39647355496114883,1.0782185358031824,1.7104359633301938,-1.07608061538657,1.1280628312448473,0.4097492999901559,0.38324353675719264,-1.9476694734032123,1.7885919916609645,-1.5301979615118504,0.9593455443176369,-0.7689064086042134,-0.788260800797411,-1.0378167337749635,-1.8414427521741925,0.6404121680936745,0.8069184758134816,1.158309037052832,0.307200098410542,-0.3789714591688192,-0.06430342283874459,0.2612555341543275,-0.9538399018431516,0.16734737772035266,0.9242461713853906,-0.05360550806164269,0.3415399554095719,0.007100892570603022,0.8984977325242673,1.964096528891251,2.51646158301718,-0.6066391123531032,1.077898238852105,1.1544363878501973,2.7541073575499633,1.7418413308704173,0.04956016846933739,-0.1742399739009999,-1.7531754298804676,1.3143200521370035,1.3143200521370035,0.6703637581191535,1.7110540730503738,0.10784085208698467,1.2542762635592795,-0.34788202386607325,0.41404252481150333,1.0004287659534359,1.796708063991961,3.143913375223822,-1.1116221067784027,-0.6189827651924188,-1.3798988002254204,-0.49238730338260406,1.2950925081244777,-0.09963868490337198,-0.41735801007320555,-0.7244797910708725,-0.5943363395497931,-0.2677849186075846,-1.265700371238995,-0.9220319844552591,-0.5776187521365354,-0.6546338779550176,-0.21772704941417723,-0.8721826734262641,-1.1007638050635076,-1.4600891325630756,-0.20080593705437888,-0.6907025231386815,-0.45157317803055413,-0.1222964702622586,1.7656073231912084,-0.2291055972145258,0.21339226106058967,-1.266635819474252,1.0171464983610423,-0.5318299290734716,0.7687441306237368,-0.034417357547168646,0.41471677044490246,0.06705368671889401,1.6366399247846162,0.37379181574633696,0.8772308389143759,0.577407505145152,-0.033876700731771035,1.2557251747860176,-1.43283573410245,0.8103071006118514,0.45516956624725263,0.7539553992722567,-0.0013286093930818007,-0.33009108584157604,-0.12647524360807433,1.826781510991948,-0.5388888269322245,0.910622434109218,-0.666287670471986,-0.23693081583585307,-0.061587511014840675,0.31274501972477803,-0.49339359122952026,-0.522614631161522,-1.3316790529403306,-0.6905071116381672,-0.07924611815583998,0.025267352008493324,0.4661685886611896,-1.0382878469478998,1.1069164994379164,1.572456986775428,-1.603296418539748,1.4905880170560655,0.11313434567915501,0.8357318223492567,0.23649567720627387,0.9295325995547599,2.0479811161357846,-0.23269578598383325,2.2985368644593827,2.824140331223053,-0.7005080442030098,0.7062507829186505,0.46055529879220924,1.5229085406668925,-0.0061690525817483305,2.5555271096337537,-0.3105806518722067,-0.3520106300040871,0.0339342717164886,0.6871043550364108,0.7295867598289849,0.9876790032721342,0.646336100434189,-0.9315033732033298,1.1900978929949908,-0.48866988748734863,-0.07637124436548987,1.7456786075484754,-0.18086917877974876,0.9426886413454793,2.2013790657473535,2.6469219308196514,1.9458504206879137,2.102196519470284,1.1122343893912494,2.3226843245668896,0.9679398180994189,-0.6262071670997327,4.250717996259497,-0.1124133237887624,1.2133221922949597,2.4753684213318565,0.5985264053664442,0.3404823459084706,0.630357234135937,-0.36778634087485834,-0.7947512694627731,1.1449444626756868,0.11164920861979152,-1.9206178037940849,0.06348791978922771,0.5541874649154283,-0.7255649725514275,-1.9328291946207679,-1.1997380468493655,-0.07516694100046556,-2.0971280954652833,-0.8186320649774507,-0.44421528904952856,-0.5899166766899339,0.440866341566459,0.01705252741177265,-0.5399233788681506,2.8976992272523265,1.192200676677106,2.544094524654428,0.5285731748296899,1.4432278667812342,0.050243594801847785,-1.3461251579559286,-0.7920501445906162,0.21108641213493953,-0.23226868262967054,-0.5437981343344664,-0.17411944869504722,0.16777453157231573,1.4098461667435158,0.31318900570282876,0.5732602481398313,3.1736814135797515,1.3127404846925528,1.272723805680279,-0.5145717772358096,0.24307493122091658,-0.1585775105985277,1.9227241702209885,0.6036790080712278,-0.6222444925271251,-0.30096436882634153,-0.4039811728164844,1.2516418310338002,2.8560558637513647,-0.621045240999745,1.3803322309008972,2.1749792235527226,-0.6747035127448935,-0.1421352416392362,1.7965079680922225,1.883408324751397,-0.1641155247834368,-0.060022703790050286,-0.23314208295129749,2.0485107153447326,1.586858753336133,0.5292434931872463,1.586858753336133,0.2611104975600722,-0.00875662858792498,-0.44453725854011267,0.5625625018424532,0.6759513802958059,1.6248602334374886,0.5354522951224667,2.727309657487454,-0.5313343321288778,0.35012763415170467,0.7360982966748623,-0.501908074254704,0.5989813664115926,0.2056491315038151,0.13399979109813207,0.7540143325118167,-0.11549200811159202,-1.0470164109495088,0.7670890618479136,-0.2861367565363768,0.5161665468212471,-1.3643096613977572,0.6756777754327965,2.4032567408709222,2.257492706182018,1.4501979988019793,0.6603320909358935,0.29655956121355376,1.3975907417153852,1.509073905536407,-0.4965758460897781,-0.8964588828278881,0.6525061600907581,1.5343642003160278,1.297875689578987,0.31457024964321917,2.469654676382705,1.746018677953411,-0.45757331133693546,0.08438082373686431,-0.3831087248742466,1.0340068245328382,0.39550672755849964,1.987882357440914,1.738859244073755,-1.2073284147918106,-0.906821203051047,-0.25658296854618184,1.588349335320438,0.9873091388423271,0.7884072949979226,3.469588342078501,2.095874035362684,0.740323128815688,-1.0118018224225498,2.097056507721675,3.203622237055564,0.6062847954799842,0.8747597110900829,2.0390501675187935,0.9976012166592498,1.4730902508464527,1.0304124254147202,0.5250752687492857,0.6062847954799842,1.276470191505567,0.2153870471608625,1.0197009048685863,1.0419640647701554,0.5538235566338404,-1.8862546319075348,0.6852428998849098,2.680138155371817,3.142907440283166,0.33084631114146335,1.0304124254147202,2.620449540637251,1.738859244073755,3.356626009844668,-0.252949778197205,0.6641334616569027,0.11626825588326331,0.7975676405610778,1.9926246227299536,0.8675752702428441,1.1701989199330147,0.750882154943188,-0.8762685025917875,-0.8928993632384545,0.9512381364146119,3.963974382086263,-0.07704848183765535,0.9761676831805572,3.2617846356132403,0.4455689330680817,1.11003605084921,0.5582661349933346,-0.014374676538761429,3.568645764689396,2.593361992848548,1.099848991857962,-0.19778060250929594,0.26133728946393325,1.3499822216352177,0.018735308694947245,-1.1616060715643743,-1.3005983266631684,1.256226647971587,-0.15563847662520422,1.429884371223242,-0.06917174894261782,0.2212267311286413,0.2391336593238522,0.3145795911090591,-3.145780057036705,0.4169907163148579,0.8387145069316488,-0.8719070207100291,-0.7600738247976533,-1.0692760496881022,-1.1487591314441254,-1.887782458465549,0.9259380953902394,-1.5546764712724606,-1.0988707957317587,0.8188246439878895,0.8047595571112293,2.8664658453137357,0.21613842233179434,3.660829617315144,2.8723019150274505,3.3200179376408907,1.3846816583107209,0.39649051142793024,-1.0129185798213365,0.16223816802188334,-0.6332953454114674,0.22848236994667126,-0.2914427375342735,2.6169209394386805,-0.6642716936592228,-0.16794028201825695,0.4717891494826491,-0.6074710213081915,0.5380172237373404,0.35648820125347164,-1.1155279717415498,0.21661857353672206,0.15136655571462077,-1.3250438733992733,-0.6202282118488163,0.9565660229662653,0.4649350812056378,0.4097980296343331,1.4697313399591632,2.4869196563230473,-1.7753200168918708,-0.8559578795141499,-0.2538304850147008,2.080402316897987,-1.7920115212407897,2.679245703154718,-1.0399744245957758,0.4799041063861941,0.20355028721096197,-1.1857668466972004,-0.42620388852462826,-1.3124021897657854,0.007727162678114234,-1.4760722921213583,-0.5911699250184694,0.9393284648253281,-1.5039024884292564,-0.9802362183918465,-0.05545020020193882,2.1992853249747233,1.318561974662171,1.774015725594423,-0.08752888115281102,-0.06718085194677499,0.4399284485759628,1.1776405947425634,0.843494589734439,-0.0005829156739705759,-1.1454374294037541,-0.5229389384441765,0.016190292095496092,0.5844031262863175,-0.596045883084806,1.8725126373606027,0.9685079242678012,1.5366924696742437,0.5981294324782771,-2.6342816314754836,-2.109213501313923,0.8444866387161228,-0.10989320459652732,-0.3989967777301789,0.8030199554639902,-0.6243243646079139,-0.16356520993638965,-0.559692657564882,-1.5864180587112457,0.3559082883047066,0.216084590477651,0.5538992635895117,-1.6175520023027963,-0.7833480740763217,0.00030832632548264386,0.12215604261026128,0.9785813632699851,1.3958428483275007,1.4201797395670273,-0.42354596617813095,0.051702364307048526,0.15031868737410806,0.12860751161057357,-0.3936145921389447,1.5359157996185022,0.44948718301286433,-0.7126532790636048,0.6552131716677564,-0.5052749669056216,2.108446905551141,-0.16282055283395636,-0.2843583371697736,-0.2943703777904647,0.449461561537178,0.19417983413188442,0.4363267024501557,0.43919252791185015,0.748157152307417,-0.4754881365625549,2.419879833610725,2.282205218825288,2.3593405474445954,-1.0472334565888606,1.292718573445256,0.5764356901943684,-0.07874154076081474,0.13638193147920094,0.6036494761538704,2.385655600113642,0.2598638572228513,0.4330553871518901,0.7121592587666581,1.381324056002359,0.8638346826665033,-0.9160697498519539,0.9967407386970375,3.3261563320984107,1.4129465833456323,1.2513757551033842,3.0100003649383047,0.043825358878422864,0.7909741984371018,1.668363351785434,-0.5371461875359076,0.009701213231985108,-1.085572607331194,0.008342680801117929,0.502990721390977,-0.6691724398317288,1.6279381716020234,2.31537739080146,1.6043171629045017,-0.05434851515090207,-0.3582887067285046,2.256777689497229,0.7211559056592578,-3.145780057036705,-2.3095328354387106,-0.43768596254691533,-0.4699584553025897,-0.3186677069798971,0.5060744868494198,3.8214239467530873,1.0125682402948222,0.5960312551674624,0.45593728916431775,-0.3570200474793879,0.8700004911381994,1.1767521681791289,0.3412395905481,-2.175700239185084,-0.9959357886479142,-1.3490590657240478,1.2797314775280004,1.620688444627245,-1.2883335773129436,-0.035871425488016,-0.4089193802882703,-0.4952659762165151,-0.36535645515485093,-0.3150168568841179,0.057829701750006235,1.6743549863583258,-0.5600573234967791,0.6593980083327686,1.3993844754358338,1.777996123397672,-0.43768596254691533,-0.43768596254691533,3.469588342078501,2.2385109825321763,2.0809600255978196,-1.9791370645990547,-2.0029180949075713,-0.12333651371750312,-0.8817968918573428,-1.5828710092043046,-1.9398078358934618,0.9152333339446999,-0.9551502916361904,-1.0930522751124994,-1.2938011755473748,0.2623830596627309,-1.540448286428395,-1.7578367684647613,-0.2713983278210202,-1.7482635760769203,-1.3083391672204419,-0.929577717448457,-2.078708228939912,-1.5005295644482468,0.9250444815576693,-0.07584149358454398,-0.9777388773112229,0.7703149566627541,0.4395452128778396,-0.5421134751123177,0.8400923808716692,0.19762583667250183,-0.07193753618578155,2.271577736457405,1.644761472884637,-1.3615500396910354,2.030667863852739,0.9732317633382922,-1.0410097475867512,0.34518796753556996,-0.5103981939741481,1.608626665407688,1.6888233407545954,-0.949988177859627,-2.183820298766813,1.7451781867570393,-0.7663731750724158,0.3697780650692328,-0.906499667432175,3.7987454637539746,-0.2779417739668331,-0.153053166794184,1.226469272279276,1.5297977391694741,1.2590945946083194,0.6008829405948319,-0.0015772804424285833,-0.6308289241364201,-0.3262234940047858,-0.7048116869139954,-0.16764948913038816,1.037044422965505,0.12679357503967928,0.5938972407937846,0.3559082883047066,-1.7142074536630514,1.272533016190913,0.5518251752319718,0.46577417054753706,1.5359151072116808,0.9420395438728196,2.8896588964468215,0.07754728261347116,0.7016476535083122,0.6771021488261978,0.1045800207404824,1.2564977147850804,2.076223126652891,1.654035532106133,1.2195039928688836,0.9895682645408064,-0.2941345493835405,1.1629170834709253,0.19157243139434793,-0.7299335199557178,1.5287068641376649,-0.34388394793164484,-0.16155351303111723,0.031789863198924934,-1.0479223954738106,2.154046286106798,0.03362784939651547,-1.2406466665402167,1.1651731832528467,-0.2882326565193232,0.377145689117742,-1.700621250745645,2.2641091649516696,0.8121061982916165,0.12652175728991227,0.4165070183724427,-0.6682928223683717,-0.6687762062702766,-2.969740528792513,-0.9713639496773534],\"yaxis\":\"y\",\"type\":\"scattergl\"}],                        {\"template\":{\"data\":{\"histogram2dcontour\":[{\"type\":\"histogram2dcontour\",\"colorbar\":{\"outlinewidth\":0,\"ticks\":\"\"},\"colorscale\":[[0.0,\"#0d0887\"],[0.1111111111111111,\"#46039f\"],[0.2222222222222222,\"#7201a8\"],[0.3333333333333333,\"#9c179e\"],[0.4444444444444444,\"#bd3786\"],[0.5555555555555556,\"#d8576b\"],[0.6666666666666666,\"#ed7953\"],[0.7777777777777778,\"#fb9f3a\"],[0.8888888888888888,\"#fdca26\"],[1.0,\"#f0f921\"]]}],\"choropleth\":[{\"type\":\"choropleth\",\"colorbar\":{\"outlinewidth\":0,\"ticks\":\"\"}}],\"histogram2d\":[{\"type\":\"histogram2d\",\"colorbar\":{\"outlinewidth\":0,\"ticks\":\"\"},\"colorscale\":[[0.0,\"#0d0887\"],[0.1111111111111111,\"#46039f\"],[0.2222222222222222,\"#7201a8\"],[0.3333333333333333,\"#9c179e\"],[0.4444444444444444,\"#bd3786\"],[0.5555555555555556,\"#d8576b\"],[0.6666666666666666,\"#ed7953\"],[0.7777777777777778,\"#fb9f3a\"],[0.8888888888888888,\"#fdca26\"],[1.0,\"#f0f921\"]]}],\"heatmap\":[{\"type\":\"heatmap\",\"colorbar\":{\"outlinewidth\":0,\"ticks\":\"\"},\"colorscale\":[[0.0,\"#0d0887\"],[0.1111111111111111,\"#46039f\"],[0.2222222222222222,\"#7201a8\"],[0.3333333333333333,\"#9c179e\"],[0.4444444444444444,\"#bd3786\"],[0.5555555555555556,\"#d8576b\"],[0.6666666666666666,\"#ed7953\"],[0.7777777777777778,\"#fb9f3a\"],[0.8888888888888888,\"#fdca26\"],[1.0,\"#f0f921\"]]}],\"heatmapgl\":[{\"type\":\"heatmapgl\",\"colorbar\":{\"outlinewidth\":0,\"ticks\":\"\"},\"colorscale\":[[0.0,\"#0d0887\"],[0.1111111111111111,\"#46039f\"],[0.2222222222222222,\"#7201a8\"],[0.3333333333333333,\"#9c179e\"],[0.4444444444444444,\"#bd3786\"],[0.5555555555555556,\"#d8576b\"],[0.6666666666666666,\"#ed7953\"],[0.7777777777777778,\"#fb9f3a\"],[0.8888888888888888,\"#fdca26\"],[1.0,\"#f0f921\"]]}],\"contourcarpet\":[{\"type\":\"contourcarpet\",\"colorbar\":{\"outlinewidth\":0,\"ticks\":\"\"}}],\"contour\":[{\"type\":\"contour\",\"colorbar\":{\"outlinewidth\":0,\"ticks\":\"\"},\"colorscale\":[[0.0,\"#0d0887\"],[0.1111111111111111,\"#46039f\"],[0.2222222222222222,\"#7201a8\"],[0.3333333333333333,\"#9c179e\"],[0.4444444444444444,\"#bd3786\"],[0.5555555555555556,\"#d8576b\"],[0.6666666666666666,\"#ed7953\"],[0.7777777777777778,\"#fb9f3a\"],[0.8888888888888888,\"#fdca26\"],[1.0,\"#f0f921\"]]}],\"surface\":[{\"type\":\"surface\",\"colorbar\":{\"outlinewidth\":0,\"ticks\":\"\"},\"colorscale\":[[0.0,\"#0d0887\"],[0.1111111111111111,\"#46039f\"],[0.2222222222222222,\"#7201a8\"],[0.3333333333333333,\"#9c179e\"],[0.4444444444444444,\"#bd3786\"],[0.5555555555555556,\"#d8576b\"],[0.6666666666666666,\"#ed7953\"],[0.7777777777777778,\"#fb9f3a\"],[0.8888888888888888,\"#fdca26\"],[1.0,\"#f0f921\"]]}],\"mesh3d\":[{\"type\":\"mesh3d\",\"colorbar\":{\"outlinewidth\":0,\"ticks\":\"\"}}],\"scatter\":[{\"fillpattern\":{\"fillmode\":\"overlay\",\"size\":10,\"solidity\":0.2},\"type\":\"scatter\"}],\"parcoords\":[{\"type\":\"parcoords\",\"line\":{\"colorbar\":{\"outlinewidth\":0,\"ticks\":\"\"}}}],\"scatterpolargl\":[{\"type\":\"scatterpolargl\",\"marker\":{\"colorbar\":{\"outlinewidth\":0,\"ticks\":\"\"}}}],\"bar\":[{\"error_x\":{\"color\":\"#2a3f5f\"},\"error_y\":{\"color\":\"#2a3f5f\"},\"marker\":{\"line\":{\"color\":\"#E5ECF6\",\"width\":0.5},\"pattern\":{\"fillmode\":\"overlay\",\"size\":10,\"solidity\":0.2}},\"type\":\"bar\"}],\"scattergeo\":[{\"type\":\"scattergeo\",\"marker\":{\"colorbar\":{\"outlinewidth\":0,\"ticks\":\"\"}}}],\"scatterpolar\":[{\"type\":\"scatterpolar\",\"marker\":{\"colorbar\":{\"outlinewidth\":0,\"ticks\":\"\"}}}],\"histogram\":[{\"marker\":{\"pattern\":{\"fillmode\":\"overlay\",\"size\":10,\"solidity\":0.2}},\"type\":\"histogram\"}],\"scattergl\":[{\"type\":\"scattergl\",\"marker\":{\"colorbar\":{\"outlinewidth\":0,\"ticks\":\"\"}}}],\"scatter3d\":[{\"type\":\"scatter3d\",\"line\":{\"colorbar\":{\"outlinewidth\":0,\"ticks\":\"\"}},\"marker\":{\"colorbar\":{\"outlinewidth\":0,\"ticks\":\"\"}}}],\"scattermapbox\":[{\"type\":\"scattermapbox\",\"marker\":{\"colorbar\":{\"outlinewidth\":0,\"ticks\":\"\"}}}],\"scatterternary\":[{\"type\":\"scatterternary\",\"marker\":{\"colorbar\":{\"outlinewidth\":0,\"ticks\":\"\"}}}],\"scattercarpet\":[{\"type\":\"scattercarpet\",\"marker\":{\"colorbar\":{\"outlinewidth\":0,\"ticks\":\"\"}}}],\"carpet\":[{\"aaxis\":{\"endlinecolor\":\"#2a3f5f\",\"gridcolor\":\"white\",\"linecolor\":\"white\",\"minorgridcolor\":\"white\",\"startlinecolor\":\"#2a3f5f\"},\"baxis\":{\"endlinecolor\":\"#2a3f5f\",\"gridcolor\":\"white\",\"linecolor\":\"white\",\"minorgridcolor\":\"white\",\"startlinecolor\":\"#2a3f5f\"},\"type\":\"carpet\"}],\"table\":[{\"cells\":{\"fill\":{\"color\":\"#EBF0F8\"},\"line\":{\"color\":\"white\"}},\"header\":{\"fill\":{\"color\":\"#C8D4E3\"},\"line\":{\"color\":\"white\"}},\"type\":\"table\"}],\"barpolar\":[{\"marker\":{\"line\":{\"color\":\"#E5ECF6\",\"width\":0.5},\"pattern\":{\"fillmode\":\"overlay\",\"size\":10,\"solidity\":0.2}},\"type\":\"barpolar\"}],\"pie\":[{\"automargin\":true,\"type\":\"pie\"}]},\"layout\":{\"autotypenumbers\":\"strict\",\"colorway\":[\"#636efa\",\"#EF553B\",\"#00cc96\",\"#ab63fa\",\"#FFA15A\",\"#19d3f3\",\"#FF6692\",\"#B6E880\",\"#FF97FF\",\"#FECB52\"],\"font\":{\"color\":\"#2a3f5f\"},\"hovermode\":\"closest\",\"hoverlabel\":{\"align\":\"left\"},\"paper_bgcolor\":\"white\",\"plot_bgcolor\":\"#E5ECF6\",\"polar\":{\"bgcolor\":\"#E5ECF6\",\"angularaxis\":{\"gridcolor\":\"white\",\"linecolor\":\"white\",\"ticks\":\"\"},\"radialaxis\":{\"gridcolor\":\"white\",\"linecolor\":\"white\",\"ticks\":\"\"}},\"ternary\":{\"bgcolor\":\"#E5ECF6\",\"aaxis\":{\"gridcolor\":\"white\",\"linecolor\":\"white\",\"ticks\":\"\"},\"baxis\":{\"gridcolor\":\"white\",\"linecolor\":\"white\",\"ticks\":\"\"},\"caxis\":{\"gridcolor\":\"white\",\"linecolor\":\"white\",\"ticks\":\"\"}},\"coloraxis\":{\"colorbar\":{\"outlinewidth\":0,\"ticks\":\"\"}},\"colorscale\":{\"sequential\":[[0.0,\"#0d0887\"],[0.1111111111111111,\"#46039f\"],[0.2222222222222222,\"#7201a8\"],[0.3333333333333333,\"#9c179e\"],[0.4444444444444444,\"#bd3786\"],[0.5555555555555556,\"#d8576b\"],[0.6666666666666666,\"#ed7953\"],[0.7777777777777778,\"#fb9f3a\"],[0.8888888888888888,\"#fdca26\"],[1.0,\"#f0f921\"]],\"sequentialminus\":[[0.0,\"#0d0887\"],[0.1111111111111111,\"#46039f\"],[0.2222222222222222,\"#7201a8\"],[0.3333333333333333,\"#9c179e\"],[0.4444444444444444,\"#bd3786\"],[0.5555555555555556,\"#d8576b\"],[0.6666666666666666,\"#ed7953\"],[0.7777777777777778,\"#fb9f3a\"],[0.8888888888888888,\"#fdca26\"],[1.0,\"#f0f921\"]],\"diverging\":[[0,\"#8e0152\"],[0.1,\"#c51b7d\"],[0.2,\"#de77ae\"],[0.3,\"#f1b6da\"],[0.4,\"#fde0ef\"],[0.5,\"#f7f7f7\"],[0.6,\"#e6f5d0\"],[0.7,\"#b8e186\"],[0.8,\"#7fbc41\"],[0.9,\"#4d9221\"],[1,\"#276419\"]]},\"xaxis\":{\"gridcolor\":\"white\",\"linecolor\":\"white\",\"ticks\":\"\",\"title\":{\"standoff\":15},\"zerolinecolor\":\"white\",\"automargin\":true,\"zerolinewidth\":2},\"yaxis\":{\"gridcolor\":\"white\",\"linecolor\":\"white\",\"ticks\":\"\",\"title\":{\"standoff\":15},\"zerolinecolor\":\"white\",\"automargin\":true,\"zerolinewidth\":2},\"scene\":{\"xaxis\":{\"backgroundcolor\":\"#E5ECF6\",\"gridcolor\":\"white\",\"linecolor\":\"white\",\"showbackground\":true,\"ticks\":\"\",\"zerolinecolor\":\"white\",\"gridwidth\":2},\"yaxis\":{\"backgroundcolor\":\"#E5ECF6\",\"gridcolor\":\"white\",\"linecolor\":\"white\",\"showbackground\":true,\"ticks\":\"\",\"zerolinecolor\":\"white\",\"gridwidth\":2},\"zaxis\":{\"backgroundcolor\":\"#E5ECF6\",\"gridcolor\":\"white\",\"linecolor\":\"white\",\"showbackground\":true,\"ticks\":\"\",\"zerolinecolor\":\"white\",\"gridwidth\":2}},\"shapedefaults\":{\"line\":{\"color\":\"#2a3f5f\"}},\"annotationdefaults\":{\"arrowcolor\":\"#2a3f5f\",\"arrowhead\":0,\"arrowwidth\":1},\"geo\":{\"bgcolor\":\"white\",\"landcolor\":\"#E5ECF6\",\"subunitcolor\":\"white\",\"showland\":true,\"showlakes\":true,\"lakecolor\":\"white\"},\"title\":{\"x\":0.05},\"mapbox\":{\"style\":\"light\"}}},\"xaxis\":{\"anchor\":\"y\",\"domain\":[0.0,1.0],\"title\":{\"text\":\"x\"}},\"yaxis\":{\"anchor\":\"x\",\"domain\":[0.0,1.0],\"title\":{\"text\":\"y\"}},\"coloraxis\":{\"colorbar\":{\"title\":{\"text\":\"cluster_pca\"}},\"colorscale\":[[0.0,\"#0d0887\"],[0.1111111111111111,\"#46039f\"],[0.2222222222222222,\"#7201a8\"],[0.3333333333333333,\"#9c179e\"],[0.4444444444444444,\"#bd3786\"],[0.5555555555555556,\"#d8576b\"],[0.6666666666666666,\"#ed7953\"],[0.7777777777777778,\"#fb9f3a\"],[0.8888888888888888,\"#fdca26\"],[1.0,\"#f0f921\"]]},\"legend\":{\"tracegroupgap\":0},\"margin\":{\"t\":60}},                        {\"responsive\": true}                    ).then(function(){\n",
              "                            \n",
              "var gd = document.getElementById('c790be5e-6b36-42bf-b5a1-a32a4de89062');\n",
              "var x = new MutationObserver(function (mutations, observer) {{\n",
              "        var display = window.getComputedStyle(gd).display;\n",
              "        if (!display || display === 'none') {{\n",
              "            console.log([gd, 'removed!']);\n",
              "            Plotly.purge(gd);\n",
              "            observer.disconnect();\n",
              "        }}\n",
              "}});\n",
              "\n",
              "// Listen for the removal of the full notebook cells\n",
              "var notebookContainer = gd.closest('#notebook-container');\n",
              "if (notebookContainer) {{\n",
              "    x.observe(notebookContainer, {childList: true});\n",
              "}}\n",
              "\n",
              "// Listen for the clearing of the current output cell\n",
              "var outputEl = gd.closest('.output');\n",
              "if (outputEl) {{\n",
              "    x.observe(outputEl, {childList: true});\n",
              "}}\n",
              "\n",
              "                        })                };                            </script>        </div>\n",
              "</body>\n",
              "</html>"
            ]
          },
          "metadata": {}
        }
      ]
    },
    {
      "cell_type": "markdown",
      "source": [
        "Analisando o nosso cluster, percebemos que todas as nossas bolinhas, isto é, todos os pontos que são nossas músicas/gêneros musicais, estão muito próximos uns dos outros. A divisão entre os clusters está muito próxima. Alguns estão grudados, por exemplo, o cluster laranja está bem próximo do roxo e do amarelo. A partir disso, podemos concluir que não tivemos um bom resultado.\n",
        "\n",
        "Isso pode estar relacionado com a quantidade de clusters que selecionamos, talvez precisássemos de menos clusters para representarmos esses pontos, mas isso é um tanto intuitivo, já que tínhamos dois mil e duzentos gêneros musicais, a tendência é que precisássemos de mais clusters.\n",
        "\n",
        "O fato de termos um agrupamento pouco satisfatório pode estar ligado a outro fator: a quantidade de componentes que selecionamos no PCA. Embora dois fosse o ideal para fazermos o plot e visualizarmos o resultado, talvez não seja o ideal para representarmos as 13 componentes originais. Nesta passagem de 13 para 2, talvez tenhamos perdido muitas informações."
      ],
      "metadata": {
        "id": "sTv_iZo7ajmt"
      }
    },
    {
      "cell_type": "markdown",
      "source": [
        "Resgatando informação do PCA:"
      ],
      "metadata": {
        "id": "ObabKZCIaxOG"
      }
    },
    {
      "cell_type": "code",
      "source": [
        "pca_pipeline_model.stages[2]"
      ],
      "metadata": {
        "colab": {
          "base_uri": "https://localhost:8080/"
        },
        "id": "xpfJEdrkYmQc",
        "outputId": "34e4a5ba-694a-4899-8551-def440a825ad"
      },
      "execution_count": 55,
      "outputs": [
        {
          "output_type": "execute_result",
          "data": {
            "text/plain": [
              "PCAModel: uid=PCA_1836daab8837, k=2"
            ]
          },
          "metadata": {},
          "execution_count": 55
        }
      ]
    },
    {
      "cell_type": "markdown",
      "source": [
        "Descobrindo quanto as nossas componentes estão explicando das nossas features:"
      ],
      "metadata": {
        "id": "tzvNC0EobOKS"
      }
    },
    {
      "cell_type": "code",
      "source": [
        "pca_pipeline_model.stages[2].explainedVariance"
      ],
      "metadata": {
        "colab": {
          "base_uri": "https://localhost:8080/"
        },
        "id": "kjpziEKuYmKp",
        "outputId": "165ff032-6d2f-455d-da5e-71160ca8d6fc"
      },
      "execution_count": 56,
      "outputs": [
        {
          "output_type": "execute_result",
          "data": {
            "text/plain": [
              "DenseVector([0.2975, 0.1212])"
            ]
          },
          "metadata": {},
          "execution_count": 56
        }
      ]
    },
    {
      "cell_type": "markdown",
      "source": [
        "Obs: Esses valores estão nos contando que a nossa primeira componente, o x, tem uma taxa de explicação de três variáveis. Das 14 que tínhamos, ele está explicando apenas 3. A nossa segunda componente está explicando apenas uma variável.\n",
        "\n",
        "Então, ao total, temos quatro features sendo explicadas por essas nossas duas componentes, o que não é o suficiente, estamos perdendo muitas informações. Isso está ligado ao nosso resultado pouco satisfatório na clusterização dos dados."
      ],
      "metadata": {
        "id": "MDsRF4kbbrCd"
      }
    },
    {
      "cell_type": "markdown",
      "source": [
        "04. Clusterização por música\n",
        "\n",
        "4.1 Redução de dimensionalidade com PCA\n",
        "\n",
        "Removovendo as colunas que não possuimos interesse:\n"
      ],
      "metadata": {
        "id": "TKpNrsYWmVDw"
      }
    },
    {
      "cell_type": "code",
      "source": [
        "X = dados.columns\n",
        "X.remove('artists')\n",
        "X.remove('id')\n",
        "X.remove('name')\n",
        "X.remove('artists_song')\n",
        "X"
      ],
      "metadata": {
        "id": "S3zVkr-BbaFg",
        "colab": {
          "base_uri": "https://localhost:8080/"
        },
        "outputId": "b9771c1b-e233-4a52-cd31-bbfb5ddc5d3c"
      },
      "execution_count": 58,
      "outputs": [
        {
          "output_type": "execute_result",
          "data": {
            "text/plain": [
              "['valence',\n",
              " 'year',\n",
              " 'acousticness',\n",
              " 'danceability',\n",
              " 'duration_ms',\n",
              " 'energy',\n",
              " 'explicit',\n",
              " 'instrumentalness',\n",
              " 'key',\n",
              " 'liveness',\n",
              " 'loudness',\n",
              " 'mode',\n",
              " 'popularity',\n",
              " 'speechiness',\n",
              " 'tempo']"
            ]
          },
          "metadata": {},
          "execution_count": 58
        }
      ]
    },
    {
      "cell_type": "markdown",
      "source": [
        "Obs: Assim foi definido as features importantes."
      ],
      "metadata": {
        "id": "URVuhA13oSlL"
      }
    },
    {
      "cell_type": "markdown",
      "source": [
        "Transformando as colunas em vetores:\n",
        "\n"
      ],
      "metadata": {
        "id": "ISC7QsZ3oXj_"
      }
    },
    {
      "cell_type": "code",
      "source": [
        "dados_encoded_vector = VectorAssembler(inputCols=X, outputCol='features').transform(dados)"
      ],
      "metadata": {
        "id": "Fxrtc2aLoSPA"
      },
      "execution_count": 59,
      "outputs": []
    },
    {
      "cell_type": "markdown",
      "source": [
        "Visualizando a transformação, selecionando apenas a coluna de interesse onde temos todas as features reduzidas em um vetor:"
      ],
      "metadata": {
        "id": "nTGYqoGno9Ux"
      }
    },
    {
      "cell_type": "code",
      "source": [
        "dados_encoded_vector.select('features').show(truncate=False, n=5)"
      ],
      "metadata": {
        "colab": {
          "base_uri": "https://localhost:8080/"
        },
        "id": "0_iwVUrAo3Eg",
        "outputId": "00de6611-fb93-4113-e222-66a16df35480"
      },
      "execution_count": 62,
      "outputs": [
        {
          "output_type": "stream",
          "name": "stdout",
          "text": [
            "+-------------------------------------------------------------------------------------------------------------------------+\n",
            "|features                                                                                                                 |\n",
            "+-------------------------------------------------------------------------------------------------------------------------+\n",
            "|[0.285,2000.0,0.00239,0.429,266773.0,0.6609999999999999,0.0,1.21E-4,11.0,0.234,-7.227,1.0,84.0,0.0281,173.372]           |\n",
            "|[0.613,2000.0,0.143,0.843,270507.0,0.8059999999999999,1.0,0.0,4.0,0.0771,-5.9460000000000015,0.0,80.0,0.269,94.948]      |\n",
            "|[0.4,2000.0,0.00958,0.556,216880.0,0.8640000000000001,0.0,0.0,3.0,0.209,-5.87,0.0,84.0,0.0584,105.143]                   |\n",
            "|[0.5429999999999999,2000.0,0.00664,0.545,233933.0,0.865,0.0,1.1E-5,11.0,0.168,-5.7079999999999975,0.0,78.0,0.0286,99.009]|\n",
            "|[0.76,2000.0,0.0302,0.949,284200.0,0.6609999999999999,1.0,0.0,5.0,0.0454,-4.244,0.0,80.0,0.0572,104.504]                 |\n",
            "+-------------------------------------------------------------------------------------------------------------------------+\n",
            "only showing top 5 rows\n",
            "\n"
          ]
        }
      ]
    },
    {
      "cell_type": "markdown",
      "source": [
        "Ajustando a escala dos nossos dados para obtermos um bom resultado no PCA:"
      ],
      "metadata": {
        "id": "XvRUCGrApfRG"
      }
    },
    {
      "cell_type": "code",
      "source": [
        "scaler = StandardScaler(inputCol='features', outputCol='features_scaled')\n",
        "model_scaler = scaler.fit(dados_encoded_vector)\n",
        "dados_musicas_scaler = model_scaler.transform(dados_encoded_vector)"
      ],
      "metadata": {
        "id": "W0QdB0RUoAc-"
      },
      "execution_count": 64,
      "outputs": []
    },
    {
      "cell_type": "markdown",
      "source": [
        "Visualizando os dados escaldos:"
      ],
      "metadata": {
        "id": "TF_0uIbaqg8R"
      }
    },
    {
      "cell_type": "code",
      "source": [
        "dados_musicas_scaler.select('features_scaled').show(truncate=False, n=5)"
      ],
      "metadata": {
        "colab": {
          "base_uri": "https://localhost:8080/"
        },
        "id": "J6l4cY0yqau5",
        "outputId": "d9c5f11a-5fa5-4d80-a9c1-138c61b34d12"
      },
      "execution_count": 65,
      "outputs": [
        {
          "output_type": "stream",
          "name": "stdout",
          "text": [
            "+------------------------------------------------------------------------------------------------------------------------------------------------------------------------------------------------------------------------------------------------------------------------------+\n",
            "|features_scaled                                                                                                                                                                                                                                                               |\n",
            "+------------------------------------------------------------------------------------------------------------------------------------------------------------------------------------------------------------------------------------------------------------------------------+\n",
            "|[1.156596679221045,329.8170613984441,0.008403188822334736,2.5040545743834373,3.7858811737298526,2.980511298201045,0.0,6.070790766862789E-4,3.0696424994844875,1.4832857988766257,-1.672877140523799,2.1095281038799514,7.265838057312001,0.2649447312760731,5.617072632181055]|\n",
            "|[2.4876974188157917,329.8170613984441,0.5027849379053837,4.9205547930192015,3.8388718448349017,3.634329964220942,2.2283306931828584,0.0,1.1162336361761773,0.48872365424524716,-1.3763563688327813,0.0,6.919845768868572,2.536303655276287,3.0762165302374473]                |\n",
            "|[1.6232935848716423,329.8170613984441,0.033683074861073956,3.2453481197137326,3.0778298739322585,3.8958574306289013,0.0,0.0,0.837175227132133,1.324815093868439,-1.3587641919018543,0.0,7.265838057312001,0.5506324664242943,3.4065239356148203]                              |\n",
            "|[2.203621041463254,329.8170613984441,0.023346097816026208,3.181141592165439,3.3198357428006045,3.9003665248773136,0.0,5.5189006971479895E-5,3.0696424994844875,1.0649231376550132,-1.3212650779175095,0.0,6.746849624646858,0.2696590503379249,3.207788710054761]             |\n",
            "|[3.0842578112561205,329.8170613984441,0.10618255331987825,5.539272240302755,4.033194624546053,2.980511298201045,2.2283306931828584,0.0,1.3952920452202218,0.2877828002948667,-0.982384195984918,0.0,6.919845768868572,0.5393181006758498,3.385820999662281]                   |\n",
            "+------------------------------------------------------------------------------------------------------------------------------------------------------------------------------------------------------------------------------------------------------------------------------+\n",
            "only showing top 5 rows\n",
            "\n"
          ]
        }
      ]
    },
    {
      "cell_type": "markdown",
      "source": [
        "Definindo o número de componentes, onde nosso número de componentes, \"k\", será igual ao comprimento de x, que é a quantidade de features que temos.:"
      ],
      "metadata": {
        "id": "TYrsQpcGqxYp"
      }
    },
    {
      "cell_type": "code",
      "source": [
        "k = len(X)\n",
        "k"
      ],
      "metadata": {
        "colab": {
          "base_uri": "https://localhost:8080/"
        },
        "id": "QNLAJeYFqxwp",
        "outputId": "dc8dfb2f-fd64-41cb-8692-2e2ec2e192f9"
      },
      "execution_count": 67,
      "outputs": [
        {
          "output_type": "execute_result",
          "data": {
            "text/plain": [
              "15"
            ]
          },
          "metadata": {},
          "execution_count": 67
        }
      ]
    },
    {
      "cell_type": "markdown",
      "source": [
        "Ajustando o PCA com o número de compenentes (15) identificados:"
      ],
      "metadata": {
        "id": "C9ML7n30rg-d"
      }
    },
    {
      "cell_type": "code",
      "source": [
        "pca = PCA(k=k, inputCol='features_scaled', outputCol='pca_features')\n",
        "model_pca = pca.fit(dados_musicas_scaler)\n",
        "dados_musicais_pca = model_pca.transform(dados_musicas_scaler)\n"
      ],
      "metadata": {
        "id": "tp1fcwamrdgv"
      },
      "execution_count": 68,
      "outputs": []
    },
    {
      "cell_type": "markdown",
      "source": [
        "Entendendo o quanto nossas componentes estão explicando:"
      ],
      "metadata": {
        "id": "IueyvH8Gsh5M"
      }
    },
    {
      "cell_type": "code",
      "source": [
        "sum(model_pca.explainedVariance) * 100"
      ],
      "metadata": {
        "colab": {
          "base_uri": "https://localhost:8080/"
        },
        "id": "a3WgUhuIsiNP",
        "outputId": "35f4a277-3c0e-4469-ff92-b01926b4c268"
      },
      "execution_count": 71,
      "outputs": [
        {
          "output_type": "execute_result",
          "data": {
            "text/plain": [
              "99.99999999999999"
            ]
          },
          "metadata": {},
          "execution_count": 71
        }
      ]
    },
    {
      "cell_type": "markdown",
      "source": [
        "Nossas componentes estão explicando 99,99. É uma excelente explicação, porém, não fizemos nenhuma redução de componentes. Estamos com o mesmo número de features e componentes. Então, precisamos fazer um cálculo para descobrir quantas componentes precisamos para chegarmos a certo nível de explained variance.\n",
        "\n",
        "Nós não queremos somar toda a lista de variância, mas, sim, apenas algumas componentes, então abriremos colchetes e faremos a seleção da primeira componente, \"0\", até um componente determinada por \"i\", portanto [0:i+1]:\n"
      ],
      "metadata": {
        "id": "jldmZgwksqtK"
      }
    },
    {
      "cell_type": "code",
      "source": [
        "lista_valores = [sum(model_pca.explainedVariance[0:i+1]) for i in range(k)]\n",
        "lista_valores"
      ],
      "metadata": {
        "colab": {
          "base_uri": "https://localhost:8080/"
        },
        "id": "kPQH0-tqsrAK",
        "outputId": "bef54b2c-c0b3-4ecb-eeef-0b01c7733068"
      },
      "execution_count": 73,
      "outputs": [
        {
          "output_type": "execute_result",
          "data": {
            "text/plain": [
              "[0.21297354127107343,\n",
              " 0.34597741622955064,\n",
              " 0.43989805678254446,\n",
              " 0.5267820578269102,\n",
              " 0.6001038103117928,\n",
              " 0.6665719513652388,\n",
              " 0.7282174213581727,\n",
              " 0.7845103843321022,\n",
              " 0.8350002357002613,\n",
              " 0.8812446547406768,\n",
              " 0.9151737562703046,\n",
              " 0.9435370133056037,\n",
              " 0.9699018569070159,\n",
              " 0.9900947792885578,\n",
              " 0.9999999999999999]"
            ]
          },
          "metadata": {},
          "execution_count": 73
        }
      ]
    },
    {
      "cell_type": "markdown",
      "source": [
        "Queremos encontrar uma somatória que chegue no número de componentes ideal. Para isso, precisaremos de uma nova ferramenta, o numpy:"
      ],
      "metadata": {
        "id": "76E1Y7OvtnXV"
      }
    },
    {
      "cell_type": "code",
      "source": [
        "import numpy as np"
      ],
      "metadata": {
        "id": "UUoRpFwitfd_"
      },
      "execution_count": 74,
      "outputs": []
    },
    {
      "cell_type": "code",
      "source": [
        "k = sum(np.array(lista_valores) <= 0.7)\n",
        "k"
      ],
      "metadata": {
        "colab": {
          "base_uri": "https://localhost:8080/"
        },
        "id": "q8ovi-kyt9NG",
        "outputId": "559b7827-7c6b-44b8-84db-7ed73e25515a"
      },
      "execution_count": 75,
      "outputs": [
        {
          "output_type": "execute_result",
          "data": {
            "text/plain": [
              "6"
            ]
          },
          "metadata": {},
          "execution_count": 75
        }
      ]
    },
    {
      "cell_type": "code",
      "source": [
        "pca = PCA(k=k, inputCol='features_scaled', outputCol='pca_features')\n",
        "model_pca = pca.fit(dados_musicas_scaler)\n",
        "dados_musicais_pca_final = model_pca.transform(dados_musicas_scaler)\n"
      ],
      "metadata": {
        "id": "7_TYZ5gsuNl2"
      },
      "execution_count": 76,
      "outputs": []
    },
    {
      "cell_type": "markdown",
      "source": [
        "Visualizando a coluna de interesse:\n"
      ],
      "metadata": {
        "id": "dmbQfwpsugvn"
      }
    },
    {
      "cell_type": "code",
      "source": [
        "dados_musicais_pca_final.select('pca_features').show(truncate=False, n=5)"
      ],
      "metadata": {
        "colab": {
          "base_uri": "https://localhost:8080/"
        },
        "id": "Oztnj5mjufLH",
        "outputId": "bad5cde6-34da-430d-b345-f7e27f52ef58"
      },
      "execution_count": 77,
      "outputs": [
        {
          "output_type": "stream",
          "name": "stdout",
          "text": [
            "+----------------------------------------------------------------------------------------------------------------------+\n",
            "|pca_features                                                                                                          |\n",
            "+----------------------------------------------------------------------------------------------------------------------+\n",
            "|[-34.71004464775704,-165.36848784906178,-11.163498729833321,-139.11374280854434,-14.152192300931375,6.254422223810391]|\n",
            "|[-36.49885762774905,-167.85185045616555,-10.729023248907561,-135.904352656713,-13.388401890587229,3.972980727830861]  |\n",
            "|[-35.460300916940554,-165.99633344577884,-11.361290348241592,-138.24276881247,-13.866654919305779,4.342675920458719]  |\n",
            "|[-35.56301325520584,-165.59515096480607,-11.460226007031382,-137.52095740570041,-15.56854280392272,4.542073725584271] |\n",
            "|[-36.54556974907567,-167.37512505802482,-11.881276527236555,-136.27798590243984,-14.05684799034454,3.583390145779156] |\n",
            "+----------------------------------------------------------------------------------------------------------------------+\n",
            "only showing top 5 rows\n",
            "\n"
          ]
        }
      ]
    },
    {
      "cell_type": "markdown",
      "source": [
        "Verificando se a taxa de explicação está próxima do que esperamos:"
      ],
      "metadata": {
        "id": "f8PRa3AQu9Es"
      }
    },
    {
      "cell_type": "code",
      "source": [
        "sum(model_pca.explainedVariance) * 100"
      ],
      "metadata": {
        "colab": {
          "base_uri": "https://localhost:8080/"
        },
        "id": "4icCHVzhu5wH",
        "outputId": "fa392792-0dd9-4599-d2d5-44ab5ad1af60"
      },
      "execution_count": 78,
      "outputs": [
        {
          "output_type": "execute_result",
          "data": {
            "text/plain": [
              "66.65719513652388"
            ]
          },
          "metadata": {},
          "execution_count": 78
        }
      ]
    },
    {
      "cell_type": "markdown",
      "source": [
        "Obs: Temos 66, então, estamos próximos dos 7 para apenas 6 componentes. Estamos prontos para seguirmos com o próximo passo que é consolidar todo o pipeline que criamos e utilizarmos o K-Means para criarmos nossos clusters."
      ],
      "metadata": {
        "id": "EiTgKdq9vPJL"
      }
    },
    {
      "cell_type": "markdown",
      "source": [],
      "metadata": {
        "id": "w9982iDrvQgW"
      }
    },
    {
      "cell_type": "code",
      "source": [],
      "metadata": {
        "id": "oE0Lt2IjvRBg"
      },
      "execution_count": null,
      "outputs": []
    }
  ]
}